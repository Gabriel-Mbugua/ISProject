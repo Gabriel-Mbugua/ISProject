{
 "metadata": {
  "language_info": {
   "codemirror_mode": {
    "name": "ipython",
    "version": 3
   },
   "file_extension": ".py",
   "mimetype": "text/x-python",
   "name": "python",
   "nbconvert_exporter": "python",
   "pygments_lexer": "ipython3",
   "version": "3.8.5-final"
  },
  "orig_nbformat": 2,
  "kernelspec": {
   "name": "Python 3.8.5 64-bit ('Learning')",
   "display_name": "Python 3.8.5 64-bit ('Learning')",
   "metadata": {
    "interpreter": {
     "hash": "9624b2dbd29e598c140b2be3e302c67bb50a70b1345cf5774e5e63454561329a"
    }
   }
  }
 },
 "nbformat": 4,
 "nbformat_minor": 2,
 "cells": [
  {
   "cell_type": "code",
   "execution_count": 1,
   "metadata": {},
   "outputs": [],
   "source": [
    "import json\n",
    "import pandas as pd\n",
    "import numpy as np\n",
    "import json\n",
    "import seaborn as sns\n",
    "import datetime\n",
    "import matplotlib.pyplot as plt\n",
    "from joblib import dump, load\n",
    "from sklearn.metrics import classification_report, confusion_matrix, accuracy_score\n",
    "from sklearn.preprocessing import StandardScaler, PowerTransformer\n",
    "from sklearn.decomposition import PCA\n",
    "from sklearn.model_selection import train_test_split\n",
    "from sklearn.ensemble import RandomForestClassifier\n",
    "from mlxtend.plotting import plot_decision_regions"
   ]
  },
  {
   "cell_type": "code",
   "execution_count": 2,
   "metadata": {},
   "outputs": [],
   "source": [
    "def load_tmdb_movies(path):\n",
    "    df = pd.read_csv(path, parse_dates=['release_date'])\n",
    "    df['release_date'] = pd.to_datetime(df['release_date']).apply(lambda x: x.date())\n",
    "    json_columns = ['genres', 'keywords', 'production_countries', 'production_companies', 'spoken_languages']\n",
    "    for column in json_columns:\n",
    "        df[column] = df[column].apply(json.loads)\n",
    "    return df"
   ]
  },
  {
   "cell_type": "code",
   "execution_count": 3,
   "metadata": {},
   "outputs": [],
   "source": [
    "def load_tmdb_credits(path):\n",
    "    df = pd.read_csv(path)\n",
    "    json_columns = ['cast', 'crew']\n",
    "    for column in json_columns:\n",
    "        df[column] = df[column].apply(json.loads)\n",
    "    return df"
   ]
  },
  {
   "cell_type": "code",
   "execution_count": 4,
   "metadata": {},
   "outputs": [],
   "source": [
    "LOST_COLUMNS = [\n",
    "    'actor_1_facebook_likes',\n",
    "    'actor_2_facebook_likes',\n",
    "    'actor_3_facebook_likes',\n",
    "    'aspect_ratio',\n",
    "    'cast_total_facebook_likes',\n",
    "    'color',\n",
    "    'content_rating',\n",
    "    'director_facebook_likes',\n",
    "    'facenumber_in_poster',\n",
    "    'movie_facebook_likes',\n",
    "    'movie_imdb_link',\n",
    "    'num_critic_for_reviews',\n",
    "    'num_user_for_reviews'\n",
    "                ]"
   ]
  },
  {
   "cell_type": "code",
   "execution_count": 5,
   "metadata": {},
   "outputs": [],
   "source": [
    "TMDB_TO_IMDB_SIMPLE_EQUIVALENCIES = {\n",
    "    'budget': 'budget',\n",
    "    'genres': 'genres',\n",
    "    'revenue': 'gross',\n",
    "    'title': 'movie_title',\n",
    "    'runtime': 'duration',\n",
    "    'original_language': 'language',  # it's possible that spoken_languages would be a better match\n",
    "    'keywords': 'plot_keywords',\n",
    "    'vote_count': 'num_voted_users',\n",
    "                                         }\n",
    "\n",
    "IMDB_COLUMNS_TO_REMAP = {'imdb_score': 'vote_average'}"
   ]
  },
  {
   "cell_type": "code",
   "execution_count": 6,
   "metadata": {},
   "outputs": [],
   "source": [
    "def safe_access(container, index_values):\n",
    "    # return a missing value rather than an error upon indexing/key failure\n",
    "    result = container\n",
    "    try:\n",
    "        for idx in index_values:\n",
    "            result = result[idx]\n",
    "        return result\n",
    "    except IndexError or KeyError:\n",
    "        return pd.np.nan"
   ]
  },
  {
   "cell_type": "code",
   "execution_count": 7,
   "metadata": {},
   "outputs": [],
   "source": [
    "def get_director(crew_data):\n",
    "    directors = [x['name'] for x in crew_data if x['job'] == 'Director']\n",
    "    return safe_access(directors, [0])"
   ]
  },
  {
   "cell_type": "code",
   "execution_count": 8,
   "metadata": {},
   "outputs": [],
   "source": [
    "def get_companies(company_data):\n",
    "    companies = [x['name'] for x in company_data if x['name'] == 'Director']\n",
    "    return safe_access(directors, [0])"
   ]
  },
  {
   "cell_type": "code",
   "execution_count": 9,
   "metadata": {},
   "outputs": [],
   "source": [
    "def pipe_flatten_names(keywords):\n",
    "    return '|'.join([x['name'] for x in keywords])"
   ]
  },
  {
   "cell_type": "code",
   "execution_count": 10,
   "metadata": {},
   "outputs": [],
   "source": [
    "def convert_to_original_format(movies, credits):\n",
    "    # Converts TMDb data to make it as compatible as possible with kernels built on the original version of the data.\n",
    "    tmdb_movies = movies.copy()\n",
    "    tmdb_movies.rename(columns=TMDB_TO_IMDB_SIMPLE_EQUIVALENCIES, inplace=True)\n",
    "    tmdb_movies['title_year'] = pd.to_datetime(tmdb_movies['release_date']).apply(lambda x: x.year)\n",
    "    # I'm assuming that the first production country is equivalent, but have not been able to validate this\n",
    "    tmdb_movies['country'] = tmdb_movies['production_countries'].apply(lambda x: safe_access(x, [0, 'name']))\n",
    "    tmdb_movies['company'] = tmdb_movies['production_companies'].apply(lambda x: safe_access(x, [0, 'name']))\n",
    "    tmdb_movies['language'] = tmdb_movies['spoken_languages'].apply(lambda x: safe_access(x, [0, 'name']))\n",
    "    # tmdb_movies['production_companies'] = tmdb_movies['production_companies'].apply(lambda x: safe_access(x, [0, 'name']))\n",
    "    tmdb_movies['director_name'] = credits['crew'].apply(get_director)\n",
    "    tmdb_movies['actor_1_name'] = credits['cast'].apply(lambda x: safe_access(x, [0, 'name']))\n",
    "    tmdb_movies['actor_2_name'] = credits['cast'].apply(lambda x: safe_access(x, [1, 'name']))\n",
    "    tmdb_movies['actor_3_name'] = credits['cast'].apply(lambda x: safe_access(x, [2, 'name']))\n",
    "    tmdb_movies['genres'] = tmdb_movies['genres'].apply(pipe_flatten_names)\n",
    "    tmdb_movies['plot_keywords'] = tmdb_movies['plot_keywords'].apply(pipe_flatten_names)\n",
    "    return tmdb_movies"
   ]
  },
  {
   "cell_type": "code",
   "execution_count": 11,
   "metadata": {},
   "outputs": [
    {
     "output_type": "error",
     "ename": "JSONDecodeError",
     "evalue": "Expecting ',' delimiter: line 1 column 869 (char 868)",
     "traceback": [
      "\u001b[1;31m---------------------------------------------------------------------------\u001b[0m",
      "\u001b[1;31mJSONDecodeError\u001b[0m                           Traceback (most recent call last)",
      "\u001b[1;32m<ipython-input-11-bbb1f8fbd35e>\u001b[0m in \u001b[0;36m<module>\u001b[1;34m\u001b[0m\n\u001b[0;32m      1\u001b[0m \u001b[0mmovies\u001b[0m \u001b[1;33m=\u001b[0m \u001b[0mload_tmdb_movies\u001b[0m\u001b[1;33m(\u001b[0m\u001b[1;34m\"Data/Original/tmdb_5000_movies.csv\"\u001b[0m\u001b[1;33m)\u001b[0m\u001b[1;33m\u001b[0m\u001b[1;33m\u001b[0m\u001b[0m\n\u001b[1;32m----> 2\u001b[1;33m \u001b[0mcredits\u001b[0m \u001b[1;33m=\u001b[0m \u001b[0mload_tmdb_credits\u001b[0m\u001b[1;33m(\u001b[0m\u001b[1;34m\"Data/tmdb_5000_credits.csv\"\u001b[0m\u001b[1;33m)\u001b[0m\u001b[1;33m\u001b[0m\u001b[1;33m\u001b[0m\u001b[0m\n\u001b[0m\u001b[0;32m      3\u001b[0m \u001b[0moriginal_format\u001b[0m \u001b[1;33m=\u001b[0m \u001b[0mconvert_to_original_format\u001b[0m\u001b[1;33m(\u001b[0m\u001b[0mmovies\u001b[0m\u001b[1;33m,\u001b[0m \u001b[0mcredits\u001b[0m\u001b[1;33m)\u001b[0m\u001b[1;33m\u001b[0m\u001b[1;33m\u001b[0m\u001b[0m\n\u001b[0;32m      4\u001b[0m \u001b[0mpd\u001b[0m\u001b[1;33m.\u001b[0m\u001b[0mset_option\u001b[0m\u001b[1;33m(\u001b[0m\u001b[1;34m'display.max_columns'\u001b[0m\u001b[1;33m,\u001b[0m \u001b[1;32mNone\u001b[0m\u001b[1;33m)\u001b[0m\u001b[1;33m\u001b[0m\u001b[1;33m\u001b[0m\u001b[0m\n\u001b[0;32m      5\u001b[0m \u001b[0mpd\u001b[0m\u001b[1;33m.\u001b[0m\u001b[0mset_option\u001b[0m\u001b[1;33m(\u001b[0m\u001b[1;34m'display.max_rows'\u001b[0m\u001b[1;33m,\u001b[0m \u001b[1;36m5\u001b[0m\u001b[1;33m)\u001b[0m\u001b[1;33m\u001b[0m\u001b[1;33m\u001b[0m\u001b[0m\n",
      "\u001b[1;32m<ipython-input-3-0c11c4af4885>\u001b[0m in \u001b[0;36mload_tmdb_credits\u001b[1;34m(path)\u001b[0m\n\u001b[0;32m      3\u001b[0m     \u001b[0mjson_columns\u001b[0m \u001b[1;33m=\u001b[0m \u001b[1;33m[\u001b[0m\u001b[1;34m'cast'\u001b[0m\u001b[1;33m,\u001b[0m \u001b[1;34m'crew'\u001b[0m\u001b[1;33m]\u001b[0m\u001b[1;33m\u001b[0m\u001b[1;33m\u001b[0m\u001b[0m\n\u001b[0;32m      4\u001b[0m     \u001b[1;32mfor\u001b[0m \u001b[0mcolumn\u001b[0m \u001b[1;32min\u001b[0m \u001b[0mjson_columns\u001b[0m\u001b[1;33m:\u001b[0m\u001b[1;33m\u001b[0m\u001b[1;33m\u001b[0m\u001b[0m\n\u001b[1;32m----> 5\u001b[1;33m         \u001b[0mdf\u001b[0m\u001b[1;33m[\u001b[0m\u001b[0mcolumn\u001b[0m\u001b[1;33m]\u001b[0m \u001b[1;33m=\u001b[0m \u001b[0mdf\u001b[0m\u001b[1;33m[\u001b[0m\u001b[0mcolumn\u001b[0m\u001b[1;33m]\u001b[0m\u001b[1;33m.\u001b[0m\u001b[0mapply\u001b[0m\u001b[1;33m(\u001b[0m\u001b[0mjson\u001b[0m\u001b[1;33m.\u001b[0m\u001b[0mloads\u001b[0m\u001b[1;33m)\u001b[0m\u001b[1;33m\u001b[0m\u001b[1;33m\u001b[0m\u001b[0m\n\u001b[0m\u001b[0;32m      6\u001b[0m     \u001b[1;32mreturn\u001b[0m \u001b[0mdf\u001b[0m\u001b[1;33m\u001b[0m\u001b[1;33m\u001b[0m\u001b[0m\n",
      "\u001b[1;32mc:\\Users\\Wanga\\Documents\\Machine Learning Practice\\ISProject\\Learning\\lib\\site-packages\\pandas\\core\\series.py\u001b[0m in \u001b[0;36mapply\u001b[1;34m(self, func, convert_dtype, args, **kwds)\u001b[0m\n\u001b[0;32m   4198\u001b[0m             \u001b[1;32melse\u001b[0m\u001b[1;33m:\u001b[0m\u001b[1;33m\u001b[0m\u001b[1;33m\u001b[0m\u001b[0m\n\u001b[0;32m   4199\u001b[0m                 \u001b[0mvalues\u001b[0m \u001b[1;33m=\u001b[0m \u001b[0mself\u001b[0m\u001b[1;33m.\u001b[0m\u001b[0mastype\u001b[0m\u001b[1;33m(\u001b[0m\u001b[0mobject\u001b[0m\u001b[1;33m)\u001b[0m\u001b[1;33m.\u001b[0m\u001b[0m_values\u001b[0m\u001b[1;33m\u001b[0m\u001b[1;33m\u001b[0m\u001b[0m\n\u001b[1;32m-> 4200\u001b[1;33m                 \u001b[0mmapped\u001b[0m \u001b[1;33m=\u001b[0m \u001b[0mlib\u001b[0m\u001b[1;33m.\u001b[0m\u001b[0mmap_infer\u001b[0m\u001b[1;33m(\u001b[0m\u001b[0mvalues\u001b[0m\u001b[1;33m,\u001b[0m \u001b[0mf\u001b[0m\u001b[1;33m,\u001b[0m \u001b[0mconvert\u001b[0m\u001b[1;33m=\u001b[0m\u001b[0mconvert_dtype\u001b[0m\u001b[1;33m)\u001b[0m\u001b[1;33m\u001b[0m\u001b[1;33m\u001b[0m\u001b[0m\n\u001b[0m\u001b[0;32m   4201\u001b[0m \u001b[1;33m\u001b[0m\u001b[0m\n\u001b[0;32m   4202\u001b[0m         \u001b[1;32mif\u001b[0m \u001b[0mlen\u001b[0m\u001b[1;33m(\u001b[0m\u001b[0mmapped\u001b[0m\u001b[1;33m)\u001b[0m \u001b[1;32mand\u001b[0m \u001b[0misinstance\u001b[0m\u001b[1;33m(\u001b[0m\u001b[0mmapped\u001b[0m\u001b[1;33m[\u001b[0m\u001b[1;36m0\u001b[0m\u001b[1;33m]\u001b[0m\u001b[1;33m,\u001b[0m \u001b[0mSeries\u001b[0m\u001b[1;33m)\u001b[0m\u001b[1;33m:\u001b[0m\u001b[1;33m\u001b[0m\u001b[1;33m\u001b[0m\u001b[0m\n",
      "\u001b[1;32mpandas\\_libs\\lib.pyx\u001b[0m in \u001b[0;36mpandas._libs.lib.map_infer\u001b[1;34m()\u001b[0m\n",
      "\u001b[1;32m~\\AppData\\Local\\Programs\\Python\\Python38\\lib\\json\\__init__.py\u001b[0m in \u001b[0;36mloads\u001b[1;34m(s, cls, object_hook, parse_float, parse_int, parse_constant, object_pairs_hook, **kw)\u001b[0m\n\u001b[0;32m    355\u001b[0m             \u001b[0mparse_int\u001b[0m \u001b[1;32mis\u001b[0m \u001b[1;32mNone\u001b[0m \u001b[1;32mand\u001b[0m \u001b[0mparse_float\u001b[0m \u001b[1;32mis\u001b[0m \u001b[1;32mNone\u001b[0m \u001b[1;32mand\u001b[0m\u001b[1;33m\u001b[0m\u001b[1;33m\u001b[0m\u001b[0m\n\u001b[0;32m    356\u001b[0m             parse_constant is None and object_pairs_hook is None and not kw):\n\u001b[1;32m--> 357\u001b[1;33m         \u001b[1;32mreturn\u001b[0m \u001b[0m_default_decoder\u001b[0m\u001b[1;33m.\u001b[0m\u001b[0mdecode\u001b[0m\u001b[1;33m(\u001b[0m\u001b[0ms\u001b[0m\u001b[1;33m)\u001b[0m\u001b[1;33m\u001b[0m\u001b[1;33m\u001b[0m\u001b[0m\n\u001b[0m\u001b[0;32m    358\u001b[0m     \u001b[1;32mif\u001b[0m \u001b[0mcls\u001b[0m \u001b[1;32mis\u001b[0m \u001b[1;32mNone\u001b[0m\u001b[1;33m:\u001b[0m\u001b[1;33m\u001b[0m\u001b[1;33m\u001b[0m\u001b[0m\n\u001b[0;32m    359\u001b[0m         \u001b[0mcls\u001b[0m \u001b[1;33m=\u001b[0m \u001b[0mJSONDecoder\u001b[0m\u001b[1;33m\u001b[0m\u001b[1;33m\u001b[0m\u001b[0m\n",
      "\u001b[1;32m~\\AppData\\Local\\Programs\\Python\\Python38\\lib\\json\\decoder.py\u001b[0m in \u001b[0;36mdecode\u001b[1;34m(self, s, _w)\u001b[0m\n\u001b[0;32m    335\u001b[0m \u001b[1;33m\u001b[0m\u001b[0m\n\u001b[0;32m    336\u001b[0m         \"\"\"\n\u001b[1;32m--> 337\u001b[1;33m         \u001b[0mobj\u001b[0m\u001b[1;33m,\u001b[0m \u001b[0mend\u001b[0m \u001b[1;33m=\u001b[0m \u001b[0mself\u001b[0m\u001b[1;33m.\u001b[0m\u001b[0mraw_decode\u001b[0m\u001b[1;33m(\u001b[0m\u001b[0ms\u001b[0m\u001b[1;33m,\u001b[0m \u001b[0midx\u001b[0m\u001b[1;33m=\u001b[0m\u001b[0m_w\u001b[0m\u001b[1;33m(\u001b[0m\u001b[0ms\u001b[0m\u001b[1;33m,\u001b[0m \u001b[1;36m0\u001b[0m\u001b[1;33m)\u001b[0m\u001b[1;33m.\u001b[0m\u001b[0mend\u001b[0m\u001b[1;33m(\u001b[0m\u001b[1;33m)\u001b[0m\u001b[1;33m)\u001b[0m\u001b[1;33m\u001b[0m\u001b[1;33m\u001b[0m\u001b[0m\n\u001b[0m\u001b[0;32m    338\u001b[0m         \u001b[0mend\u001b[0m \u001b[1;33m=\u001b[0m \u001b[0m_w\u001b[0m\u001b[1;33m(\u001b[0m\u001b[0ms\u001b[0m\u001b[1;33m,\u001b[0m \u001b[0mend\u001b[0m\u001b[1;33m)\u001b[0m\u001b[1;33m.\u001b[0m\u001b[0mend\u001b[0m\u001b[1;33m(\u001b[0m\u001b[1;33m)\u001b[0m\u001b[1;33m\u001b[0m\u001b[1;33m\u001b[0m\u001b[0m\n\u001b[0;32m    339\u001b[0m         \u001b[1;32mif\u001b[0m \u001b[0mend\u001b[0m \u001b[1;33m!=\u001b[0m \u001b[0mlen\u001b[0m\u001b[1;33m(\u001b[0m\u001b[0ms\u001b[0m\u001b[1;33m)\u001b[0m\u001b[1;33m:\u001b[0m\u001b[1;33m\u001b[0m\u001b[1;33m\u001b[0m\u001b[0m\n",
      "\u001b[1;32m~\\AppData\\Local\\Programs\\Python\\Python38\\lib\\json\\decoder.py\u001b[0m in \u001b[0;36mraw_decode\u001b[1;34m(self, s, idx)\u001b[0m\n\u001b[0;32m    351\u001b[0m         \"\"\"\n\u001b[0;32m    352\u001b[0m         \u001b[1;32mtry\u001b[0m\u001b[1;33m:\u001b[0m\u001b[1;33m\u001b[0m\u001b[1;33m\u001b[0m\u001b[0m\n\u001b[1;32m--> 353\u001b[1;33m             \u001b[0mobj\u001b[0m\u001b[1;33m,\u001b[0m \u001b[0mend\u001b[0m \u001b[1;33m=\u001b[0m \u001b[0mself\u001b[0m\u001b[1;33m.\u001b[0m\u001b[0mscan_once\u001b[0m\u001b[1;33m(\u001b[0m\u001b[0ms\u001b[0m\u001b[1;33m,\u001b[0m \u001b[0midx\u001b[0m\u001b[1;33m)\u001b[0m\u001b[1;33m\u001b[0m\u001b[1;33m\u001b[0m\u001b[0m\n\u001b[0m\u001b[0;32m    354\u001b[0m         \u001b[1;32mexcept\u001b[0m \u001b[0mStopIteration\u001b[0m \u001b[1;32mas\u001b[0m \u001b[0merr\u001b[0m\u001b[1;33m:\u001b[0m\u001b[1;33m\u001b[0m\u001b[1;33m\u001b[0m\u001b[0m\n\u001b[0;32m    355\u001b[0m             \u001b[1;32mraise\u001b[0m \u001b[0mJSONDecodeError\u001b[0m\u001b[1;33m(\u001b[0m\u001b[1;34m\"Expecting value\"\u001b[0m\u001b[1;33m,\u001b[0m \u001b[0ms\u001b[0m\u001b[1;33m,\u001b[0m \u001b[0merr\u001b[0m\u001b[1;33m.\u001b[0m\u001b[0mvalue\u001b[0m\u001b[1;33m)\u001b[0m \u001b[1;32mfrom\u001b[0m \u001b[1;32mNone\u001b[0m\u001b[1;33m\u001b[0m\u001b[1;33m\u001b[0m\u001b[0m\n",
      "\u001b[1;31mJSONDecodeError\u001b[0m: Expecting ',' delimiter: line 1 column 869 (char 868)"
     ]
    }
   ],
   "source": [
    "movies = load_tmdb_movies(\"Data/Original/tmdb_5000_movies.csv\")\n",
    "credits = load_tmdb_credits(\"Data/tmdb_5000_credits.csv\")\n",
    "original_format = convert_to_original_format(movies, credits)\n",
    "pd.set_option('display.max_columns', None)\n",
    "pd.set_option('display.max_rows', 5)\n",
    "original_format"
   ]
  },
  {
   "cell_type": "code",
   "execution_count": 12,
   "metadata": {},
   "outputs": [
    {
     "output_type": "execute_result",
     "data": {
      "text/plain": [
       "Index(['budget', 'language', 'popularity', 'release_date', 'duration',\n",
       "       'country', 'company', 'director_name', 'actor_1_name', 'actor_2_name',\n",
       "       'actor_3_name'],\n",
       "      dtype='object')"
      ]
     },
     "metadata": {},
     "execution_count": 12
    }
   ],
   "source": [
    "df = original_format.copy()\n",
    "features_to_remove =['id','original_title','overview', 'movie_title', 'homepage', 'status' , 'plot_keywords', 'spoken_languages', 'gross', 'title_year', 'production_countries','production_companies','tagline', 'vote_average','num_voted_users', 'genres']\n",
    "df.drop(features_to_remove, axis = 1, inplace= True)\n",
    "df.columns"
   ]
  },
  {
   "cell_type": "code",
   "execution_count": 13,
   "metadata": {
    "tags": []
   },
   "outputs": [
    {
     "output_type": "stream",
     "name": "stdout",
     "text": [
      "language : 1.7905475744326462\nrelease_date : 0.020820320632937747\nduration : 0.041640641265875494\ncountry : 3.622735790131168\ncompany : 7.30793254216115\ndirector_name : 0.6246096189881324\nactor_1_name : 0.8952737872163231\nactor_2_name : 1.1034769935457007\nactor_3_name : 1.311680199875078\n"
     ]
    }
   ],
   "source": [
    "replace_with_zero = ['duration','title_year']\n",
    "\n",
    "missing_val_cols = list(df.columns[df.isna().any()])\n",
    "for col in missing_val_cols:\n",
    "  if col not in replace_with_zero:\n",
    "    miss_percentage = ((df[col].isna().sum())/4803) * 100 \n",
    "    print(f'{col} : {str(miss_percentage)}')\n",
    "    df[col].fillna('Missing', inplace=True)\n",
    "  else:\n",
    "    miss_percentage = ((df[col].isna().sum())/4803) * 100 \n",
    "    print(f'{col} : {str(miss_percentage)}')\n",
    "    df[col].fillna(df[col].mean(), inplace=True)"
   ]
  },
  {
   "cell_type": "code",
   "execution_count": 14,
   "metadata": {},
   "outputs": [
    {
     "output_type": "execute_result",
     "data": {
      "text/plain": [
       "      budget  language  popularity  duration                   country  \\\n",
       "0  237000000   English  150.437577     162.0  United States of America   \n",
       "1  300000000   English  139.082615     169.0  United States of America   \n",
       "2  245000000  Français  107.376788     148.0            United Kingdom   \n",
       "\n",
       "                   company   director_name     actor_1_name     actor_2_name  \\\n",
       "0  Ingenious Film Partners   James Cameron  Sam Worthington      Zoe Saldana   \n",
       "1     Walt Disney Pictures  Gore Verbinski      Johnny Depp    Orlando Bloom   \n",
       "2        Columbia Pictures      Sam Mendes     Daniel Craig  Christoph Waltz   \n",
       "\n",
       "       actor_3_name dayofrelease  \n",
       "0  Sigourney Weaver     Thursday  \n",
       "1   Keira Knightley     Saturday  \n",
       "2       Léa Seydoux       Monday  "
      ],
      "text/html": "<div>\n<style scoped>\n    .dataframe tbody tr th:only-of-type {\n        vertical-align: middle;\n    }\n\n    .dataframe tbody tr th {\n        vertical-align: top;\n    }\n\n    .dataframe thead th {\n        text-align: right;\n    }\n</style>\n<table border=\"1\" class=\"dataframe\">\n  <thead>\n    <tr style=\"text-align: right;\">\n      <th></th>\n      <th>budget</th>\n      <th>language</th>\n      <th>popularity</th>\n      <th>duration</th>\n      <th>country</th>\n      <th>company</th>\n      <th>director_name</th>\n      <th>actor_1_name</th>\n      <th>actor_2_name</th>\n      <th>actor_3_name</th>\n      <th>dayofrelease</th>\n    </tr>\n  </thead>\n  <tbody>\n    <tr>\n      <th>0</th>\n      <td>237000000</td>\n      <td>English</td>\n      <td>150.437577</td>\n      <td>162.0</td>\n      <td>United States of America</td>\n      <td>Ingenious Film Partners</td>\n      <td>James Cameron</td>\n      <td>Sam Worthington</td>\n      <td>Zoe Saldana</td>\n      <td>Sigourney Weaver</td>\n      <td>Thursday</td>\n    </tr>\n    <tr>\n      <th>1</th>\n      <td>300000000</td>\n      <td>English</td>\n      <td>139.082615</td>\n      <td>169.0</td>\n      <td>United States of America</td>\n      <td>Walt Disney Pictures</td>\n      <td>Gore Verbinski</td>\n      <td>Johnny Depp</td>\n      <td>Orlando Bloom</td>\n      <td>Keira Knightley</td>\n      <td>Saturday</td>\n    </tr>\n    <tr>\n      <th>2</th>\n      <td>245000000</td>\n      <td>Français</td>\n      <td>107.376788</td>\n      <td>148.0</td>\n      <td>United Kingdom</td>\n      <td>Columbia Pictures</td>\n      <td>Sam Mendes</td>\n      <td>Daniel Craig</td>\n      <td>Christoph Waltz</td>\n      <td>Léa Seydoux</td>\n      <td>Monday</td>\n    </tr>\n  </tbody>\n</table>\n</div>"
     },
     "metadata": {},
     "execution_count": 14
    }
   ],
   "source": [
    "df['release_date'] = pd.to_datetime(df['release_date'].astype(str),errors='coerce')\n",
    "df['dayofrelease']=df['release_date'].dt.strftime('%A')\n",
    "df.drop(columns=['release_date'], inplace = True)\n",
    "df.head(3)"
   ]
  },
  {
   "cell_type": "code",
   "execution_count": 15,
   "metadata": {},
   "outputs": [
    {
     "output_type": "execute_result",
     "data": {
      "text/plain": [
       "      budget  popularity  duration                   country  \\\n",
       "0  237000000  150.437577     162.0  United States of America   \n",
       "1  300000000  139.082615     169.0  United States of America   \n",
       "2  245000000  107.376788     148.0            United Kingdom   \n",
       "3  250000000  112.312950     165.0  United States of America   \n",
       "4  260000000   43.926995     132.0  United States of America   \n",
       "\n",
       "                   company      director_name     actor_1_name  \\\n",
       "0  Ingenious Film Partners      James Cameron  Sam Worthington   \n",
       "1     Walt Disney Pictures     Gore Verbinski      Johnny Depp   \n",
       "2        Columbia Pictures         Sam Mendes     Daniel Craig   \n",
       "3       Legendary Pictures  Christopher Nolan   Christian Bale   \n",
       "4     Walt Disney Pictures     Andrew Stanton    Taylor Kitsch   \n",
       "\n",
       "      actor_2_name      actor_3_name  dayofrelease_Friday  \\\n",
       "0      Zoe Saldana  Sigourney Weaver                    0   \n",
       "1    Orlando Bloom   Keira Knightley                    0   \n",
       "2  Christoph Waltz       Léa Seydoux                    0   \n",
       "3    Michael Caine       Gary Oldman                    0   \n",
       "4     Lynn Collins   Samantha Morton                    0   \n",
       "\n",
       "   dayofrelease_Monday  dayofrelease_Saturday  dayofrelease_Sunday  \\\n",
       "0                    0                      0                    0   \n",
       "1                    0                      1                    0   \n",
       "2                    1                      0                    0   \n",
       "3                    1                      0                    0   \n",
       "4                    0                      0                    0   \n",
       "\n",
       "   dayofrelease_Thursday  dayofrelease_Tuesday  dayofrelease_Wednesday  \\\n",
       "0                      1                     0                       0   \n",
       "1                      0                     0                       0   \n",
       "2                      0                     0                       0   \n",
       "3                      0                     0                       0   \n",
       "4                      0                     0                       1   \n",
       "\n",
       "   language_  language_??????  language_Afrikaans  language_Bahasa indonesia  \\\n",
       "0          0                0                   0                          0   \n",
       "1          0                0                   0                          0   \n",
       "2          0                0                   0                          0   \n",
       "3          0                0                   0                          0   \n",
       "4          0                0                   0                          0   \n",
       "\n",
       "   language_Bosanski  language_Dansk  language_Deutsch  language_Eesti  \\\n",
       "0                  0               0                 0               0   \n",
       "1                  0               0                 0               0   \n",
       "2                  0               0                 0               0   \n",
       "3                  0               0                 0               0   \n",
       "4                  0               0                 0               0   \n",
       "\n",
       "   language_English  language_Español  language_Esperanto  language_Français  \\\n",
       "0                 1                 0                   0                  0   \n",
       "1                 1                 0                   0                  0   \n",
       "2                 0                 0                   0                  1   \n",
       "3                 1                 0                   0                  0   \n",
       "4                 1                 0                   0                  0   \n",
       "\n",
       "   language_Gaeilge  language_Galego  language_Hrvatski  language_Italiano  \\\n",
       "0                 0                0                  0                  0   \n",
       "1                 0                0                  0                  0   \n",
       "2                 0                0                  0                  0   \n",
       "3                 0                0                  0                  0   \n",
       "4                 0                0                  0                  0   \n",
       "\n",
       "   language_Kiswahili  language_Latin  language_Magyar  language_Missing  \\\n",
       "0                   0               0                0                 0   \n",
       "1                   0               0                0                 0   \n",
       "2                   0               0                0                 0   \n",
       "3                   0               0                0                 0   \n",
       "4                   0               0                0                 0   \n",
       "\n",
       "   language_Nederlands  language_No Language  language_Norsk  language_Polski  \\\n",
       "0                    0                     0               0                0   \n",
       "1                    0                     0               0                0   \n",
       "2                    0                     0               0                0   \n",
       "3                    0                     0               0                0   \n",
       "4                    0                     0               0                0   \n",
       "\n",
       "   language_Português  language_Pусский  language_Română  language_Srpski  \\\n",
       "0                   0                 0                0                0   \n",
       "1                   0                 0                0                0   \n",
       "2                   0                 0                0                0   \n",
       "3                   0                 0                0                0   \n",
       "4                   0                 0                0                0   \n",
       "\n",
       "   language_Tiếng Việt  language_shqip  language_svenska  language_Íslenska  \\\n",
       "0                    0               0                 0                  0   \n",
       "1                    0               0                 0                  0   \n",
       "2                    0               0                 0                  0   \n",
       "3                    0               0                 0                  0   \n",
       "4                    0               0                 0                  0   \n",
       "\n",
       "   language_Český  language_ελληνικά  language_Український  \\\n",
       "0               0                  0                     0   \n",
       "1               0                  0                     0   \n",
       "2               0                  0                     0   \n",
       "3               0                  0                     0   \n",
       "4               0                  0                     0   \n",
       "\n",
       "   language_български език  language_עִבְרִית  language_اردو  \\\n",
       "0                        0                  0              0   \n",
       "1                        0                  0              0   \n",
       "2                        0                  0              0   \n",
       "3                        0                  0              0   \n",
       "4                        0                  0              0   \n",
       "\n",
       "   language_العربية  language_فارسی  language_हिन्दी  language_বাংলা  \\\n",
       "0                 0               0                0               0   \n",
       "1                 0               0                0               0   \n",
       "2                 0               0                0               0   \n",
       "3                 0               0                0               0   \n",
       "4                 0               0                0               0   \n",
       "\n",
       "   language_தமிழ்  language_ภาษาไทย  language_广州话 / 廣州話  language_日本語  \\\n",
       "0               0                 0                   0             0   \n",
       "1               0                 0                   0             0   \n",
       "2               0                 0                   0             0   \n",
       "3               0                 0                   0             0   \n",
       "4               0                 0                   0             0   \n",
       "\n",
       "   language_普通话  language_한국어/조선말  \n",
       "0             0                 0  \n",
       "1             0                 0  \n",
       "2             0                 0  \n",
       "3             0                 0  \n",
       "4             0                 0  "
      ],
      "text/html": "<div>\n<style scoped>\n    .dataframe tbody tr th:only-of-type {\n        vertical-align: middle;\n    }\n\n    .dataframe tbody tr th {\n        vertical-align: top;\n    }\n\n    .dataframe thead th {\n        text-align: right;\n    }\n</style>\n<table border=\"1\" class=\"dataframe\">\n  <thead>\n    <tr style=\"text-align: right;\">\n      <th></th>\n      <th>budget</th>\n      <th>popularity</th>\n      <th>duration</th>\n      <th>country</th>\n      <th>company</th>\n      <th>director_name</th>\n      <th>actor_1_name</th>\n      <th>actor_2_name</th>\n      <th>actor_3_name</th>\n      <th>dayofrelease_Friday</th>\n      <th>dayofrelease_Monday</th>\n      <th>dayofrelease_Saturday</th>\n      <th>dayofrelease_Sunday</th>\n      <th>dayofrelease_Thursday</th>\n      <th>dayofrelease_Tuesday</th>\n      <th>dayofrelease_Wednesday</th>\n      <th>language_</th>\n      <th>language_??????</th>\n      <th>language_Afrikaans</th>\n      <th>language_Bahasa indonesia</th>\n      <th>language_Bosanski</th>\n      <th>language_Dansk</th>\n      <th>language_Deutsch</th>\n      <th>language_Eesti</th>\n      <th>language_English</th>\n      <th>language_Español</th>\n      <th>language_Esperanto</th>\n      <th>language_Français</th>\n      <th>language_Gaeilge</th>\n      <th>language_Galego</th>\n      <th>language_Hrvatski</th>\n      <th>language_Italiano</th>\n      <th>language_Kiswahili</th>\n      <th>language_Latin</th>\n      <th>language_Magyar</th>\n      <th>language_Missing</th>\n      <th>language_Nederlands</th>\n      <th>language_No Language</th>\n      <th>language_Norsk</th>\n      <th>language_Polski</th>\n      <th>language_Português</th>\n      <th>language_Pусский</th>\n      <th>language_Română</th>\n      <th>language_Srpski</th>\n      <th>language_Tiếng Việt</th>\n      <th>language_shqip</th>\n      <th>language_svenska</th>\n      <th>language_Íslenska</th>\n      <th>language_Český</th>\n      <th>language_ελληνικά</th>\n      <th>language_Український</th>\n      <th>language_български език</th>\n      <th>language_עִבְרִית</th>\n      <th>language_اردو</th>\n      <th>language_العربية</th>\n      <th>language_فارسی</th>\n      <th>language_हिन्दी</th>\n      <th>language_বাংলা</th>\n      <th>language_தமிழ்</th>\n      <th>language_ภาษาไทย</th>\n      <th>language_广州话 / 廣州話</th>\n      <th>language_日本語</th>\n      <th>language_普通话</th>\n      <th>language_한국어/조선말</th>\n    </tr>\n  </thead>\n  <tbody>\n    <tr>\n      <th>0</th>\n      <td>237000000</td>\n      <td>150.437577</td>\n      <td>162.0</td>\n      <td>United States of America</td>\n      <td>Ingenious Film Partners</td>\n      <td>James Cameron</td>\n      <td>Sam Worthington</td>\n      <td>Zoe Saldana</td>\n      <td>Sigourney Weaver</td>\n      <td>0</td>\n      <td>0</td>\n      <td>0</td>\n      <td>0</td>\n      <td>1</td>\n      <td>0</td>\n      <td>0</td>\n      <td>0</td>\n      <td>0</td>\n      <td>0</td>\n      <td>0</td>\n      <td>0</td>\n      <td>0</td>\n      <td>0</td>\n      <td>0</td>\n      <td>1</td>\n      <td>0</td>\n      <td>0</td>\n      <td>0</td>\n      <td>0</td>\n      <td>0</td>\n      <td>0</td>\n      <td>0</td>\n      <td>0</td>\n      <td>0</td>\n      <td>0</td>\n      <td>0</td>\n      <td>0</td>\n      <td>0</td>\n      <td>0</td>\n      <td>0</td>\n      <td>0</td>\n      <td>0</td>\n      <td>0</td>\n      <td>0</td>\n      <td>0</td>\n      <td>0</td>\n      <td>0</td>\n      <td>0</td>\n      <td>0</td>\n      <td>0</td>\n      <td>0</td>\n      <td>0</td>\n      <td>0</td>\n      <td>0</td>\n      <td>0</td>\n      <td>0</td>\n      <td>0</td>\n      <td>0</td>\n      <td>0</td>\n      <td>0</td>\n      <td>0</td>\n      <td>0</td>\n      <td>0</td>\n      <td>0</td>\n    </tr>\n    <tr>\n      <th>1</th>\n      <td>300000000</td>\n      <td>139.082615</td>\n      <td>169.0</td>\n      <td>United States of America</td>\n      <td>Walt Disney Pictures</td>\n      <td>Gore Verbinski</td>\n      <td>Johnny Depp</td>\n      <td>Orlando Bloom</td>\n      <td>Keira Knightley</td>\n      <td>0</td>\n      <td>0</td>\n      <td>1</td>\n      <td>0</td>\n      <td>0</td>\n      <td>0</td>\n      <td>0</td>\n      <td>0</td>\n      <td>0</td>\n      <td>0</td>\n      <td>0</td>\n      <td>0</td>\n      <td>0</td>\n      <td>0</td>\n      <td>0</td>\n      <td>1</td>\n      <td>0</td>\n      <td>0</td>\n      <td>0</td>\n      <td>0</td>\n      <td>0</td>\n      <td>0</td>\n      <td>0</td>\n      <td>0</td>\n      <td>0</td>\n      <td>0</td>\n      <td>0</td>\n      <td>0</td>\n      <td>0</td>\n      <td>0</td>\n      <td>0</td>\n      <td>0</td>\n      <td>0</td>\n      <td>0</td>\n      <td>0</td>\n      <td>0</td>\n      <td>0</td>\n      <td>0</td>\n      <td>0</td>\n      <td>0</td>\n      <td>0</td>\n      <td>0</td>\n      <td>0</td>\n      <td>0</td>\n      <td>0</td>\n      <td>0</td>\n      <td>0</td>\n      <td>0</td>\n      <td>0</td>\n      <td>0</td>\n      <td>0</td>\n      <td>0</td>\n      <td>0</td>\n      <td>0</td>\n      <td>0</td>\n    </tr>\n    <tr>\n      <th>2</th>\n      <td>245000000</td>\n      <td>107.376788</td>\n      <td>148.0</td>\n      <td>United Kingdom</td>\n      <td>Columbia Pictures</td>\n      <td>Sam Mendes</td>\n      <td>Daniel Craig</td>\n      <td>Christoph Waltz</td>\n      <td>Léa Seydoux</td>\n      <td>0</td>\n      <td>1</td>\n      <td>0</td>\n      <td>0</td>\n      <td>0</td>\n      <td>0</td>\n      <td>0</td>\n      <td>0</td>\n      <td>0</td>\n      <td>0</td>\n      <td>0</td>\n      <td>0</td>\n      <td>0</td>\n      <td>0</td>\n      <td>0</td>\n      <td>0</td>\n      <td>0</td>\n      <td>0</td>\n      <td>1</td>\n      <td>0</td>\n      <td>0</td>\n      <td>0</td>\n      <td>0</td>\n      <td>0</td>\n      <td>0</td>\n      <td>0</td>\n      <td>0</td>\n      <td>0</td>\n      <td>0</td>\n      <td>0</td>\n      <td>0</td>\n      <td>0</td>\n      <td>0</td>\n      <td>0</td>\n      <td>0</td>\n      <td>0</td>\n      <td>0</td>\n      <td>0</td>\n      <td>0</td>\n      <td>0</td>\n      <td>0</td>\n      <td>0</td>\n      <td>0</td>\n      <td>0</td>\n      <td>0</td>\n      <td>0</td>\n      <td>0</td>\n      <td>0</td>\n      <td>0</td>\n      <td>0</td>\n      <td>0</td>\n      <td>0</td>\n      <td>0</td>\n      <td>0</td>\n      <td>0</td>\n    </tr>\n    <tr>\n      <th>3</th>\n      <td>250000000</td>\n      <td>112.312950</td>\n      <td>165.0</td>\n      <td>United States of America</td>\n      <td>Legendary Pictures</td>\n      <td>Christopher Nolan</td>\n      <td>Christian Bale</td>\n      <td>Michael Caine</td>\n      <td>Gary Oldman</td>\n      <td>0</td>\n      <td>1</td>\n      <td>0</td>\n      <td>0</td>\n      <td>0</td>\n      <td>0</td>\n      <td>0</td>\n      <td>0</td>\n      <td>0</td>\n      <td>0</td>\n      <td>0</td>\n      <td>0</td>\n      <td>0</td>\n      <td>0</td>\n      <td>0</td>\n      <td>1</td>\n      <td>0</td>\n      <td>0</td>\n      <td>0</td>\n      <td>0</td>\n      <td>0</td>\n      <td>0</td>\n      <td>0</td>\n      <td>0</td>\n      <td>0</td>\n      <td>0</td>\n      <td>0</td>\n      <td>0</td>\n      <td>0</td>\n      <td>0</td>\n      <td>0</td>\n      <td>0</td>\n      <td>0</td>\n      <td>0</td>\n      <td>0</td>\n      <td>0</td>\n      <td>0</td>\n      <td>0</td>\n      <td>0</td>\n      <td>0</td>\n      <td>0</td>\n      <td>0</td>\n      <td>0</td>\n      <td>0</td>\n      <td>0</td>\n      <td>0</td>\n      <td>0</td>\n      <td>0</td>\n      <td>0</td>\n      <td>0</td>\n      <td>0</td>\n      <td>0</td>\n      <td>0</td>\n      <td>0</td>\n      <td>0</td>\n    </tr>\n    <tr>\n      <th>4</th>\n      <td>260000000</td>\n      <td>43.926995</td>\n      <td>132.0</td>\n      <td>United States of America</td>\n      <td>Walt Disney Pictures</td>\n      <td>Andrew Stanton</td>\n      <td>Taylor Kitsch</td>\n      <td>Lynn Collins</td>\n      <td>Samantha Morton</td>\n      <td>0</td>\n      <td>0</td>\n      <td>0</td>\n      <td>0</td>\n      <td>0</td>\n      <td>0</td>\n      <td>1</td>\n      <td>0</td>\n      <td>0</td>\n      <td>0</td>\n      <td>0</td>\n      <td>0</td>\n      <td>0</td>\n      <td>0</td>\n      <td>0</td>\n      <td>1</td>\n      <td>0</td>\n      <td>0</td>\n      <td>0</td>\n      <td>0</td>\n      <td>0</td>\n      <td>0</td>\n      <td>0</td>\n      <td>0</td>\n      <td>0</td>\n      <td>0</td>\n      <td>0</td>\n      <td>0</td>\n      <td>0</td>\n      <td>0</td>\n      <td>0</td>\n      <td>0</td>\n      <td>0</td>\n      <td>0</td>\n      <td>0</td>\n      <td>0</td>\n      <td>0</td>\n      <td>0</td>\n      <td>0</td>\n      <td>0</td>\n      <td>0</td>\n      <td>0</td>\n      <td>0</td>\n      <td>0</td>\n      <td>0</td>\n      <td>0</td>\n      <td>0</td>\n      <td>0</td>\n      <td>0</td>\n      <td>0</td>\n      <td>0</td>\n      <td>0</td>\n      <td>0</td>\n      <td>0</td>\n      <td>0</td>\n    </tr>\n  </tbody>\n</table>\n</div>"
     },
     "metadata": {},
     "execution_count": 15
    }
   ],
   "source": [
    "data_copy = df.copy()\n",
    "\n",
    "nominal = ['dayofrelease', 'language']\n",
    "one_hot = pd.get_dummies(data_copy[nominal])\n",
    "data_copy.drop(['dayofrelease','language'], axis=1, inplace=True)\n",
    "data_copy = data_copy.join(one_hot)\n",
    "data_copy.head()"
   ]
  },
  {
   "cell_type": "code",
   "execution_count": 16,
   "metadata": {},
   "outputs": [],
   "source": [
    "# from sklearn.preprocessing import LabelEncoder\n",
    "\n",
    "# ordinal = ['actor_1_name','actor_2_name','actor_3_name','director_name','country', 'company']\n",
    "# for feature in ordinal:\n",
    "#     data_copy[feature] = data_copy[feature].astype('category')\n",
    "#     data_copy[feature] = data_copy[feature].cat.codes\n",
    "# # pd.set_option('display.max_rows', None)"
   ]
  },
  {
   "cell_type": "code",
   "execution_count": 17,
   "metadata": {},
   "outputs": [],
   "source": [
    "def get_integer_mapping(le):\n",
    "    '''\n",
    "    Return a dict mapping labels to their integer values\n",
    "    from an SKlearn LabelEncoder\n",
    "    le = a fitted SKlearn LabelEncoder\n",
    "    '''\n",
    "    res = {}\n",
    "    for cl in le.classes_:\n",
    "        res.update({cl:le.transform([cl])[0]})\n",
    "\n",
    "    return res"
   ]
  },
  {
   "cell_type": "code",
   "execution_count": 18,
   "metadata": {
    "tags": []
   },
   "outputs": [],
   "source": [
    "# df.loc[df['actor_1_name'] == '']"
   ]
  },
  {
   "cell_type": "code",
   "execution_count": 19,
   "metadata": {},
   "outputs": [
    {
     "output_type": "execute_result",
     "data": {
      "text/plain": [
       "         budget  popularity  duration  country  company  director_name  \\\n",
       "0     237000000  150.437577     162.0       70      611            885   \n",
       "1     300000000  139.082615     169.0       70     1258            769   \n",
       "...         ...         ...       ...      ...      ...            ...   \n",
       "4801          0    0.857008      98.0       70      790            439   \n",
       "4802          0    1.929883      90.0       70     1313            249   \n",
       "\n",
       "      actor_1_name  actor_2_name  actor_3_name  dayofrelease_Friday  \\\n",
       "0             1760          2715          2725                    0   \n",
       "1              991          2017          1674                    0   \n",
       "...            ...           ...           ...                  ...   \n",
       "4801           441           743           301                    0   \n",
       "4802           529           294           585                    1   \n",
       "\n",
       "      dayofrelease_Monday  dayofrelease_Saturday  dayofrelease_Sunday  \\\n",
       "0                       0                      0                    0   \n",
       "1                       0                      1                    0   \n",
       "...                   ...                    ...                  ...   \n",
       "4801                    0                      0                    0   \n",
       "4802                    0                      0                    0   \n",
       "\n",
       "      dayofrelease_Thursday  dayofrelease_Tuesday  dayofrelease_Wednesday  \\\n",
       "0                         1                     0                       0   \n",
       "1                         0                     0                       0   \n",
       "...                     ...                   ...                     ...   \n",
       "4801                      1                     0                       0   \n",
       "4802                      0                     0                       0   \n",
       "\n",
       "      language_  language_??????  language_Afrikaans  \\\n",
       "0             0                0                   0   \n",
       "1             0                0                   0   \n",
       "...         ...              ...                 ...   \n",
       "4801          0                0                   0   \n",
       "4802          0                0                   0   \n",
       "\n",
       "      language_Bahasa indonesia  language_Bosanski  language_Dansk  \\\n",
       "0                             0                  0               0   \n",
       "1                             0                  0               0   \n",
       "...                         ...                ...             ...   \n",
       "4801                          0                  0               0   \n",
       "4802                          0                  0               0   \n",
       "\n",
       "      language_Deutsch  language_Eesti  language_English  language_Español  \\\n",
       "0                    0               0                 1                 0   \n",
       "1                    0               0                 1                 0   \n",
       "...                ...             ...               ...               ...   \n",
       "4801                 0               0                 1                 0   \n",
       "4802                 0               0                 1                 0   \n",
       "\n",
       "      language_Esperanto  language_Français  language_Gaeilge  \\\n",
       "0                      0                  0                 0   \n",
       "1                      0                  0                 0   \n",
       "...                  ...                ...               ...   \n",
       "4801                   0                  0                 0   \n",
       "4802                   0                  0                 0   \n",
       "\n",
       "      language_Galego  language_Hrvatski  language_Italiano  \\\n",
       "0                   0                  0                  0   \n",
       "1                   0                  0                  0   \n",
       "...               ...                ...                ...   \n",
       "4801                0                  0                  0   \n",
       "4802                0                  0                  0   \n",
       "\n",
       "      language_Kiswahili  language_Latin  language_Magyar  language_Missing  \\\n",
       "0                      0               0                0                 0   \n",
       "1                      0               0                0                 0   \n",
       "...                  ...             ...              ...               ...   \n",
       "4801                   0               0                0                 0   \n",
       "4802                   0               0                0                 0   \n",
       "\n",
       "      language_Nederlands  language_No Language  language_Norsk  \\\n",
       "0                       0                     0               0   \n",
       "1                       0                     0               0   \n",
       "...                   ...                   ...             ...   \n",
       "4801                    0                     0               0   \n",
       "4802                    0                     0               0   \n",
       "\n",
       "      language_Polski  language_Português  language_Pусский  language_Română  \\\n",
       "0                   0                   0                 0                0   \n",
       "1                   0                   0                 0                0   \n",
       "...               ...                 ...               ...              ...   \n",
       "4801                0                   0                 0                0   \n",
       "4802                0                   0                 0                0   \n",
       "\n",
       "      language_Srpski  language_Tiếng Việt  language_shqip  language_svenska  \\\n",
       "0                   0                    0               0                 0   \n",
       "1                   0                    0               0                 0   \n",
       "...               ...                  ...             ...               ...   \n",
       "4801                0                    0               0                 0   \n",
       "4802                0                    0               0                 0   \n",
       "\n",
       "      language_Íslenska  language_Český  language_ελληνικά  \\\n",
       "0                     0               0                  0   \n",
       "1                     0               0                  0   \n",
       "...                 ...             ...                ...   \n",
       "4801                  0               0                  0   \n",
       "4802                  0               0                  0   \n",
       "\n",
       "      language_Український  language_български език  language_עִבְרִית  \\\n",
       "0                        0                        0                  0   \n",
       "1                        0                        0                  0   \n",
       "...                    ...                      ...                ...   \n",
       "4801                     0                        0                  0   \n",
       "4802                     0                        0                  0   \n",
       "\n",
       "      language_اردو  language_العربية  language_فارسی  language_हिन्दी  \\\n",
       "0                 0                 0               0                0   \n",
       "1                 0                 0               0                0   \n",
       "...             ...               ...             ...              ...   \n",
       "4801              0                 0               0                0   \n",
       "4802              0                 0               0                0   \n",
       "\n",
       "      language_বাংলা  language_தமிழ்  language_ภาษาไทย  language_广州话 / 廣州話  \\\n",
       "0                  0               0                 0                   0   \n",
       "1                  0               0                 0                   0   \n",
       "...              ...             ...               ...                 ...   \n",
       "4801               0               0                 0                   0   \n",
       "4802               0               0                 0                   0   \n",
       "\n",
       "      language_日本語  language_普通话  language_한국어/조선말  \n",
       "0                0             0                 0  \n",
       "1                0             0                 0  \n",
       "...            ...           ...               ...  \n",
       "4801             0             0                 0  \n",
       "4802             0             0                 0  \n",
       "\n",
       "[4803 rows x 64 columns]"
      ],
      "text/html": "<div>\n<style scoped>\n    .dataframe tbody tr th:only-of-type {\n        vertical-align: middle;\n    }\n\n    .dataframe tbody tr th {\n        vertical-align: top;\n    }\n\n    .dataframe thead th {\n        text-align: right;\n    }\n</style>\n<table border=\"1\" class=\"dataframe\">\n  <thead>\n    <tr style=\"text-align: right;\">\n      <th></th>\n      <th>budget</th>\n      <th>popularity</th>\n      <th>duration</th>\n      <th>country</th>\n      <th>company</th>\n      <th>director_name</th>\n      <th>actor_1_name</th>\n      <th>actor_2_name</th>\n      <th>actor_3_name</th>\n      <th>dayofrelease_Friday</th>\n      <th>dayofrelease_Monday</th>\n      <th>dayofrelease_Saturday</th>\n      <th>dayofrelease_Sunday</th>\n      <th>dayofrelease_Thursday</th>\n      <th>dayofrelease_Tuesday</th>\n      <th>dayofrelease_Wednesday</th>\n      <th>language_</th>\n      <th>language_??????</th>\n      <th>language_Afrikaans</th>\n      <th>language_Bahasa indonesia</th>\n      <th>language_Bosanski</th>\n      <th>language_Dansk</th>\n      <th>language_Deutsch</th>\n      <th>language_Eesti</th>\n      <th>language_English</th>\n      <th>language_Español</th>\n      <th>language_Esperanto</th>\n      <th>language_Français</th>\n      <th>language_Gaeilge</th>\n      <th>language_Galego</th>\n      <th>language_Hrvatski</th>\n      <th>language_Italiano</th>\n      <th>language_Kiswahili</th>\n      <th>language_Latin</th>\n      <th>language_Magyar</th>\n      <th>language_Missing</th>\n      <th>language_Nederlands</th>\n      <th>language_No Language</th>\n      <th>language_Norsk</th>\n      <th>language_Polski</th>\n      <th>language_Português</th>\n      <th>language_Pусский</th>\n      <th>language_Română</th>\n      <th>language_Srpski</th>\n      <th>language_Tiếng Việt</th>\n      <th>language_shqip</th>\n      <th>language_svenska</th>\n      <th>language_Íslenska</th>\n      <th>language_Český</th>\n      <th>language_ελληνικά</th>\n      <th>language_Український</th>\n      <th>language_български език</th>\n      <th>language_עִבְרִית</th>\n      <th>language_اردو</th>\n      <th>language_العربية</th>\n      <th>language_فارسی</th>\n      <th>language_हिन्दी</th>\n      <th>language_বাংলা</th>\n      <th>language_தமிழ்</th>\n      <th>language_ภาษาไทย</th>\n      <th>language_广州话 / 廣州話</th>\n      <th>language_日本語</th>\n      <th>language_普通话</th>\n      <th>language_한국어/조선말</th>\n    </tr>\n  </thead>\n  <tbody>\n    <tr>\n      <th>0</th>\n      <td>237000000</td>\n      <td>150.437577</td>\n      <td>162.0</td>\n      <td>70</td>\n      <td>611</td>\n      <td>885</td>\n      <td>1760</td>\n      <td>2715</td>\n      <td>2725</td>\n      <td>0</td>\n      <td>0</td>\n      <td>0</td>\n      <td>0</td>\n      <td>1</td>\n      <td>0</td>\n      <td>0</td>\n      <td>0</td>\n      <td>0</td>\n      <td>0</td>\n      <td>0</td>\n      <td>0</td>\n      <td>0</td>\n      <td>0</td>\n      <td>0</td>\n      <td>1</td>\n      <td>0</td>\n      <td>0</td>\n      <td>0</td>\n      <td>0</td>\n      <td>0</td>\n      <td>0</td>\n      <td>0</td>\n      <td>0</td>\n      <td>0</td>\n      <td>0</td>\n      <td>0</td>\n      <td>0</td>\n      <td>0</td>\n      <td>0</td>\n      <td>0</td>\n      <td>0</td>\n      <td>0</td>\n      <td>0</td>\n      <td>0</td>\n      <td>0</td>\n      <td>0</td>\n      <td>0</td>\n      <td>0</td>\n      <td>0</td>\n      <td>0</td>\n      <td>0</td>\n      <td>0</td>\n      <td>0</td>\n      <td>0</td>\n      <td>0</td>\n      <td>0</td>\n      <td>0</td>\n      <td>0</td>\n      <td>0</td>\n      <td>0</td>\n      <td>0</td>\n      <td>0</td>\n      <td>0</td>\n      <td>0</td>\n    </tr>\n    <tr>\n      <th>1</th>\n      <td>300000000</td>\n      <td>139.082615</td>\n      <td>169.0</td>\n      <td>70</td>\n      <td>1258</td>\n      <td>769</td>\n      <td>991</td>\n      <td>2017</td>\n      <td>1674</td>\n      <td>0</td>\n      <td>0</td>\n      <td>1</td>\n      <td>0</td>\n      <td>0</td>\n      <td>0</td>\n      <td>0</td>\n      <td>0</td>\n      <td>0</td>\n      <td>0</td>\n      <td>0</td>\n      <td>0</td>\n      <td>0</td>\n      <td>0</td>\n      <td>0</td>\n      <td>1</td>\n      <td>0</td>\n      <td>0</td>\n      <td>0</td>\n      <td>0</td>\n      <td>0</td>\n      <td>0</td>\n      <td>0</td>\n      <td>0</td>\n      <td>0</td>\n      <td>0</td>\n      <td>0</td>\n      <td>0</td>\n      <td>0</td>\n      <td>0</td>\n      <td>0</td>\n      <td>0</td>\n      <td>0</td>\n      <td>0</td>\n      <td>0</td>\n      <td>0</td>\n      <td>0</td>\n      <td>0</td>\n      <td>0</td>\n      <td>0</td>\n      <td>0</td>\n      <td>0</td>\n      <td>0</td>\n      <td>0</td>\n      <td>0</td>\n      <td>0</td>\n      <td>0</td>\n      <td>0</td>\n      <td>0</td>\n      <td>0</td>\n      <td>0</td>\n      <td>0</td>\n      <td>0</td>\n      <td>0</td>\n      <td>0</td>\n    </tr>\n    <tr>\n      <th>...</th>\n      <td>...</td>\n      <td>...</td>\n      <td>...</td>\n      <td>...</td>\n      <td>...</td>\n      <td>...</td>\n      <td>...</td>\n      <td>...</td>\n      <td>...</td>\n      <td>...</td>\n      <td>...</td>\n      <td>...</td>\n      <td>...</td>\n      <td>...</td>\n      <td>...</td>\n      <td>...</td>\n      <td>...</td>\n      <td>...</td>\n      <td>...</td>\n      <td>...</td>\n      <td>...</td>\n      <td>...</td>\n      <td>...</td>\n      <td>...</td>\n      <td>...</td>\n      <td>...</td>\n      <td>...</td>\n      <td>...</td>\n      <td>...</td>\n      <td>...</td>\n      <td>...</td>\n      <td>...</td>\n      <td>...</td>\n      <td>...</td>\n      <td>...</td>\n      <td>...</td>\n      <td>...</td>\n      <td>...</td>\n      <td>...</td>\n      <td>...</td>\n      <td>...</td>\n      <td>...</td>\n      <td>...</td>\n      <td>...</td>\n      <td>...</td>\n      <td>...</td>\n      <td>...</td>\n      <td>...</td>\n      <td>...</td>\n      <td>...</td>\n      <td>...</td>\n      <td>...</td>\n      <td>...</td>\n      <td>...</td>\n      <td>...</td>\n      <td>...</td>\n      <td>...</td>\n      <td>...</td>\n      <td>...</td>\n      <td>...</td>\n      <td>...</td>\n      <td>...</td>\n      <td>...</td>\n      <td>...</td>\n    </tr>\n    <tr>\n      <th>4801</th>\n      <td>0</td>\n      <td>0.857008</td>\n      <td>98.0</td>\n      <td>70</td>\n      <td>790</td>\n      <td>439</td>\n      <td>441</td>\n      <td>743</td>\n      <td>301</td>\n      <td>0</td>\n      <td>0</td>\n      <td>0</td>\n      <td>0</td>\n      <td>1</td>\n      <td>0</td>\n      <td>0</td>\n      <td>0</td>\n      <td>0</td>\n      <td>0</td>\n      <td>0</td>\n      <td>0</td>\n      <td>0</td>\n      <td>0</td>\n      <td>0</td>\n      <td>1</td>\n      <td>0</td>\n      <td>0</td>\n      <td>0</td>\n      <td>0</td>\n      <td>0</td>\n      <td>0</td>\n      <td>0</td>\n      <td>0</td>\n      <td>0</td>\n      <td>0</td>\n      <td>0</td>\n      <td>0</td>\n      <td>0</td>\n      <td>0</td>\n      <td>0</td>\n      <td>0</td>\n      <td>0</td>\n      <td>0</td>\n      <td>0</td>\n      <td>0</td>\n      <td>0</td>\n      <td>0</td>\n      <td>0</td>\n      <td>0</td>\n      <td>0</td>\n      <td>0</td>\n      <td>0</td>\n      <td>0</td>\n      <td>0</td>\n      <td>0</td>\n      <td>0</td>\n      <td>0</td>\n      <td>0</td>\n      <td>0</td>\n      <td>0</td>\n      <td>0</td>\n      <td>0</td>\n      <td>0</td>\n      <td>0</td>\n    </tr>\n    <tr>\n      <th>4802</th>\n      <td>0</td>\n      <td>1.929883</td>\n      <td>90.0</td>\n      <td>70</td>\n      <td>1313</td>\n      <td>249</td>\n      <td>529</td>\n      <td>294</td>\n      <td>585</td>\n      <td>1</td>\n      <td>0</td>\n      <td>0</td>\n      <td>0</td>\n      <td>0</td>\n      <td>0</td>\n      <td>0</td>\n      <td>0</td>\n      <td>0</td>\n      <td>0</td>\n      <td>0</td>\n      <td>0</td>\n      <td>0</td>\n      <td>0</td>\n      <td>0</td>\n      <td>1</td>\n      <td>0</td>\n      <td>0</td>\n      <td>0</td>\n      <td>0</td>\n      <td>0</td>\n      <td>0</td>\n      <td>0</td>\n      <td>0</td>\n      <td>0</td>\n      <td>0</td>\n      <td>0</td>\n      <td>0</td>\n      <td>0</td>\n      <td>0</td>\n      <td>0</td>\n      <td>0</td>\n      <td>0</td>\n      <td>0</td>\n      <td>0</td>\n      <td>0</td>\n      <td>0</td>\n      <td>0</td>\n      <td>0</td>\n      <td>0</td>\n      <td>0</td>\n      <td>0</td>\n      <td>0</td>\n      <td>0</td>\n      <td>0</td>\n      <td>0</td>\n      <td>0</td>\n      <td>0</td>\n      <td>0</td>\n      <td>0</td>\n      <td>0</td>\n      <td>0</td>\n      <td>0</td>\n      <td>0</td>\n      <td>0</td>\n    </tr>\n  </tbody>\n</table>\n<p>4803 rows × 64 columns</p>\n</div>"
     },
     "metadata": {},
     "execution_count": 19
    }
   ],
   "source": [
    "from sklearn.preprocessing import LabelEncoder\n",
    "\n",
    "labelencoder = LabelEncoder()\n",
    "ordinal = ['actor_1_name','actor_2_name','actor_3_name','director_name','country', 'company']\n",
    "\n",
    "for feature in ordinal:\n",
    "    data_copy[feature] = labelencoder.fit_transform(data_copy[feature])\n",
    "    integerMapping = get_integer_mapping(labelencoder)\n",
    "    with open(f'{feature}.txt','w', encoding=\"utf-8\") as data:\n",
    "        data.write(str(integerMapping))\n",
    "data_copy    "
   ]
  },
  {
   "cell_type": "code",
   "execution_count": 20,
   "metadata": {},
   "outputs": [
    {
     "output_type": "execute_result",
     "data": {
      "text/plain": [
       "     budget  popularity  duration   country   company  director_name  \\\n",
       "0  5.107181    4.053183  2.438596  0.566591 -0.404521      -0.477710   \n",
       "1  6.654402    3.696258  2.748263  0.566591  1.329514      -0.647522   \n",
       "2  5.303653    2.699638  1.819260  0.517966 -1.339882       1.113538   \n",
       "3  5.426449    2.854798  2.571310  0.566591 -0.190112      -1.246253   \n",
       "4  5.672039    0.705198  1.111448  0.566591  1.329514      -1.637111   \n",
       "\n",
       "   actor_1_name  actor_2_name  actor_3_name  dayofrelease_Friday  \\\n",
       "0      1.171365      1.746301      1.324216            -0.864029   \n",
       "1     -0.108215      0.850469      0.138410            -0.864029   \n",
       "2     -1.026717     -1.158094      0.403552            -0.864029   \n",
       "3     -1.156506      0.602768     -0.628810            -0.864029   \n",
       "4      1.442589      0.365334      1.200107            -0.864029   \n",
       "\n",
       "   dayofrelease_Monday  dayofrelease_Saturday  dayofrelease_Sunday  \\\n",
       "0            -0.225798              -0.227828            -0.217527   \n",
       "1            -0.225798               4.389285            -0.217527   \n",
       "2             4.428740              -0.227828            -0.217527   \n",
       "3             4.428740              -0.227828            -0.217527   \n",
       "4            -0.225798              -0.227828            -0.217527   \n",
       "\n",
       "   dayofrelease_Thursday  dayofrelease_Tuesday  dayofrelease_Wednesday  \\\n",
       "0               2.059964             -0.280786               -0.445369   \n",
       "1              -0.485445             -0.280786               -0.445369   \n",
       "2              -0.485445             -0.280786               -0.445369   \n",
       "3              -0.485445             -0.280786               -0.445369   \n",
       "4              -0.485445             -0.280786                2.245331   \n",
       "\n",
       "   language_  language_??????  language_Afrikaans  language_Bahasa indonesia  \\\n",
       "0  -0.050047        -0.014431           -0.032282                  -0.014431   \n",
       "1  -0.050047        -0.014431           -0.032282                  -0.014431   \n",
       "2  -0.050047        -0.014431           -0.032282                  -0.014431   \n",
       "3  -0.050047        -0.014431           -0.032282                  -0.014431   \n",
       "4  -0.050047        -0.014431           -0.032282                  -0.014431   \n",
       "\n",
       "   language_Bosanski  language_Dansk  language_Deutsch  language_Eesti  \\\n",
       "0          -0.014431       -0.050047         -0.113419       -0.014431   \n",
       "1          -0.014431       -0.050047         -0.113419       -0.014431   \n",
       "2          -0.014431       -0.050047         -0.113419       -0.014431   \n",
       "3          -0.014431       -0.050047         -0.113419       -0.014431   \n",
       "4          -0.014431       -0.050047         -0.113419       -0.014431   \n",
       "\n",
       "   language_English  language_Español  language_Esperanto  language_Français  \\\n",
       "0          0.413391         -0.133418           -0.014431          -0.151668   \n",
       "1          0.413391         -0.133418           -0.014431          -0.151668   \n",
       "2         -2.419016         -0.133418           -0.014431           6.593347   \n",
       "3          0.413391         -0.133418           -0.014431          -0.151668   \n",
       "4          0.413391         -0.133418           -0.014431          -0.151668   \n",
       "\n",
       "   language_Gaeilge  language_Galego  language_Hrvatski  language_Italiano  \\\n",
       "0         -0.014431        -0.014431          -0.014431          -0.081897   \n",
       "1         -0.014431        -0.014431          -0.014431          -0.081897   \n",
       "2         -0.014431        -0.014431          -0.014431          -0.081897   \n",
       "3         -0.014431        -0.014431          -0.014431          -0.081897   \n",
       "4         -0.014431        -0.014431          -0.014431          -0.081897   \n",
       "\n",
       "   language_Kiswahili  language_Latin  language_Magyar  language_Missing  \\\n",
       "0              -0.025       -0.040846        -0.028871         -0.135026   \n",
       "1              -0.025       -0.040846        -0.028871         -0.135026   \n",
       "2              -0.025       -0.040846        -0.028871         -0.135026   \n",
       "3              -0.025       -0.040846        -0.028871         -0.135026   \n",
       "4              -0.025       -0.040846        -0.028871         -0.135026   \n",
       "\n",
       "   language_Nederlands  language_No Language  language_Norsk  language_Polski  \\\n",
       "0            -0.035366              -0.02041       -0.028871           -0.025   \n",
       "1            -0.035366              -0.02041       -0.028871           -0.025   \n",
       "2            -0.035366              -0.02041       -0.028871           -0.025   \n",
       "3            -0.035366              -0.02041       -0.028871           -0.025   \n",
       "4            -0.035366              -0.02041       -0.028871           -0.025   \n",
       "\n",
       "   language_Português  language_Pусский  language_Română  language_Srpski  \\\n",
       "0           -0.059599         -0.080599        -0.028871        -0.014431   \n",
       "1           -0.059599         -0.080599        -0.028871        -0.014431   \n",
       "2           -0.059599         -0.080599        -0.028871        -0.014431   \n",
       "3           -0.059599         -0.080599        -0.028871        -0.014431   \n",
       "4           -0.059599         -0.080599        -0.028871        -0.014431   \n",
       "\n",
       "   language_Tiếng Việt  language_shqip  language_svenska  language_Íslenska  \\\n",
       "0             -0.02041       -0.014431         -0.032282          -0.014431   \n",
       "1             -0.02041       -0.014431         -0.032282          -0.014431   \n",
       "2             -0.02041       -0.014431         -0.032282          -0.014431   \n",
       "3             -0.02041       -0.014431         -0.032282          -0.014431   \n",
       "4             -0.02041       -0.014431         -0.032282          -0.014431   \n",
       "\n",
       "   language_Český  language_ελληνικά  language_Український  \\\n",
       "0        -0.07928          -0.032282              -0.02041   \n",
       "1        -0.07928          -0.032282              -0.02041   \n",
       "2        -0.07928          -0.032282              -0.02041   \n",
       "3        -0.07928          -0.032282              -0.02041   \n",
       "4        -0.07928          -0.032282              -0.02041   \n",
       "\n",
       "   language_български език  language_עִבְרִית  language_اردو  \\\n",
       "0                -0.014431          -0.035366      -0.014431   \n",
       "1                -0.014431          -0.035366      -0.014431   \n",
       "2                -0.014431          -0.035366      -0.014431   \n",
       "3                -0.014431          -0.035366      -0.014431   \n",
       "4                -0.014431          -0.035366      -0.014431   \n",
       "\n",
       "   language_العربية  language_فارسی  language_हिन्दी  language_বাংলা  \\\n",
       "0         -0.083176          -0.025        -0.067835       -0.014431   \n",
       "1         -0.083176          -0.025        -0.067835       -0.014431   \n",
       "2         -0.083176          -0.025        -0.067835       -0.014431   \n",
       "3         -0.083176          -0.025        -0.067835       -0.014431   \n",
       "4         -0.083176          -0.025        -0.067835       -0.014431   \n",
       "\n",
       "   language_தமிழ்  language_ภาษาไทย  language_广州话 / 廣州話  language_日本語  \\\n",
       "0        -0.02041         -0.028871           -0.076576     -0.069367   \n",
       "1        -0.02041         -0.028871           -0.076576     -0.069367   \n",
       "2        -0.02041         -0.028871           -0.076576     -0.069367   \n",
       "3        -0.02041         -0.028871           -0.076576     -0.069367   \n",
       "4        -0.02041         -0.028871           -0.076576     -0.069367   \n",
       "\n",
       "   language_普通话  language_한국어/조선말  \n",
       "0     -0.081897         -0.040846  \n",
       "1     -0.081897         -0.040846  \n",
       "2     -0.081897         -0.040846  \n",
       "3     -0.081897         -0.040846  \n",
       "4     -0.081897         -0.040846  "
      ],
      "text/html": "<div>\n<style scoped>\n    .dataframe tbody tr th:only-of-type {\n        vertical-align: middle;\n    }\n\n    .dataframe tbody tr th {\n        vertical-align: top;\n    }\n\n    .dataframe thead th {\n        text-align: right;\n    }\n</style>\n<table border=\"1\" class=\"dataframe\">\n  <thead>\n    <tr style=\"text-align: right;\">\n      <th></th>\n      <th>budget</th>\n      <th>popularity</th>\n      <th>duration</th>\n      <th>country</th>\n      <th>company</th>\n      <th>director_name</th>\n      <th>actor_1_name</th>\n      <th>actor_2_name</th>\n      <th>actor_3_name</th>\n      <th>dayofrelease_Friday</th>\n      <th>dayofrelease_Monday</th>\n      <th>dayofrelease_Saturday</th>\n      <th>dayofrelease_Sunday</th>\n      <th>dayofrelease_Thursday</th>\n      <th>dayofrelease_Tuesday</th>\n      <th>dayofrelease_Wednesday</th>\n      <th>language_</th>\n      <th>language_??????</th>\n      <th>language_Afrikaans</th>\n      <th>language_Bahasa indonesia</th>\n      <th>language_Bosanski</th>\n      <th>language_Dansk</th>\n      <th>language_Deutsch</th>\n      <th>language_Eesti</th>\n      <th>language_English</th>\n      <th>language_Español</th>\n      <th>language_Esperanto</th>\n      <th>language_Français</th>\n      <th>language_Gaeilge</th>\n      <th>language_Galego</th>\n      <th>language_Hrvatski</th>\n      <th>language_Italiano</th>\n      <th>language_Kiswahili</th>\n      <th>language_Latin</th>\n      <th>language_Magyar</th>\n      <th>language_Missing</th>\n      <th>language_Nederlands</th>\n      <th>language_No Language</th>\n      <th>language_Norsk</th>\n      <th>language_Polski</th>\n      <th>language_Português</th>\n      <th>language_Pусский</th>\n      <th>language_Română</th>\n      <th>language_Srpski</th>\n      <th>language_Tiếng Việt</th>\n      <th>language_shqip</th>\n      <th>language_svenska</th>\n      <th>language_Íslenska</th>\n      <th>language_Český</th>\n      <th>language_ελληνικά</th>\n      <th>language_Український</th>\n      <th>language_български език</th>\n      <th>language_עִבְרִית</th>\n      <th>language_اردو</th>\n      <th>language_العربية</th>\n      <th>language_فارسی</th>\n      <th>language_हिन्दी</th>\n      <th>language_বাংলা</th>\n      <th>language_தமிழ்</th>\n      <th>language_ภาษาไทย</th>\n      <th>language_广州话 / 廣州話</th>\n      <th>language_日本語</th>\n      <th>language_普通话</th>\n      <th>language_한국어/조선말</th>\n    </tr>\n  </thead>\n  <tbody>\n    <tr>\n      <th>0</th>\n      <td>5.107181</td>\n      <td>4.053183</td>\n      <td>2.438596</td>\n      <td>0.566591</td>\n      <td>-0.404521</td>\n      <td>-0.477710</td>\n      <td>1.171365</td>\n      <td>1.746301</td>\n      <td>1.324216</td>\n      <td>-0.864029</td>\n      <td>-0.225798</td>\n      <td>-0.227828</td>\n      <td>-0.217527</td>\n      <td>2.059964</td>\n      <td>-0.280786</td>\n      <td>-0.445369</td>\n      <td>-0.050047</td>\n      <td>-0.014431</td>\n      <td>-0.032282</td>\n      <td>-0.014431</td>\n      <td>-0.014431</td>\n      <td>-0.050047</td>\n      <td>-0.113419</td>\n      <td>-0.014431</td>\n      <td>0.413391</td>\n      <td>-0.133418</td>\n      <td>-0.014431</td>\n      <td>-0.151668</td>\n      <td>-0.014431</td>\n      <td>-0.014431</td>\n      <td>-0.014431</td>\n      <td>-0.081897</td>\n      <td>-0.025</td>\n      <td>-0.040846</td>\n      <td>-0.028871</td>\n      <td>-0.135026</td>\n      <td>-0.035366</td>\n      <td>-0.02041</td>\n      <td>-0.028871</td>\n      <td>-0.025</td>\n      <td>-0.059599</td>\n      <td>-0.080599</td>\n      <td>-0.028871</td>\n      <td>-0.014431</td>\n      <td>-0.02041</td>\n      <td>-0.014431</td>\n      <td>-0.032282</td>\n      <td>-0.014431</td>\n      <td>-0.07928</td>\n      <td>-0.032282</td>\n      <td>-0.02041</td>\n      <td>-0.014431</td>\n      <td>-0.035366</td>\n      <td>-0.014431</td>\n      <td>-0.083176</td>\n      <td>-0.025</td>\n      <td>-0.067835</td>\n      <td>-0.014431</td>\n      <td>-0.02041</td>\n      <td>-0.028871</td>\n      <td>-0.076576</td>\n      <td>-0.069367</td>\n      <td>-0.081897</td>\n      <td>-0.040846</td>\n    </tr>\n    <tr>\n      <th>1</th>\n      <td>6.654402</td>\n      <td>3.696258</td>\n      <td>2.748263</td>\n      <td>0.566591</td>\n      <td>1.329514</td>\n      <td>-0.647522</td>\n      <td>-0.108215</td>\n      <td>0.850469</td>\n      <td>0.138410</td>\n      <td>-0.864029</td>\n      <td>-0.225798</td>\n      <td>4.389285</td>\n      <td>-0.217527</td>\n      <td>-0.485445</td>\n      <td>-0.280786</td>\n      <td>-0.445369</td>\n      <td>-0.050047</td>\n      <td>-0.014431</td>\n      <td>-0.032282</td>\n      <td>-0.014431</td>\n      <td>-0.014431</td>\n      <td>-0.050047</td>\n      <td>-0.113419</td>\n      <td>-0.014431</td>\n      <td>0.413391</td>\n      <td>-0.133418</td>\n      <td>-0.014431</td>\n      <td>-0.151668</td>\n      <td>-0.014431</td>\n      <td>-0.014431</td>\n      <td>-0.014431</td>\n      <td>-0.081897</td>\n      <td>-0.025</td>\n      <td>-0.040846</td>\n      <td>-0.028871</td>\n      <td>-0.135026</td>\n      <td>-0.035366</td>\n      <td>-0.02041</td>\n      <td>-0.028871</td>\n      <td>-0.025</td>\n      <td>-0.059599</td>\n      <td>-0.080599</td>\n      <td>-0.028871</td>\n      <td>-0.014431</td>\n      <td>-0.02041</td>\n      <td>-0.014431</td>\n      <td>-0.032282</td>\n      <td>-0.014431</td>\n      <td>-0.07928</td>\n      <td>-0.032282</td>\n      <td>-0.02041</td>\n      <td>-0.014431</td>\n      <td>-0.035366</td>\n      <td>-0.014431</td>\n      <td>-0.083176</td>\n      <td>-0.025</td>\n      <td>-0.067835</td>\n      <td>-0.014431</td>\n      <td>-0.02041</td>\n      <td>-0.028871</td>\n      <td>-0.076576</td>\n      <td>-0.069367</td>\n      <td>-0.081897</td>\n      <td>-0.040846</td>\n    </tr>\n    <tr>\n      <th>2</th>\n      <td>5.303653</td>\n      <td>2.699638</td>\n      <td>1.819260</td>\n      <td>0.517966</td>\n      <td>-1.339882</td>\n      <td>1.113538</td>\n      <td>-1.026717</td>\n      <td>-1.158094</td>\n      <td>0.403552</td>\n      <td>-0.864029</td>\n      <td>4.428740</td>\n      <td>-0.227828</td>\n      <td>-0.217527</td>\n      <td>-0.485445</td>\n      <td>-0.280786</td>\n      <td>-0.445369</td>\n      <td>-0.050047</td>\n      <td>-0.014431</td>\n      <td>-0.032282</td>\n      <td>-0.014431</td>\n      <td>-0.014431</td>\n      <td>-0.050047</td>\n      <td>-0.113419</td>\n      <td>-0.014431</td>\n      <td>-2.419016</td>\n      <td>-0.133418</td>\n      <td>-0.014431</td>\n      <td>6.593347</td>\n      <td>-0.014431</td>\n      <td>-0.014431</td>\n      <td>-0.014431</td>\n      <td>-0.081897</td>\n      <td>-0.025</td>\n      <td>-0.040846</td>\n      <td>-0.028871</td>\n      <td>-0.135026</td>\n      <td>-0.035366</td>\n      <td>-0.02041</td>\n      <td>-0.028871</td>\n      <td>-0.025</td>\n      <td>-0.059599</td>\n      <td>-0.080599</td>\n      <td>-0.028871</td>\n      <td>-0.014431</td>\n      <td>-0.02041</td>\n      <td>-0.014431</td>\n      <td>-0.032282</td>\n      <td>-0.014431</td>\n      <td>-0.07928</td>\n      <td>-0.032282</td>\n      <td>-0.02041</td>\n      <td>-0.014431</td>\n      <td>-0.035366</td>\n      <td>-0.014431</td>\n      <td>-0.083176</td>\n      <td>-0.025</td>\n      <td>-0.067835</td>\n      <td>-0.014431</td>\n      <td>-0.02041</td>\n      <td>-0.028871</td>\n      <td>-0.076576</td>\n      <td>-0.069367</td>\n      <td>-0.081897</td>\n      <td>-0.040846</td>\n    </tr>\n    <tr>\n      <th>3</th>\n      <td>5.426449</td>\n      <td>2.854798</td>\n      <td>2.571310</td>\n      <td>0.566591</td>\n      <td>-0.190112</td>\n      <td>-1.246253</td>\n      <td>-1.156506</td>\n      <td>0.602768</td>\n      <td>-0.628810</td>\n      <td>-0.864029</td>\n      <td>4.428740</td>\n      <td>-0.227828</td>\n      <td>-0.217527</td>\n      <td>-0.485445</td>\n      <td>-0.280786</td>\n      <td>-0.445369</td>\n      <td>-0.050047</td>\n      <td>-0.014431</td>\n      <td>-0.032282</td>\n      <td>-0.014431</td>\n      <td>-0.014431</td>\n      <td>-0.050047</td>\n      <td>-0.113419</td>\n      <td>-0.014431</td>\n      <td>0.413391</td>\n      <td>-0.133418</td>\n      <td>-0.014431</td>\n      <td>-0.151668</td>\n      <td>-0.014431</td>\n      <td>-0.014431</td>\n      <td>-0.014431</td>\n      <td>-0.081897</td>\n      <td>-0.025</td>\n      <td>-0.040846</td>\n      <td>-0.028871</td>\n      <td>-0.135026</td>\n      <td>-0.035366</td>\n      <td>-0.02041</td>\n      <td>-0.028871</td>\n      <td>-0.025</td>\n      <td>-0.059599</td>\n      <td>-0.080599</td>\n      <td>-0.028871</td>\n      <td>-0.014431</td>\n      <td>-0.02041</td>\n      <td>-0.014431</td>\n      <td>-0.032282</td>\n      <td>-0.014431</td>\n      <td>-0.07928</td>\n      <td>-0.032282</td>\n      <td>-0.02041</td>\n      <td>-0.014431</td>\n      <td>-0.035366</td>\n      <td>-0.014431</td>\n      <td>-0.083176</td>\n      <td>-0.025</td>\n      <td>-0.067835</td>\n      <td>-0.014431</td>\n      <td>-0.02041</td>\n      <td>-0.028871</td>\n      <td>-0.076576</td>\n      <td>-0.069367</td>\n      <td>-0.081897</td>\n      <td>-0.040846</td>\n    </tr>\n    <tr>\n      <th>4</th>\n      <td>5.672039</td>\n      <td>0.705198</td>\n      <td>1.111448</td>\n      <td>0.566591</td>\n      <td>1.329514</td>\n      <td>-1.637111</td>\n      <td>1.442589</td>\n      <td>0.365334</td>\n      <td>1.200107</td>\n      <td>-0.864029</td>\n      <td>-0.225798</td>\n      <td>-0.227828</td>\n      <td>-0.217527</td>\n      <td>-0.485445</td>\n      <td>-0.280786</td>\n      <td>2.245331</td>\n      <td>-0.050047</td>\n      <td>-0.014431</td>\n      <td>-0.032282</td>\n      <td>-0.014431</td>\n      <td>-0.014431</td>\n      <td>-0.050047</td>\n      <td>-0.113419</td>\n      <td>-0.014431</td>\n      <td>0.413391</td>\n      <td>-0.133418</td>\n      <td>-0.014431</td>\n      <td>-0.151668</td>\n      <td>-0.014431</td>\n      <td>-0.014431</td>\n      <td>-0.014431</td>\n      <td>-0.081897</td>\n      <td>-0.025</td>\n      <td>-0.040846</td>\n      <td>-0.028871</td>\n      <td>-0.135026</td>\n      <td>-0.035366</td>\n      <td>-0.02041</td>\n      <td>-0.028871</td>\n      <td>-0.025</td>\n      <td>-0.059599</td>\n      <td>-0.080599</td>\n      <td>-0.028871</td>\n      <td>-0.014431</td>\n      <td>-0.02041</td>\n      <td>-0.014431</td>\n      <td>-0.032282</td>\n      <td>-0.014431</td>\n      <td>-0.07928</td>\n      <td>-0.032282</td>\n      <td>-0.02041</td>\n      <td>-0.014431</td>\n      <td>-0.035366</td>\n      <td>-0.014431</td>\n      <td>-0.083176</td>\n      <td>-0.025</td>\n      <td>-0.067835</td>\n      <td>-0.014431</td>\n      <td>-0.02041</td>\n      <td>-0.028871</td>\n      <td>-0.076576</td>\n      <td>-0.069367</td>\n      <td>-0.081897</td>\n      <td>-0.040846</td>\n    </tr>\n  </tbody>\n</table>\n</div>"
     },
     "metadata": {},
     "execution_count": 20
    }
   ],
   "source": [
    "scaler = StandardScaler()\n",
    "\n",
    "# numerical = df.select_dtypes(include=['int64','float']).copy()\n",
    "numerical = data_copy.columns[data_copy.dtypes.apply(lambda c: np.issubdtype(c, np.number))]\n",
    "\n",
    "\n",
    "data_copy[numerical] = scaler.fit_transform(data_copy[numerical])\n",
    "data_copy.head()"
   ]
  },
  {
   "cell_type": "code",
   "execution_count": 21,
   "metadata": {},
   "outputs": [],
   "source": [
    "data_copy.drop(columns=['popularity'], inplace= True)\n",
    "new_data = pd.concat([data_copy, df['popularity']], axis =1)"
   ]
  },
  {
   "cell_type": "code",
   "execution_count": 22,
   "metadata": {},
   "outputs": [
    {
     "output_type": "execute_result",
     "data": {
      "text/plain": [
       "budget              float64\n",
       "duration            float64\n",
       "                     ...   \n",
       "language_普通话        float64\n",
       "language_한국어/조선말    float64\n",
       "Length: 63, dtype: object"
      ]
     },
     "metadata": {},
     "execution_count": 22
    }
   ],
   "source": [
    "rf_data = data_copy.copy()\n",
    "rf_data.dtypes"
   ]
  },
  {
   "cell_type": "code",
   "execution_count": 23,
   "metadata": {},
   "outputs": [
    {
     "output_type": "execute_result",
     "data": {
      "text/plain": [
       "        budget  duration   country   company  director_name  actor_1_name  \\\n",
       "0     5.107181  2.438596  0.566591 -0.404521      -0.477710      1.171365   \n",
       "1     6.654402  2.748263  0.566591  1.329514      -0.647522     -0.108215   \n",
       "...        ...       ...       ...       ...            ...           ...   \n",
       "4801 -0.713319 -0.392652  0.566591  0.075220      -1.130605     -1.023389   \n",
       "4802 -0.713319 -0.746559  0.566591  1.476921      -1.408744     -0.876962   \n",
       "\n",
       "      actor_2_name  actor_3_name  dayofrelease_Friday  dayofrelease_Monday  \\\n",
       "0         1.746301      1.324216            -0.864029            -0.225798   \n",
       "1         0.850469      0.138410            -0.864029            -0.225798   \n",
       "...            ...           ...                  ...                  ...   \n",
       "4801     -0.784617     -1.410697            -0.864029            -0.225798   \n",
       "4802     -1.360876     -1.090270             1.157369            -0.225798   \n",
       "\n",
       "      dayofrelease_Saturday  dayofrelease_Sunday  dayofrelease_Thursday  \\\n",
       "0                 -0.227828            -0.217527               2.059964   \n",
       "1                  4.389285            -0.217527              -0.485445   \n",
       "...                     ...                  ...                    ...   \n",
       "4801              -0.227828            -0.217527               2.059964   \n",
       "4802              -0.227828            -0.217527              -0.485445   \n",
       "\n",
       "      dayofrelease_Tuesday  dayofrelease_Wednesday  language_  \\\n",
       "0                -0.280786               -0.445369  -0.050047   \n",
       "1                -0.280786               -0.445369  -0.050047   \n",
       "...                    ...                     ...        ...   \n",
       "4801             -0.280786               -0.445369  -0.050047   \n",
       "4802             -0.280786               -0.445369  -0.050047   \n",
       "\n",
       "      language_??????  language_Afrikaans  language_Bahasa indonesia  \\\n",
       "0           -0.014431           -0.032282                  -0.014431   \n",
       "1           -0.014431           -0.032282                  -0.014431   \n",
       "...               ...                 ...                        ...   \n",
       "4801        -0.014431           -0.032282                  -0.014431   \n",
       "4802        -0.014431           -0.032282                  -0.014431   \n",
       "\n",
       "      language_Bosanski  language_Dansk  language_Deutsch  language_Eesti  \\\n",
       "0             -0.014431       -0.050047         -0.113419       -0.014431   \n",
       "1             -0.014431       -0.050047         -0.113419       -0.014431   \n",
       "...                 ...             ...               ...             ...   \n",
       "4801          -0.014431       -0.050047         -0.113419       -0.014431   \n",
       "4802          -0.014431       -0.050047         -0.113419       -0.014431   \n",
       "\n",
       "      language_English  language_Español  language_Esperanto  \\\n",
       "0             0.413391         -0.133418           -0.014431   \n",
       "1             0.413391         -0.133418           -0.014431   \n",
       "...                ...               ...                 ...   \n",
       "4801          0.413391         -0.133418           -0.014431   \n",
       "4802          0.413391         -0.133418           -0.014431   \n",
       "\n",
       "      language_Français  language_Gaeilge  language_Galego  language_Hrvatski  \\\n",
       "0             -0.151668         -0.014431        -0.014431          -0.014431   \n",
       "1             -0.151668         -0.014431        -0.014431          -0.014431   \n",
       "...                 ...               ...              ...                ...   \n",
       "4801          -0.151668         -0.014431        -0.014431          -0.014431   \n",
       "4802          -0.151668         -0.014431        -0.014431          -0.014431   \n",
       "\n",
       "      language_Italiano  language_Kiswahili  language_Latin  language_Magyar  \\\n",
       "0             -0.081897              -0.025       -0.040846        -0.028871   \n",
       "1             -0.081897              -0.025       -0.040846        -0.028871   \n",
       "...                 ...                 ...             ...              ...   \n",
       "4801          -0.081897              -0.025       -0.040846        -0.028871   \n",
       "4802          -0.081897              -0.025       -0.040846        -0.028871   \n",
       "\n",
       "      language_Missing  language_Nederlands  language_No Language  \\\n",
       "0            -0.135026            -0.035366              -0.02041   \n",
       "1            -0.135026            -0.035366              -0.02041   \n",
       "...                ...                  ...                   ...   \n",
       "4801         -0.135026            -0.035366              -0.02041   \n",
       "4802         -0.135026            -0.035366              -0.02041   \n",
       "\n",
       "      language_Norsk  language_Polski  language_Português  language_Pусский  \\\n",
       "0          -0.028871           -0.025           -0.059599         -0.080599   \n",
       "1          -0.028871           -0.025           -0.059599         -0.080599   \n",
       "...              ...              ...                 ...               ...   \n",
       "4801       -0.028871           -0.025           -0.059599         -0.080599   \n",
       "4802       -0.028871           -0.025           -0.059599         -0.080599   \n",
       "\n",
       "      language_Română  language_Srpski  language_Tiếng Việt  language_shqip  \\\n",
       "0           -0.028871        -0.014431             -0.02041       -0.014431   \n",
       "1           -0.028871        -0.014431             -0.02041       -0.014431   \n",
       "...               ...              ...                  ...             ...   \n",
       "4801        -0.028871        -0.014431             -0.02041       -0.014431   \n",
       "4802        -0.028871        -0.014431             -0.02041       -0.014431   \n",
       "\n",
       "      language_svenska  language_Íslenska  language_Český  language_ελληνικά  \\\n",
       "0            -0.032282          -0.014431        -0.07928          -0.032282   \n",
       "1            -0.032282          -0.014431        -0.07928          -0.032282   \n",
       "...                ...                ...             ...                ...   \n",
       "4801         -0.032282          -0.014431        -0.07928          -0.032282   \n",
       "4802         -0.032282          -0.014431        -0.07928          -0.032282   \n",
       "\n",
       "      language_Український  language_български език  language_עִבְרִית  \\\n",
       "0                 -0.02041                -0.014431          -0.035366   \n",
       "1                 -0.02041                -0.014431          -0.035366   \n",
       "...                    ...                      ...                ...   \n",
       "4801              -0.02041                -0.014431          -0.035366   \n",
       "4802              -0.02041                -0.014431          -0.035366   \n",
       "\n",
       "      language_اردو  language_العربية  language_فارسی  language_हिन्दी  \\\n",
       "0         -0.014431         -0.083176          -0.025        -0.067835   \n",
       "1         -0.014431         -0.083176          -0.025        -0.067835   \n",
       "...             ...               ...             ...              ...   \n",
       "4801      -0.014431         -0.083176          -0.025        -0.067835   \n",
       "4802      -0.014431         -0.083176          -0.025        -0.067835   \n",
       "\n",
       "      language_বাংলা  language_தமிழ்  language_ภาษาไทย  language_广州话 / 廣州話  \\\n",
       "0          -0.014431        -0.02041         -0.028871           -0.076576   \n",
       "1          -0.014431        -0.02041         -0.028871           -0.076576   \n",
       "...              ...             ...               ...                 ...   \n",
       "4801       -0.014431        -0.02041         -0.028871           -0.076576   \n",
       "4802       -0.014431        -0.02041         -0.028871           -0.076576   \n",
       "\n",
       "      language_日本語  language_普通话  language_한국어/조선말  Success  \n",
       "0        -0.069367     -0.081897         -0.040846        1  \n",
       "1        -0.069367     -0.081897         -0.040846        1  \n",
       "...            ...           ...               ...      ...  \n",
       "4801     -0.069367     -0.081897         -0.040846        0  \n",
       "4802     -0.069367     -0.081897         -0.040846        0  \n",
       "\n",
       "[4803 rows x 64 columns]"
      ],
      "text/html": "<div>\n<style scoped>\n    .dataframe tbody tr th:only-of-type {\n        vertical-align: middle;\n    }\n\n    .dataframe tbody tr th {\n        vertical-align: top;\n    }\n\n    .dataframe thead th {\n        text-align: right;\n    }\n</style>\n<table border=\"1\" class=\"dataframe\">\n  <thead>\n    <tr style=\"text-align: right;\">\n      <th></th>\n      <th>budget</th>\n      <th>duration</th>\n      <th>country</th>\n      <th>company</th>\n      <th>director_name</th>\n      <th>actor_1_name</th>\n      <th>actor_2_name</th>\n      <th>actor_3_name</th>\n      <th>dayofrelease_Friday</th>\n      <th>dayofrelease_Monday</th>\n      <th>dayofrelease_Saturday</th>\n      <th>dayofrelease_Sunday</th>\n      <th>dayofrelease_Thursday</th>\n      <th>dayofrelease_Tuesday</th>\n      <th>dayofrelease_Wednesday</th>\n      <th>language_</th>\n      <th>language_??????</th>\n      <th>language_Afrikaans</th>\n      <th>language_Bahasa indonesia</th>\n      <th>language_Bosanski</th>\n      <th>language_Dansk</th>\n      <th>language_Deutsch</th>\n      <th>language_Eesti</th>\n      <th>language_English</th>\n      <th>language_Español</th>\n      <th>language_Esperanto</th>\n      <th>language_Français</th>\n      <th>language_Gaeilge</th>\n      <th>language_Galego</th>\n      <th>language_Hrvatski</th>\n      <th>language_Italiano</th>\n      <th>language_Kiswahili</th>\n      <th>language_Latin</th>\n      <th>language_Magyar</th>\n      <th>language_Missing</th>\n      <th>language_Nederlands</th>\n      <th>language_No Language</th>\n      <th>language_Norsk</th>\n      <th>language_Polski</th>\n      <th>language_Português</th>\n      <th>language_Pусский</th>\n      <th>language_Română</th>\n      <th>language_Srpski</th>\n      <th>language_Tiếng Việt</th>\n      <th>language_shqip</th>\n      <th>language_svenska</th>\n      <th>language_Íslenska</th>\n      <th>language_Český</th>\n      <th>language_ελληνικά</th>\n      <th>language_Український</th>\n      <th>language_български език</th>\n      <th>language_עִבְרִית</th>\n      <th>language_اردو</th>\n      <th>language_العربية</th>\n      <th>language_فارسی</th>\n      <th>language_हिन्दी</th>\n      <th>language_বাংলা</th>\n      <th>language_தமிழ்</th>\n      <th>language_ภาษาไทย</th>\n      <th>language_广州话 / 廣州話</th>\n      <th>language_日本語</th>\n      <th>language_普通话</th>\n      <th>language_한국어/조선말</th>\n      <th>Success</th>\n    </tr>\n  </thead>\n  <tbody>\n    <tr>\n      <th>0</th>\n      <td>5.107181</td>\n      <td>2.438596</td>\n      <td>0.566591</td>\n      <td>-0.404521</td>\n      <td>-0.477710</td>\n      <td>1.171365</td>\n      <td>1.746301</td>\n      <td>1.324216</td>\n      <td>-0.864029</td>\n      <td>-0.225798</td>\n      <td>-0.227828</td>\n      <td>-0.217527</td>\n      <td>2.059964</td>\n      <td>-0.280786</td>\n      <td>-0.445369</td>\n      <td>-0.050047</td>\n      <td>-0.014431</td>\n      <td>-0.032282</td>\n      <td>-0.014431</td>\n      <td>-0.014431</td>\n      <td>-0.050047</td>\n      <td>-0.113419</td>\n      <td>-0.014431</td>\n      <td>0.413391</td>\n      <td>-0.133418</td>\n      <td>-0.014431</td>\n      <td>-0.151668</td>\n      <td>-0.014431</td>\n      <td>-0.014431</td>\n      <td>-0.014431</td>\n      <td>-0.081897</td>\n      <td>-0.025</td>\n      <td>-0.040846</td>\n      <td>-0.028871</td>\n      <td>-0.135026</td>\n      <td>-0.035366</td>\n      <td>-0.02041</td>\n      <td>-0.028871</td>\n      <td>-0.025</td>\n      <td>-0.059599</td>\n      <td>-0.080599</td>\n      <td>-0.028871</td>\n      <td>-0.014431</td>\n      <td>-0.02041</td>\n      <td>-0.014431</td>\n      <td>-0.032282</td>\n      <td>-0.014431</td>\n      <td>-0.07928</td>\n      <td>-0.032282</td>\n      <td>-0.02041</td>\n      <td>-0.014431</td>\n      <td>-0.035366</td>\n      <td>-0.014431</td>\n      <td>-0.083176</td>\n      <td>-0.025</td>\n      <td>-0.067835</td>\n      <td>-0.014431</td>\n      <td>-0.02041</td>\n      <td>-0.028871</td>\n      <td>-0.076576</td>\n      <td>-0.069367</td>\n      <td>-0.081897</td>\n      <td>-0.040846</td>\n      <td>1</td>\n    </tr>\n    <tr>\n      <th>1</th>\n      <td>6.654402</td>\n      <td>2.748263</td>\n      <td>0.566591</td>\n      <td>1.329514</td>\n      <td>-0.647522</td>\n      <td>-0.108215</td>\n      <td>0.850469</td>\n      <td>0.138410</td>\n      <td>-0.864029</td>\n      <td>-0.225798</td>\n      <td>4.389285</td>\n      <td>-0.217527</td>\n      <td>-0.485445</td>\n      <td>-0.280786</td>\n      <td>-0.445369</td>\n      <td>-0.050047</td>\n      <td>-0.014431</td>\n      <td>-0.032282</td>\n      <td>-0.014431</td>\n      <td>-0.014431</td>\n      <td>-0.050047</td>\n      <td>-0.113419</td>\n      <td>-0.014431</td>\n      <td>0.413391</td>\n      <td>-0.133418</td>\n      <td>-0.014431</td>\n      <td>-0.151668</td>\n      <td>-0.014431</td>\n      <td>-0.014431</td>\n      <td>-0.014431</td>\n      <td>-0.081897</td>\n      <td>-0.025</td>\n      <td>-0.040846</td>\n      <td>-0.028871</td>\n      <td>-0.135026</td>\n      <td>-0.035366</td>\n      <td>-0.02041</td>\n      <td>-0.028871</td>\n      <td>-0.025</td>\n      <td>-0.059599</td>\n      <td>-0.080599</td>\n      <td>-0.028871</td>\n      <td>-0.014431</td>\n      <td>-0.02041</td>\n      <td>-0.014431</td>\n      <td>-0.032282</td>\n      <td>-0.014431</td>\n      <td>-0.07928</td>\n      <td>-0.032282</td>\n      <td>-0.02041</td>\n      <td>-0.014431</td>\n      <td>-0.035366</td>\n      <td>-0.014431</td>\n      <td>-0.083176</td>\n      <td>-0.025</td>\n      <td>-0.067835</td>\n      <td>-0.014431</td>\n      <td>-0.02041</td>\n      <td>-0.028871</td>\n      <td>-0.076576</td>\n      <td>-0.069367</td>\n      <td>-0.081897</td>\n      <td>-0.040846</td>\n      <td>1</td>\n    </tr>\n    <tr>\n      <th>...</th>\n      <td>...</td>\n      <td>...</td>\n      <td>...</td>\n      <td>...</td>\n      <td>...</td>\n      <td>...</td>\n      <td>...</td>\n      <td>...</td>\n      <td>...</td>\n      <td>...</td>\n      <td>...</td>\n      <td>...</td>\n      <td>...</td>\n      <td>...</td>\n      <td>...</td>\n      <td>...</td>\n      <td>...</td>\n      <td>...</td>\n      <td>...</td>\n      <td>...</td>\n      <td>...</td>\n      <td>...</td>\n      <td>...</td>\n      <td>...</td>\n      <td>...</td>\n      <td>...</td>\n      <td>...</td>\n      <td>...</td>\n      <td>...</td>\n      <td>...</td>\n      <td>...</td>\n      <td>...</td>\n      <td>...</td>\n      <td>...</td>\n      <td>...</td>\n      <td>...</td>\n      <td>...</td>\n      <td>...</td>\n      <td>...</td>\n      <td>...</td>\n      <td>...</td>\n      <td>...</td>\n      <td>...</td>\n      <td>...</td>\n      <td>...</td>\n      <td>...</td>\n      <td>...</td>\n      <td>...</td>\n      <td>...</td>\n      <td>...</td>\n      <td>...</td>\n      <td>...</td>\n      <td>...</td>\n      <td>...</td>\n      <td>...</td>\n      <td>...</td>\n      <td>...</td>\n      <td>...</td>\n      <td>...</td>\n      <td>...</td>\n      <td>...</td>\n      <td>...</td>\n      <td>...</td>\n      <td>...</td>\n    </tr>\n    <tr>\n      <th>4801</th>\n      <td>-0.713319</td>\n      <td>-0.392652</td>\n      <td>0.566591</td>\n      <td>0.075220</td>\n      <td>-1.130605</td>\n      <td>-1.023389</td>\n      <td>-0.784617</td>\n      <td>-1.410697</td>\n      <td>-0.864029</td>\n      <td>-0.225798</td>\n      <td>-0.227828</td>\n      <td>-0.217527</td>\n      <td>2.059964</td>\n      <td>-0.280786</td>\n      <td>-0.445369</td>\n      <td>-0.050047</td>\n      <td>-0.014431</td>\n      <td>-0.032282</td>\n      <td>-0.014431</td>\n      <td>-0.014431</td>\n      <td>-0.050047</td>\n      <td>-0.113419</td>\n      <td>-0.014431</td>\n      <td>0.413391</td>\n      <td>-0.133418</td>\n      <td>-0.014431</td>\n      <td>-0.151668</td>\n      <td>-0.014431</td>\n      <td>-0.014431</td>\n      <td>-0.014431</td>\n      <td>-0.081897</td>\n      <td>-0.025</td>\n      <td>-0.040846</td>\n      <td>-0.028871</td>\n      <td>-0.135026</td>\n      <td>-0.035366</td>\n      <td>-0.02041</td>\n      <td>-0.028871</td>\n      <td>-0.025</td>\n      <td>-0.059599</td>\n      <td>-0.080599</td>\n      <td>-0.028871</td>\n      <td>-0.014431</td>\n      <td>-0.02041</td>\n      <td>-0.014431</td>\n      <td>-0.032282</td>\n      <td>-0.014431</td>\n      <td>-0.07928</td>\n      <td>-0.032282</td>\n      <td>-0.02041</td>\n      <td>-0.014431</td>\n      <td>-0.035366</td>\n      <td>-0.014431</td>\n      <td>-0.083176</td>\n      <td>-0.025</td>\n      <td>-0.067835</td>\n      <td>-0.014431</td>\n      <td>-0.02041</td>\n      <td>-0.028871</td>\n      <td>-0.076576</td>\n      <td>-0.069367</td>\n      <td>-0.081897</td>\n      <td>-0.040846</td>\n      <td>0</td>\n    </tr>\n    <tr>\n      <th>4802</th>\n      <td>-0.713319</td>\n      <td>-0.746559</td>\n      <td>0.566591</td>\n      <td>1.476921</td>\n      <td>-1.408744</td>\n      <td>-0.876962</td>\n      <td>-1.360876</td>\n      <td>-1.090270</td>\n      <td>1.157369</td>\n      <td>-0.225798</td>\n      <td>-0.227828</td>\n      <td>-0.217527</td>\n      <td>-0.485445</td>\n      <td>-0.280786</td>\n      <td>-0.445369</td>\n      <td>-0.050047</td>\n      <td>-0.014431</td>\n      <td>-0.032282</td>\n      <td>-0.014431</td>\n      <td>-0.014431</td>\n      <td>-0.050047</td>\n      <td>-0.113419</td>\n      <td>-0.014431</td>\n      <td>0.413391</td>\n      <td>-0.133418</td>\n      <td>-0.014431</td>\n      <td>-0.151668</td>\n      <td>-0.014431</td>\n      <td>-0.014431</td>\n      <td>-0.014431</td>\n      <td>-0.081897</td>\n      <td>-0.025</td>\n      <td>-0.040846</td>\n      <td>-0.028871</td>\n      <td>-0.135026</td>\n      <td>-0.035366</td>\n      <td>-0.02041</td>\n      <td>-0.028871</td>\n      <td>-0.025</td>\n      <td>-0.059599</td>\n      <td>-0.080599</td>\n      <td>-0.028871</td>\n      <td>-0.014431</td>\n      <td>-0.02041</td>\n      <td>-0.014431</td>\n      <td>-0.032282</td>\n      <td>-0.014431</td>\n      <td>-0.07928</td>\n      <td>-0.032282</td>\n      <td>-0.02041</td>\n      <td>-0.014431</td>\n      <td>-0.035366</td>\n      <td>-0.014431</td>\n      <td>-0.083176</td>\n      <td>-0.025</td>\n      <td>-0.067835</td>\n      <td>-0.014431</td>\n      <td>-0.02041</td>\n      <td>-0.028871</td>\n      <td>-0.076576</td>\n      <td>-0.069367</td>\n      <td>-0.081897</td>\n      <td>-0.040846</td>\n      <td>0</td>\n    </tr>\n  </tbody>\n</table>\n<p>4803 rows × 64 columns</p>\n</div>"
     },
     "metadata": {},
     "execution_count": 23
    }
   ],
   "source": [
    "rf_data['Success'] = np.where(df['popularity'] >= df['popularity'].mean(), 1,0)\n",
    "# knn_data.drop(columns =['standardised_popularity'], inplace= True)\n",
    "rf_data"
   ]
  },
  {
   "cell_type": "code",
   "execution_count": 24,
   "metadata": {},
   "outputs": [
    {
     "output_type": "execute_result",
     "data": {
      "text/plain": [
       "array([[ 5.10718073,  2.43859561,  0.56659144, ..., -0.06936653,\n",
       "        -0.08189743, -0.04084611],\n",
       "       [ 6.65440223,  2.74826337,  0.56659144, ..., -0.06936653,\n",
       "        -0.08189743, -0.04084611],\n",
       "       [ 5.3036533 ,  1.81926009,  0.51796572, ..., -0.06936653,\n",
       "        -0.08189743, -0.04084611],\n",
       "       ...,\n",
       "       [-0.71331921,  0.58058904,  0.56659144, ..., -0.06936653,\n",
       "        -0.08189743, -0.04084611],\n",
       "       [-0.71331921, -0.39265249,  0.56659144, ..., -0.06936653,\n",
       "        -0.08189743, -0.04084611],\n",
       "       [-0.71331921, -0.7465585 ,  0.56659144, ..., -0.06936653,\n",
       "        -0.08189743, -0.04084611]])"
      ]
     },
     "metadata": {},
     "execution_count": 24
    }
   ],
   "source": [
    "rf_X = rf_data.iloc[:,:-1].values\n",
    "rf_y = rf_data.iloc[:,63].values\n",
    "rf_X"
   ]
  },
  {
   "source": [
    "pca = PCA(n_components = 9)\n",
    "rf_X = pca.fit_transform(rf_X)\n",
    "rf_X"
   ],
   "cell_type": "code",
   "metadata": {},
   "execution_count": 25,
   "outputs": [
    {
     "output_type": "execute_result",
     "data": {
      "text/plain": [
       "array([[-7.92456217e-01, -3.66585669e+00,  5.28298805e-01, ...,\n",
       "         4.09363543e-01, -9.97857998e-01,  1.45640939e-02],\n",
       "       [-1.00416709e+00, -4.16281391e+00,  1.58760152e+00, ...,\n",
       "         1.76352407e+00, -1.98945044e+00, -1.36516074e-01],\n",
       "       [ 2.92993012e+00, -3.59913230e+00,  2.39664666e+00, ...,\n",
       "        -5.80378593e-01, -3.52661853e-01, -4.88798949e-01],\n",
       "       ...,\n",
       "       [ 2.81670743e-03,  1.62147117e-03, -1.12281794e+00, ...,\n",
       "         7.54015287e-02, -7.07461746e-01,  1.88059196e+00],\n",
       "       [-5.12681923e-01, -7.41095691e-01, -1.42875353e+00, ...,\n",
       "         6.25490563e-01,  5.14499696e-01,  1.31979906e-01],\n",
       "       [-1.11034233e+00,  1.13873725e+00,  4.54613970e-01, ...,\n",
       "         8.14725038e-01,  4.49884135e-01,  4.76755420e-01]])"
      ]
     },
     "metadata": {},
     "execution_count": 25
    }
   ]
  },
  {
   "cell_type": "code",
   "execution_count": 26,
   "metadata": {},
   "outputs": [],
   "source": [
    "rfX_train, rfX_test, rfy_train, rfy_test = train_test_split(rf_X, rf_y, test_size=0.30)"
   ]
  },
  {
   "cell_type": "code",
   "execution_count": 27,
   "metadata": {
    "tags": []
   },
   "outputs": [
    {
     "output_type": "execute_result",
     "data": {
      "text/plain": [
       "RandomForestClassifier(n_estimators=85)"
      ]
     },
     "metadata": {},
     "execution_count": 27
    }
   ],
   "source": [
    "classifier = RandomForestClassifier(n_estimators=85)\n",
    "classifier.fit(rfX_train, rfy_train)\n"
   ]
  },
  {
   "cell_type": "code",
   "execution_count": 28,
   "metadata": {},
   "outputs": [],
   "source": [
    "y_pred = classifier.predict(rfX_test)"
   ]
  },
  {
   "cell_type": "code",
   "execution_count": 29,
   "metadata": {},
   "outputs": [
    {
     "output_type": "execute_result",
     "data": {
      "text/plain": [
       "72.93546148507981"
      ]
     },
     "metadata": {},
     "execution_count": 29
    }
   ],
   "source": [
    "classifier.score(rfX_test, rfy_test)*100"
   ]
  },
  {
   "cell_type": "code",
   "execution_count": 30,
   "metadata": {},
   "outputs": [],
   "source": [
    "# dump(classifier, 'RandomForest.joblib')"
   ]
  },
  {
   "cell_type": "code",
   "execution_count": null,
   "metadata": {},
   "outputs": [],
   "source": []
  }
 ]
}