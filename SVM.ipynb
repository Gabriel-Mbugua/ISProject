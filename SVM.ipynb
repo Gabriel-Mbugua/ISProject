{
 "metadata": {
  "language_info": {
   "codemirror_mode": {
    "name": "ipython",
    "version": 3
   },
   "file_extension": ".py",
   "mimetype": "text/x-python",
   "name": "python",
   "nbconvert_exporter": "python",
   "pygments_lexer": "ipython3",
   "version": "3.8.5-final"
  },
  "orig_nbformat": 2,
  "kernelspec": {
   "name": "Python 3.8.5 64-bit ('Learning')",
   "display_name": "Python 3.8.5 64-bit ('Learning')",
   "metadata": {
    "interpreter": {
     "hash": "9624b2dbd29e598c140b2be3e302c67bb50a70b1345cf5774e5e63454561329a"
    }
   }
  }
 },
 "nbformat": 4,
 "nbformat_minor": 2,
 "cells": [
  {
   "cell_type": "code",
   "execution_count": 45,
   "metadata": {},
   "outputs": [],
   "source": [
    "import json\n",
    "import pandas as pd\n",
    "import numpy as np\n",
    "import json\n",
    "import seaborn as sns\n",
    "import datetime\n",
    "import matplotlib.pyplot as plt\n",
    "from joblib import dump, load\n",
    "from sklearn.preprocessing import StandardScaler\n",
    "from sklearn.preprocessing import StandardScaler, PowerTransformer\n",
    "from sklearn.decomposition import PCA\n",
    "from sklearn.model_selection import train_test_split\n",
    "from sklearn import svm\n",
    "from sklearn.preprocessing import StandardScaler\n",
    "from mlxtend.plotting import plot_decision_regions"
   ]
  },
  {
   "cell_type": "code",
   "execution_count": 46,
   "metadata": {},
   "outputs": [],
   "source": [
    "def load_tmdb_movies(path):\n",
    "    df = pd.read_csv(path, parse_dates=['release_date'])\n",
    "    df['release_date'] = pd.to_datetime(df['release_date']).apply(lambda x: x.date())\n",
    "    json_columns = ['genres', 'keywords', 'production_countries', 'production_companies', 'spoken_languages']\n",
    "    for column in json_columns:\n",
    "        df[column] = df[column].apply(json.loads)\n",
    "    return df"
   ]
  },
  {
   "cell_type": "code",
   "execution_count": 47,
   "metadata": {},
   "outputs": [],
   "source": [
    "def load_tmdb_credits(path):\n",
    "    df = pd.read_csv(path)\n",
    "    json_columns = ['cast', 'crew']\n",
    "    for column in json_columns:\n",
    "        df[column] = df[column].apply(json.loads)\n",
    "    return df"
   ]
  },
  {
   "cell_type": "code",
   "execution_count": 48,
   "metadata": {},
   "outputs": [],
   "source": [
    "LOST_COLUMNS = [\n",
    "    'actor_1_facebook_likes',\n",
    "    'actor_2_facebook_likes',\n",
    "    'actor_3_facebook_likes',\n",
    "    'aspect_ratio',\n",
    "    'cast_total_facebook_likes',\n",
    "    'color',\n",
    "    'content_rating',\n",
    "    'director_facebook_likes',\n",
    "    'facenumber_in_poster',\n",
    "    'movie_facebook_likes',\n",
    "    'movie_imdb_link',\n",
    "    'num_critic_for_reviews',\n",
    "    'num_user_for_reviews'\n",
    "                ]"
   ]
  },
  {
   "cell_type": "code",
   "execution_count": 49,
   "metadata": {},
   "outputs": [],
   "source": [
    "TMDB_TO_IMDB_SIMPLE_EQUIVALENCIES = {\n",
    "    'budget': 'budget',\n",
    "    'genres': 'genres',\n",
    "    'revenue': 'gross',\n",
    "    'title': 'movie_title',\n",
    "    'runtime': 'duration',\n",
    "    'original_language': 'language',  # it's possible that spoken_languages would be a better match\n",
    "    'keywords': 'plot_keywords',\n",
    "    'vote_count': 'num_voted_users',\n",
    "                                         }\n",
    "\n",
    "IMDB_COLUMNS_TO_REMAP = {'imdb_score': 'vote_average'}"
   ]
  },
  {
   "cell_type": "code",
   "execution_count": 50,
   "metadata": {},
   "outputs": [],
   "source": [
    "def safe_access(container, index_values):\n",
    "    # return a missing value rather than an error upon indexing/key failure\n",
    "    result = container\n",
    "    try:\n",
    "        for idx in index_values:\n",
    "            result = result[idx]\n",
    "        return result\n",
    "    except IndexError or KeyError:\n",
    "        return pd.np.nan"
   ]
  },
  {
   "cell_type": "code",
   "execution_count": 51,
   "metadata": {},
   "outputs": [],
   "source": [
    "def get_director(crew_data):\n",
    "    directors = [x['name'] for x in crew_data if x['job'] == 'Director']\n",
    "    return safe_access(directors, [0])"
   ]
  },
  {
   "cell_type": "code",
   "execution_count": 52,
   "metadata": {},
   "outputs": [],
   "source": [
    "def pipe_flatten_names(keywords):\n",
    "    return '|'.join([x['name'] for x in keywords])"
   ]
  },
  {
   "cell_type": "code",
   "execution_count": 53,
   "metadata": {},
   "outputs": [],
   "source": [
    "def convert_to_original_format(movies, credits):\n",
    "    # Converts TMDb data to make it as compatible as possible with kernels built on the original version of the data.\n",
    "    tmdb_movies = movies.copy()\n",
    "    tmdb_movies.rename(columns=TMDB_TO_IMDB_SIMPLE_EQUIVALENCIES, inplace=True)\n",
    "    tmdb_movies['title_year'] = pd.to_datetime(tmdb_movies['release_date']).apply(lambda x: x.year)\n",
    "    # I'm assuming that the first production country is equivalent, but have not been able to validate this\n",
    "    tmdb_movies['country'] = tmdb_movies['production_countries'].apply(lambda x: safe_access(x, [0, 'name']))\n",
    "    tmdb_movies['company'] = tmdb_movies['production_companies'].apply(lambda x: safe_access(x, [0, 'name']))\n",
    "    tmdb_movies['language'] = tmdb_movies['spoken_languages'].apply(lambda x: safe_access(x, [0, 'name']))\n",
    "    # tmdb_movies['production_companies'] = tmdb_movies['production_companies'].apply(lambda x: safe_access(x, [0, 'name']))\n",
    "    tmdb_movies['director_name'] = credits['crew'].apply(get_director)\n",
    "    tmdb_movies['actor_1_name'] = credits['cast'].apply(lambda x: safe_access(x, [0, 'name']))\n",
    "    tmdb_movies['actor_2_name'] = credits['cast'].apply(lambda x: safe_access(x, [1, 'name']))\n",
    "    tmdb_movies['actor_3_name'] = credits['cast'].apply(lambda x: safe_access(x, [2, 'name']))\n",
    "    tmdb_movies['genres'] = tmdb_movies['genres'].apply(pipe_flatten_names)\n",
    "    tmdb_movies['plot_keywords'] = tmdb_movies['plot_keywords'].apply(pipe_flatten_names)\n",
    "    return tmdb_movies"
   ]
  },
  {
   "cell_type": "code",
   "execution_count": 54,
   "metadata": {
    "tags": []
   },
   "outputs": [
    {
     "output_type": "execute_result",
     "data": {
      "text/plain": "         budget                                    genres  \\\n0     237000000  Action|Adventure|Fantasy|Science Fiction   \n1     300000000                  Adventure|Fantasy|Action   \n...         ...                                       ...   \n4801          0                                             \n4802          0                               Documentary   \n\n                                          homepage      id  \\\n0                      http://www.avatarmovie.com/   19995   \n1     http://disney.go.com/disneypictures/pirates/     285   \n...                                            ...     ...   \n4801                   http://shanghaicalling.com/  126186   \n4802                                           NaN   25975   \n\n                                          plot_keywords language  \\\n0     culture clash|future|space war|space colony|so...  English   \n1     ocean|drug abuse|exotic island|east india trad...  English   \n...                                                 ...      ...   \n4801                                                     English   \n4802               obsession|camcorder|crush|dream girl  English   \n\n                                original_title  \\\n0                                       Avatar   \n1     Pirates of the Caribbean: At World's End   \n...                                        ...   \n4801                          Shanghai Calling   \n4802                         My Date with Drew   \n\n                                               overview  popularity  \\\n0     In the 22nd century, a paraplegic Marine is di...  150.437577   \n1     Captain Barbossa, long believed to be dead, ha...  139.082615   \n...                                                 ...         ...   \n4801  When ambitious New York attorney Sam is sent t...    0.857008   \n4802  Ever since the second grade when he first saw ...    1.929883   \n\n                                   production_companies  \\\n0     [{'name': 'Ingenious Film Partners', 'id': 289...   \n1     [{'name': 'Walt Disney Pictures', 'id': 2}, {'...   \n...                                                 ...   \n4801                                                 []   \n4802  [{'name': 'rusty bear entertainment', 'id': 87...   \n\n                                   production_countries release_date  \\\n0     [{'iso_3166_1': 'US', 'name': 'United States o...   2009-12-10   \n1     [{'iso_3166_1': 'US', 'name': 'United States o...   2007-05-19   \n...                                                 ...          ...   \n4801  [{'iso_3166_1': 'US', 'name': 'United States o...   2012-05-03   \n4802  [{'iso_3166_1': 'US', 'name': 'United States o...   2005-08-05   \n\n           gross  duration                                   spoken_languages  \\\n0     2787965087     162.0  [{'iso_639_1': 'en', 'name': 'English'}, {'iso...   \n1      961000000     169.0           [{'iso_639_1': 'en', 'name': 'English'}]   \n...          ...       ...                                                ...   \n4801           0      98.0           [{'iso_639_1': 'en', 'name': 'English'}]   \n4802           0      90.0           [{'iso_639_1': 'en', 'name': 'English'}]   \n\n        status                                         tagline  \\\n0     Released                     Enter the World of Pandora.   \n1     Released  At the end of the world, the adventure begins.   \n...        ...                                             ...   \n4801  Released                        A New Yorker in Shanghai   \n4802  Released                                             NaN   \n\n                                   movie_title  vote_average  num_voted_users  \\\n0                                       Avatar           7.2            11800   \n1     Pirates of the Caribbean: At World's End           6.9             4500   \n...                                        ...           ...              ...   \n4801                          Shanghai Calling           5.7                7   \n4802                         My Date with Drew           6.3               16   \n\n      title_year                   country                   company  \\\n0         2009.0  United States of America   Ingenious Film Partners   \n1         2007.0  United States of America      Walt Disney Pictures   \n...          ...                       ...                       ...   \n4801      2012.0  United States of America                       NaN   \n4802      2005.0  United States of America  rusty bear entertainment   \n\n         director_name     actor_1_name      actor_2_name      actor_3_name  \n0        James Cameron  Sam Worthington       Zoe Saldana  Sigourney Weaver  \n1       Gore Verbinski      Johnny Depp     Orlando Bloom   Keira Knightley  \n...                ...              ...               ...               ...  \n4801       Daniel Hsia    Daniel Henney       Eliza Coupe       Bill Paxton  \n4802  Brian Herzlinger   Drew Barrymore  Brian Herzlinger     Corey Feldman  \n\n[4803 rows x 27 columns]",
      "text/html": "<div>\n<style scoped>\n    .dataframe tbody tr th:only-of-type {\n        vertical-align: middle;\n    }\n\n    .dataframe tbody tr th {\n        vertical-align: top;\n    }\n\n    .dataframe thead th {\n        text-align: right;\n    }\n</style>\n<table border=\"1\" class=\"dataframe\">\n  <thead>\n    <tr style=\"text-align: right;\">\n      <th></th>\n      <th>budget</th>\n      <th>genres</th>\n      <th>homepage</th>\n      <th>id</th>\n      <th>plot_keywords</th>\n      <th>language</th>\n      <th>original_title</th>\n      <th>overview</th>\n      <th>popularity</th>\n      <th>production_companies</th>\n      <th>production_countries</th>\n      <th>release_date</th>\n      <th>gross</th>\n      <th>duration</th>\n      <th>spoken_languages</th>\n      <th>status</th>\n      <th>tagline</th>\n      <th>movie_title</th>\n      <th>vote_average</th>\n      <th>num_voted_users</th>\n      <th>title_year</th>\n      <th>country</th>\n      <th>company</th>\n      <th>director_name</th>\n      <th>actor_1_name</th>\n      <th>actor_2_name</th>\n      <th>actor_3_name</th>\n    </tr>\n  </thead>\n  <tbody>\n    <tr>\n      <th>0</th>\n      <td>237000000</td>\n      <td>Action|Adventure|Fantasy|Science Fiction</td>\n      <td>http://www.avatarmovie.com/</td>\n      <td>19995</td>\n      <td>culture clash|future|space war|space colony|so...</td>\n      <td>English</td>\n      <td>Avatar</td>\n      <td>In the 22nd century, a paraplegic Marine is di...</td>\n      <td>150.437577</td>\n      <td>[{'name': 'Ingenious Film Partners', 'id': 289...</td>\n      <td>[{'iso_3166_1': 'US', 'name': 'United States o...</td>\n      <td>2009-12-10</td>\n      <td>2787965087</td>\n      <td>162.0</td>\n      <td>[{'iso_639_1': 'en', 'name': 'English'}, {'iso...</td>\n      <td>Released</td>\n      <td>Enter the World of Pandora.</td>\n      <td>Avatar</td>\n      <td>7.2</td>\n      <td>11800</td>\n      <td>2009.0</td>\n      <td>United States of America</td>\n      <td>Ingenious Film Partners</td>\n      <td>James Cameron</td>\n      <td>Sam Worthington</td>\n      <td>Zoe Saldana</td>\n      <td>Sigourney Weaver</td>\n    </tr>\n    <tr>\n      <th>1</th>\n      <td>300000000</td>\n      <td>Adventure|Fantasy|Action</td>\n      <td>http://disney.go.com/disneypictures/pirates/</td>\n      <td>285</td>\n      <td>ocean|drug abuse|exotic island|east india trad...</td>\n      <td>English</td>\n      <td>Pirates of the Caribbean: At World's End</td>\n      <td>Captain Barbossa, long believed to be dead, ha...</td>\n      <td>139.082615</td>\n      <td>[{'name': 'Walt Disney Pictures', 'id': 2}, {'...</td>\n      <td>[{'iso_3166_1': 'US', 'name': 'United States o...</td>\n      <td>2007-05-19</td>\n      <td>961000000</td>\n      <td>169.0</td>\n      <td>[{'iso_639_1': 'en', 'name': 'English'}]</td>\n      <td>Released</td>\n      <td>At the end of the world, the adventure begins.</td>\n      <td>Pirates of the Caribbean: At World's End</td>\n      <td>6.9</td>\n      <td>4500</td>\n      <td>2007.0</td>\n      <td>United States of America</td>\n      <td>Walt Disney Pictures</td>\n      <td>Gore Verbinski</td>\n      <td>Johnny Depp</td>\n      <td>Orlando Bloom</td>\n      <td>Keira Knightley</td>\n    </tr>\n    <tr>\n      <th>...</th>\n      <td>...</td>\n      <td>...</td>\n      <td>...</td>\n      <td>...</td>\n      <td>...</td>\n      <td>...</td>\n      <td>...</td>\n      <td>...</td>\n      <td>...</td>\n      <td>...</td>\n      <td>...</td>\n      <td>...</td>\n      <td>...</td>\n      <td>...</td>\n      <td>...</td>\n      <td>...</td>\n      <td>...</td>\n      <td>...</td>\n      <td>...</td>\n      <td>...</td>\n      <td>...</td>\n      <td>...</td>\n      <td>...</td>\n      <td>...</td>\n      <td>...</td>\n      <td>...</td>\n      <td>...</td>\n    </tr>\n    <tr>\n      <th>4801</th>\n      <td>0</td>\n      <td></td>\n      <td>http://shanghaicalling.com/</td>\n      <td>126186</td>\n      <td></td>\n      <td>English</td>\n      <td>Shanghai Calling</td>\n      <td>When ambitious New York attorney Sam is sent t...</td>\n      <td>0.857008</td>\n      <td>[]</td>\n      <td>[{'iso_3166_1': 'US', 'name': 'United States o...</td>\n      <td>2012-05-03</td>\n      <td>0</td>\n      <td>98.0</td>\n      <td>[{'iso_639_1': 'en', 'name': 'English'}]</td>\n      <td>Released</td>\n      <td>A New Yorker in Shanghai</td>\n      <td>Shanghai Calling</td>\n      <td>5.7</td>\n      <td>7</td>\n      <td>2012.0</td>\n      <td>United States of America</td>\n      <td>NaN</td>\n      <td>Daniel Hsia</td>\n      <td>Daniel Henney</td>\n      <td>Eliza Coupe</td>\n      <td>Bill Paxton</td>\n    </tr>\n    <tr>\n      <th>4802</th>\n      <td>0</td>\n      <td>Documentary</td>\n      <td>NaN</td>\n      <td>25975</td>\n      <td>obsession|camcorder|crush|dream girl</td>\n      <td>English</td>\n      <td>My Date with Drew</td>\n      <td>Ever since the second grade when he first saw ...</td>\n      <td>1.929883</td>\n      <td>[{'name': 'rusty bear entertainment', 'id': 87...</td>\n      <td>[{'iso_3166_1': 'US', 'name': 'United States o...</td>\n      <td>2005-08-05</td>\n      <td>0</td>\n      <td>90.0</td>\n      <td>[{'iso_639_1': 'en', 'name': 'English'}]</td>\n      <td>Released</td>\n      <td>NaN</td>\n      <td>My Date with Drew</td>\n      <td>6.3</td>\n      <td>16</td>\n      <td>2005.0</td>\n      <td>United States of America</td>\n      <td>rusty bear entertainment</td>\n      <td>Brian Herzlinger</td>\n      <td>Drew Barrymore</td>\n      <td>Brian Herzlinger</td>\n      <td>Corey Feldman</td>\n    </tr>\n  </tbody>\n</table>\n<p>4803 rows × 27 columns</p>\n</div>"
     },
     "metadata": {},
     "execution_count": 54
    }
   ],
   "source": [
    "movies = load_tmdb_movies(\"Data/Original/tmdb_5000_movies.csv\")\n",
    "credits = load_tmdb_credits(\"Data/tmdb_5000_credits.csv\")\n",
    "original_format = convert_to_original_format(movies, credits)\n",
    "pd.set_option('display.max_columns', None)\n",
    "pd.set_option('display.max_rows', 5)\n",
    "original_format"
   ]
  },
  {
   "cell_type": "code",
   "execution_count": 55,
   "metadata": {},
   "outputs": [
    {
     "output_type": "execute_result",
     "data": {
      "text/plain": "Index(['budget', 'language', 'popularity', 'release_date', 'duration',\n       'country', 'company', 'director_name', 'actor_1_name', 'actor_2_name',\n       'actor_3_name'],\n      dtype='object')"
     },
     "metadata": {},
     "execution_count": 55
    }
   ],
   "source": [
    "df = original_format.copy()\n",
    "features_to_remove =['id','original_title','overview', 'movie_title', 'homepage', 'status' , 'plot_keywords', 'spoken_languages', 'gross', 'title_year', 'production_countries','production_companies','tagline', 'vote_average','num_voted_users', 'genres']\n",
    "df.drop(features_to_remove, axis = 1, inplace= True)\n",
    "df.columns"
   ]
  },
  {
   "cell_type": "code",
   "execution_count": 56,
   "metadata": {
    "tags": []
   },
   "outputs": [
    {
     "output_type": "stream",
     "name": "stdout",
     "text": "language : 1.7905475744326462\nrelease_date : 0.020820320632937747\nduration : 0.041640641265875494\ncountry : 3.622735790131168\ncompany : 7.30793254216115\ndirector_name : 0.6246096189881324\nactor_1_name : 0.8952737872163231\nactor_2_name : 1.1034769935457007\nactor_3_name : 1.311680199875078\n"
    }
   ],
   "source": [
    "replace_with_zero = ['duration','title_year']\n",
    "\n",
    "missing_val_cols = list(df.columns[df.isna().any()])\n",
    "for col in missing_val_cols:\n",
    "  if col not in replace_with_zero:\n",
    "    miss_percentage = ((df[col].isna().sum())/4803) * 100 \n",
    "    print(f'{col} : {str(miss_percentage)}')\n",
    "    df[col].fillna('Missing', inplace=True)\n",
    "  else:\n",
    "    miss_percentage = ((df[col].isna().sum())/4803) * 100 \n",
    "    print(f'{col} : {str(miss_percentage)}')\n",
    "    df[col].fillna(df[col].mean(), inplace=True)"
   ]
  },
  {
   "cell_type": "code",
   "execution_count": 57,
   "metadata": {},
   "outputs": [
    {
     "output_type": "execute_result",
     "data": {
      "text/plain": "      budget  language  popularity  duration                   country  \\\n0  237000000   English  150.437577     162.0  United States of America   \n1  300000000   English  139.082615     169.0  United States of America   \n2  245000000  Français  107.376788     148.0            United Kingdom   \n\n                   company   director_name     actor_1_name     actor_2_name  \\\n0  Ingenious Film Partners   James Cameron  Sam Worthington      Zoe Saldana   \n1     Walt Disney Pictures  Gore Verbinski      Johnny Depp    Orlando Bloom   \n2        Columbia Pictures      Sam Mendes     Daniel Craig  Christoph Waltz   \n\n       actor_3_name dayofrelease  \n0  Sigourney Weaver     Thursday  \n1   Keira Knightley     Saturday  \n2       Léa Seydoux       Monday  ",
      "text/html": "<div>\n<style scoped>\n    .dataframe tbody tr th:only-of-type {\n        vertical-align: middle;\n    }\n\n    .dataframe tbody tr th {\n        vertical-align: top;\n    }\n\n    .dataframe thead th {\n        text-align: right;\n    }\n</style>\n<table border=\"1\" class=\"dataframe\">\n  <thead>\n    <tr style=\"text-align: right;\">\n      <th></th>\n      <th>budget</th>\n      <th>language</th>\n      <th>popularity</th>\n      <th>duration</th>\n      <th>country</th>\n      <th>company</th>\n      <th>director_name</th>\n      <th>actor_1_name</th>\n      <th>actor_2_name</th>\n      <th>actor_3_name</th>\n      <th>dayofrelease</th>\n    </tr>\n  </thead>\n  <tbody>\n    <tr>\n      <th>0</th>\n      <td>237000000</td>\n      <td>English</td>\n      <td>150.437577</td>\n      <td>162.0</td>\n      <td>United States of America</td>\n      <td>Ingenious Film Partners</td>\n      <td>James Cameron</td>\n      <td>Sam Worthington</td>\n      <td>Zoe Saldana</td>\n      <td>Sigourney Weaver</td>\n      <td>Thursday</td>\n    </tr>\n    <tr>\n      <th>1</th>\n      <td>300000000</td>\n      <td>English</td>\n      <td>139.082615</td>\n      <td>169.0</td>\n      <td>United States of America</td>\n      <td>Walt Disney Pictures</td>\n      <td>Gore Verbinski</td>\n      <td>Johnny Depp</td>\n      <td>Orlando Bloom</td>\n      <td>Keira Knightley</td>\n      <td>Saturday</td>\n    </tr>\n    <tr>\n      <th>2</th>\n      <td>245000000</td>\n      <td>Français</td>\n      <td>107.376788</td>\n      <td>148.0</td>\n      <td>United Kingdom</td>\n      <td>Columbia Pictures</td>\n      <td>Sam Mendes</td>\n      <td>Daniel Craig</td>\n      <td>Christoph Waltz</td>\n      <td>Léa Seydoux</td>\n      <td>Monday</td>\n    </tr>\n  </tbody>\n</table>\n</div>"
     },
     "metadata": {},
     "execution_count": 57
    }
   ],
   "source": [
    "df['release_date'] = pd.to_datetime(df['release_date'].astype(str),errors='coerce')\n",
    "df['dayofrelease']=df['release_date'].dt.strftime('%A')\n",
    "df.drop(columns=['release_date'], inplace = True)\n",
    "df.head(3)"
   ]
  },
  {
   "cell_type": "code",
   "execution_count": 58,
   "metadata": {},
   "outputs": [
    {
     "output_type": "execute_result",
     "data": {
      "text/plain": "      budget  popularity  duration                   country  \\\n0  237000000  150.437577     162.0  United States of America   \n1  300000000  139.082615     169.0  United States of America   \n2  245000000  107.376788     148.0            United Kingdom   \n3  250000000  112.312950     165.0  United States of America   \n4  260000000   43.926995     132.0  United States of America   \n\n                   company      director_name     actor_1_name  \\\n0  Ingenious Film Partners      James Cameron  Sam Worthington   \n1     Walt Disney Pictures     Gore Verbinski      Johnny Depp   \n2        Columbia Pictures         Sam Mendes     Daniel Craig   \n3       Legendary Pictures  Christopher Nolan   Christian Bale   \n4     Walt Disney Pictures     Andrew Stanton    Taylor Kitsch   \n\n      actor_2_name      actor_3_name  dayofrelease_Friday  \\\n0      Zoe Saldana  Sigourney Weaver                    0   \n1    Orlando Bloom   Keira Knightley                    0   \n2  Christoph Waltz       Léa Seydoux                    0   \n3    Michael Caine       Gary Oldman                    0   \n4     Lynn Collins   Samantha Morton                    0   \n\n   dayofrelease_Monday  dayofrelease_Saturday  dayofrelease_Sunday  \\\n0                    0                      0                    0   \n1                    0                      1                    0   \n2                    1                      0                    0   \n3                    1                      0                    0   \n4                    0                      0                    0   \n\n   dayofrelease_Thursday  dayofrelease_Tuesday  dayofrelease_Wednesday  \\\n0                      1                     0                       0   \n1                      0                     0                       0   \n2                      0                     0                       0   \n3                      0                     0                       0   \n4                      0                     0                       1   \n\n   language_  language_??????  language_Afrikaans  language_Bahasa indonesia  \\\n0          0                0                   0                          0   \n1          0                0                   0                          0   \n2          0                0                   0                          0   \n3          0                0                   0                          0   \n4          0                0                   0                          0   \n\n   language_Bosanski  language_Dansk  language_Deutsch  language_Eesti  \\\n0                  0               0                 0               0   \n1                  0               0                 0               0   \n2                  0               0                 0               0   \n3                  0               0                 0               0   \n4                  0               0                 0               0   \n\n   language_English  language_Español  language_Esperanto  language_Français  \\\n0                 1                 0                   0                  0   \n1                 1                 0                   0                  0   \n2                 0                 0                   0                  1   \n3                 1                 0                   0                  0   \n4                 1                 0                   0                  0   \n\n   language_Gaeilge  language_Galego  language_Hrvatski  language_Italiano  \\\n0                 0                0                  0                  0   \n1                 0                0                  0                  0   \n2                 0                0                  0                  0   \n3                 0                0                  0                  0   \n4                 0                0                  0                  0   \n\n   language_Kiswahili  language_Latin  language_Magyar  language_Missing  \\\n0                   0               0                0                 0   \n1                   0               0                0                 0   \n2                   0               0                0                 0   \n3                   0               0                0                 0   \n4                   0               0                0                 0   \n\n   language_Nederlands  language_No Language  language_Norsk  language_Polski  \\\n0                    0                     0               0                0   \n1                    0                     0               0                0   \n2                    0                     0               0                0   \n3                    0                     0               0                0   \n4                    0                     0               0                0   \n\n   language_Português  language_Pусский  language_Română  language_Srpski  \\\n0                   0                 0                0                0   \n1                   0                 0                0                0   \n2                   0                 0                0                0   \n3                   0                 0                0                0   \n4                   0                 0                0                0   \n\n   language_Tiếng Việt  language_shqip  language_svenska  language_Íslenska  \\\n0                    0               0                 0                  0   \n1                    0               0                 0                  0   \n2                    0               0                 0                  0   \n3                    0               0                 0                  0   \n4                    0               0                 0                  0   \n\n   language_Český  language_ελληνικά  language_Український  \\\n0               0                  0                     0   \n1               0                  0                     0   \n2               0                  0                     0   \n3               0                  0                     0   \n4               0                  0                     0   \n\n   language_български език  language_עִבְרִית  language_اردو  \\\n0                        0                  0              0   \n1                        0                  0              0   \n2                        0                  0              0   \n3                        0                  0              0   \n4                        0                  0              0   \n\n   language_العربية  language_فارسی  language_हिन्दी  language_বাংলা  \\\n0                 0               0                0               0   \n1                 0               0                0               0   \n2                 0               0                0               0   \n3                 0               0                0               0   \n4                 0               0                0               0   \n\n   language_தமிழ்  language_ภาษาไทย  language_广州话 / 廣州話  language_日本語  \\\n0               0                 0                   0             0   \n1               0                 0                   0             0   \n2               0                 0                   0             0   \n3               0                 0                   0             0   \n4               0                 0                   0             0   \n\n   language_普通话  language_한국어/조선말  \n0             0                 0  \n1             0                 0  \n2             0                 0  \n3             0                 0  \n4             0                 0  ",
      "text/html": "<div>\n<style scoped>\n    .dataframe tbody tr th:only-of-type {\n        vertical-align: middle;\n    }\n\n    .dataframe tbody tr th {\n        vertical-align: top;\n    }\n\n    .dataframe thead th {\n        text-align: right;\n    }\n</style>\n<table border=\"1\" class=\"dataframe\">\n  <thead>\n    <tr style=\"text-align: right;\">\n      <th></th>\n      <th>budget</th>\n      <th>popularity</th>\n      <th>duration</th>\n      <th>country</th>\n      <th>company</th>\n      <th>director_name</th>\n      <th>actor_1_name</th>\n      <th>actor_2_name</th>\n      <th>actor_3_name</th>\n      <th>dayofrelease_Friday</th>\n      <th>dayofrelease_Monday</th>\n      <th>dayofrelease_Saturday</th>\n      <th>dayofrelease_Sunday</th>\n      <th>dayofrelease_Thursday</th>\n      <th>dayofrelease_Tuesday</th>\n      <th>dayofrelease_Wednesday</th>\n      <th>language_</th>\n      <th>language_??????</th>\n      <th>language_Afrikaans</th>\n      <th>language_Bahasa indonesia</th>\n      <th>language_Bosanski</th>\n      <th>language_Dansk</th>\n      <th>language_Deutsch</th>\n      <th>language_Eesti</th>\n      <th>language_English</th>\n      <th>language_Español</th>\n      <th>language_Esperanto</th>\n      <th>language_Français</th>\n      <th>language_Gaeilge</th>\n      <th>language_Galego</th>\n      <th>language_Hrvatski</th>\n      <th>language_Italiano</th>\n      <th>language_Kiswahili</th>\n      <th>language_Latin</th>\n      <th>language_Magyar</th>\n      <th>language_Missing</th>\n      <th>language_Nederlands</th>\n      <th>language_No Language</th>\n      <th>language_Norsk</th>\n      <th>language_Polski</th>\n      <th>language_Português</th>\n      <th>language_Pусский</th>\n      <th>language_Română</th>\n      <th>language_Srpski</th>\n      <th>language_Tiếng Việt</th>\n      <th>language_shqip</th>\n      <th>language_svenska</th>\n      <th>language_Íslenska</th>\n      <th>language_Český</th>\n      <th>language_ελληνικά</th>\n      <th>language_Український</th>\n      <th>language_български език</th>\n      <th>language_עִבְרִית</th>\n      <th>language_اردو</th>\n      <th>language_العربية</th>\n      <th>language_فارسی</th>\n      <th>language_हिन्दी</th>\n      <th>language_বাংলা</th>\n      <th>language_தமிழ்</th>\n      <th>language_ภาษาไทย</th>\n      <th>language_广州话 / 廣州話</th>\n      <th>language_日本語</th>\n      <th>language_普通话</th>\n      <th>language_한국어/조선말</th>\n    </tr>\n  </thead>\n  <tbody>\n    <tr>\n      <th>0</th>\n      <td>237000000</td>\n      <td>150.437577</td>\n      <td>162.0</td>\n      <td>United States of America</td>\n      <td>Ingenious Film Partners</td>\n      <td>James Cameron</td>\n      <td>Sam Worthington</td>\n      <td>Zoe Saldana</td>\n      <td>Sigourney Weaver</td>\n      <td>0</td>\n      <td>0</td>\n      <td>0</td>\n      <td>0</td>\n      <td>1</td>\n      <td>0</td>\n      <td>0</td>\n      <td>0</td>\n      <td>0</td>\n      <td>0</td>\n      <td>0</td>\n      <td>0</td>\n      <td>0</td>\n      <td>0</td>\n      <td>0</td>\n      <td>1</td>\n      <td>0</td>\n      <td>0</td>\n      <td>0</td>\n      <td>0</td>\n      <td>0</td>\n      <td>0</td>\n      <td>0</td>\n      <td>0</td>\n      <td>0</td>\n      <td>0</td>\n      <td>0</td>\n      <td>0</td>\n      <td>0</td>\n      <td>0</td>\n      <td>0</td>\n      <td>0</td>\n      <td>0</td>\n      <td>0</td>\n      <td>0</td>\n      <td>0</td>\n      <td>0</td>\n      <td>0</td>\n      <td>0</td>\n      <td>0</td>\n      <td>0</td>\n      <td>0</td>\n      <td>0</td>\n      <td>0</td>\n      <td>0</td>\n      <td>0</td>\n      <td>0</td>\n      <td>0</td>\n      <td>0</td>\n      <td>0</td>\n      <td>0</td>\n      <td>0</td>\n      <td>0</td>\n      <td>0</td>\n      <td>0</td>\n    </tr>\n    <tr>\n      <th>1</th>\n      <td>300000000</td>\n      <td>139.082615</td>\n      <td>169.0</td>\n      <td>United States of America</td>\n      <td>Walt Disney Pictures</td>\n      <td>Gore Verbinski</td>\n      <td>Johnny Depp</td>\n      <td>Orlando Bloom</td>\n      <td>Keira Knightley</td>\n      <td>0</td>\n      <td>0</td>\n      <td>1</td>\n      <td>0</td>\n      <td>0</td>\n      <td>0</td>\n      <td>0</td>\n      <td>0</td>\n      <td>0</td>\n      <td>0</td>\n      <td>0</td>\n      <td>0</td>\n      <td>0</td>\n      <td>0</td>\n      <td>0</td>\n      <td>1</td>\n      <td>0</td>\n      <td>0</td>\n      <td>0</td>\n      <td>0</td>\n      <td>0</td>\n      <td>0</td>\n      <td>0</td>\n      <td>0</td>\n      <td>0</td>\n      <td>0</td>\n      <td>0</td>\n      <td>0</td>\n      <td>0</td>\n      <td>0</td>\n      <td>0</td>\n      <td>0</td>\n      <td>0</td>\n      <td>0</td>\n      <td>0</td>\n      <td>0</td>\n      <td>0</td>\n      <td>0</td>\n      <td>0</td>\n      <td>0</td>\n      <td>0</td>\n      <td>0</td>\n      <td>0</td>\n      <td>0</td>\n      <td>0</td>\n      <td>0</td>\n      <td>0</td>\n      <td>0</td>\n      <td>0</td>\n      <td>0</td>\n      <td>0</td>\n      <td>0</td>\n      <td>0</td>\n      <td>0</td>\n      <td>0</td>\n    </tr>\n    <tr>\n      <th>2</th>\n      <td>245000000</td>\n      <td>107.376788</td>\n      <td>148.0</td>\n      <td>United Kingdom</td>\n      <td>Columbia Pictures</td>\n      <td>Sam Mendes</td>\n      <td>Daniel Craig</td>\n      <td>Christoph Waltz</td>\n      <td>Léa Seydoux</td>\n      <td>0</td>\n      <td>1</td>\n      <td>0</td>\n      <td>0</td>\n      <td>0</td>\n      <td>0</td>\n      <td>0</td>\n      <td>0</td>\n      <td>0</td>\n      <td>0</td>\n      <td>0</td>\n      <td>0</td>\n      <td>0</td>\n      <td>0</td>\n      <td>0</td>\n      <td>0</td>\n      <td>0</td>\n      <td>0</td>\n      <td>1</td>\n      <td>0</td>\n      <td>0</td>\n      <td>0</td>\n      <td>0</td>\n      <td>0</td>\n      <td>0</td>\n      <td>0</td>\n      <td>0</td>\n      <td>0</td>\n      <td>0</td>\n      <td>0</td>\n      <td>0</td>\n      <td>0</td>\n      <td>0</td>\n      <td>0</td>\n      <td>0</td>\n      <td>0</td>\n      <td>0</td>\n      <td>0</td>\n      <td>0</td>\n      <td>0</td>\n      <td>0</td>\n      <td>0</td>\n      <td>0</td>\n      <td>0</td>\n      <td>0</td>\n      <td>0</td>\n      <td>0</td>\n      <td>0</td>\n      <td>0</td>\n      <td>0</td>\n      <td>0</td>\n      <td>0</td>\n      <td>0</td>\n      <td>0</td>\n      <td>0</td>\n    </tr>\n    <tr>\n      <th>3</th>\n      <td>250000000</td>\n      <td>112.312950</td>\n      <td>165.0</td>\n      <td>United States of America</td>\n      <td>Legendary Pictures</td>\n      <td>Christopher Nolan</td>\n      <td>Christian Bale</td>\n      <td>Michael Caine</td>\n      <td>Gary Oldman</td>\n      <td>0</td>\n      <td>1</td>\n      <td>0</td>\n      <td>0</td>\n      <td>0</td>\n      <td>0</td>\n      <td>0</td>\n      <td>0</td>\n      <td>0</td>\n      <td>0</td>\n      <td>0</td>\n      <td>0</td>\n      <td>0</td>\n      <td>0</td>\n      <td>0</td>\n      <td>1</td>\n      <td>0</td>\n      <td>0</td>\n      <td>0</td>\n      <td>0</td>\n      <td>0</td>\n      <td>0</td>\n      <td>0</td>\n      <td>0</td>\n      <td>0</td>\n      <td>0</td>\n      <td>0</td>\n      <td>0</td>\n      <td>0</td>\n      <td>0</td>\n      <td>0</td>\n      <td>0</td>\n      <td>0</td>\n      <td>0</td>\n      <td>0</td>\n      <td>0</td>\n      <td>0</td>\n      <td>0</td>\n      <td>0</td>\n      <td>0</td>\n      <td>0</td>\n      <td>0</td>\n      <td>0</td>\n      <td>0</td>\n      <td>0</td>\n      <td>0</td>\n      <td>0</td>\n      <td>0</td>\n      <td>0</td>\n      <td>0</td>\n      <td>0</td>\n      <td>0</td>\n      <td>0</td>\n      <td>0</td>\n      <td>0</td>\n    </tr>\n    <tr>\n      <th>4</th>\n      <td>260000000</td>\n      <td>43.926995</td>\n      <td>132.0</td>\n      <td>United States of America</td>\n      <td>Walt Disney Pictures</td>\n      <td>Andrew Stanton</td>\n      <td>Taylor Kitsch</td>\n      <td>Lynn Collins</td>\n      <td>Samantha Morton</td>\n      <td>0</td>\n      <td>0</td>\n      <td>0</td>\n      <td>0</td>\n      <td>0</td>\n      <td>0</td>\n      <td>1</td>\n      <td>0</td>\n      <td>0</td>\n      <td>0</td>\n      <td>0</td>\n      <td>0</td>\n      <td>0</td>\n      <td>0</td>\n      <td>0</td>\n      <td>1</td>\n      <td>0</td>\n      <td>0</td>\n      <td>0</td>\n      <td>0</td>\n      <td>0</td>\n      <td>0</td>\n      <td>0</td>\n      <td>0</td>\n      <td>0</td>\n      <td>0</td>\n      <td>0</td>\n      <td>0</td>\n      <td>0</td>\n      <td>0</td>\n      <td>0</td>\n      <td>0</td>\n      <td>0</td>\n      <td>0</td>\n      <td>0</td>\n      <td>0</td>\n      <td>0</td>\n      <td>0</td>\n      <td>0</td>\n      <td>0</td>\n      <td>0</td>\n      <td>0</td>\n      <td>0</td>\n      <td>0</td>\n      <td>0</td>\n      <td>0</td>\n      <td>0</td>\n      <td>0</td>\n      <td>0</td>\n      <td>0</td>\n      <td>0</td>\n      <td>0</td>\n      <td>0</td>\n      <td>0</td>\n      <td>0</td>\n    </tr>\n  </tbody>\n</table>\n</div>"
     },
     "metadata": {},
     "execution_count": 58
    }
   ],
   "source": [
    "data_copy = df.copy()\n",
    "\n",
    "nominal = ['dayofrelease', 'language']\n",
    "one_hot = pd.get_dummies(data_copy[nominal])\n",
    "data_copy.drop(['dayofrelease','language'], axis=1, inplace=True)\n",
    "data_copy = data_copy.join(one_hot)\n",
    "data_copy.head()"
   ]
  },
  {
   "source": [
    "Label Encoding"
   ],
   "cell_type": "markdown",
   "metadata": {}
  },
  {
   "cell_type": "code",
   "execution_count": 59,
   "metadata": {},
   "outputs": [],
   "source": [
    "from sklearn.preprocessing import LabelEncoder\n",
    "\n",
    "cols = ['actor_1_name','actor_2_name','actor_3_name','director_name','country', 'company']\n",
    "for feature in cols:\n",
    "    data_copy[feature] = data_copy[feature].astype('category')\n",
    "    data_copy[feature] = data_copy[feature].cat.codes\n",
    "# pd.set_option('display.max_rows', None)"
   ]
  },
  {
   "source": [
    "Target Encoding"
   ],
   "cell_type": "markdown",
   "metadata": {}
  },
  {
   "cell_type": "code",
   "execution_count": 60,
   "metadata": {},
   "outputs": [
    {
     "output_type": "execute_result",
     "data": {
      "text/plain": "     budget  popularity  duration   country   company  director_name  \\\n0  5.107181    4.053183  2.438596  0.566591 -0.404521      -0.477710   \n1  6.654402    3.696258  2.748263  0.566591  1.329514      -0.647522   \n2  5.303653    2.699638  1.819260  0.517966 -1.339882       1.113538   \n3  5.426449    2.854798  2.571310  0.566591 -0.190112      -1.246253   \n4  5.672039    0.705198  1.111448  0.566591  1.329514      -1.637111   \n\n   actor_1_name  actor_2_name  actor_3_name  dayofrelease_Friday  \\\n0      1.171365      1.746301      1.324216            -0.864029   \n1     -0.108215      0.850469      0.138410            -0.864029   \n2     -1.026717     -1.158094      0.403552            -0.864029   \n3     -1.156506      0.602768     -0.628810            -0.864029   \n4      1.442589      0.365334      1.200107            -0.864029   \n\n   dayofrelease_Monday  dayofrelease_Saturday  dayofrelease_Sunday  \\\n0            -0.225798              -0.227828            -0.217527   \n1            -0.225798               4.389285            -0.217527   \n2             4.428740              -0.227828            -0.217527   \n3             4.428740              -0.227828            -0.217527   \n4            -0.225798              -0.227828            -0.217527   \n\n   dayofrelease_Thursday  dayofrelease_Tuesday  dayofrelease_Wednesday  \\\n0               2.059964             -0.280786               -0.445369   \n1              -0.485445             -0.280786               -0.445369   \n2              -0.485445             -0.280786               -0.445369   \n3              -0.485445             -0.280786               -0.445369   \n4              -0.485445             -0.280786                2.245331   \n\n   language_  language_??????  language_Afrikaans  language_Bahasa indonesia  \\\n0  -0.050047        -0.014431           -0.032282                  -0.014431   \n1  -0.050047        -0.014431           -0.032282                  -0.014431   \n2  -0.050047        -0.014431           -0.032282                  -0.014431   \n3  -0.050047        -0.014431           -0.032282                  -0.014431   \n4  -0.050047        -0.014431           -0.032282                  -0.014431   \n\n   language_Bosanski  language_Dansk  language_Deutsch  language_Eesti  \\\n0          -0.014431       -0.050047         -0.113419       -0.014431   \n1          -0.014431       -0.050047         -0.113419       -0.014431   \n2          -0.014431       -0.050047         -0.113419       -0.014431   \n3          -0.014431       -0.050047         -0.113419       -0.014431   \n4          -0.014431       -0.050047         -0.113419       -0.014431   \n\n   language_English  language_Español  language_Esperanto  language_Français  \\\n0          0.413391         -0.133418           -0.014431          -0.151668   \n1          0.413391         -0.133418           -0.014431          -0.151668   \n2         -2.419016         -0.133418           -0.014431           6.593347   \n3          0.413391         -0.133418           -0.014431          -0.151668   \n4          0.413391         -0.133418           -0.014431          -0.151668   \n\n   language_Gaeilge  language_Galego  language_Hrvatski  language_Italiano  \\\n0         -0.014431        -0.014431          -0.014431          -0.081897   \n1         -0.014431        -0.014431          -0.014431          -0.081897   \n2         -0.014431        -0.014431          -0.014431          -0.081897   \n3         -0.014431        -0.014431          -0.014431          -0.081897   \n4         -0.014431        -0.014431          -0.014431          -0.081897   \n\n   language_Kiswahili  language_Latin  language_Magyar  language_Missing  \\\n0              -0.025       -0.040846        -0.028871         -0.135026   \n1              -0.025       -0.040846        -0.028871         -0.135026   \n2              -0.025       -0.040846        -0.028871         -0.135026   \n3              -0.025       -0.040846        -0.028871         -0.135026   \n4              -0.025       -0.040846        -0.028871         -0.135026   \n\n   language_Nederlands  language_No Language  language_Norsk  language_Polski  \\\n0            -0.035366              -0.02041       -0.028871           -0.025   \n1            -0.035366              -0.02041       -0.028871           -0.025   \n2            -0.035366              -0.02041       -0.028871           -0.025   \n3            -0.035366              -0.02041       -0.028871           -0.025   \n4            -0.035366              -0.02041       -0.028871           -0.025   \n\n   language_Português  language_Pусский  language_Română  language_Srpski  \\\n0           -0.059599         -0.080599        -0.028871        -0.014431   \n1           -0.059599         -0.080599        -0.028871        -0.014431   \n2           -0.059599         -0.080599        -0.028871        -0.014431   \n3           -0.059599         -0.080599        -0.028871        -0.014431   \n4           -0.059599         -0.080599        -0.028871        -0.014431   \n\n   language_Tiếng Việt  language_shqip  language_svenska  language_Íslenska  \\\n0             -0.02041       -0.014431         -0.032282          -0.014431   \n1             -0.02041       -0.014431         -0.032282          -0.014431   \n2             -0.02041       -0.014431         -0.032282          -0.014431   \n3             -0.02041       -0.014431         -0.032282          -0.014431   \n4             -0.02041       -0.014431         -0.032282          -0.014431   \n\n   language_Český  language_ελληνικά  language_Український  \\\n0        -0.07928          -0.032282              -0.02041   \n1        -0.07928          -0.032282              -0.02041   \n2        -0.07928          -0.032282              -0.02041   \n3        -0.07928          -0.032282              -0.02041   \n4        -0.07928          -0.032282              -0.02041   \n\n   language_български език  language_עִבְרִית  language_اردو  \\\n0                -0.014431          -0.035366      -0.014431   \n1                -0.014431          -0.035366      -0.014431   \n2                -0.014431          -0.035366      -0.014431   \n3                -0.014431          -0.035366      -0.014431   \n4                -0.014431          -0.035366      -0.014431   \n\n   language_العربية  language_فارسی  language_हिन्दी  language_বাংলা  \\\n0         -0.083176          -0.025        -0.067835       -0.014431   \n1         -0.083176          -0.025        -0.067835       -0.014431   \n2         -0.083176          -0.025        -0.067835       -0.014431   \n3         -0.083176          -0.025        -0.067835       -0.014431   \n4         -0.083176          -0.025        -0.067835       -0.014431   \n\n   language_தமிழ்  language_ภาษาไทย  language_广州话 / 廣州話  language_日本語  \\\n0        -0.02041         -0.028871           -0.076576     -0.069367   \n1        -0.02041         -0.028871           -0.076576     -0.069367   \n2        -0.02041         -0.028871           -0.076576     -0.069367   \n3        -0.02041         -0.028871           -0.076576     -0.069367   \n4        -0.02041         -0.028871           -0.076576     -0.069367   \n\n   language_普通话  language_한국어/조선말  \n0     -0.081897         -0.040846  \n1     -0.081897         -0.040846  \n2     -0.081897         -0.040846  \n3     -0.081897         -0.040846  \n4     -0.081897         -0.040846  ",
      "text/html": "<div>\n<style scoped>\n    .dataframe tbody tr th:only-of-type {\n        vertical-align: middle;\n    }\n\n    .dataframe tbody tr th {\n        vertical-align: top;\n    }\n\n    .dataframe thead th {\n        text-align: right;\n    }\n</style>\n<table border=\"1\" class=\"dataframe\">\n  <thead>\n    <tr style=\"text-align: right;\">\n      <th></th>\n      <th>budget</th>\n      <th>popularity</th>\n      <th>duration</th>\n      <th>country</th>\n      <th>company</th>\n      <th>director_name</th>\n      <th>actor_1_name</th>\n      <th>actor_2_name</th>\n      <th>actor_3_name</th>\n      <th>dayofrelease_Friday</th>\n      <th>dayofrelease_Monday</th>\n      <th>dayofrelease_Saturday</th>\n      <th>dayofrelease_Sunday</th>\n      <th>dayofrelease_Thursday</th>\n      <th>dayofrelease_Tuesday</th>\n      <th>dayofrelease_Wednesday</th>\n      <th>language_</th>\n      <th>language_??????</th>\n      <th>language_Afrikaans</th>\n      <th>language_Bahasa indonesia</th>\n      <th>language_Bosanski</th>\n      <th>language_Dansk</th>\n      <th>language_Deutsch</th>\n      <th>language_Eesti</th>\n      <th>language_English</th>\n      <th>language_Español</th>\n      <th>language_Esperanto</th>\n      <th>language_Français</th>\n      <th>language_Gaeilge</th>\n      <th>language_Galego</th>\n      <th>language_Hrvatski</th>\n      <th>language_Italiano</th>\n      <th>language_Kiswahili</th>\n      <th>language_Latin</th>\n      <th>language_Magyar</th>\n      <th>language_Missing</th>\n      <th>language_Nederlands</th>\n      <th>language_No Language</th>\n      <th>language_Norsk</th>\n      <th>language_Polski</th>\n      <th>language_Português</th>\n      <th>language_Pусский</th>\n      <th>language_Română</th>\n      <th>language_Srpski</th>\n      <th>language_Tiếng Việt</th>\n      <th>language_shqip</th>\n      <th>language_svenska</th>\n      <th>language_Íslenska</th>\n      <th>language_Český</th>\n      <th>language_ελληνικά</th>\n      <th>language_Український</th>\n      <th>language_български език</th>\n      <th>language_עִבְרִית</th>\n      <th>language_اردو</th>\n      <th>language_العربية</th>\n      <th>language_فارسی</th>\n      <th>language_हिन्दी</th>\n      <th>language_বাংলা</th>\n      <th>language_தமிழ்</th>\n      <th>language_ภาษาไทย</th>\n      <th>language_广州话 / 廣州話</th>\n      <th>language_日本語</th>\n      <th>language_普通话</th>\n      <th>language_한국어/조선말</th>\n    </tr>\n  </thead>\n  <tbody>\n    <tr>\n      <th>0</th>\n      <td>5.107181</td>\n      <td>4.053183</td>\n      <td>2.438596</td>\n      <td>0.566591</td>\n      <td>-0.404521</td>\n      <td>-0.477710</td>\n      <td>1.171365</td>\n      <td>1.746301</td>\n      <td>1.324216</td>\n      <td>-0.864029</td>\n      <td>-0.225798</td>\n      <td>-0.227828</td>\n      <td>-0.217527</td>\n      <td>2.059964</td>\n      <td>-0.280786</td>\n      <td>-0.445369</td>\n      <td>-0.050047</td>\n      <td>-0.014431</td>\n      <td>-0.032282</td>\n      <td>-0.014431</td>\n      <td>-0.014431</td>\n      <td>-0.050047</td>\n      <td>-0.113419</td>\n      <td>-0.014431</td>\n      <td>0.413391</td>\n      <td>-0.133418</td>\n      <td>-0.014431</td>\n      <td>-0.151668</td>\n      <td>-0.014431</td>\n      <td>-0.014431</td>\n      <td>-0.014431</td>\n      <td>-0.081897</td>\n      <td>-0.025</td>\n      <td>-0.040846</td>\n      <td>-0.028871</td>\n      <td>-0.135026</td>\n      <td>-0.035366</td>\n      <td>-0.02041</td>\n      <td>-0.028871</td>\n      <td>-0.025</td>\n      <td>-0.059599</td>\n      <td>-0.080599</td>\n      <td>-0.028871</td>\n      <td>-0.014431</td>\n      <td>-0.02041</td>\n      <td>-0.014431</td>\n      <td>-0.032282</td>\n      <td>-0.014431</td>\n      <td>-0.07928</td>\n      <td>-0.032282</td>\n      <td>-0.02041</td>\n      <td>-0.014431</td>\n      <td>-0.035366</td>\n      <td>-0.014431</td>\n      <td>-0.083176</td>\n      <td>-0.025</td>\n      <td>-0.067835</td>\n      <td>-0.014431</td>\n      <td>-0.02041</td>\n      <td>-0.028871</td>\n      <td>-0.076576</td>\n      <td>-0.069367</td>\n      <td>-0.081897</td>\n      <td>-0.040846</td>\n    </tr>\n    <tr>\n      <th>1</th>\n      <td>6.654402</td>\n      <td>3.696258</td>\n      <td>2.748263</td>\n      <td>0.566591</td>\n      <td>1.329514</td>\n      <td>-0.647522</td>\n      <td>-0.108215</td>\n      <td>0.850469</td>\n      <td>0.138410</td>\n      <td>-0.864029</td>\n      <td>-0.225798</td>\n      <td>4.389285</td>\n      <td>-0.217527</td>\n      <td>-0.485445</td>\n      <td>-0.280786</td>\n      <td>-0.445369</td>\n      <td>-0.050047</td>\n      <td>-0.014431</td>\n      <td>-0.032282</td>\n      <td>-0.014431</td>\n      <td>-0.014431</td>\n      <td>-0.050047</td>\n      <td>-0.113419</td>\n      <td>-0.014431</td>\n      <td>0.413391</td>\n      <td>-0.133418</td>\n      <td>-0.014431</td>\n      <td>-0.151668</td>\n      <td>-0.014431</td>\n      <td>-0.014431</td>\n      <td>-0.014431</td>\n      <td>-0.081897</td>\n      <td>-0.025</td>\n      <td>-0.040846</td>\n      <td>-0.028871</td>\n      <td>-0.135026</td>\n      <td>-0.035366</td>\n      <td>-0.02041</td>\n      <td>-0.028871</td>\n      <td>-0.025</td>\n      <td>-0.059599</td>\n      <td>-0.080599</td>\n      <td>-0.028871</td>\n      <td>-0.014431</td>\n      <td>-0.02041</td>\n      <td>-0.014431</td>\n      <td>-0.032282</td>\n      <td>-0.014431</td>\n      <td>-0.07928</td>\n      <td>-0.032282</td>\n      <td>-0.02041</td>\n      <td>-0.014431</td>\n      <td>-0.035366</td>\n      <td>-0.014431</td>\n      <td>-0.083176</td>\n      <td>-0.025</td>\n      <td>-0.067835</td>\n      <td>-0.014431</td>\n      <td>-0.02041</td>\n      <td>-0.028871</td>\n      <td>-0.076576</td>\n      <td>-0.069367</td>\n      <td>-0.081897</td>\n      <td>-0.040846</td>\n    </tr>\n    <tr>\n      <th>2</th>\n      <td>5.303653</td>\n      <td>2.699638</td>\n      <td>1.819260</td>\n      <td>0.517966</td>\n      <td>-1.339882</td>\n      <td>1.113538</td>\n      <td>-1.026717</td>\n      <td>-1.158094</td>\n      <td>0.403552</td>\n      <td>-0.864029</td>\n      <td>4.428740</td>\n      <td>-0.227828</td>\n      <td>-0.217527</td>\n      <td>-0.485445</td>\n      <td>-0.280786</td>\n      <td>-0.445369</td>\n      <td>-0.050047</td>\n      <td>-0.014431</td>\n      <td>-0.032282</td>\n      <td>-0.014431</td>\n      <td>-0.014431</td>\n      <td>-0.050047</td>\n      <td>-0.113419</td>\n      <td>-0.014431</td>\n      <td>-2.419016</td>\n      <td>-0.133418</td>\n      <td>-0.014431</td>\n      <td>6.593347</td>\n      <td>-0.014431</td>\n      <td>-0.014431</td>\n      <td>-0.014431</td>\n      <td>-0.081897</td>\n      <td>-0.025</td>\n      <td>-0.040846</td>\n      <td>-0.028871</td>\n      <td>-0.135026</td>\n      <td>-0.035366</td>\n      <td>-0.02041</td>\n      <td>-0.028871</td>\n      <td>-0.025</td>\n      <td>-0.059599</td>\n      <td>-0.080599</td>\n      <td>-0.028871</td>\n      <td>-0.014431</td>\n      <td>-0.02041</td>\n      <td>-0.014431</td>\n      <td>-0.032282</td>\n      <td>-0.014431</td>\n      <td>-0.07928</td>\n      <td>-0.032282</td>\n      <td>-0.02041</td>\n      <td>-0.014431</td>\n      <td>-0.035366</td>\n      <td>-0.014431</td>\n      <td>-0.083176</td>\n      <td>-0.025</td>\n      <td>-0.067835</td>\n      <td>-0.014431</td>\n      <td>-0.02041</td>\n      <td>-0.028871</td>\n      <td>-0.076576</td>\n      <td>-0.069367</td>\n      <td>-0.081897</td>\n      <td>-0.040846</td>\n    </tr>\n    <tr>\n      <th>3</th>\n      <td>5.426449</td>\n      <td>2.854798</td>\n      <td>2.571310</td>\n      <td>0.566591</td>\n      <td>-0.190112</td>\n      <td>-1.246253</td>\n      <td>-1.156506</td>\n      <td>0.602768</td>\n      <td>-0.628810</td>\n      <td>-0.864029</td>\n      <td>4.428740</td>\n      <td>-0.227828</td>\n      <td>-0.217527</td>\n      <td>-0.485445</td>\n      <td>-0.280786</td>\n      <td>-0.445369</td>\n      <td>-0.050047</td>\n      <td>-0.014431</td>\n      <td>-0.032282</td>\n      <td>-0.014431</td>\n      <td>-0.014431</td>\n      <td>-0.050047</td>\n      <td>-0.113419</td>\n      <td>-0.014431</td>\n      <td>0.413391</td>\n      <td>-0.133418</td>\n      <td>-0.014431</td>\n      <td>-0.151668</td>\n      <td>-0.014431</td>\n      <td>-0.014431</td>\n      <td>-0.014431</td>\n      <td>-0.081897</td>\n      <td>-0.025</td>\n      <td>-0.040846</td>\n      <td>-0.028871</td>\n      <td>-0.135026</td>\n      <td>-0.035366</td>\n      <td>-0.02041</td>\n      <td>-0.028871</td>\n      <td>-0.025</td>\n      <td>-0.059599</td>\n      <td>-0.080599</td>\n      <td>-0.028871</td>\n      <td>-0.014431</td>\n      <td>-0.02041</td>\n      <td>-0.014431</td>\n      <td>-0.032282</td>\n      <td>-0.014431</td>\n      <td>-0.07928</td>\n      <td>-0.032282</td>\n      <td>-0.02041</td>\n      <td>-0.014431</td>\n      <td>-0.035366</td>\n      <td>-0.014431</td>\n      <td>-0.083176</td>\n      <td>-0.025</td>\n      <td>-0.067835</td>\n      <td>-0.014431</td>\n      <td>-0.02041</td>\n      <td>-0.028871</td>\n      <td>-0.076576</td>\n      <td>-0.069367</td>\n      <td>-0.081897</td>\n      <td>-0.040846</td>\n    </tr>\n    <tr>\n      <th>4</th>\n      <td>5.672039</td>\n      <td>0.705198</td>\n      <td>1.111448</td>\n      <td>0.566591</td>\n      <td>1.329514</td>\n      <td>-1.637111</td>\n      <td>1.442589</td>\n      <td>0.365334</td>\n      <td>1.200107</td>\n      <td>-0.864029</td>\n      <td>-0.225798</td>\n      <td>-0.227828</td>\n      <td>-0.217527</td>\n      <td>-0.485445</td>\n      <td>-0.280786</td>\n      <td>2.245331</td>\n      <td>-0.050047</td>\n      <td>-0.014431</td>\n      <td>-0.032282</td>\n      <td>-0.014431</td>\n      <td>-0.014431</td>\n      <td>-0.050047</td>\n      <td>-0.113419</td>\n      <td>-0.014431</td>\n      <td>0.413391</td>\n      <td>-0.133418</td>\n      <td>-0.014431</td>\n      <td>-0.151668</td>\n      <td>-0.014431</td>\n      <td>-0.014431</td>\n      <td>-0.014431</td>\n      <td>-0.081897</td>\n      <td>-0.025</td>\n      <td>-0.040846</td>\n      <td>-0.028871</td>\n      <td>-0.135026</td>\n      <td>-0.035366</td>\n      <td>-0.02041</td>\n      <td>-0.028871</td>\n      <td>-0.025</td>\n      <td>-0.059599</td>\n      <td>-0.080599</td>\n      <td>-0.028871</td>\n      <td>-0.014431</td>\n      <td>-0.02041</td>\n      <td>-0.014431</td>\n      <td>-0.032282</td>\n      <td>-0.014431</td>\n      <td>-0.07928</td>\n      <td>-0.032282</td>\n      <td>-0.02041</td>\n      <td>-0.014431</td>\n      <td>-0.035366</td>\n      <td>-0.014431</td>\n      <td>-0.083176</td>\n      <td>-0.025</td>\n      <td>-0.067835</td>\n      <td>-0.014431</td>\n      <td>-0.02041</td>\n      <td>-0.028871</td>\n      <td>-0.076576</td>\n      <td>-0.069367</td>\n      <td>-0.081897</td>\n      <td>-0.040846</td>\n    </tr>\n  </tbody>\n</table>\n</div>"
     },
     "metadata": {},
     "execution_count": 60
    }
   ],
   "source": [
    "scaler = StandardScaler()\n",
    "\n",
    "# numerical = df.select_dtypes(include=['int64','float']).copy()\n",
    "numerical = data_copy.columns[data_copy.dtypes.apply(lambda c: np.issubdtype(c, np.number))]\n",
    "\n",
    "\n",
    "data_copy[numerical] = scaler.fit_transform(data_copy[numerical])\n",
    "data_copy.head()"
   ]
  },
  {
   "cell_type": "code",
   "execution_count": 61,
   "metadata": {},
   "outputs": [],
   "source": [
    "data_copy.drop(columns=['popularity'], inplace= True)\n",
    "new_data = pd.concat([data_copy, df['popularity']], axis =1)"
   ]
  },
  {
   "cell_type": "code",
   "execution_count": 62,
   "metadata": {},
   "outputs": [
    {
     "output_type": "execute_result",
     "data": {
      "text/plain": "budget              float64\nduration            float64\n                     ...   \nlanguage_普通话        float64\nlanguage_한국어/조선말    float64\nLength: 63, dtype: object"
     },
     "metadata": {},
     "execution_count": 62
    }
   ],
   "source": [
    "svm_data = data_copy.copy()\n",
    "svm_data.dtypes"
   ]
  },
  {
   "cell_type": "code",
   "execution_count": 63,
   "metadata": {},
   "outputs": [
    {
     "output_type": "execute_result",
     "data": {
      "text/plain": "        budget  duration   country   company  director_name  actor_1_name  \\\n0     5.107181  2.438596  0.566591 -0.404521      -0.477710      1.171365   \n1     6.654402  2.748263  0.566591  1.329514      -0.647522     -0.108215   \n...        ...       ...       ...       ...            ...           ...   \n4801 -0.713319 -0.392652  0.566591  0.075220      -1.130605     -1.023389   \n4802 -0.713319 -0.746559  0.566591  1.476921      -1.408744     -0.876962   \n\n      actor_2_name  actor_3_name  dayofrelease_Friday  dayofrelease_Monday  \\\n0         1.746301      1.324216            -0.864029            -0.225798   \n1         0.850469      0.138410            -0.864029            -0.225798   \n...            ...           ...                  ...                  ...   \n4801     -0.784617     -1.410697            -0.864029            -0.225798   \n4802     -1.360876     -1.090270             1.157369            -0.225798   \n\n      dayofrelease_Saturday  dayofrelease_Sunday  dayofrelease_Thursday  \\\n0                 -0.227828            -0.217527               2.059964   \n1                  4.389285            -0.217527              -0.485445   \n...                     ...                  ...                    ...   \n4801              -0.227828            -0.217527               2.059964   \n4802              -0.227828            -0.217527              -0.485445   \n\n      dayofrelease_Tuesday  dayofrelease_Wednesday  language_  \\\n0                -0.280786               -0.445369  -0.050047   \n1                -0.280786               -0.445369  -0.050047   \n...                    ...                     ...        ...   \n4801             -0.280786               -0.445369  -0.050047   \n4802             -0.280786               -0.445369  -0.050047   \n\n      language_??????  language_Afrikaans  language_Bahasa indonesia  \\\n0           -0.014431           -0.032282                  -0.014431   \n1           -0.014431           -0.032282                  -0.014431   \n...               ...                 ...                        ...   \n4801        -0.014431           -0.032282                  -0.014431   \n4802        -0.014431           -0.032282                  -0.014431   \n\n      language_Bosanski  language_Dansk  language_Deutsch  language_Eesti  \\\n0             -0.014431       -0.050047         -0.113419       -0.014431   \n1             -0.014431       -0.050047         -0.113419       -0.014431   \n...                 ...             ...               ...             ...   \n4801          -0.014431       -0.050047         -0.113419       -0.014431   \n4802          -0.014431       -0.050047         -0.113419       -0.014431   \n\n      language_English  language_Español  language_Esperanto  \\\n0             0.413391         -0.133418           -0.014431   \n1             0.413391         -0.133418           -0.014431   \n...                ...               ...                 ...   \n4801          0.413391         -0.133418           -0.014431   \n4802          0.413391         -0.133418           -0.014431   \n\n      language_Français  language_Gaeilge  language_Galego  language_Hrvatski  \\\n0             -0.151668         -0.014431        -0.014431          -0.014431   \n1             -0.151668         -0.014431        -0.014431          -0.014431   \n...                 ...               ...              ...                ...   \n4801          -0.151668         -0.014431        -0.014431          -0.014431   \n4802          -0.151668         -0.014431        -0.014431          -0.014431   \n\n      language_Italiano  language_Kiswahili  language_Latin  language_Magyar  \\\n0             -0.081897              -0.025       -0.040846        -0.028871   \n1             -0.081897              -0.025       -0.040846        -0.028871   \n...                 ...                 ...             ...              ...   \n4801          -0.081897              -0.025       -0.040846        -0.028871   \n4802          -0.081897              -0.025       -0.040846        -0.028871   \n\n      language_Missing  language_Nederlands  language_No Language  \\\n0            -0.135026            -0.035366              -0.02041   \n1            -0.135026            -0.035366              -0.02041   \n...                ...                  ...                   ...   \n4801         -0.135026            -0.035366              -0.02041   \n4802         -0.135026            -0.035366              -0.02041   \n\n      language_Norsk  language_Polski  language_Português  language_Pусский  \\\n0          -0.028871           -0.025           -0.059599         -0.080599   \n1          -0.028871           -0.025           -0.059599         -0.080599   \n...              ...              ...                 ...               ...   \n4801       -0.028871           -0.025           -0.059599         -0.080599   \n4802       -0.028871           -0.025           -0.059599         -0.080599   \n\n      language_Română  language_Srpski  language_Tiếng Việt  language_shqip  \\\n0           -0.028871        -0.014431             -0.02041       -0.014431   \n1           -0.028871        -0.014431             -0.02041       -0.014431   \n...               ...              ...                  ...             ...   \n4801        -0.028871        -0.014431             -0.02041       -0.014431   \n4802        -0.028871        -0.014431             -0.02041       -0.014431   \n\n      language_svenska  language_Íslenska  language_Český  language_ελληνικά  \\\n0            -0.032282          -0.014431        -0.07928          -0.032282   \n1            -0.032282          -0.014431        -0.07928          -0.032282   \n...                ...                ...             ...                ...   \n4801         -0.032282          -0.014431        -0.07928          -0.032282   \n4802         -0.032282          -0.014431        -0.07928          -0.032282   \n\n      language_Український  language_български език  language_עִבְרִית  \\\n0                 -0.02041                -0.014431          -0.035366   \n1                 -0.02041                -0.014431          -0.035366   \n...                    ...                      ...                ...   \n4801              -0.02041                -0.014431          -0.035366   \n4802              -0.02041                -0.014431          -0.035366   \n\n      language_اردو  language_العربية  language_فارسی  language_हिन्दी  \\\n0         -0.014431         -0.083176          -0.025        -0.067835   \n1         -0.014431         -0.083176          -0.025        -0.067835   \n...             ...               ...             ...              ...   \n4801      -0.014431         -0.083176          -0.025        -0.067835   \n4802      -0.014431         -0.083176          -0.025        -0.067835   \n\n      language_বাংলা  language_தமிழ்  language_ภาษาไทย  language_广州话 / 廣州話  \\\n0          -0.014431        -0.02041         -0.028871           -0.076576   \n1          -0.014431        -0.02041         -0.028871           -0.076576   \n...              ...             ...               ...                 ...   \n4801       -0.014431        -0.02041         -0.028871           -0.076576   \n4802       -0.014431        -0.02041         -0.028871           -0.076576   \n\n      language_日本語  language_普通话  language_한국어/조선말  Success  \n0        -0.069367     -0.081897         -0.040846        1  \n1        -0.069367     -0.081897         -0.040846        1  \n...            ...           ...               ...      ...  \n4801     -0.069367     -0.081897         -0.040846        0  \n4802     -0.069367     -0.081897         -0.040846        0  \n\n[4803 rows x 64 columns]",
      "text/html": "<div>\n<style scoped>\n    .dataframe tbody tr th:only-of-type {\n        vertical-align: middle;\n    }\n\n    .dataframe tbody tr th {\n        vertical-align: top;\n    }\n\n    .dataframe thead th {\n        text-align: right;\n    }\n</style>\n<table border=\"1\" class=\"dataframe\">\n  <thead>\n    <tr style=\"text-align: right;\">\n      <th></th>\n      <th>budget</th>\n      <th>duration</th>\n      <th>country</th>\n      <th>company</th>\n      <th>director_name</th>\n      <th>actor_1_name</th>\n      <th>actor_2_name</th>\n      <th>actor_3_name</th>\n      <th>dayofrelease_Friday</th>\n      <th>dayofrelease_Monday</th>\n      <th>dayofrelease_Saturday</th>\n      <th>dayofrelease_Sunday</th>\n      <th>dayofrelease_Thursday</th>\n      <th>dayofrelease_Tuesday</th>\n      <th>dayofrelease_Wednesday</th>\n      <th>language_</th>\n      <th>language_??????</th>\n      <th>language_Afrikaans</th>\n      <th>language_Bahasa indonesia</th>\n      <th>language_Bosanski</th>\n      <th>language_Dansk</th>\n      <th>language_Deutsch</th>\n      <th>language_Eesti</th>\n      <th>language_English</th>\n      <th>language_Español</th>\n      <th>language_Esperanto</th>\n      <th>language_Français</th>\n      <th>language_Gaeilge</th>\n      <th>language_Galego</th>\n      <th>language_Hrvatski</th>\n      <th>language_Italiano</th>\n      <th>language_Kiswahili</th>\n      <th>language_Latin</th>\n      <th>language_Magyar</th>\n      <th>language_Missing</th>\n      <th>language_Nederlands</th>\n      <th>language_No Language</th>\n      <th>language_Norsk</th>\n      <th>language_Polski</th>\n      <th>language_Português</th>\n      <th>language_Pусский</th>\n      <th>language_Română</th>\n      <th>language_Srpski</th>\n      <th>language_Tiếng Việt</th>\n      <th>language_shqip</th>\n      <th>language_svenska</th>\n      <th>language_Íslenska</th>\n      <th>language_Český</th>\n      <th>language_ελληνικά</th>\n      <th>language_Український</th>\n      <th>language_български език</th>\n      <th>language_עִבְרִית</th>\n      <th>language_اردو</th>\n      <th>language_العربية</th>\n      <th>language_فارسی</th>\n      <th>language_हिन्दी</th>\n      <th>language_বাংলা</th>\n      <th>language_தமிழ்</th>\n      <th>language_ภาษาไทย</th>\n      <th>language_广州话 / 廣州話</th>\n      <th>language_日本語</th>\n      <th>language_普通话</th>\n      <th>language_한국어/조선말</th>\n      <th>Success</th>\n    </tr>\n  </thead>\n  <tbody>\n    <tr>\n      <th>0</th>\n      <td>5.107181</td>\n      <td>2.438596</td>\n      <td>0.566591</td>\n      <td>-0.404521</td>\n      <td>-0.477710</td>\n      <td>1.171365</td>\n      <td>1.746301</td>\n      <td>1.324216</td>\n      <td>-0.864029</td>\n      <td>-0.225798</td>\n      <td>-0.227828</td>\n      <td>-0.217527</td>\n      <td>2.059964</td>\n      <td>-0.280786</td>\n      <td>-0.445369</td>\n      <td>-0.050047</td>\n      <td>-0.014431</td>\n      <td>-0.032282</td>\n      <td>-0.014431</td>\n      <td>-0.014431</td>\n      <td>-0.050047</td>\n      <td>-0.113419</td>\n      <td>-0.014431</td>\n      <td>0.413391</td>\n      <td>-0.133418</td>\n      <td>-0.014431</td>\n      <td>-0.151668</td>\n      <td>-0.014431</td>\n      <td>-0.014431</td>\n      <td>-0.014431</td>\n      <td>-0.081897</td>\n      <td>-0.025</td>\n      <td>-0.040846</td>\n      <td>-0.028871</td>\n      <td>-0.135026</td>\n      <td>-0.035366</td>\n      <td>-0.02041</td>\n      <td>-0.028871</td>\n      <td>-0.025</td>\n      <td>-0.059599</td>\n      <td>-0.080599</td>\n      <td>-0.028871</td>\n      <td>-0.014431</td>\n      <td>-0.02041</td>\n      <td>-0.014431</td>\n      <td>-0.032282</td>\n      <td>-0.014431</td>\n      <td>-0.07928</td>\n      <td>-0.032282</td>\n      <td>-0.02041</td>\n      <td>-0.014431</td>\n      <td>-0.035366</td>\n      <td>-0.014431</td>\n      <td>-0.083176</td>\n      <td>-0.025</td>\n      <td>-0.067835</td>\n      <td>-0.014431</td>\n      <td>-0.02041</td>\n      <td>-0.028871</td>\n      <td>-0.076576</td>\n      <td>-0.069367</td>\n      <td>-0.081897</td>\n      <td>-0.040846</td>\n      <td>1</td>\n    </tr>\n    <tr>\n      <th>1</th>\n      <td>6.654402</td>\n      <td>2.748263</td>\n      <td>0.566591</td>\n      <td>1.329514</td>\n      <td>-0.647522</td>\n      <td>-0.108215</td>\n      <td>0.850469</td>\n      <td>0.138410</td>\n      <td>-0.864029</td>\n      <td>-0.225798</td>\n      <td>4.389285</td>\n      <td>-0.217527</td>\n      <td>-0.485445</td>\n      <td>-0.280786</td>\n      <td>-0.445369</td>\n      <td>-0.050047</td>\n      <td>-0.014431</td>\n      <td>-0.032282</td>\n      <td>-0.014431</td>\n      <td>-0.014431</td>\n      <td>-0.050047</td>\n      <td>-0.113419</td>\n      <td>-0.014431</td>\n      <td>0.413391</td>\n      <td>-0.133418</td>\n      <td>-0.014431</td>\n      <td>-0.151668</td>\n      <td>-0.014431</td>\n      <td>-0.014431</td>\n      <td>-0.014431</td>\n      <td>-0.081897</td>\n      <td>-0.025</td>\n      <td>-0.040846</td>\n      <td>-0.028871</td>\n      <td>-0.135026</td>\n      <td>-0.035366</td>\n      <td>-0.02041</td>\n      <td>-0.028871</td>\n      <td>-0.025</td>\n      <td>-0.059599</td>\n      <td>-0.080599</td>\n      <td>-0.028871</td>\n      <td>-0.014431</td>\n      <td>-0.02041</td>\n      <td>-0.014431</td>\n      <td>-0.032282</td>\n      <td>-0.014431</td>\n      <td>-0.07928</td>\n      <td>-0.032282</td>\n      <td>-0.02041</td>\n      <td>-0.014431</td>\n      <td>-0.035366</td>\n      <td>-0.014431</td>\n      <td>-0.083176</td>\n      <td>-0.025</td>\n      <td>-0.067835</td>\n      <td>-0.014431</td>\n      <td>-0.02041</td>\n      <td>-0.028871</td>\n      <td>-0.076576</td>\n      <td>-0.069367</td>\n      <td>-0.081897</td>\n      <td>-0.040846</td>\n      <td>1</td>\n    </tr>\n    <tr>\n      <th>...</th>\n      <td>...</td>\n      <td>...</td>\n      <td>...</td>\n      <td>...</td>\n      <td>...</td>\n      <td>...</td>\n      <td>...</td>\n      <td>...</td>\n      <td>...</td>\n      <td>...</td>\n      <td>...</td>\n      <td>...</td>\n      <td>...</td>\n      <td>...</td>\n      <td>...</td>\n      <td>...</td>\n      <td>...</td>\n      <td>...</td>\n      <td>...</td>\n      <td>...</td>\n      <td>...</td>\n      <td>...</td>\n      <td>...</td>\n      <td>...</td>\n      <td>...</td>\n      <td>...</td>\n      <td>...</td>\n      <td>...</td>\n      <td>...</td>\n      <td>...</td>\n      <td>...</td>\n      <td>...</td>\n      <td>...</td>\n      <td>...</td>\n      <td>...</td>\n      <td>...</td>\n      <td>...</td>\n      <td>...</td>\n      <td>...</td>\n      <td>...</td>\n      <td>...</td>\n      <td>...</td>\n      <td>...</td>\n      <td>...</td>\n      <td>...</td>\n      <td>...</td>\n      <td>...</td>\n      <td>...</td>\n      <td>...</td>\n      <td>...</td>\n      <td>...</td>\n      <td>...</td>\n      <td>...</td>\n      <td>...</td>\n      <td>...</td>\n      <td>...</td>\n      <td>...</td>\n      <td>...</td>\n      <td>...</td>\n      <td>...</td>\n      <td>...</td>\n      <td>...</td>\n      <td>...</td>\n      <td>...</td>\n    </tr>\n    <tr>\n      <th>4801</th>\n      <td>-0.713319</td>\n      <td>-0.392652</td>\n      <td>0.566591</td>\n      <td>0.075220</td>\n      <td>-1.130605</td>\n      <td>-1.023389</td>\n      <td>-0.784617</td>\n      <td>-1.410697</td>\n      <td>-0.864029</td>\n      <td>-0.225798</td>\n      <td>-0.227828</td>\n      <td>-0.217527</td>\n      <td>2.059964</td>\n      <td>-0.280786</td>\n      <td>-0.445369</td>\n      <td>-0.050047</td>\n      <td>-0.014431</td>\n      <td>-0.032282</td>\n      <td>-0.014431</td>\n      <td>-0.014431</td>\n      <td>-0.050047</td>\n      <td>-0.113419</td>\n      <td>-0.014431</td>\n      <td>0.413391</td>\n      <td>-0.133418</td>\n      <td>-0.014431</td>\n      <td>-0.151668</td>\n      <td>-0.014431</td>\n      <td>-0.014431</td>\n      <td>-0.014431</td>\n      <td>-0.081897</td>\n      <td>-0.025</td>\n      <td>-0.040846</td>\n      <td>-0.028871</td>\n      <td>-0.135026</td>\n      <td>-0.035366</td>\n      <td>-0.02041</td>\n      <td>-0.028871</td>\n      <td>-0.025</td>\n      <td>-0.059599</td>\n      <td>-0.080599</td>\n      <td>-0.028871</td>\n      <td>-0.014431</td>\n      <td>-0.02041</td>\n      <td>-0.014431</td>\n      <td>-0.032282</td>\n      <td>-0.014431</td>\n      <td>-0.07928</td>\n      <td>-0.032282</td>\n      <td>-0.02041</td>\n      <td>-0.014431</td>\n      <td>-0.035366</td>\n      <td>-0.014431</td>\n      <td>-0.083176</td>\n      <td>-0.025</td>\n      <td>-0.067835</td>\n      <td>-0.014431</td>\n      <td>-0.02041</td>\n      <td>-0.028871</td>\n      <td>-0.076576</td>\n      <td>-0.069367</td>\n      <td>-0.081897</td>\n      <td>-0.040846</td>\n      <td>0</td>\n    </tr>\n    <tr>\n      <th>4802</th>\n      <td>-0.713319</td>\n      <td>-0.746559</td>\n      <td>0.566591</td>\n      <td>1.476921</td>\n      <td>-1.408744</td>\n      <td>-0.876962</td>\n      <td>-1.360876</td>\n      <td>-1.090270</td>\n      <td>1.157369</td>\n      <td>-0.225798</td>\n      <td>-0.227828</td>\n      <td>-0.217527</td>\n      <td>-0.485445</td>\n      <td>-0.280786</td>\n      <td>-0.445369</td>\n      <td>-0.050047</td>\n      <td>-0.014431</td>\n      <td>-0.032282</td>\n      <td>-0.014431</td>\n      <td>-0.014431</td>\n      <td>-0.050047</td>\n      <td>-0.113419</td>\n      <td>-0.014431</td>\n      <td>0.413391</td>\n      <td>-0.133418</td>\n      <td>-0.014431</td>\n      <td>-0.151668</td>\n      <td>-0.014431</td>\n      <td>-0.014431</td>\n      <td>-0.014431</td>\n      <td>-0.081897</td>\n      <td>-0.025</td>\n      <td>-0.040846</td>\n      <td>-0.028871</td>\n      <td>-0.135026</td>\n      <td>-0.035366</td>\n      <td>-0.02041</td>\n      <td>-0.028871</td>\n      <td>-0.025</td>\n      <td>-0.059599</td>\n      <td>-0.080599</td>\n      <td>-0.028871</td>\n      <td>-0.014431</td>\n      <td>-0.02041</td>\n      <td>-0.014431</td>\n      <td>-0.032282</td>\n      <td>-0.014431</td>\n      <td>-0.07928</td>\n      <td>-0.032282</td>\n      <td>-0.02041</td>\n      <td>-0.014431</td>\n      <td>-0.035366</td>\n      <td>-0.014431</td>\n      <td>-0.083176</td>\n      <td>-0.025</td>\n      <td>-0.067835</td>\n      <td>-0.014431</td>\n      <td>-0.02041</td>\n      <td>-0.028871</td>\n      <td>-0.076576</td>\n      <td>-0.069367</td>\n      <td>-0.081897</td>\n      <td>-0.040846</td>\n      <td>0</td>\n    </tr>\n  </tbody>\n</table>\n<p>4803 rows × 64 columns</p>\n</div>"
     },
     "metadata": {},
     "execution_count": 63
    }
   ],
   "source": [
    "svm_data['Success'] = np.where(df['popularity'] >= df['popularity'].mean(), 1,0)\n",
    "# knn_data.drop(columns =['standardised_popularity'], inplace= True)\n",
    "svm_data"
   ]
  },
  {
   "cell_type": "code",
   "execution_count": 64,
   "metadata": {},
   "outputs": [
    {
     "output_type": "execute_result",
     "data": {
      "text/plain": "array([[ 5.10718073,  2.43859561,  0.56659144, ..., -0.06936653,\n        -0.08189743, -0.04084611],\n       [ 6.65440223,  2.74826337,  0.56659144, ..., -0.06936653,\n        -0.08189743, -0.04084611],\n       [ 5.3036533 ,  1.81926009,  0.51796572, ..., -0.06936653,\n        -0.08189743, -0.04084611],\n       ...,\n       [-0.71331921,  0.58058904,  0.56659144, ..., -0.06936653,\n        -0.08189743, -0.04084611],\n       [-0.71331921, -0.39265249,  0.56659144, ..., -0.06936653,\n        -0.08189743, -0.04084611],\n       [-0.71331921, -0.7465585 ,  0.56659144, ..., -0.06936653,\n        -0.08189743, -0.04084611]])"
     },
     "metadata": {},
     "execution_count": 64
    }
   ],
   "source": [
    "svm_X = svm_data.iloc[:,:-1].values\n",
    "svm_y = svm_data.iloc[:,63].values\n",
    "svm_X"
   ]
  },
  {
   "cell_type": "code",
   "execution_count": 65,
   "metadata": {},
   "outputs": [
    {
     "output_type": "execute_result",
     "data": {
      "text/plain": "array([[-0.7360768 , -3.91603924],\n       [-0.92502123, -4.33079751],\n       [ 3.02369306, -3.35524406],\n       ...,\n       [-0.10448831,  0.03969974],\n       [-0.58100111, -0.46729426],\n       [-1.15569891,  1.27470105]])"
     },
     "metadata": {},
     "execution_count": 65
    }
   ],
   "source": [
    "pca = PCA(n_components = 2)\n",
    "svm_X = pca.fit_transform(svm_X)\n",
    "svm_X"
   ]
  },
  {
   "cell_type": "code",
   "execution_count": 66,
   "metadata": {},
   "outputs": [],
   "source": [
    "svmX_train, svmX_test, svmy_train, svmy_test = train_test_split(svm_X, svm_y, test_size=0.30)"
   ]
  },
  {
   "cell_type": "code",
   "execution_count": 67,
   "metadata": {
    "tags": []
   },
   "outputs": [
    {
     "output_type": "stream",
     "name": "stdout",
     "text": "linear : 72.03331020124914\npoly : 70.09021512838306\nrbf : 73.07425399028452\n"
    }
   ],
   "source": [
    "for kernel in ('linear', 'poly', 'rbf'):  \n",
    "    classifier = svm.SVC(kernel= kernel)\n",
    "    classifier.fit(svmX_train,svmy_train)\n",
    "    print(f'{kernel} : {classifier.score(svmX_test, svmy_test)*100}')"
   ]
  },
  {
   "cell_type": "code",
   "execution_count": null,
   "metadata": {},
   "outputs": [],
   "source": []
  }
 ]
}