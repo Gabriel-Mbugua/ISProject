{
 "metadata": {
  "language_info": {
   "codemirror_mode": {
    "name": "ipython",
    "version": 3
   },
   "file_extension": ".py",
   "mimetype": "text/x-python",
   "name": "python",
   "nbconvert_exporter": "python",
   "pygments_lexer": "ipython3",
   "version": "3.8.0-final"
  },
  "orig_nbformat": 2,
  "kernelspec": {
   "name": "python3",
   "display_name": "Python 3.8.0 64-bit ('venv')",
   "metadata": {
    "interpreter": {
     "hash": "5d2c55829449010a364ca5d9b7b0ad80c940a145ee4e1b25cad2e48c2adab434"
    }
   }
  }
 },
 "nbformat": 4,
 "nbformat_minor": 2,
 "cells": [
  {
   "cell_type": "code",
   "execution_count": 1,
   "metadata": {},
   "outputs": [],
   "source": [
    "import json\n",
    "import pandas as pd\n",
    "import numpy as np\n",
    "import json\n",
    "import seaborn as sns\n",
    "import datetime\n",
    "import matplotlib.pyplot as plt\n",
    "from joblib import dump, load\n",
    "from sklearn.metrics import classification_report, confusion_matrix, accuracy_score\n",
    "from sklearn.preprocessing import StandardScaler, PowerTransformer, OneHotEncoder, LabelEncoder\n",
    "from sklearn.decomposition import PCA\n",
    "from sklearn.pipeline import Pipeline\n",
    "from sklearn.impute import SimpleImputer\n",
    "from sklearn.model_selection import train_test_split\n",
    "from sklearn.ensemble import RandomForestClassifier\n",
    "from mlxtend.plotting import plot_decision_regions"
   ]
  },
  {
   "cell_type": "code",
   "execution_count": 2,
   "metadata": {},
   "outputs": [],
   "source": [
    "def load_tmdb_movies(path):\n",
    "    df = pd.read_csv(path, parse_dates=['release_date'])\n",
    "    df['release_date'] = pd.to_datetime(df['release_date']).apply(lambda x: x.date())\n",
    "    json_columns = ['genres', 'keywords', 'production_countries', 'production_companies', 'spoken_languages']\n",
    "    for column in json_columns:\n",
    "        df[column] = df[column].apply(json.loads)\n",
    "    return df"
   ]
  },
  {
   "cell_type": "code",
   "execution_count": 3,
   "metadata": {},
   "outputs": [],
   "source": [
    "def load_tmdb_credits(path):\n",
    "    df = pd.read_csv(path)\n",
    "    json_columns = ['cast', 'crew']\n",
    "    for column in json_columns:\n",
    "        df[column] = df[column].apply(json.loads)\n",
    "    return df"
   ]
  },
  {
   "cell_type": "code",
   "execution_count": 4,
   "metadata": {},
   "outputs": [],
   "source": [
    "LOST_COLUMNS = [\n",
    "    'actor_1_facebook_likes',\n",
    "    'actor_2_facebook_likes',\n",
    "    'actor_3_facebook_likes',\n",
    "    'aspect_ratio',\n",
    "    'cast_total_facebook_likes',\n",
    "    'color',\n",
    "    'content_rating',\n",
    "    'director_facebook_likes',\n",
    "    'facenumber_in_poster',\n",
    "    'movie_facebook_likes',\n",
    "    'movie_imdb_link',\n",
    "    'num_critic_for_reviews',\n",
    "    'num_user_for_reviews'\n",
    "]"
   ]
  },
  {
   "cell_type": "code",
   "execution_count": 5,
   "metadata": {},
   "outputs": [],
   "source": [
    "TMDB_TO_IMDB_SIMPLE_EQUIVALENCIES = {\n",
    "    'budget': 'budget',\n",
    "    'genres': 'genres',\n",
    "    'revenue': 'gross',\n",
    "    'title': 'movie_title',\n",
    "    'runtime': 'duration',\n",
    "    'original_language': 'language',  # it's possible that spoken_languages would be a better match\n",
    "    'keywords': 'plot_keywords',\n",
    "    'vote_count': 'num_voted_users',\n",
    "                                         }\n",
    "\n",
    "IMDB_COLUMNS_TO_REMAP = {'imdb_score': 'vote_average'}"
   ]
  },
  {
   "cell_type": "code",
   "execution_count": 6,
   "metadata": {},
   "outputs": [],
   "source": [
    "def safe_access(container, index_values):\n",
    "    # return a missing value rather than an error upon indexing/key failure\n",
    "    result = container\n",
    "    try:\n",
    "        for idx in index_values:\n",
    "            result = result[idx]\n",
    "        return result\n",
    "    except IndexError or KeyError:\n",
    "        return pd.np.nan"
   ]
  },
  {
   "cell_type": "code",
   "execution_count": 7,
   "metadata": {},
   "outputs": [],
   "source": [
    "def get_director(crew_data):\n",
    "    directors = [x['name'] for x in crew_data if x['job'] == 'Director']\n",
    "    return safe_access(directors, [0])"
   ]
  },
  {
   "cell_type": "code",
   "execution_count": 8,
   "metadata": {},
   "outputs": [],
   "source": [
    "def get_companies(company_data):\n",
    "    companies = [x['name'] for x in company_data if x['name'] == 'Director']\n",
    "    return safe_access(directors, [0])"
   ]
  },
  {
   "cell_type": "code",
   "execution_count": 9,
   "metadata": {},
   "outputs": [],
   "source": [
    "def pipe_flatten_names(keywords):\n",
    "    return '|'.join([x['name'] for x in keywords])"
   ]
  },
  {
   "cell_type": "code",
   "execution_count": 10,
   "metadata": {},
   "outputs": [],
   "source": [
    "def convert_to_original_format(movies, credits):\n",
    "    # Converts TMDb data to make it as compatible as possible with kernels built on the original version of the data.\n",
    "    tmdb_movies = movies.copy()\n",
    "    tmdb_movies.rename(columns=TMDB_TO_IMDB_SIMPLE_EQUIVALENCIES, inplace=True)\n",
    "    tmdb_movies['title_year'] = pd.to_datetime(tmdb_movies['release_date']).apply(lambda x: x.year)\n",
    "    # I'm assuming that the first production country is equivalent, but have not been able to validate this\n",
    "    tmdb_movies['country'] = tmdb_movies['production_countries'].apply(lambda x: safe_access(x, [0, 'name']))\n",
    "    tmdb_movies['company'] = tmdb_movies['production_companies'].apply(lambda x: safe_access(x, [0, 'name']))\n",
    "    tmdb_movies['language'] = tmdb_movies['spoken_languages'].apply(lambda x: safe_access(x, [0, 'name']))\n",
    "    # tmdb_movies['production_companies'] = tmdb_movies['production_companies'].apply(lambda x: safe_access(x, [0, 'name']))\n",
    "    tmdb_movies['director_name'] = credits['crew'].apply(get_director)\n",
    "    tmdb_movies['actor_1_name'] = credits['cast'].apply(lambda x: safe_access(x, [0, 'name']))\n",
    "    tmdb_movies['actor_2_name'] = credits['cast'].apply(lambda x: safe_access(x, [1, 'name']))\n",
    "    tmdb_movies['actor_3_name'] = credits['cast'].apply(lambda x: safe_access(x, [2, 'name']))\n",
    "    tmdb_movies['genres'] = tmdb_movies['genres'].apply(pipe_flatten_names)\n",
    "    tmdb_movies['plot_keywords'] = tmdb_movies['plot_keywords'].apply(pipe_flatten_names)\n",
    "    return tmdb_movies"
   ]
  },
  {
   "cell_type": "code",
   "execution_count": 11,
   "metadata": {},
   "outputs": [
    {
     "output_type": "execute_result",
     "data": {
      "text/plain": [
       "         budget                                    genres  \\\n",
       "0     237000000  Action|Adventure|Fantasy|Science Fiction   \n",
       "1     300000000                  Adventure|Fantasy|Action   \n",
       "...         ...                                       ...   \n",
       "4801          0                                             \n",
       "4802          0                               Documentary   \n",
       "\n",
       "                                          homepage      id  \\\n",
       "0                      http://www.avatarmovie.com/   19995   \n",
       "1     http://disney.go.com/disneypictures/pirates/     285   \n",
       "...                                            ...     ...   \n",
       "4801                   http://shanghaicalling.com/  126186   \n",
       "4802                                           NaN   25975   \n",
       "\n",
       "                                          plot_keywords language  \\\n",
       "0     culture clash|future|space war|space colony|so...  English   \n",
       "1     ocean|drug abuse|exotic island|east india trad...  English   \n",
       "...                                                 ...      ...   \n",
       "4801                                                     English   \n",
       "4802               obsession|camcorder|crush|dream girl  English   \n",
       "\n",
       "                                original_title  \\\n",
       "0                                       Avatar   \n",
       "1     Pirates of the Caribbean: At World's End   \n",
       "...                                        ...   \n",
       "4801                          Shanghai Calling   \n",
       "4802                         My Date with Drew   \n",
       "\n",
       "                                               overview  popularity  \\\n",
       "0     In the 22nd century, a paraplegic Marine is di...  150.437577   \n",
       "1     Captain Barbossa, long believed to be dead, ha...  139.082615   \n",
       "...                                                 ...         ...   \n",
       "4801  When ambitious New York attorney Sam is sent t...    0.857008   \n",
       "4802  Ever since the second grade when he first saw ...    1.929883   \n",
       "\n",
       "                                   production_companies  \\\n",
       "0     [{'name': 'Ingenious Film Partners', 'id': 289...   \n",
       "1     [{'name': 'Walt Disney Pictures', 'id': 2}, {'...   \n",
       "...                                                 ...   \n",
       "4801                                                 []   \n",
       "4802  [{'name': 'rusty bear entertainment', 'id': 87...   \n",
       "\n",
       "                                   production_countries release_date  \\\n",
       "0     [{'iso_3166_1': 'US', 'name': 'United States o...   2009-12-10   \n",
       "1     [{'iso_3166_1': 'US', 'name': 'United States o...   2007-05-19   \n",
       "...                                                 ...          ...   \n",
       "4801  [{'iso_3166_1': 'US', 'name': 'United States o...   2012-05-03   \n",
       "4802  [{'iso_3166_1': 'US', 'name': 'United States o...   2005-08-05   \n",
       "\n",
       "           gross  duration                                   spoken_languages  \\\n",
       "0     2787965087     162.0  [{'iso_639_1': 'en', 'name': 'English'}, {'iso...   \n",
       "1      961000000     169.0           [{'iso_639_1': 'en', 'name': 'English'}]   \n",
       "...          ...       ...                                                ...   \n",
       "4801           0      98.0           [{'iso_639_1': 'en', 'name': 'English'}]   \n",
       "4802           0      90.0           [{'iso_639_1': 'en', 'name': 'English'}]   \n",
       "\n",
       "        status                                         tagline  \\\n",
       "0     Released                     Enter the World of Pandora.   \n",
       "1     Released  At the end of the world, the adventure begins.   \n",
       "...        ...                                             ...   \n",
       "4801  Released                        A New Yorker in Shanghai   \n",
       "4802  Released                                             NaN   \n",
       "\n",
       "                                   movie_title  vote_average  num_voted_users  \\\n",
       "0                                       Avatar           7.2            11800   \n",
       "1     Pirates of the Caribbean: At World's End           6.9             4500   \n",
       "...                                        ...           ...              ...   \n",
       "4801                          Shanghai Calling           5.7                7   \n",
       "4802                         My Date with Drew           6.3               16   \n",
       "\n",
       "      title_year                   country                   company  \\\n",
       "0         2009.0  United States of America   Ingenious Film Partners   \n",
       "1         2007.0  United States of America      Walt Disney Pictures   \n",
       "...          ...                       ...                       ...   \n",
       "4801      2012.0  United States of America                       NaN   \n",
       "4802      2005.0  United States of America  rusty bear entertainment   \n",
       "\n",
       "         director_name     actor_1_name      actor_2_name      actor_3_name  \n",
       "0        James Cameron  Sam Worthington       Zoe Saldana  Sigourney Weaver  \n",
       "1       Gore Verbinski      Johnny Depp     Orlando Bloom   Keira Knightley  \n",
       "...                ...              ...               ...               ...  \n",
       "4801       Daniel Hsia    Daniel Henney       Eliza Coupe       Bill Paxton  \n",
       "4802  Brian Herzlinger   Drew Barrymore  Brian Herzlinger     Corey Feldman  \n",
       "\n",
       "[4803 rows x 27 columns]"
      ],
      "text/html": "<div>\n<style scoped>\n    .dataframe tbody tr th:only-of-type {\n        vertical-align: middle;\n    }\n\n    .dataframe tbody tr th {\n        vertical-align: top;\n    }\n\n    .dataframe thead th {\n        text-align: right;\n    }\n</style>\n<table border=\"1\" class=\"dataframe\">\n  <thead>\n    <tr style=\"text-align: right;\">\n      <th></th>\n      <th>budget</th>\n      <th>genres</th>\n      <th>homepage</th>\n      <th>id</th>\n      <th>plot_keywords</th>\n      <th>language</th>\n      <th>original_title</th>\n      <th>overview</th>\n      <th>popularity</th>\n      <th>production_companies</th>\n      <th>production_countries</th>\n      <th>release_date</th>\n      <th>gross</th>\n      <th>duration</th>\n      <th>spoken_languages</th>\n      <th>status</th>\n      <th>tagline</th>\n      <th>movie_title</th>\n      <th>vote_average</th>\n      <th>num_voted_users</th>\n      <th>title_year</th>\n      <th>country</th>\n      <th>company</th>\n      <th>director_name</th>\n      <th>actor_1_name</th>\n      <th>actor_2_name</th>\n      <th>actor_3_name</th>\n    </tr>\n  </thead>\n  <tbody>\n    <tr>\n      <th>0</th>\n      <td>237000000</td>\n      <td>Action|Adventure|Fantasy|Science Fiction</td>\n      <td>http://www.avatarmovie.com/</td>\n      <td>19995</td>\n      <td>culture clash|future|space war|space colony|so...</td>\n      <td>English</td>\n      <td>Avatar</td>\n      <td>In the 22nd century, a paraplegic Marine is di...</td>\n      <td>150.437577</td>\n      <td>[{'name': 'Ingenious Film Partners', 'id': 289...</td>\n      <td>[{'iso_3166_1': 'US', 'name': 'United States o...</td>\n      <td>2009-12-10</td>\n      <td>2787965087</td>\n      <td>162.0</td>\n      <td>[{'iso_639_1': 'en', 'name': 'English'}, {'iso...</td>\n      <td>Released</td>\n      <td>Enter the World of Pandora.</td>\n      <td>Avatar</td>\n      <td>7.2</td>\n      <td>11800</td>\n      <td>2009.0</td>\n      <td>United States of America</td>\n      <td>Ingenious Film Partners</td>\n      <td>James Cameron</td>\n      <td>Sam Worthington</td>\n      <td>Zoe Saldana</td>\n      <td>Sigourney Weaver</td>\n    </tr>\n    <tr>\n      <th>1</th>\n      <td>300000000</td>\n      <td>Adventure|Fantasy|Action</td>\n      <td>http://disney.go.com/disneypictures/pirates/</td>\n      <td>285</td>\n      <td>ocean|drug abuse|exotic island|east india trad...</td>\n      <td>English</td>\n      <td>Pirates of the Caribbean: At World's End</td>\n      <td>Captain Barbossa, long believed to be dead, ha...</td>\n      <td>139.082615</td>\n      <td>[{'name': 'Walt Disney Pictures', 'id': 2}, {'...</td>\n      <td>[{'iso_3166_1': 'US', 'name': 'United States o...</td>\n      <td>2007-05-19</td>\n      <td>961000000</td>\n      <td>169.0</td>\n      <td>[{'iso_639_1': 'en', 'name': 'English'}]</td>\n      <td>Released</td>\n      <td>At the end of the world, the adventure begins.</td>\n      <td>Pirates of the Caribbean: At World's End</td>\n      <td>6.9</td>\n      <td>4500</td>\n      <td>2007.0</td>\n      <td>United States of America</td>\n      <td>Walt Disney Pictures</td>\n      <td>Gore Verbinski</td>\n      <td>Johnny Depp</td>\n      <td>Orlando Bloom</td>\n      <td>Keira Knightley</td>\n    </tr>\n    <tr>\n      <th>...</th>\n      <td>...</td>\n      <td>...</td>\n      <td>...</td>\n      <td>...</td>\n      <td>...</td>\n      <td>...</td>\n      <td>...</td>\n      <td>...</td>\n      <td>...</td>\n      <td>...</td>\n      <td>...</td>\n      <td>...</td>\n      <td>...</td>\n      <td>...</td>\n      <td>...</td>\n      <td>...</td>\n      <td>...</td>\n      <td>...</td>\n      <td>...</td>\n      <td>...</td>\n      <td>...</td>\n      <td>...</td>\n      <td>...</td>\n      <td>...</td>\n      <td>...</td>\n      <td>...</td>\n      <td>...</td>\n    </tr>\n    <tr>\n      <th>4801</th>\n      <td>0</td>\n      <td></td>\n      <td>http://shanghaicalling.com/</td>\n      <td>126186</td>\n      <td></td>\n      <td>English</td>\n      <td>Shanghai Calling</td>\n      <td>When ambitious New York attorney Sam is sent t...</td>\n      <td>0.857008</td>\n      <td>[]</td>\n      <td>[{'iso_3166_1': 'US', 'name': 'United States o...</td>\n      <td>2012-05-03</td>\n      <td>0</td>\n      <td>98.0</td>\n      <td>[{'iso_639_1': 'en', 'name': 'English'}]</td>\n      <td>Released</td>\n      <td>A New Yorker in Shanghai</td>\n      <td>Shanghai Calling</td>\n      <td>5.7</td>\n      <td>7</td>\n      <td>2012.0</td>\n      <td>United States of America</td>\n      <td>NaN</td>\n      <td>Daniel Hsia</td>\n      <td>Daniel Henney</td>\n      <td>Eliza Coupe</td>\n      <td>Bill Paxton</td>\n    </tr>\n    <tr>\n      <th>4802</th>\n      <td>0</td>\n      <td>Documentary</td>\n      <td>NaN</td>\n      <td>25975</td>\n      <td>obsession|camcorder|crush|dream girl</td>\n      <td>English</td>\n      <td>My Date with Drew</td>\n      <td>Ever since the second grade when he first saw ...</td>\n      <td>1.929883</td>\n      <td>[{'name': 'rusty bear entertainment', 'id': 87...</td>\n      <td>[{'iso_3166_1': 'US', 'name': 'United States o...</td>\n      <td>2005-08-05</td>\n      <td>0</td>\n      <td>90.0</td>\n      <td>[{'iso_639_1': 'en', 'name': 'English'}]</td>\n      <td>Released</td>\n      <td>NaN</td>\n      <td>My Date with Drew</td>\n      <td>6.3</td>\n      <td>16</td>\n      <td>2005.0</td>\n      <td>United States of America</td>\n      <td>rusty bear entertainment</td>\n      <td>Brian Herzlinger</td>\n      <td>Drew Barrymore</td>\n      <td>Brian Herzlinger</td>\n      <td>Corey Feldman</td>\n    </tr>\n  </tbody>\n</table>\n<p>4803 rows × 27 columns</p>\n</div>"
     },
     "metadata": {},
     "execution_count": 11
    }
   ],
   "source": [
    "movies = load_tmdb_movies(\"Data/Original/tmdb_5000_movies.csv\")\n",
    "credits = load_tmdb_credits(\"Data/tmdb_5000_credits.csv\")\n",
    "original_format = convert_to_original_format(movies, credits)\n",
    "pd.set_option('display.max_columns', None)\n",
    "pd.set_option('display.max_rows', 5)\n",
    "original_format"
   ]
  },
  {
   "cell_type": "code",
   "execution_count": 12,
   "metadata": {},
   "outputs": [
    {
     "output_type": "execute_result",
     "data": {
      "text/plain": [
       "Index(['budget', 'language', 'popularity', 'release_date', 'duration',\n",
       "       'movie_title', 'country', 'company', 'director_name', 'actor_1_name',\n",
       "       'actor_2_name', 'actor_3_name'],\n",
       "      dtype='object')"
      ]
     },
     "metadata": {},
     "execution_count": 12
    }
   ],
   "source": [
    "df = original_format.copy()\n",
    "features_to_remove =['id','original_title','overview', 'homepage', 'status' , 'plot_keywords', 'spoken_languages', 'gross', 'title_year', 'production_countries','production_companies','tagline', 'vote_average','num_voted_users', 'genres'\n",
    "]\n",
    "# df['Success'] = np.where(df['gross'] >= df['gross'].mean(), 1,0)\n",
    "# target = df['Success']\n",
    "df.drop(features_to_remove, axis = 1, inplace= True)\n",
    "df.columns"
   ]
  },
  {
   "cell_type": "code",
   "execution_count": 13,
   "metadata": {},
   "outputs": [],
   "source": [
    "# df = original_format.copy()\n",
    "# features_to_remove =['id','original_title','overview', 'movie_title', 'homepage', 'status' , 'plot_keywords', 'spoken_languages', 'popularity', 'title_year', 'production_countries','production_companies','tagline', 'vote_average','num_voted_users', 'genres', 'Success']\n",
    "# df['Success'] = np.where(df['popularity'] >= df['popularity'].mean(), 1,0)\n",
    "# target = df['Success']\n",
    "# df.drop(features_to_remove, axis = 1, inplace= True)\n",
    "# df.columns"
   ]
  },
  {
   "cell_type": "code",
   "execution_count": 14,
   "metadata": {},
   "outputs": [
    {
     "output_type": "stream",
     "name": "stdout",
     "text": [
      "language : 1.7905475744326462\nrelease_date : 0.020820320632937747\nduration : 0.041640641265875494\ncountry : 3.622735790131168\ncompany : 7.30793254216115\ndirector_name : 0.6246096189881324\nactor_1_name : 0.8952737872163231\nactor_2_name : 1.1034769935457007\nactor_3_name : 1.311680199875078\n"
     ]
    },
    {
     "output_type": "execute_result",
     "data": {
      "text/plain": [
       "budget          False\n",
       "language        False\n",
       "                ...  \n",
       "actor_2_name    False\n",
       "actor_3_name    False\n",
       "Length: 12, dtype: bool"
      ]
     },
     "metadata": {},
     "execution_count": 14
    }
   ],
   "source": [
    "replace_with_zero = ['duration','budget']\n",
    "\n",
    "missing_val_cols = list(df.columns[df.isna().any()])\n",
    "for col in missing_val_cols:\n",
    "  if col not in replace_with_zero:\n",
    "    miss_percentage = ((df[col].isna().sum())/4803) * 100 \n",
    "    print(f'{col} : {str(miss_percentage)}')\n",
    "    df[col].fillna('Missing', inplace=True)\n",
    "  else:\n",
    "    miss_percentage = ((df[col].isna().sum())/4803) * 100 \n",
    "    print(f'{col} : {str(miss_percentage)}')\n",
    "     \n",
    "\n",
    "df.isna().any()"
   ]
  },
  {
   "cell_type": "code",
   "execution_count": 15,
   "metadata": {},
   "outputs": [],
   "source": [
    "df['duration'].fillna(0, inplace=True)"
   ]
  },
  {
   "cell_type": "code",
   "execution_count": 16,
   "metadata": {},
   "outputs": [
    {
     "output_type": "stream",
     "name": "stdout",
     "text": [
      "budget   0\nlanguage   0\npopularity   0\nrelease_date   0\nduration   0\nmovie_title   0\ncountry   0\ncompany   0\ndirector_name   0\nactor_1_name   0\nactor_2_name   0\nactor_3_name   0\n"
     ]
    }
   ],
   "source": [
    "cols = df.columns\n",
    "for col in cols:\n",
    "    print(col,\" \",df[col].isna().sum())"
   ]
  },
  {
   "cell_type": "code",
   "execution_count": 17,
   "metadata": {},
   "outputs": [
    {
     "output_type": "execute_result",
     "data": {
      "text/plain": [
       "      budget  language  popularity  duration  \\\n",
       "0  237000000   English  150.437577     162.0   \n",
       "1  300000000   English  139.082615     169.0   \n",
       "2  245000000  Français  107.376788     148.0   \n",
       "\n",
       "                                movie_title                   country  \\\n",
       "0                                    Avatar  United States of America   \n",
       "1  Pirates of the Caribbean: At World's End  United States of America   \n",
       "2                                   Spectre            United Kingdom   \n",
       "\n",
       "                   company   director_name     actor_1_name     actor_2_name  \\\n",
       "0  Ingenious Film Partners   James Cameron  Sam Worthington      Zoe Saldana   \n",
       "1     Walt Disney Pictures  Gore Verbinski      Johnny Depp    Orlando Bloom   \n",
       "2        Columbia Pictures      Sam Mendes     Daniel Craig  Christoph Waltz   \n",
       "\n",
       "       actor_3_name dayofrelease  \n",
       "0  Sigourney Weaver     Thursday  \n",
       "1   Keira Knightley     Saturday  \n",
       "2       Léa Seydoux       Monday  "
      ],
      "text/html": "<div>\n<style scoped>\n    .dataframe tbody tr th:only-of-type {\n        vertical-align: middle;\n    }\n\n    .dataframe tbody tr th {\n        vertical-align: top;\n    }\n\n    .dataframe thead th {\n        text-align: right;\n    }\n</style>\n<table border=\"1\" class=\"dataframe\">\n  <thead>\n    <tr style=\"text-align: right;\">\n      <th></th>\n      <th>budget</th>\n      <th>language</th>\n      <th>popularity</th>\n      <th>duration</th>\n      <th>movie_title</th>\n      <th>country</th>\n      <th>company</th>\n      <th>director_name</th>\n      <th>actor_1_name</th>\n      <th>actor_2_name</th>\n      <th>actor_3_name</th>\n      <th>dayofrelease</th>\n    </tr>\n  </thead>\n  <tbody>\n    <tr>\n      <th>0</th>\n      <td>237000000</td>\n      <td>English</td>\n      <td>150.437577</td>\n      <td>162.0</td>\n      <td>Avatar</td>\n      <td>United States of America</td>\n      <td>Ingenious Film Partners</td>\n      <td>James Cameron</td>\n      <td>Sam Worthington</td>\n      <td>Zoe Saldana</td>\n      <td>Sigourney Weaver</td>\n      <td>Thursday</td>\n    </tr>\n    <tr>\n      <th>1</th>\n      <td>300000000</td>\n      <td>English</td>\n      <td>139.082615</td>\n      <td>169.0</td>\n      <td>Pirates of the Caribbean: At World's End</td>\n      <td>United States of America</td>\n      <td>Walt Disney Pictures</td>\n      <td>Gore Verbinski</td>\n      <td>Johnny Depp</td>\n      <td>Orlando Bloom</td>\n      <td>Keira Knightley</td>\n      <td>Saturday</td>\n    </tr>\n    <tr>\n      <th>2</th>\n      <td>245000000</td>\n      <td>Français</td>\n      <td>107.376788</td>\n      <td>148.0</td>\n      <td>Spectre</td>\n      <td>United Kingdom</td>\n      <td>Columbia Pictures</td>\n      <td>Sam Mendes</td>\n      <td>Daniel Craig</td>\n      <td>Christoph Waltz</td>\n      <td>Léa Seydoux</td>\n      <td>Monday</td>\n    </tr>\n  </tbody>\n</table>\n</div>"
     },
     "metadata": {},
     "execution_count": 17
    }
   ],
   "source": [
    "df['release_date'] = pd.to_datetime(df['release_date'].astype(str),errors='coerce')\n",
    "df['dayofrelease']=df['release_date'].dt.strftime('%A')\n",
    "df.drop(columns=['release_date'], inplace = True)\n",
    "df.head(3)"
   ]
  },
  {
   "cell_type": "code",
   "execution_count": 18,
   "metadata": {},
   "outputs": [
    {
     "output_type": "execute_result",
     "data": {
      "text/plain": [
       "         budget language  popularity  duration  \\\n",
       "0     237000000  english  150.437577     162.0   \n",
       "1     300000000  english  139.082615     169.0   \n",
       "...         ...      ...         ...       ...   \n",
       "4801          0  english    0.857008      98.0   \n",
       "4802          0  english    1.929883      90.0   \n",
       "\n",
       "                                   movie_title                country  \\\n",
       "0                                       Avatar  unitedstatesofamerica   \n",
       "1     Pirates of the Caribbean: At World's End  unitedstatesofamerica   \n",
       "...                                        ...                    ...   \n",
       "4801                          Shanghai Calling  unitedstatesofamerica   \n",
       "4802                         My Date with Drew  unitedstatesofamerica   \n",
       "\n",
       "                     company    director_name    actor_1_name  \\\n",
       "0      ingeniousfilmpartners     jamescameron  samworthington   \n",
       "1         waltdisneypictures    goreverbinski      johnnydepp   \n",
       "...                      ...              ...             ...   \n",
       "4801                 missing       danielhsia    danielhenney   \n",
       "4802  rustybearentertainment  brianherzlinger   drewbarrymore   \n",
       "\n",
       "         actor_2_name     actor_3_name dayofrelease  \n",
       "0          zoesaldana  sigourneyweaver     thursday  \n",
       "1        orlandobloom   keiraknightley     saturday  \n",
       "...               ...              ...          ...  \n",
       "4801       elizacoupe       billpaxton     thursday  \n",
       "4802  brianherzlinger     coreyfeldman       friday  \n",
       "\n",
       "[4803 rows x 12 columns]"
      ],
      "text/html": "<div>\n<style scoped>\n    .dataframe tbody tr th:only-of-type {\n        vertical-align: middle;\n    }\n\n    .dataframe tbody tr th {\n        vertical-align: top;\n    }\n\n    .dataframe thead th {\n        text-align: right;\n    }\n</style>\n<table border=\"1\" class=\"dataframe\">\n  <thead>\n    <tr style=\"text-align: right;\">\n      <th></th>\n      <th>budget</th>\n      <th>language</th>\n      <th>popularity</th>\n      <th>duration</th>\n      <th>movie_title</th>\n      <th>country</th>\n      <th>company</th>\n      <th>director_name</th>\n      <th>actor_1_name</th>\n      <th>actor_2_name</th>\n      <th>actor_3_name</th>\n      <th>dayofrelease</th>\n    </tr>\n  </thead>\n  <tbody>\n    <tr>\n      <th>0</th>\n      <td>237000000</td>\n      <td>english</td>\n      <td>150.437577</td>\n      <td>162.0</td>\n      <td>Avatar</td>\n      <td>unitedstatesofamerica</td>\n      <td>ingeniousfilmpartners</td>\n      <td>jamescameron</td>\n      <td>samworthington</td>\n      <td>zoesaldana</td>\n      <td>sigourneyweaver</td>\n      <td>thursday</td>\n    </tr>\n    <tr>\n      <th>1</th>\n      <td>300000000</td>\n      <td>english</td>\n      <td>139.082615</td>\n      <td>169.0</td>\n      <td>Pirates of the Caribbean: At World's End</td>\n      <td>unitedstatesofamerica</td>\n      <td>waltdisneypictures</td>\n      <td>goreverbinski</td>\n      <td>johnnydepp</td>\n      <td>orlandobloom</td>\n      <td>keiraknightley</td>\n      <td>saturday</td>\n    </tr>\n    <tr>\n      <th>...</th>\n      <td>...</td>\n      <td>...</td>\n      <td>...</td>\n      <td>...</td>\n      <td>...</td>\n      <td>...</td>\n      <td>...</td>\n      <td>...</td>\n      <td>...</td>\n      <td>...</td>\n      <td>...</td>\n      <td>...</td>\n    </tr>\n    <tr>\n      <th>4801</th>\n      <td>0</td>\n      <td>english</td>\n      <td>0.857008</td>\n      <td>98.0</td>\n      <td>Shanghai Calling</td>\n      <td>unitedstatesofamerica</td>\n      <td>missing</td>\n      <td>danielhsia</td>\n      <td>danielhenney</td>\n      <td>elizacoupe</td>\n      <td>billpaxton</td>\n      <td>thursday</td>\n    </tr>\n    <tr>\n      <th>4802</th>\n      <td>0</td>\n      <td>english</td>\n      <td>1.929883</td>\n      <td>90.0</td>\n      <td>My Date with Drew</td>\n      <td>unitedstatesofamerica</td>\n      <td>rustybearentertainment</td>\n      <td>brianherzlinger</td>\n      <td>drewbarrymore</td>\n      <td>brianherzlinger</td>\n      <td>coreyfeldman</td>\n      <td>friday</td>\n    </tr>\n  </tbody>\n</table>\n<p>4803 rows × 12 columns</p>\n</div>"
     },
     "metadata": {},
     "execution_count": 18
    }
   ],
   "source": [
    "# Parse the stringified features into their corresponding python objects\n",
    "from ast import literal_eval\n",
    "\n",
    "# Function to convert all strings to lower case and strip names of spaces\n",
    "def clean_data(x):\n",
    "    if isinstance(x, list):\n",
    "        return [str.lower(i.replace(\" \", \"\")) for i in x]\n",
    "    else:\n",
    "        #Check if director exists. If not, return empty string\n",
    "        if isinstance(x, str):\n",
    "            return str.lower(x.replace(\" \", \"\"))\n",
    "        else:\n",
    "            return ''\n",
    "\n",
    "\n",
    "features = ['actor_1_name','actor_2_name','actor_3_name','director_name','country', 'company', 'dayofrelease', 'language']\n",
    "for feature in features:\n",
    "    df[feature] = df[feature].apply(clean_data)\n",
    "\n",
    "df"
   ]
  },
  {
   "cell_type": "code",
   "execution_count": 19,
   "metadata": {},
   "outputs": [
    {
     "output_type": "error",
     "ename": "NameError",
     "evalue": "name 'target' is not defined",
     "traceback": [
      "\u001b[1;31m---------------------------------------------------------------------------\u001b[0m",
      "\u001b[1;31mNameError\u001b[0m                                 Traceback (most recent call last)",
      "\u001b[1;32m<ipython-input-19-0ba54b11d49a>\u001b[0m in \u001b[0;36m<module>\u001b[1;34m\u001b[0m\n\u001b[1;32m----> 1\u001b[1;33m \u001b[0mtarget\u001b[0m\u001b[1;33m.\u001b[0m\u001b[0mvalue_counts\u001b[0m\u001b[1;33m(\u001b[0m\u001b[1;33m)\u001b[0m\u001b[1;33m\u001b[0m\u001b[1;33m\u001b[0m\u001b[0m\n\u001b[0m",
      "\u001b[1;31mNameError\u001b[0m: name 'target' is not defined"
     ]
    }
   ],
   "source": [
    "target.value_counts()"
   ]
  },
  {
   "source": [
    "# df['Success'] = np.where(df['gross'] >= df['gross'].mean(), 1,0)\n",
    "# df.drop(['gross'], axis =1, inplace=True)\n",
    "df"
   ],
   "cell_type": "code",
   "metadata": {},
   "execution_count": 259,
   "outputs": [
    {
     "output_type": "execute_result",
     "data": {
      "text/plain": [
       "         budget language  popularity  duration  \\\n",
       "0     237000000  english  150.437577     162.0   \n",
       "1     300000000  english  139.082615     169.0   \n",
       "...         ...      ...         ...       ...   \n",
       "4801          0  english    0.857008      98.0   \n",
       "4802          0  english    1.929883      90.0   \n",
       "\n",
       "                                   movie_title                country  \\\n",
       "0                                       Avatar  unitedstatesofamerica   \n",
       "1     Pirates of the Caribbean: At World's End  unitedstatesofamerica   \n",
       "...                                        ...                    ...   \n",
       "4801                          Shanghai Calling  unitedstatesofamerica   \n",
       "4802                         My Date with Drew  unitedstatesofamerica   \n",
       "\n",
       "                     company    director_name    actor_1_name  \\\n",
       "0      ingeniousfilmpartners     jamescameron  samworthington   \n",
       "1         waltdisneypictures    goreverbinski      johnnydepp   \n",
       "...                      ...              ...             ...   \n",
       "4801                 missing       danielhsia    danielhenney   \n",
       "4802  rustybearentertainment  brianherzlinger   drewbarrymore   \n",
       "\n",
       "         actor_2_name     actor_3_name dayofrelease  \n",
       "0          zoesaldana  sigourneyweaver     thursday  \n",
       "1        orlandobloom   keiraknightley     saturday  \n",
       "...               ...              ...          ...  \n",
       "4801       elizacoupe       billpaxton     thursday  \n",
       "4802  brianherzlinger     coreyfeldman       friday  \n",
       "\n",
       "[4803 rows x 12 columns]"
      ],
      "text/html": "<div>\n<style scoped>\n    .dataframe tbody tr th:only-of-type {\n        vertical-align: middle;\n    }\n\n    .dataframe tbody tr th {\n        vertical-align: top;\n    }\n\n    .dataframe thead th {\n        text-align: right;\n    }\n</style>\n<table border=\"1\" class=\"dataframe\">\n  <thead>\n    <tr style=\"text-align: right;\">\n      <th></th>\n      <th>budget</th>\n      <th>language</th>\n      <th>popularity</th>\n      <th>duration</th>\n      <th>movie_title</th>\n      <th>country</th>\n      <th>company</th>\n      <th>director_name</th>\n      <th>actor_1_name</th>\n      <th>actor_2_name</th>\n      <th>actor_3_name</th>\n      <th>dayofrelease</th>\n    </tr>\n  </thead>\n  <tbody>\n    <tr>\n      <th>0</th>\n      <td>237000000</td>\n      <td>english</td>\n      <td>150.437577</td>\n      <td>162.0</td>\n      <td>Avatar</td>\n      <td>unitedstatesofamerica</td>\n      <td>ingeniousfilmpartners</td>\n      <td>jamescameron</td>\n      <td>samworthington</td>\n      <td>zoesaldana</td>\n      <td>sigourneyweaver</td>\n      <td>thursday</td>\n    </tr>\n    <tr>\n      <th>1</th>\n      <td>300000000</td>\n      <td>english</td>\n      <td>139.082615</td>\n      <td>169.0</td>\n      <td>Pirates of the Caribbean: At World's End</td>\n      <td>unitedstatesofamerica</td>\n      <td>waltdisneypictures</td>\n      <td>goreverbinski</td>\n      <td>johnnydepp</td>\n      <td>orlandobloom</td>\n      <td>keiraknightley</td>\n      <td>saturday</td>\n    </tr>\n    <tr>\n      <th>...</th>\n      <td>...</td>\n      <td>...</td>\n      <td>...</td>\n      <td>...</td>\n      <td>...</td>\n      <td>...</td>\n      <td>...</td>\n      <td>...</td>\n      <td>...</td>\n      <td>...</td>\n      <td>...</td>\n      <td>...</td>\n    </tr>\n    <tr>\n      <th>4801</th>\n      <td>0</td>\n      <td>english</td>\n      <td>0.857008</td>\n      <td>98.0</td>\n      <td>Shanghai Calling</td>\n      <td>unitedstatesofamerica</td>\n      <td>missing</td>\n      <td>danielhsia</td>\n      <td>danielhenney</td>\n      <td>elizacoupe</td>\n      <td>billpaxton</td>\n      <td>thursday</td>\n    </tr>\n    <tr>\n      <th>4802</th>\n      <td>0</td>\n      <td>english</td>\n      <td>1.929883</td>\n      <td>90.0</td>\n      <td>My Date with Drew</td>\n      <td>unitedstatesofamerica</td>\n      <td>rustybearentertainment</td>\n      <td>brianherzlinger</td>\n      <td>drewbarrymore</td>\n      <td>brianherzlinger</td>\n      <td>coreyfeldman</td>\n      <td>friday</td>\n    </tr>\n  </tbody>\n</table>\n<p>4803 rows × 12 columns</p>\n</div>"
     },
     "metadata": {},
     "execution_count": 259
    }
   ]
  },
  {
   "cell_type": "code",
   "execution_count": 404,
   "metadata": {},
   "outputs": [
    {
     "output_type": "execute_result",
     "data": {
      "text/plain": [
       "         budget language  duration                               movie_title  \\\n",
       "0     237000000  english     162.0                                    Avatar   \n",
       "1     300000000  english     169.0  Pirates of the Caribbean: At World's End   \n",
       "...         ...      ...       ...                                       ...   \n",
       "4801          0  english      98.0                          Shanghai Calling   \n",
       "4802          0  english      90.0                         My Date with Drew   \n",
       "\n",
       "                    country                 company    director_name  \\\n",
       "0     unitedstatesofamerica   ingeniousfilmpartners     jamescameron   \n",
       "1     unitedstatesofamerica      waltdisneypictures    goreverbinski   \n",
       "...                     ...                     ...              ...   \n",
       "4801  unitedstatesofamerica                 missing       danielhsia   \n",
       "4802  unitedstatesofamerica  rustybearentertainment  brianherzlinger   \n",
       "\n",
       "        actor_1_name     actor_2_name     actor_3_name dayofrelease  \n",
       "0     samworthington       zoesaldana  sigourneyweaver     thursday  \n",
       "1         johnnydepp     orlandobloom   keiraknightley     saturday  \n",
       "...              ...              ...              ...          ...  \n",
       "4801    danielhenney       elizacoupe       billpaxton     thursday  \n",
       "4802   drewbarrymore  brianherzlinger     coreyfeldman       friday  \n",
       "\n",
       "[4803 rows x 11 columns]"
      ],
      "text/html": "<div>\n<style scoped>\n    .dataframe tbody tr th:only-of-type {\n        vertical-align: middle;\n    }\n\n    .dataframe tbody tr th {\n        vertical-align: top;\n    }\n\n    .dataframe thead th {\n        text-align: right;\n    }\n</style>\n<table border=\"1\" class=\"dataframe\">\n  <thead>\n    <tr style=\"text-align: right;\">\n      <th></th>\n      <th>budget</th>\n      <th>language</th>\n      <th>duration</th>\n      <th>movie_title</th>\n      <th>country</th>\n      <th>company</th>\n      <th>director_name</th>\n      <th>actor_1_name</th>\n      <th>actor_2_name</th>\n      <th>actor_3_name</th>\n      <th>dayofrelease</th>\n    </tr>\n  </thead>\n  <tbody>\n    <tr>\n      <th>0</th>\n      <td>237000000</td>\n      <td>english</td>\n      <td>162.0</td>\n      <td>Avatar</td>\n      <td>unitedstatesofamerica</td>\n      <td>ingeniousfilmpartners</td>\n      <td>jamescameron</td>\n      <td>samworthington</td>\n      <td>zoesaldana</td>\n      <td>sigourneyweaver</td>\n      <td>thursday</td>\n    </tr>\n    <tr>\n      <th>1</th>\n      <td>300000000</td>\n      <td>english</td>\n      <td>169.0</td>\n      <td>Pirates of the Caribbean: At World's End</td>\n      <td>unitedstatesofamerica</td>\n      <td>waltdisneypictures</td>\n      <td>goreverbinski</td>\n      <td>johnnydepp</td>\n      <td>orlandobloom</td>\n      <td>keiraknightley</td>\n      <td>saturday</td>\n    </tr>\n    <tr>\n      <th>...</th>\n      <td>...</td>\n      <td>...</td>\n      <td>...</td>\n      <td>...</td>\n      <td>...</td>\n      <td>...</td>\n      <td>...</td>\n      <td>...</td>\n      <td>...</td>\n      <td>...</td>\n      <td>...</td>\n    </tr>\n    <tr>\n      <th>4801</th>\n      <td>0</td>\n      <td>english</td>\n      <td>98.0</td>\n      <td>Shanghai Calling</td>\n      <td>unitedstatesofamerica</td>\n      <td>missing</td>\n      <td>danielhsia</td>\n      <td>danielhenney</td>\n      <td>elizacoupe</td>\n      <td>billpaxton</td>\n      <td>thursday</td>\n    </tr>\n    <tr>\n      <th>4802</th>\n      <td>0</td>\n      <td>english</td>\n      <td>90.0</td>\n      <td>My Date with Drew</td>\n      <td>unitedstatesofamerica</td>\n      <td>rustybearentertainment</td>\n      <td>brianherzlinger</td>\n      <td>drewbarrymore</td>\n      <td>brianherzlinger</td>\n      <td>coreyfeldman</td>\n      <td>friday</td>\n    </tr>\n  </tbody>\n</table>\n<p>4803 rows × 11 columns</p>\n</div>"
     },
     "metadata": {},
     "execution_count": 404
    }
   ],
   "source": [
    "X = df.copy()\n",
    "y = X.pop('popularity')\n",
    "X"
   ]
  },
  {
   "cell_type": "code",
   "execution_count": 405,
   "metadata": {},
   "outputs": [],
   "source": [
    "from sklearn.model_selection import GroupShuffleSplit\n",
    "\n",
    "X_train, X_valid, y_train, y_valid = train_test_split(X, y, test_size=0.30)\n",
    "def group_split(X, y, group, train_size=0.75):\n",
    "    splitter = GroupShuffleSplit(train_size=train_size)\n",
    "    train, test = next(splitter.split(X, y, groups=group))\n",
    "    return (X.iloc[train], X.iloc[test], y.iloc[train], y.iloc[test])\n",
    "\n",
    "X_train, X_valid, y_train, y_valid = group_split(X, y, X['movie_title'])"
   ]
  },
  {
   "cell_type": "code",
   "execution_count": 406,
   "metadata": {},
   "outputs": [
    {
     "output_type": "execute_result",
     "data": {
      "text/plain": [
       "      budget  language  duration                               movie_title  \\\n",
       "1  300000000   english     169.0  Pirates of the Caribbean: At World's End   \n",
       "2  245000000  français     148.0                                   Spectre   \n",
       "3  250000000   english     165.0                     The Dark Knight Rises   \n",
       "4  260000000   english     132.0                               John Carter   \n",
       "5  258000000   english     139.0                              Spider-Man 3   \n",
       "\n",
       "                 country             company     director_name   actor_1_name  \\\n",
       "1  unitedstatesofamerica  waltdisneypictures     goreverbinski     johnnydepp   \n",
       "2          unitedkingdom    columbiapictures         sammendes    danielcraig   \n",
       "3  unitedstatesofamerica   legendarypictures  christophernolan  christianbale   \n",
       "4  unitedstatesofamerica  waltdisneypictures     andrewstanton   taylorkitsch   \n",
       "5  unitedstatesofamerica    columbiapictures          samraimi   tobeymaguire   \n",
       "\n",
       "     actor_2_name    actor_3_name dayofrelease  \n",
       "1    orlandobloom  keiraknightley     saturday  \n",
       "2  christophwaltz      léaseydoux       monday  \n",
       "3    michaelcaine      garyoldman       monday  \n",
       "4     lynncollins  samanthamorton    wednesday  \n",
       "5    kirstendunst     jamesfranco      tuesday  "
      ],
      "text/html": "<div>\n<style scoped>\n    .dataframe tbody tr th:only-of-type {\n        vertical-align: middle;\n    }\n\n    .dataframe tbody tr th {\n        vertical-align: top;\n    }\n\n    .dataframe thead th {\n        text-align: right;\n    }\n</style>\n<table border=\"1\" class=\"dataframe\">\n  <thead>\n    <tr style=\"text-align: right;\">\n      <th></th>\n      <th>budget</th>\n      <th>language</th>\n      <th>duration</th>\n      <th>movie_title</th>\n      <th>country</th>\n      <th>company</th>\n      <th>director_name</th>\n      <th>actor_1_name</th>\n      <th>actor_2_name</th>\n      <th>actor_3_name</th>\n      <th>dayofrelease</th>\n    </tr>\n  </thead>\n  <tbody>\n    <tr>\n      <th>1</th>\n      <td>300000000</td>\n      <td>english</td>\n      <td>169.0</td>\n      <td>Pirates of the Caribbean: At World's End</td>\n      <td>unitedstatesofamerica</td>\n      <td>waltdisneypictures</td>\n      <td>goreverbinski</td>\n      <td>johnnydepp</td>\n      <td>orlandobloom</td>\n      <td>keiraknightley</td>\n      <td>saturday</td>\n    </tr>\n    <tr>\n      <th>2</th>\n      <td>245000000</td>\n      <td>français</td>\n      <td>148.0</td>\n      <td>Spectre</td>\n      <td>unitedkingdom</td>\n      <td>columbiapictures</td>\n      <td>sammendes</td>\n      <td>danielcraig</td>\n      <td>christophwaltz</td>\n      <td>léaseydoux</td>\n      <td>monday</td>\n    </tr>\n    <tr>\n      <th>3</th>\n      <td>250000000</td>\n      <td>english</td>\n      <td>165.0</td>\n      <td>The Dark Knight Rises</td>\n      <td>unitedstatesofamerica</td>\n      <td>legendarypictures</td>\n      <td>christophernolan</td>\n      <td>christianbale</td>\n      <td>michaelcaine</td>\n      <td>garyoldman</td>\n      <td>monday</td>\n    </tr>\n    <tr>\n      <th>4</th>\n      <td>260000000</td>\n      <td>english</td>\n      <td>132.0</td>\n      <td>John Carter</td>\n      <td>unitedstatesofamerica</td>\n      <td>waltdisneypictures</td>\n      <td>andrewstanton</td>\n      <td>taylorkitsch</td>\n      <td>lynncollins</td>\n      <td>samanthamorton</td>\n      <td>wednesday</td>\n    </tr>\n    <tr>\n      <th>5</th>\n      <td>258000000</td>\n      <td>english</td>\n      <td>139.0</td>\n      <td>Spider-Man 3</td>\n      <td>unitedstatesofamerica</td>\n      <td>columbiapictures</td>\n      <td>samraimi</td>\n      <td>tobeymaguire</td>\n      <td>kirstendunst</td>\n      <td>jamesfranco</td>\n      <td>tuesday</td>\n    </tr>\n  </tbody>\n</table>\n</div>"
     },
     "metadata": {},
     "execution_count": 406
    }
   ],
   "source": [
    "X_train.head(5)"
   ]
  },
  {
   "cell_type": "code",
   "execution_count": 407,
   "metadata": {},
   "outputs": [
    {
     "output_type": "execute_result",
     "data": {
      "text/plain": [
       "0                                       Avatar\n",
       "8       Harry Potter and the Half-Blood Prince\n",
       "                         ...                  \n",
       "4800                 Signed, Sealed, Delivered\n",
       "4801                          Shanghai Calling\n",
       "Name: movie_title, Length: 1201, dtype: object"
      ]
     },
     "metadata": {},
     "execution_count": 407
    }
   ],
   "source": [
    "X_train.pop('movie_title')\n",
    "X_valid.pop('movie_title')"
   ]
  },
  {
   "cell_type": "code",
   "execution_count": 408,
   "metadata": {},
   "outputs": [
    {
     "output_type": "stream",
     "name": "stdout",
     "text": [
      "X_train:  (3602, 10)   X_valid:  (1201, 10)\n"
     ]
    }
   ],
   "source": [
    "print(\"X_train: \", X_train.shape, \" \",\"X_valid: \", X_valid.shape)"
   ]
  },
  {
   "cell_type": "code",
   "execution_count": 409,
   "metadata": {},
   "outputs": [],
   "source": [
    "features_cat = ['country','company','director_name','actor_1_name','actor_2_name','actor_3_name','dayofrelease']\n",
    "features_num = ['budget', 'duration']"
   ]
  },
  {
   "cell_type": "code",
   "execution_count": 410,
   "metadata": {},
   "outputs": [],
   "source": [
    "from sklearn.compose import make_column_transformer, make_column_selector\n",
    "\n",
    "preprocessor = make_column_transformer(\n",
    "    (StandardScaler(),\n",
    "     make_column_selector(dtype_include=np.number)),\n",
    "    # (OneHotEncoder(sparse=False,handle_unknown = 'ignore'),\n",
    "    #  make_column_selector(dtype_include=object)),\n",
    ")\n",
    "\n",
    "enc = OneHotEncoder(handle_unknown = 'ignore')\n",
    "enc.fit(X_train)\n",
    "\n",
    "X_train = enc.transform(X_train).toarray()\n",
    "X_valid = enc.transform(X_valid).toarray()"
   ]
  },
  {
   "cell_type": "code",
   "execution_count": 414,
   "metadata": {},
   "outputs": [
    {
     "output_type": "execute_result",
     "data": {
      "text/plain": [
       "(1201, 10098)"
      ]
     },
     "metadata": {},
     "execution_count": 414
    }
   ],
   "source": [
    "X_valid.shape"
   ]
  },
  {
   "source": [
    "X_train = preprocessor.fit_transform(X_train)\n",
    "y_train = np.log(y_train) # log transform target instead of standardizing\n",
    "X_train"
   ],
   "cell_type": "code",
   "metadata": {},
   "execution_count": 415,
   "outputs": [
    {
     "output_type": "error",
     "ename": "ValueError",
     "evalue": "make_column_selector can only be applied to pandas dataframes",
     "traceback": [
      "\u001b[1;31m---------------------------------------------------------------------------\u001b[0m",
      "\u001b[1;31mValueError\u001b[0m                                Traceback (most recent call last)",
      "\u001b[1;32m<ipython-input-415-80c4eb0a552c>\u001b[0m in \u001b[0;36m<module>\u001b[1;34m\u001b[0m\n\u001b[1;32m----> 1\u001b[1;33m \u001b[0mX_train\u001b[0m \u001b[1;33m=\u001b[0m \u001b[0mpreprocessor\u001b[0m\u001b[1;33m.\u001b[0m\u001b[0mfit_transform\u001b[0m\u001b[1;33m(\u001b[0m\u001b[0mX_train\u001b[0m\u001b[1;33m)\u001b[0m\u001b[1;33m\u001b[0m\u001b[1;33m\u001b[0m\u001b[0m\n\u001b[0m\u001b[0;32m      2\u001b[0m \u001b[0my_train\u001b[0m \u001b[1;33m=\u001b[0m \u001b[0mnp\u001b[0m\u001b[1;33m.\u001b[0m\u001b[0mlog\u001b[0m\u001b[1;33m(\u001b[0m\u001b[0my_train\u001b[0m\u001b[1;33m)\u001b[0m \u001b[1;31m# log transform target instead of standardizing\u001b[0m\u001b[1;33m\u001b[0m\u001b[1;33m\u001b[0m\u001b[0m\n\u001b[0;32m      3\u001b[0m \u001b[0mX_train\u001b[0m\u001b[1;33m\u001b[0m\u001b[1;33m\u001b[0m\u001b[0m\n",
      "\u001b[1;32mc:\\Users\\GABRIEL\\OneDrive\\Documents\\Notes\\ISProject\\venv\\lib\\site-packages\\sklearn\\compose\\_column_transformer.py\u001b[0m in \u001b[0;36mfit_transform\u001b[1;34m(self, X, y)\u001b[0m\n\u001b[0;32m    503\u001b[0m         \u001b[0mself\u001b[0m\u001b[1;33m.\u001b[0m\u001b[0m_check_n_features\u001b[0m\u001b[1;33m(\u001b[0m\u001b[0mX\u001b[0m\u001b[1;33m,\u001b[0m \u001b[0mreset\u001b[0m\u001b[1;33m=\u001b[0m\u001b[1;32mTrue\u001b[0m\u001b[1;33m)\u001b[0m\u001b[1;33m\u001b[0m\u001b[1;33m\u001b[0m\u001b[0m\n\u001b[0;32m    504\u001b[0m         \u001b[0mself\u001b[0m\u001b[1;33m.\u001b[0m\u001b[0m_validate_transformers\u001b[0m\u001b[1;33m(\u001b[0m\u001b[1;33m)\u001b[0m\u001b[1;33m\u001b[0m\u001b[1;33m\u001b[0m\u001b[0m\n\u001b[1;32m--> 505\u001b[1;33m         \u001b[0mself\u001b[0m\u001b[1;33m.\u001b[0m\u001b[0m_validate_column_callables\u001b[0m\u001b[1;33m(\u001b[0m\u001b[0mX\u001b[0m\u001b[1;33m)\u001b[0m\u001b[1;33m\u001b[0m\u001b[1;33m\u001b[0m\u001b[0m\n\u001b[0m\u001b[0;32m    506\u001b[0m         \u001b[0mself\u001b[0m\u001b[1;33m.\u001b[0m\u001b[0m_validate_remainder\u001b[0m\u001b[1;33m(\u001b[0m\u001b[0mX\u001b[0m\u001b[1;33m)\u001b[0m\u001b[1;33m\u001b[0m\u001b[1;33m\u001b[0m\u001b[0m\n\u001b[0;32m    507\u001b[0m \u001b[1;33m\u001b[0m\u001b[0m\n",
      "\u001b[1;32mc:\\Users\\GABRIEL\\OneDrive\\Documents\\Notes\\ISProject\\venv\\lib\\site-packages\\sklearn\\compose\\_column_transformer.py\u001b[0m in \u001b[0;36m_validate_column_callables\u001b[1;34m(self, X)\u001b[0m\n\u001b[0;32m    302\u001b[0m         \u001b[1;32mfor\u001b[0m \u001b[0m_\u001b[0m\u001b[1;33m,\u001b[0m \u001b[0m_\u001b[0m\u001b[1;33m,\u001b[0m \u001b[0mcolumn\u001b[0m \u001b[1;32min\u001b[0m \u001b[0mself\u001b[0m\u001b[1;33m.\u001b[0m\u001b[0mtransformers\u001b[0m\u001b[1;33m:\u001b[0m\u001b[1;33m\u001b[0m\u001b[1;33m\u001b[0m\u001b[0m\n\u001b[0;32m    303\u001b[0m             \u001b[1;32mif\u001b[0m \u001b[0mcallable\u001b[0m\u001b[1;33m(\u001b[0m\u001b[0mcolumn\u001b[0m\u001b[1;33m)\u001b[0m\u001b[1;33m:\u001b[0m\u001b[1;33m\u001b[0m\u001b[1;33m\u001b[0m\u001b[0m\n\u001b[1;32m--> 304\u001b[1;33m                 \u001b[0mcolumn\u001b[0m \u001b[1;33m=\u001b[0m \u001b[0mcolumn\u001b[0m\u001b[1;33m(\u001b[0m\u001b[0mX\u001b[0m\u001b[1;33m)\u001b[0m\u001b[1;33m\u001b[0m\u001b[1;33m\u001b[0m\u001b[0m\n\u001b[0m\u001b[0;32m    305\u001b[0m             \u001b[0mcolumns\u001b[0m\u001b[1;33m.\u001b[0m\u001b[0mappend\u001b[0m\u001b[1;33m(\u001b[0m\u001b[0mcolumn\u001b[0m\u001b[1;33m)\u001b[0m\u001b[1;33m\u001b[0m\u001b[1;33m\u001b[0m\u001b[0m\n\u001b[0;32m    306\u001b[0m         \u001b[0mself\u001b[0m\u001b[1;33m.\u001b[0m\u001b[0m_columns\u001b[0m \u001b[1;33m=\u001b[0m \u001b[0mcolumns\u001b[0m\u001b[1;33m\u001b[0m\u001b[1;33m\u001b[0m\u001b[0m\n",
      "\u001b[1;32mc:\\Users\\GABRIEL\\OneDrive\\Documents\\Notes\\ISProject\\venv\\lib\\site-packages\\sklearn\\compose\\_column_transformer.py\u001b[0m in \u001b[0;36m__call__\u001b[1;34m(self, df)\u001b[0m\n\u001b[0;32m    818\u001b[0m     \u001b[1;32mdef\u001b[0m \u001b[0m__call__\u001b[0m\u001b[1;33m(\u001b[0m\u001b[0mself\u001b[0m\u001b[1;33m,\u001b[0m \u001b[0mdf\u001b[0m\u001b[1;33m)\u001b[0m\u001b[1;33m:\u001b[0m\u001b[1;33m\u001b[0m\u001b[1;33m\u001b[0m\u001b[0m\n\u001b[0;32m    819\u001b[0m         \u001b[1;32mif\u001b[0m \u001b[1;32mnot\u001b[0m \u001b[0mhasattr\u001b[0m\u001b[1;33m(\u001b[0m\u001b[0mdf\u001b[0m\u001b[1;33m,\u001b[0m \u001b[1;34m'iloc'\u001b[0m\u001b[1;33m)\u001b[0m\u001b[1;33m:\u001b[0m\u001b[1;33m\u001b[0m\u001b[1;33m\u001b[0m\u001b[0m\n\u001b[1;32m--> 820\u001b[1;33m             raise ValueError(\"make_column_selector can only be applied to \"\n\u001b[0m\u001b[0;32m    821\u001b[0m                              \"pandas dataframes\")\n\u001b[0;32m    822\u001b[0m         \u001b[0mdf_row\u001b[0m \u001b[1;33m=\u001b[0m \u001b[0mdf\u001b[0m\u001b[1;33m.\u001b[0m\u001b[0miloc\u001b[0m\u001b[1;33m[\u001b[0m\u001b[1;33m:\u001b[0m\u001b[1;36m1\u001b[0m\u001b[1;33m]\u001b[0m\u001b[1;33m\u001b[0m\u001b[1;33m\u001b[0m\u001b[0m\n",
      "\u001b[1;31mValueError\u001b[0m: make_column_selector can only be applied to pandas dataframes"
     ]
    }
   ]
  },
  {
   "cell_type": "code",
   "execution_count": 376,
   "metadata": {},
   "outputs": [
    {
     "output_type": "execute_result",
     "data": {
      "text/plain": [
       "array([[ 5.15626637,  1.91758306],\n",
       "       [ 5.5156781 ,  1.161783  ],\n",
       "       [ 5.99489375,  1.58692053],\n",
       "       ...,\n",
       "       [-0.70885389, -1.24732969],\n",
       "       [-0.71390962, -1.05837967],\n",
       "       [-0.71412527, -0.82219215]])"
      ]
     },
     "metadata": {},
     "execution_count": 376
    }
   ],
   "source": [
    "X_valid = preprocessor.fit_transform(X_valid)\n",
    "y_valid = np.log(y_valid) # log transform target instead of standardizing\n",
    "X_valid"
   ]
  },
  {
   "cell_type": "code",
   "execution_count": 377,
   "metadata": {},
   "outputs": [
    {
     "output_type": "stream",
     "name": "stdout",
     "text": [
      "X_train:  (3602, 2)   X_valid:  (1201, 2)\n"
     ]
    }
   ],
   "source": [
    "print(\"X_train: \", X_train.shape, \" \",\"X_valid: \", X_valid.shape)"
   ]
  },
  {
   "cell_type": "code",
   "execution_count": 378,
   "metadata": {},
   "outputs": [
    {
     "output_type": "stream",
     "name": "stdout",
     "text": [
      "Input shape: [2]\n"
     ]
    }
   ],
   "source": [
    "input_shape = [X_train.shape[1]]\n",
    "print(\"Input shape: {}\".format(input_shape))"
   ]
  },
  {
   "cell_type": "code",
   "execution_count": 379,
   "metadata": {},
   "outputs": [],
   "source": [
    "from tensorflow import keras\n",
    "from tensorflow.keras import layers\n",
    "from tensorflow.keras.callbacks import EarlyStopping\n",
    "\n",
    "early_stopping = EarlyStopping(\n",
    "    min_delta=0.001, # minimium amount of change to count as an improvement\n",
    "    patience=20, # how many epochs to wait before stopping\n",
    "    restore_best_weights=True,\n",
    ")\n",
    "\n",
    "model = keras.Sequential([\n",
    "    layers.Dense(512,activation='relu', input_shape=input_shape),\n",
    "    layers.Dense(512, activation = 'relu'),\n",
    "    layers.Dense(512, activation = 'relu'),\n",
    "    layers.Dense(1),\n",
    "])"
   ]
  },
  {
   "cell_type": "code",
   "execution_count": 380,
   "metadata": {},
   "outputs": [],
   "source": [
    "model.compile(\n",
    "    optimizer='adam',\n",
    "    loss='mae'\n",
    ")"
   ]
  },
  {
   "cell_type": "code",
   "execution_count": 381,
   "metadata": {},
   "outputs": [],
   "source": [
    "history = model.fit(\n",
    "    X_train,y_train,\n",
    "    validation_data=(X_valid, y_valid),\n",
    "    batch_size= 256,\n",
    "    epochs = 100,\n",
    "    callbacks=[early_stopping], # put your callbacks in a list\n",
    "    verbose=0,  # turn off training log\n",
    ")"
   ]
  },
  {
   "cell_type": "code",
   "execution_count": 382,
   "metadata": {},
   "outputs": [
    {
     "output_type": "execute_result",
     "data": {
      "text/plain": [
       "<AxesSubplot:>"
      ]
     },
     "metadata": {},
     "execution_count": 382
    },
    {
     "output_type": "display_data",
     "data": {
      "text/plain": "<Figure size 432x288 with 1 Axes>",
      "image/svg+xml": "<?xml version=\"1.0\" encoding=\"utf-8\" standalone=\"no\"?>\r\n<!DOCTYPE svg PUBLIC \"-//W3C//DTD SVG 1.1//EN\"\r\n  \"http://www.w3.org/Graphics/SVG/1.1/DTD/svg11.dtd\">\r\n<!-- Created with matplotlib (https://matplotlib.org/) -->\r\n<svg height=\"248.518125pt\" version=\"1.1\" viewBox=\"0 0 386.845312 248.518125\" width=\"386.845312pt\" xmlns=\"http://www.w3.org/2000/svg\" xmlns:xlink=\"http://www.w3.org/1999/xlink\">\r\n <metadata>\r\n  <rdf:RDF xmlns:cc=\"http://creativecommons.org/ns#\" xmlns:dc=\"http://purl.org/dc/elements/1.1/\" xmlns:rdf=\"http://www.w3.org/1999/02/22-rdf-syntax-ns#\">\r\n   <cc:Work>\r\n    <dc:type rdf:resource=\"http://purl.org/dc/dcmitype/StillImage\"/>\r\n    <dc:date>2021-02-07T18:48:10.111876</dc:date>\r\n    <dc:format>image/svg+xml</dc:format>\r\n    <dc:creator>\r\n     <cc:Agent>\r\n      <dc:title>Matplotlib v3.3.4, https://matplotlib.org/</dc:title>\r\n     </cc:Agent>\r\n    </dc:creator>\r\n   </cc:Work>\r\n  </rdf:RDF>\r\n </metadata>\r\n <defs>\r\n  <style type=\"text/css\">*{stroke-linecap:butt;stroke-linejoin:round;}</style>\r\n </defs>\r\n <g id=\"figure_1\">\r\n  <g id=\"patch_1\">\r\n   <path d=\"M 0 248.518125 \r\nL 386.845312 248.518125 \r\nL 386.845312 0 \r\nL 0 0 \r\nz\r\n\" style=\"fill:none;\"/>\r\n  </g>\r\n  <g id=\"axes_1\">\r\n   <g id=\"patch_2\">\r\n    <path d=\"M 44.845313 224.64 \r\nL 379.645313 224.64 \r\nL 379.645313 7.2 \r\nL 44.845313 7.2 \r\nz\r\n\" style=\"fill:#ffffff;\"/>\r\n   </g>\r\n   <g id=\"matplotlib.axis_1\">\r\n    <g id=\"xtick_1\">\r\n     <g id=\"line2d_1\">\r\n      <defs>\r\n       <path d=\"M 0 0 \r\nL 0 3.5 \r\n\" id=\"meb8b6b8ead\" style=\"stroke:#000000;stroke-width:0.8;\"/>\r\n      </defs>\r\n      <g>\r\n       <use style=\"stroke:#000000;stroke-width:0.8;\" x=\"90.499858\" xlink:href=\"#meb8b6b8ead\" y=\"224.64\"/>\r\n      </g>\r\n     </g>\r\n     <g id=\"text_1\">\r\n      <!-- −0.04 -->\r\n      <g transform=\"translate(75.177202 239.238437)scale(0.1 -0.1)\">\r\n       <defs>\r\n        <path d=\"M 10.59375 35.5 \r\nL 73.1875 35.5 \r\nL 73.1875 27.203125 \r\nL 10.59375 27.203125 \r\nz\r\n\" id=\"DejaVuSans-8722\"/>\r\n        <path d=\"M 31.78125 66.40625 \r\nQ 24.171875 66.40625 20.328125 58.90625 \r\nQ 16.5 51.421875 16.5 36.375 \r\nQ 16.5 21.390625 20.328125 13.890625 \r\nQ 24.171875 6.390625 31.78125 6.390625 \r\nQ 39.453125 6.390625 43.28125 13.890625 \r\nQ 47.125 21.390625 47.125 36.375 \r\nQ 47.125 51.421875 43.28125 58.90625 \r\nQ 39.453125 66.40625 31.78125 66.40625 \r\nz\r\nM 31.78125 74.21875 \r\nQ 44.046875 74.21875 50.515625 64.515625 \r\nQ 56.984375 54.828125 56.984375 36.375 \r\nQ 56.984375 17.96875 50.515625 8.265625 \r\nQ 44.046875 -1.421875 31.78125 -1.421875 \r\nQ 19.53125 -1.421875 13.0625 8.265625 \r\nQ 6.59375 17.96875 6.59375 36.375 \r\nQ 6.59375 54.828125 13.0625 64.515625 \r\nQ 19.53125 74.21875 31.78125 74.21875 \r\nz\r\n\" id=\"DejaVuSans-48\"/>\r\n        <path d=\"M 10.6875 12.40625 \r\nL 21 12.40625 \r\nL 21 0 \r\nL 10.6875 0 \r\nz\r\n\" id=\"DejaVuSans-46\"/>\r\n        <path d=\"M 37.796875 64.3125 \r\nL 12.890625 25.390625 \r\nL 37.796875 25.390625 \r\nz\r\nM 35.203125 72.90625 \r\nL 47.609375 72.90625 \r\nL 47.609375 25.390625 \r\nL 58.015625 25.390625 \r\nL 58.015625 17.1875 \r\nL 47.609375 17.1875 \r\nL 47.609375 0 \r\nL 37.796875 0 \r\nL 37.796875 17.1875 \r\nL 4.890625 17.1875 \r\nL 4.890625 26.703125 \r\nz\r\n\" id=\"DejaVuSans-52\"/>\r\n       </defs>\r\n       <use xlink:href=\"#DejaVuSans-8722\"/>\r\n       <use x=\"83.789062\" xlink:href=\"#DejaVuSans-48\"/>\r\n       <use x=\"147.412109\" xlink:href=\"#DejaVuSans-46\"/>\r\n       <use x=\"179.199219\" xlink:href=\"#DejaVuSans-48\"/>\r\n       <use x=\"242.822266\" xlink:href=\"#DejaVuSans-52\"/>\r\n      </g>\r\n     </g>\r\n    </g>\r\n    <g id=\"xtick_2\">\r\n     <g id=\"line2d_2\">\r\n      <g>\r\n       <use style=\"stroke:#000000;stroke-width:0.8;\" x=\"151.372585\" xlink:href=\"#meb8b6b8ead\" y=\"224.64\"/>\r\n      </g>\r\n     </g>\r\n     <g id=\"text_2\">\r\n      <!-- −0.02 -->\r\n      <g transform=\"translate(136.049929 239.238437)scale(0.1 -0.1)\">\r\n       <defs>\r\n        <path d=\"M 19.1875 8.296875 \r\nL 53.609375 8.296875 \r\nL 53.609375 0 \r\nL 7.328125 0 \r\nL 7.328125 8.296875 \r\nQ 12.9375 14.109375 22.625 23.890625 \r\nQ 32.328125 33.6875 34.8125 36.53125 \r\nQ 39.546875 41.84375 41.421875 45.53125 \r\nQ 43.3125 49.21875 43.3125 52.78125 \r\nQ 43.3125 58.59375 39.234375 62.25 \r\nQ 35.15625 65.921875 28.609375 65.921875 \r\nQ 23.96875 65.921875 18.8125 64.3125 \r\nQ 13.671875 62.703125 7.8125 59.421875 \r\nL 7.8125 69.390625 \r\nQ 13.765625 71.78125 18.9375 73 \r\nQ 24.125 74.21875 28.421875 74.21875 \r\nQ 39.75 74.21875 46.484375 68.546875 \r\nQ 53.21875 62.890625 53.21875 53.421875 \r\nQ 53.21875 48.921875 51.53125 44.890625 \r\nQ 49.859375 40.875 45.40625 35.40625 \r\nQ 44.1875 33.984375 37.640625 27.21875 \r\nQ 31.109375 20.453125 19.1875 8.296875 \r\nz\r\n\" id=\"DejaVuSans-50\"/>\r\n       </defs>\r\n       <use xlink:href=\"#DejaVuSans-8722\"/>\r\n       <use x=\"83.789062\" xlink:href=\"#DejaVuSans-48\"/>\r\n       <use x=\"147.412109\" xlink:href=\"#DejaVuSans-46\"/>\r\n       <use x=\"179.199219\" xlink:href=\"#DejaVuSans-48\"/>\r\n       <use x=\"242.822266\" xlink:href=\"#DejaVuSans-50\"/>\r\n      </g>\r\n     </g>\r\n    </g>\r\n    <g id=\"xtick_3\">\r\n     <g id=\"line2d_3\">\r\n      <g>\r\n       <use style=\"stroke:#000000;stroke-width:0.8;\" x=\"212.245313\" xlink:href=\"#meb8b6b8ead\" y=\"224.64\"/>\r\n      </g>\r\n     </g>\r\n     <g id=\"text_3\">\r\n      <!-- 0.00 -->\r\n      <g transform=\"translate(201.1125 239.238437)scale(0.1 -0.1)\">\r\n       <use xlink:href=\"#DejaVuSans-48\"/>\r\n       <use x=\"63.623047\" xlink:href=\"#DejaVuSans-46\"/>\r\n       <use x=\"95.410156\" xlink:href=\"#DejaVuSans-48\"/>\r\n       <use x=\"159.033203\" xlink:href=\"#DejaVuSans-48\"/>\r\n      </g>\r\n     </g>\r\n    </g>\r\n    <g id=\"xtick_4\">\r\n     <g id=\"line2d_4\">\r\n      <g>\r\n       <use style=\"stroke:#000000;stroke-width:0.8;\" x=\"273.11804\" xlink:href=\"#meb8b6b8ead\" y=\"224.64\"/>\r\n      </g>\r\n     </g>\r\n     <g id=\"text_4\">\r\n      <!-- 0.02 -->\r\n      <g transform=\"translate(261.985227 239.238437)scale(0.1 -0.1)\">\r\n       <use xlink:href=\"#DejaVuSans-48\"/>\r\n       <use x=\"63.623047\" xlink:href=\"#DejaVuSans-46\"/>\r\n       <use x=\"95.410156\" xlink:href=\"#DejaVuSans-48\"/>\r\n       <use x=\"159.033203\" xlink:href=\"#DejaVuSans-50\"/>\r\n      </g>\r\n     </g>\r\n    </g>\r\n    <g id=\"xtick_5\">\r\n     <g id=\"line2d_5\">\r\n      <g>\r\n       <use style=\"stroke:#000000;stroke-width:0.8;\" x=\"333.990767\" xlink:href=\"#meb8b6b8ead\" y=\"224.64\"/>\r\n      </g>\r\n     </g>\r\n     <g id=\"text_5\">\r\n      <!-- 0.04 -->\r\n      <g transform=\"translate(322.857955 239.238437)scale(0.1 -0.1)\">\r\n       <use xlink:href=\"#DejaVuSans-48\"/>\r\n       <use x=\"63.623047\" xlink:href=\"#DejaVuSans-46\"/>\r\n       <use x=\"95.410156\" xlink:href=\"#DejaVuSans-48\"/>\r\n       <use x=\"159.033203\" xlink:href=\"#DejaVuSans-52\"/>\r\n      </g>\r\n     </g>\r\n    </g>\r\n   </g>\r\n   <g id=\"matplotlib.axis_2\">\r\n    <g id=\"ytick_1\">\r\n     <g id=\"line2d_6\">\r\n      <defs>\r\n       <path d=\"M 0 0 \r\nL -3.5 0 \r\n\" id=\"m55c15d0d63\" style=\"stroke:#000000;stroke-width:0.8;\"/>\r\n      </defs>\r\n      <g>\r\n       <use style=\"stroke:#000000;stroke-width:0.8;\" x=\"44.845313\" xlink:href=\"#m55c15d0d63\" y=\"194.989091\"/>\r\n      </g>\r\n     </g>\r\n     <g id=\"text_6\">\r\n      <!-- −0.04 -->\r\n      <g transform=\"translate(7.2 198.78831)scale(0.1 -0.1)\">\r\n       <use xlink:href=\"#DejaVuSans-8722\"/>\r\n       <use x=\"83.789062\" xlink:href=\"#DejaVuSans-48\"/>\r\n       <use x=\"147.412109\" xlink:href=\"#DejaVuSans-46\"/>\r\n       <use x=\"179.199219\" xlink:href=\"#DejaVuSans-48\"/>\r\n       <use x=\"242.822266\" xlink:href=\"#DejaVuSans-52\"/>\r\n      </g>\r\n     </g>\r\n    </g>\r\n    <g id=\"ytick_2\">\r\n     <g id=\"line2d_7\">\r\n      <g>\r\n       <use style=\"stroke:#000000;stroke-width:0.8;\" x=\"44.845313\" xlink:href=\"#m55c15d0d63\" y=\"155.454545\"/>\r\n      </g>\r\n     </g>\r\n     <g id=\"text_7\">\r\n      <!-- −0.02 -->\r\n      <g transform=\"translate(7.2 159.253764)scale(0.1 -0.1)\">\r\n       <use xlink:href=\"#DejaVuSans-8722\"/>\r\n       <use x=\"83.789062\" xlink:href=\"#DejaVuSans-48\"/>\r\n       <use x=\"147.412109\" xlink:href=\"#DejaVuSans-46\"/>\r\n       <use x=\"179.199219\" xlink:href=\"#DejaVuSans-48\"/>\r\n       <use x=\"242.822266\" xlink:href=\"#DejaVuSans-50\"/>\r\n      </g>\r\n     </g>\r\n    </g>\r\n    <g id=\"ytick_3\">\r\n     <g id=\"line2d_8\">\r\n      <g>\r\n       <use style=\"stroke:#000000;stroke-width:0.8;\" x=\"44.845313\" xlink:href=\"#m55c15d0d63\" y=\"115.92\"/>\r\n      </g>\r\n     </g>\r\n     <g id=\"text_8\">\r\n      <!-- 0.00 -->\r\n      <g transform=\"translate(15.579688 119.719219)scale(0.1 -0.1)\">\r\n       <use xlink:href=\"#DejaVuSans-48\"/>\r\n       <use x=\"63.623047\" xlink:href=\"#DejaVuSans-46\"/>\r\n       <use x=\"95.410156\" xlink:href=\"#DejaVuSans-48\"/>\r\n       <use x=\"159.033203\" xlink:href=\"#DejaVuSans-48\"/>\r\n      </g>\r\n     </g>\r\n    </g>\r\n    <g id=\"ytick_4\">\r\n     <g id=\"line2d_9\">\r\n      <g>\r\n       <use style=\"stroke:#000000;stroke-width:0.8;\" x=\"44.845313\" xlink:href=\"#m55c15d0d63\" y=\"76.385455\"/>\r\n      </g>\r\n     </g>\r\n     <g id=\"text_9\">\r\n      <!-- 0.02 -->\r\n      <g transform=\"translate(15.579688 80.184673)scale(0.1 -0.1)\">\r\n       <use xlink:href=\"#DejaVuSans-48\"/>\r\n       <use x=\"63.623047\" xlink:href=\"#DejaVuSans-46\"/>\r\n       <use x=\"95.410156\" xlink:href=\"#DejaVuSans-48\"/>\r\n       <use x=\"159.033203\" xlink:href=\"#DejaVuSans-50\"/>\r\n      </g>\r\n     </g>\r\n    </g>\r\n    <g id=\"ytick_5\">\r\n     <g id=\"line2d_10\">\r\n      <g>\r\n       <use style=\"stroke:#000000;stroke-width:0.8;\" x=\"44.845313\" xlink:href=\"#m55c15d0d63\" y=\"36.850909\"/>\r\n      </g>\r\n     </g>\r\n     <g id=\"text_10\">\r\n      <!-- 0.04 -->\r\n      <g transform=\"translate(15.579688 40.650128)scale(0.1 -0.1)\">\r\n       <use xlink:href=\"#DejaVuSans-48\"/>\r\n       <use x=\"63.623047\" xlink:href=\"#DejaVuSans-46\"/>\r\n       <use x=\"95.410156\" xlink:href=\"#DejaVuSans-48\"/>\r\n       <use x=\"159.033203\" xlink:href=\"#DejaVuSans-52\"/>\r\n      </g>\r\n     </g>\r\n    </g>\r\n   </g>\r\n   <g id=\"line2d_11\">\r\n    <path clip-path=\"url(#p1eca8ae93d)\" d=\"M 0 0 \r\n\" style=\"fill:none;stroke:#1f77b4;stroke-linecap:square;stroke-width:1.5;\"/>\r\n   </g>\r\n   <g id=\"patch_3\">\r\n    <path d=\"M 44.845313 224.64 \r\nL 44.845313 7.2 \r\n\" style=\"fill:none;stroke:#000000;stroke-linecap:square;stroke-linejoin:miter;stroke-width:0.8;\"/>\r\n   </g>\r\n   <g id=\"patch_4\">\r\n    <path d=\"M 379.645313 224.64 \r\nL 379.645313 7.2 \r\n\" style=\"fill:none;stroke:#000000;stroke-linecap:square;stroke-linejoin:miter;stroke-width:0.8;\"/>\r\n   </g>\r\n   <g id=\"patch_5\">\r\n    <path d=\"M 44.845313 224.64 \r\nL 379.645313 224.64 \r\n\" style=\"fill:none;stroke:#000000;stroke-linecap:square;stroke-linejoin:miter;stroke-width:0.8;\"/>\r\n   </g>\r\n   <g id=\"patch_6\">\r\n    <path d=\"M 44.845313 7.2 \r\nL 379.645313 7.2 \r\n\" style=\"fill:none;stroke:#000000;stroke-linecap:square;stroke-linejoin:miter;stroke-width:0.8;\"/>\r\n   </g>\r\n   <g id=\"legend_1\">\r\n    <g id=\"patch_7\">\r\n     <path d=\"M 321.329688 29.878125 \r\nL 372.645313 29.878125 \r\nQ 374.645313 29.878125 374.645313 27.878125 \r\nL 374.645313 14.2 \r\nQ 374.645313 12.2 372.645313 12.2 \r\nL 321.329688 12.2 \r\nQ 319.329688 12.2 319.329688 14.2 \r\nL 319.329688 27.878125 \r\nQ 319.329688 29.878125 321.329688 29.878125 \r\nz\r\n\" style=\"fill:#ffffff;opacity:0.8;stroke:#cccccc;stroke-linejoin:miter;\"/>\r\n    </g>\r\n    <g id=\"line2d_12\">\r\n     <path d=\"M 323.329688 20.298437 \r\nL 343.329688 20.298437 \r\n\" style=\"fill:none;stroke:#1f77b4;stroke-linecap:square;stroke-width:1.5;\"/>\r\n    </g>\r\n    <g id=\"line2d_13\"/>\r\n    <g id=\"text_11\">\r\n     <!-- loss -->\r\n     <g transform=\"translate(351.329688 23.798437)scale(0.1 -0.1)\">\r\n      <defs>\r\n       <path d=\"M 9.421875 75.984375 \r\nL 18.40625 75.984375 \r\nL 18.40625 0 \r\nL 9.421875 0 \r\nz\r\n\" id=\"DejaVuSans-108\"/>\r\n       <path d=\"M 30.609375 48.390625 \r\nQ 23.390625 48.390625 19.1875 42.75 \r\nQ 14.984375 37.109375 14.984375 27.296875 \r\nQ 14.984375 17.484375 19.15625 11.84375 \r\nQ 23.34375 6.203125 30.609375 6.203125 \r\nQ 37.796875 6.203125 41.984375 11.859375 \r\nQ 46.1875 17.53125 46.1875 27.296875 \r\nQ 46.1875 37.015625 41.984375 42.703125 \r\nQ 37.796875 48.390625 30.609375 48.390625 \r\nz\r\nM 30.609375 56 \r\nQ 42.328125 56 49.015625 48.375 \r\nQ 55.71875 40.765625 55.71875 27.296875 \r\nQ 55.71875 13.875 49.015625 6.21875 \r\nQ 42.328125 -1.421875 30.609375 -1.421875 \r\nQ 18.84375 -1.421875 12.171875 6.21875 \r\nQ 5.515625 13.875 5.515625 27.296875 \r\nQ 5.515625 40.765625 12.171875 48.375 \r\nQ 18.84375 56 30.609375 56 \r\nz\r\n\" id=\"DejaVuSans-111\"/>\r\n       <path d=\"M 44.28125 53.078125 \r\nL 44.28125 44.578125 \r\nQ 40.484375 46.53125 36.375 47.5 \r\nQ 32.28125 48.484375 27.875 48.484375 \r\nQ 21.1875 48.484375 17.84375 46.4375 \r\nQ 14.5 44.390625 14.5 40.28125 \r\nQ 14.5 37.15625 16.890625 35.375 \r\nQ 19.28125 33.59375 26.515625 31.984375 \r\nL 29.59375 31.296875 \r\nQ 39.15625 29.25 43.1875 25.515625 \r\nQ 47.21875 21.78125 47.21875 15.09375 \r\nQ 47.21875 7.46875 41.1875 3.015625 \r\nQ 35.15625 -1.421875 24.609375 -1.421875 \r\nQ 20.21875 -1.421875 15.453125 -0.5625 \r\nQ 10.6875 0.296875 5.421875 2 \r\nL 5.421875 11.28125 \r\nQ 10.40625 8.6875 15.234375 7.390625 \r\nQ 20.0625 6.109375 24.8125 6.109375 \r\nQ 31.15625 6.109375 34.5625 8.28125 \r\nQ 37.984375 10.453125 37.984375 14.40625 \r\nQ 37.984375 18.0625 35.515625 20.015625 \r\nQ 33.0625 21.96875 24.703125 23.78125 \r\nL 21.578125 24.515625 \r\nQ 13.234375 26.265625 9.515625 29.90625 \r\nQ 5.8125 33.546875 5.8125 39.890625 \r\nQ 5.8125 47.609375 11.28125 51.796875 \r\nQ 16.75 56 26.8125 56 \r\nQ 31.78125 56 36.171875 55.265625 \r\nQ 40.578125 54.546875 44.28125 53.078125 \r\nz\r\n\" id=\"DejaVuSans-115\"/>\r\n      </defs>\r\n      <use xlink:href=\"#DejaVuSans-108\"/>\r\n      <use x=\"27.783203\" xlink:href=\"#DejaVuSans-111\"/>\r\n      <use x=\"88.964844\" xlink:href=\"#DejaVuSans-115\"/>\r\n      <use x=\"141.064453\" xlink:href=\"#DejaVuSans-115\"/>\r\n     </g>\r\n    </g>\r\n   </g>\r\n  </g>\r\n </g>\r\n <defs>\r\n  <clipPath id=\"p1eca8ae93d\">\r\n   <rect height=\"217.44\" width=\"334.8\" x=\"44.845313\" y=\"7.2\"/>\r\n  </clipPath>\r\n </defs>\r\n</svg>\r\n",
      "image/png": "[encoded data removed]"
     },
     "metadata": {
      "needs_background": "light"
     }
    }
   ],
   "source": [
    "import pandas as pd\n",
    "\n",
    "history_df = pd.DataFrame(history.history)\n",
    "# Start the plot at epoch 5. You can change this to get a different view.\n",
    "history_df.loc[5:, ['loss']].plot()"
   ]
  },
  {
   "cell_type": "code",
   "execution_count": null,
   "metadata": {},
   "outputs": [],
   "source": []
  }
 ]
}