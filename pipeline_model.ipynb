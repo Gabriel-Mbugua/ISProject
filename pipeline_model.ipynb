{
 "metadata": {
  "language_info": {
   "codemirror_mode": {
    "name": "ipython",
    "version": 3
   },
   "file_extension": ".py",
   "mimetype": "text/x-python",
   "name": "python",
   "nbconvert_exporter": "python",
   "pygments_lexer": "ipython3",
   "version": "3.8.5-final"
  },
  "orig_nbformat": 2,
  "kernelspec": {
   "name": "python3",
   "display_name": "Python 3",
   "language": "python"
  }
 },
 "nbformat": 4,
 "nbformat_minor": 2,
 "cells": [
  {
   "cell_type": "code",
   "execution_count": 1,
   "metadata": {},
   "outputs": [],
   "source": [
    "import json\n",
    "import pandas as pd\n",
    "import numpy as np\n",
    "import json\n",
    "import seaborn as sns\n",
    "import datetime\n",
    "import matplotlib.pyplot as plt\n",
    "from joblib import dump, load\n",
    "from sklearn.metrics import classification_report, confusion_matrix, accuracy_score\n",
    "from sklearn.preprocessing import StandardScaler, PowerTransformer\n",
    "from sklearn.decomposition import PCA\n",
    "from sklearn.model_selection import train_test_split\n",
    "from sklearn.ensemble import RandomForestClassifier, RandomForestRegressor \n",
    "from mlxtend.plotting import plot_decision_regions"
   ]
  },
  {
   "cell_type": "code",
   "execution_count": 2,
   "metadata": {},
   "outputs": [],
   "source": [
    "def load_tmdb_movies(path):\n",
    "    df = pd.read_csv(path, parse_dates=['release_date'])\n",
    "    df['release_date'] = pd.to_datetime(df['release_date']).apply(lambda x: x.date())\n",
    "    json_columns = ['genres', 'keywords', 'production_countries', 'production_companies', 'spoken_languages']\n",
    "    for column in json_columns:\n",
    "        df[column] = df[column].apply(json.loads)\n",
    "    return df"
   ]
  },
  {
   "cell_type": "code",
   "execution_count": 3,
   "metadata": {},
   "outputs": [],
   "source": [
    "def load_tmdb_credits(path):\n",
    "    df = pd.read_csv(path)\n",
    "    json_columns = ['cast', 'crew']\n",
    "    for column in json_columns:\n",
    "        df[column] = df[column].apply(json.loads)\n",
    "    return df"
   ]
  },
  {
   "cell_type": "code",
   "execution_count": 4,
   "metadata": {},
   "outputs": [],
   "source": [
    "LOST_COLUMNS = [\n",
    "    'actor_1_facebook_likes',\n",
    "    'actor_2_facebook_likes',\n",
    "    'actor_3_facebook_likes',\n",
    "    'aspect_ratio',\n",
    "    'cast_total_facebook_likes',\n",
    "    'color',\n",
    "    'content_rating',\n",
    "    'director_facebook_likes',\n",
    "    'facenumber_in_poster',\n",
    "    'movie_facebook_likes',\n",
    "    'movie_imdb_link',\n",
    "    'num_critic_for_reviews',\n",
    "    'num_user_for_reviews'\n",
    "                ]"
   ]
  },
  {
   "cell_type": "code",
   "execution_count": 5,
   "metadata": {},
   "outputs": [],
   "source": [
    "TMDB_TO_IMDB_SIMPLE_EQUIVALENCIES = {\n",
    "    'budget': 'budget',\n",
    "    'genres': 'genres',\n",
    "    'revenue': 'gross',\n",
    "    'title': 'movie_title',\n",
    "    'runtime': 'duration',\n",
    "    'original_language': 'language',  # it's possible that spoken_languages would be a better match\n",
    "    'keywords': 'plot_keywords',\n",
    "    'vote_count': 'num_voted_users',\n",
    "                                         }\n",
    "\n",
    "IMDB_COLUMNS_TO_REMAP = {'imdb_score': 'vote_average'}"
   ]
  },
  {
   "cell_type": "code",
   "execution_count": 6,
   "metadata": {},
   "outputs": [],
   "source": [
    "def safe_access(container, index_values):\n",
    "    # return a missing value rather than an error upon indexing/key failure\n",
    "    result = container\n",
    "    try:\n",
    "        for idx in index_values:\n",
    "            result = result[idx]\n",
    "        return result\n",
    "    except IndexError or KeyError:\n",
    "        return pd.np.nan"
   ]
  },
  {
   "cell_type": "code",
   "execution_count": 7,
   "metadata": {},
   "outputs": [],
   "source": [
    "def get_director(crew_data):\n",
    "    directors = [x['name'] for x in crew_data if x['job'] == 'Director']\n",
    "    return safe_access(directors, [0])"
   ]
  },
  {
   "cell_type": "code",
   "execution_count": 8,
   "metadata": {},
   "outputs": [],
   "source": [
    "def get_companies(company_data):\n",
    "    companies = [x['name'] for x in company_data if x['name'] == 'Director']\n",
    "    return safe_access(directors, [0])"
   ]
  },
  {
   "cell_type": "code",
   "execution_count": 9,
   "metadata": {},
   "outputs": [],
   "source": [
    "def pipe_flatten_names(keywords):\n",
    "    return '|'.join([x['name'] for x in keywords])"
   ]
  },
  {
   "cell_type": "code",
   "execution_count": 10,
   "metadata": {},
   "outputs": [],
   "source": [
    "def convert_to_original_format(movies, credits):\n",
    "    # Converts TMDb data to make it as compatible as possible with kernels built on the original version of the data.\n",
    "    tmdb_movies = movies.copy()\n",
    "    tmdb_movies.rename(columns=TMDB_TO_IMDB_SIMPLE_EQUIVALENCIES, inplace=True)\n",
    "    tmdb_movies['title_year'] = pd.to_datetime(tmdb_movies['release_date']).apply(lambda x: x.year)\n",
    "    # I'm assuming that the first production country is equivalent, but have not been able to validate this\n",
    "    tmdb_movies['country'] = tmdb_movies['production_countries'].apply(lambda x: safe_access(x, [0, 'name']))\n",
    "    tmdb_movies['company'] = tmdb_movies['production_companies'].apply(lambda x: safe_access(x, [0, 'name']))\n",
    "    tmdb_movies['language'] = tmdb_movies['spoken_languages'].apply(lambda x: safe_access(x, [0, 'name']))\n",
    "    # tmdb_movies['production_companies'] = tmdb_movies['production_companies'].apply(lambda x: safe_access(x, [0, 'name']))\n",
    "    tmdb_movies['director_name'] = credits['crew'].apply(get_director)\n",
    "    tmdb_movies['actor_1_name'] = credits['cast'].apply(lambda x: safe_access(x, [0, 'name']))\n",
    "    tmdb_movies['actor_2_name'] = credits['cast'].apply(lambda x: safe_access(x, [1, 'name']))\n",
    "    tmdb_movies['actor_3_name'] = credits['cast'].apply(lambda x: safe_access(x, [2, 'name']))\n",
    "    tmdb_movies['genres'] = tmdb_movies['genres'].apply(pipe_flatten_names)\n",
    "    tmdb_movies['plot_keywords'] = tmdb_movies['plot_keywords'].apply(pipe_flatten_names)\n",
    "    return tmdb_movies"
   ]
  },
  {
   "cell_type": "code",
   "execution_count": 11,
   "metadata": {},
   "outputs": [
    {
     "output_type": "execute_result",
     "data": {
      "text/plain": [
       "         budget                                    genres  \\\n",
       "0     237000000  Action|Adventure|Fantasy|Science Fiction   \n",
       "1     300000000                  Adventure|Fantasy|Action   \n",
       "...         ...                                       ...   \n",
       "4801          0                                             \n",
       "4802          0                               Documentary   \n",
       "\n",
       "                                          homepage      id  \\\n",
       "0                      http://www.avatarmovie.com/   19995   \n",
       "1     http://disney.go.com/disneypictures/pirates/     285   \n",
       "...                                            ...     ...   \n",
       "4801                   http://shanghaicalling.com/  126186   \n",
       "4802                                           NaN   25975   \n",
       "\n",
       "                                          plot_keywords language  \\\n",
       "0     culture clash|future|space war|space colony|so...  English   \n",
       "1     ocean|drug abuse|exotic island|east india trad...  English   \n",
       "...                                                 ...      ...   \n",
       "4801                                                     English   \n",
       "4802               obsession|camcorder|crush|dream girl  English   \n",
       "\n",
       "                                original_title  \\\n",
       "0                                       Avatar   \n",
       "1     Pirates of the Caribbean: At World's End   \n",
       "...                                        ...   \n",
       "4801                          Shanghai Calling   \n",
       "4802                         My Date with Drew   \n",
       "\n",
       "                                               overview  popularity  \\\n",
       "0     In the 22nd century, a paraplegic Marine is di...  150.437577   \n",
       "1     Captain Barbossa, long believed to be dead, ha...  139.082615   \n",
       "...                                                 ...         ...   \n",
       "4801  When ambitious New York attorney Sam is sent t...    0.857008   \n",
       "4802  Ever since the second grade when he first saw ...    1.929883   \n",
       "\n",
       "                                   production_companies  \\\n",
       "0     [{'name': 'Ingenious Film Partners', 'id': 289...   \n",
       "1     [{'name': 'Walt Disney Pictures', 'id': 2}, {'...   \n",
       "...                                                 ...   \n",
       "4801                                                 []   \n",
       "4802  [{'name': 'rusty bear entertainment', 'id': 87...   \n",
       "\n",
       "                                   production_countries release_date  \\\n",
       "0     [{'iso_3166_1': 'US', 'name': 'United States o...   2009-12-10   \n",
       "1     [{'iso_3166_1': 'US', 'name': 'United States o...   2007-05-19   \n",
       "...                                                 ...          ...   \n",
       "4801  [{'iso_3166_1': 'US', 'name': 'United States o...   2012-05-03   \n",
       "4802  [{'iso_3166_1': 'US', 'name': 'United States o...   2005-08-05   \n",
       "\n",
       "           gross  duration                                   spoken_languages  \\\n",
       "0     2787965087     162.0  [{'iso_639_1': 'en', 'name': 'English'}, {'iso...   \n",
       "1      961000000     169.0           [{'iso_639_1': 'en', 'name': 'English'}]   \n",
       "...          ...       ...                                                ...   \n",
       "4801           0      98.0           [{'iso_639_1': 'en', 'name': 'English'}]   \n",
       "4802           0      90.0           [{'iso_639_1': 'en', 'name': 'English'}]   \n",
       "\n",
       "        status                                         tagline  \\\n",
       "0     Released                     Enter the World of Pandora.   \n",
       "1     Released  At the end of the world, the adventure begins.   \n",
       "...        ...                                             ...   \n",
       "4801  Released                        A New Yorker in Shanghai   \n",
       "4802  Released                                             NaN   \n",
       "\n",
       "                                   movie_title  vote_average  num_voted_users  \\\n",
       "0                                       Avatar           7.2            11800   \n",
       "1     Pirates of the Caribbean: At World's End           6.9             4500   \n",
       "...                                        ...           ...              ...   \n",
       "4801                          Shanghai Calling           5.7                7   \n",
       "4802                         My Date with Drew           6.3               16   \n",
       "\n",
       "      title_year                   country                   company  \\\n",
       "0         2009.0  United States of America   Ingenious Film Partners   \n",
       "1         2007.0  United States of America      Walt Disney Pictures   \n",
       "...          ...                       ...                       ...   \n",
       "4801      2012.0  United States of America                       NaN   \n",
       "4802      2005.0  United States of America  rusty bear entertainment   \n",
       "\n",
       "         director_name     actor_1_name      actor_2_name      actor_3_name  \n",
       "0        James Cameron  Sam Worthington       Zoe Saldana  Sigourney Weaver  \n",
       "1       Gore Verbinski      Johnny Depp     Orlando Bloom   Keira Knightley  \n",
       "...                ...              ...               ...               ...  \n",
       "4801       Daniel Hsia    Daniel Henney       Eliza Coupe       Bill Paxton  \n",
       "4802  Brian Herzlinger   Drew Barrymore  Brian Herzlinger     Corey Feldman  \n",
       "\n",
       "[4803 rows x 27 columns]"
      ],
      "text/html": "<div>\n<style scoped>\n    .dataframe tbody tr th:only-of-type {\n        vertical-align: middle;\n    }\n\n    .dataframe tbody tr th {\n        vertical-align: top;\n    }\n\n    .dataframe thead th {\n        text-align: right;\n    }\n</style>\n<table border=\"1\" class=\"dataframe\">\n  <thead>\n    <tr style=\"text-align: right;\">\n      <th></th>\n      <th>budget</th>\n      <th>genres</th>\n      <th>homepage</th>\n      <th>id</th>\n      <th>plot_keywords</th>\n      <th>language</th>\n      <th>original_title</th>\n      <th>overview</th>\n      <th>popularity</th>\n      <th>production_companies</th>\n      <th>production_countries</th>\n      <th>release_date</th>\n      <th>gross</th>\n      <th>duration</th>\n      <th>spoken_languages</th>\n      <th>status</th>\n      <th>tagline</th>\n      <th>movie_title</th>\n      <th>vote_average</th>\n      <th>num_voted_users</th>\n      <th>title_year</th>\n      <th>country</th>\n      <th>company</th>\n      <th>director_name</th>\n      <th>actor_1_name</th>\n      <th>actor_2_name</th>\n      <th>actor_3_name</th>\n    </tr>\n  </thead>\n  <tbody>\n    <tr>\n      <th>0</th>\n      <td>237000000</td>\n      <td>Action|Adventure|Fantasy|Science Fiction</td>\n      <td>http://www.avatarmovie.com/</td>\n      <td>19995</td>\n      <td>culture clash|future|space war|space colony|so...</td>\n      <td>English</td>\n      <td>Avatar</td>\n      <td>In the 22nd century, a paraplegic Marine is di...</td>\n      <td>150.437577</td>\n      <td>[{'name': 'Ingenious Film Partners', 'id': 289...</td>\n      <td>[{'iso_3166_1': 'US', 'name': 'United States o...</td>\n      <td>2009-12-10</td>\n      <td>2787965087</td>\n      <td>162.0</td>\n      <td>[{'iso_639_1': 'en', 'name': 'English'}, {'iso...</td>\n      <td>Released</td>\n      <td>Enter the World of Pandora.</td>\n      <td>Avatar</td>\n      <td>7.2</td>\n      <td>11800</td>\n      <td>2009.0</td>\n      <td>United States of America</td>\n      <td>Ingenious Film Partners</td>\n      <td>James Cameron</td>\n      <td>Sam Worthington</td>\n      <td>Zoe Saldana</td>\n      <td>Sigourney Weaver</td>\n    </tr>\n    <tr>\n      <th>1</th>\n      <td>300000000</td>\n      <td>Adventure|Fantasy|Action</td>\n      <td>http://disney.go.com/disneypictures/pirates/</td>\n      <td>285</td>\n      <td>ocean|drug abuse|exotic island|east india trad...</td>\n      <td>English</td>\n      <td>Pirates of the Caribbean: At World's End</td>\n      <td>Captain Barbossa, long believed to be dead, ha...</td>\n      <td>139.082615</td>\n      <td>[{'name': 'Walt Disney Pictures', 'id': 2}, {'...</td>\n      <td>[{'iso_3166_1': 'US', 'name': 'United States o...</td>\n      <td>2007-05-19</td>\n      <td>961000000</td>\n      <td>169.0</td>\n      <td>[{'iso_639_1': 'en', 'name': 'English'}]</td>\n      <td>Released</td>\n      <td>At the end of the world, the adventure begins.</td>\n      <td>Pirates of the Caribbean: At World's End</td>\n      <td>6.9</td>\n      <td>4500</td>\n      <td>2007.0</td>\n      <td>United States of America</td>\n      <td>Walt Disney Pictures</td>\n      <td>Gore Verbinski</td>\n      <td>Johnny Depp</td>\n      <td>Orlando Bloom</td>\n      <td>Keira Knightley</td>\n    </tr>\n    <tr>\n      <th>...</th>\n      <td>...</td>\n      <td>...</td>\n      <td>...</td>\n      <td>...</td>\n      <td>...</td>\n      <td>...</td>\n      <td>...</td>\n      <td>...</td>\n      <td>...</td>\n      <td>...</td>\n      <td>...</td>\n      <td>...</td>\n      <td>...</td>\n      <td>...</td>\n      <td>...</td>\n      <td>...</td>\n      <td>...</td>\n      <td>...</td>\n      <td>...</td>\n      <td>...</td>\n      <td>...</td>\n      <td>...</td>\n      <td>...</td>\n      <td>...</td>\n      <td>...</td>\n      <td>...</td>\n      <td>...</td>\n    </tr>\n    <tr>\n      <th>4801</th>\n      <td>0</td>\n      <td></td>\n      <td>http://shanghaicalling.com/</td>\n      <td>126186</td>\n      <td></td>\n      <td>English</td>\n      <td>Shanghai Calling</td>\n      <td>When ambitious New York attorney Sam is sent t...</td>\n      <td>0.857008</td>\n      <td>[]</td>\n      <td>[{'iso_3166_1': 'US', 'name': 'United States o...</td>\n      <td>2012-05-03</td>\n      <td>0</td>\n      <td>98.0</td>\n      <td>[{'iso_639_1': 'en', 'name': 'English'}]</td>\n      <td>Released</td>\n      <td>A New Yorker in Shanghai</td>\n      <td>Shanghai Calling</td>\n      <td>5.7</td>\n      <td>7</td>\n      <td>2012.0</td>\n      <td>United States of America</td>\n      <td>NaN</td>\n      <td>Daniel Hsia</td>\n      <td>Daniel Henney</td>\n      <td>Eliza Coupe</td>\n      <td>Bill Paxton</td>\n    </tr>\n    <tr>\n      <th>4802</th>\n      <td>0</td>\n      <td>Documentary</td>\n      <td>NaN</td>\n      <td>25975</td>\n      <td>obsession|camcorder|crush|dream girl</td>\n      <td>English</td>\n      <td>My Date with Drew</td>\n      <td>Ever since the second grade when he first saw ...</td>\n      <td>1.929883</td>\n      <td>[{'name': 'rusty bear entertainment', 'id': 87...</td>\n      <td>[{'iso_3166_1': 'US', 'name': 'United States o...</td>\n      <td>2005-08-05</td>\n      <td>0</td>\n      <td>90.0</td>\n      <td>[{'iso_639_1': 'en', 'name': 'English'}]</td>\n      <td>Released</td>\n      <td>NaN</td>\n      <td>My Date with Drew</td>\n      <td>6.3</td>\n      <td>16</td>\n      <td>2005.0</td>\n      <td>United States of America</td>\n      <td>rusty bear entertainment</td>\n      <td>Brian Herzlinger</td>\n      <td>Drew Barrymore</td>\n      <td>Brian Herzlinger</td>\n      <td>Corey Feldman</td>\n    </tr>\n  </tbody>\n</table>\n<p>4803 rows × 27 columns</p>\n</div>"
     },
     "metadata": {},
     "execution_count": 11
    }
   ],
   "source": [
    "movies = load_tmdb_movies(\"Data/Original/tmdb_5000_movies.csv\")\n",
    "credits = load_tmdb_credits(\"Data/tmdb_5000_credits.csv\")\n",
    "original_format = convert_to_original_format(movies, credits)\n",
    "pd.set_option('display.max_columns', None)\n",
    "pd.set_option('display.max_rows', 5)\n",
    "original_format"
   ]
  },
  {
   "cell_type": "code",
   "execution_count": 12,
   "metadata": {},
   "outputs": [
    {
     "output_type": "execute_result",
     "data": {
      "text/plain": [
       "Index(['budget', 'language', 'release_date', 'gross', 'duration', 'country',\n",
       "       'company', 'director_name', 'actor_1_name', 'actor_2_name',\n",
       "       'actor_3_name'],\n",
       "      dtype='object')"
      ]
     },
     "metadata": {},
     "execution_count": 12
    }
   ],
   "source": [
    "df = original_format.copy()\n",
    "features_to_remove =['id','original_title','overview', 'movie_title', 'homepage', 'status', 'plot_keywords', 'spoken_languages', 'title_year', 'production_countries', 'production_companies','tagline','popularity','vote_average', 'num_voted_users', 'genres']\n",
    "df.drop(features_to_remove, axis = 1, inplace= True)\n",
    "df.columns"
   ]
  },
  {
   "cell_type": "code",
   "execution_count": 13,
   "metadata": {},
   "outputs": [
    {
     "output_type": "execute_result",
     "data": {
      "text/plain": [
       "budget           0\n",
       "language        86\n",
       "                ..\n",
       "actor_2_name    53\n",
       "actor_3_name    63\n",
       "Length: 11, dtype: int64"
      ]
     },
     "metadata": {},
     "execution_count": 13
    }
   ],
   "source": [
    "df.isna().sum()"
   ]
  },
  {
   "cell_type": "code",
   "execution_count": 14,
   "metadata": {},
   "outputs": [
    {
     "output_type": "stream",
     "name": "stdout",
     "text": [
      "language : 1.7905475744326462\nrelease_date : 0.020820320632937747\nduration : 0.041640641265875494\ncountry : 3.622735790131168\ncompany : 7.30793254216115\ndirector_name : 0.6246096189881324\nactor_1_name : 0.8952737872163231\nactor_2_name : 1.1034769935457007\nactor_3_name : 1.311680199875078\n"
     ]
    },
    {
     "output_type": "execute_result",
     "data": {
      "text/plain": [
       "budget          False\n",
       "language        False\n",
       "                ...  \n",
       "actor_2_name    False\n",
       "actor_3_name    False\n",
       "Length: 11, dtype: bool"
      ]
     },
     "metadata": {},
     "execution_count": 14
    }
   ],
   "source": [
    "replace_with_zero = ['duration']\n",
    "\n",
    "missing_val_cols = list(df.columns[df.isna().any()])\n",
    "for col in missing_val_cols:\n",
    "  if col not in replace_with_zero:\n",
    "    miss_percentage = ((df[col].isna().sum())/4803) * 100 \n",
    "    print(f'{col} : {str(miss_percentage)}')\n",
    "    df[col].fillna('Missing', inplace=True)\n",
    "  else:\n",
    "    miss_percentage = ((df[col].isna().sum())/4803) * 100 \n",
    "    print(f'{col} : {str(miss_percentage)}')\n",
    "     \n",
    "\n",
    "df.isna().any()"
   ]
  },
  {
   "cell_type": "code",
   "execution_count": 15,
   "metadata": {},
   "outputs": [
    {
     "output_type": "execute_result",
     "data": {
      "text/plain": [
       "      budget  language       gross  duration                   country  \\\n",
       "0  237000000   English  2787965087     162.0  United States of America   \n",
       "1  300000000   English   961000000     169.0  United States of America   \n",
       "2  245000000  Français   880674609     148.0            United Kingdom   \n",
       "\n",
       "                   company   director_name     actor_1_name     actor_2_name  \\\n",
       "0  Ingenious Film Partners   James Cameron  Sam Worthington      Zoe Saldana   \n",
       "1     Walt Disney Pictures  Gore Verbinski      Johnny Depp    Orlando Bloom   \n",
       "2        Columbia Pictures      Sam Mendes     Daniel Craig  Christoph Waltz   \n",
       "\n",
       "       actor_3_name dayofrelease monthofrelease  \n",
       "0  Sigourney Weaver     Thursday            Dec  \n",
       "1   Keira Knightley     Saturday            May  \n",
       "2       Léa Seydoux       Monday            Oct  "
      ],
      "text/html": "<div>\n<style scoped>\n    .dataframe tbody tr th:only-of-type {\n        vertical-align: middle;\n    }\n\n    .dataframe tbody tr th {\n        vertical-align: top;\n    }\n\n    .dataframe thead th {\n        text-align: right;\n    }\n</style>\n<table border=\"1\" class=\"dataframe\">\n  <thead>\n    <tr style=\"text-align: right;\">\n      <th></th>\n      <th>budget</th>\n      <th>language</th>\n      <th>gross</th>\n      <th>duration</th>\n      <th>country</th>\n      <th>company</th>\n      <th>director_name</th>\n      <th>actor_1_name</th>\n      <th>actor_2_name</th>\n      <th>actor_3_name</th>\n      <th>dayofrelease</th>\n      <th>monthofrelease</th>\n    </tr>\n  </thead>\n  <tbody>\n    <tr>\n      <th>0</th>\n      <td>237000000</td>\n      <td>English</td>\n      <td>2787965087</td>\n      <td>162.0</td>\n      <td>United States of America</td>\n      <td>Ingenious Film Partners</td>\n      <td>James Cameron</td>\n      <td>Sam Worthington</td>\n      <td>Zoe Saldana</td>\n      <td>Sigourney Weaver</td>\n      <td>Thursday</td>\n      <td>Dec</td>\n    </tr>\n    <tr>\n      <th>1</th>\n      <td>300000000</td>\n      <td>English</td>\n      <td>961000000</td>\n      <td>169.0</td>\n      <td>United States of America</td>\n      <td>Walt Disney Pictures</td>\n      <td>Gore Verbinski</td>\n      <td>Johnny Depp</td>\n      <td>Orlando Bloom</td>\n      <td>Keira Knightley</td>\n      <td>Saturday</td>\n      <td>May</td>\n    </tr>\n    <tr>\n      <th>2</th>\n      <td>245000000</td>\n      <td>Français</td>\n      <td>880674609</td>\n      <td>148.0</td>\n      <td>United Kingdom</td>\n      <td>Columbia Pictures</td>\n      <td>Sam Mendes</td>\n      <td>Daniel Craig</td>\n      <td>Christoph Waltz</td>\n      <td>Léa Seydoux</td>\n      <td>Monday</td>\n      <td>Oct</td>\n    </tr>\n  </tbody>\n</table>\n</div>"
     },
     "metadata": {},
     "execution_count": 15
    }
   ],
   "source": [
    "df['release_date'] = pd.to_datetime(df['release_date'].astype(str),errors='coerce')\n",
    "df['dayofrelease']=df['release_date'].dt.strftime('%A')\n",
    "df['monthofrelease']=df['release_date'].dt.strftime('%b')\n",
    "df.drop(columns=['release_date'], inplace = True)\n",
    "df.head(3)"
   ]
  },
  {
   "cell_type": "code",
   "execution_count": 16,
   "metadata": {},
   "outputs": [
    {
     "output_type": "execute_result",
     "data": {
      "text/plain": [
       "         budget language       gross  duration                country  \\\n",
       "0     237000000  english  2787965087     162.0  unitedstatesofamerica   \n",
       "1     300000000  english   961000000     169.0  unitedstatesofamerica   \n",
       "...         ...      ...         ...       ...                    ...   \n",
       "4801          0  english           0      98.0  unitedstatesofamerica   \n",
       "4802          0  english           0      90.0  unitedstatesofamerica   \n",
       "\n",
       "                     company    director_name    actor_1_name  \\\n",
       "0      ingeniousfilmpartners     jamescameron  samworthington   \n",
       "1         waltdisneypictures    goreverbinski      johnnydepp   \n",
       "...                      ...              ...             ...   \n",
       "4801                 missing       danielhsia    danielhenney   \n",
       "4802  rustybearentertainment  brianherzlinger   drewbarrymore   \n",
       "\n",
       "         actor_2_name     actor_3_name dayofrelease monthofrelease  \n",
       "0          zoesaldana  sigourneyweaver     thursday            Dec  \n",
       "1        orlandobloom   keiraknightley     saturday            May  \n",
       "...               ...              ...          ...            ...  \n",
       "4801       elizacoupe       billpaxton     thursday            May  \n",
       "4802  brianherzlinger     coreyfeldman       friday            Aug  \n",
       "\n",
       "[4803 rows x 12 columns]"
      ],
      "text/html": "<div>\n<style scoped>\n    .dataframe tbody tr th:only-of-type {\n        vertical-align: middle;\n    }\n\n    .dataframe tbody tr th {\n        vertical-align: top;\n    }\n\n    .dataframe thead th {\n        text-align: right;\n    }\n</style>\n<table border=\"1\" class=\"dataframe\">\n  <thead>\n    <tr style=\"text-align: right;\">\n      <th></th>\n      <th>budget</th>\n      <th>language</th>\n      <th>gross</th>\n      <th>duration</th>\n      <th>country</th>\n      <th>company</th>\n      <th>director_name</th>\n      <th>actor_1_name</th>\n      <th>actor_2_name</th>\n      <th>actor_3_name</th>\n      <th>dayofrelease</th>\n      <th>monthofrelease</th>\n    </tr>\n  </thead>\n  <tbody>\n    <tr>\n      <th>0</th>\n      <td>237000000</td>\n      <td>english</td>\n      <td>2787965087</td>\n      <td>162.0</td>\n      <td>unitedstatesofamerica</td>\n      <td>ingeniousfilmpartners</td>\n      <td>jamescameron</td>\n      <td>samworthington</td>\n      <td>zoesaldana</td>\n      <td>sigourneyweaver</td>\n      <td>thursday</td>\n      <td>Dec</td>\n    </tr>\n    <tr>\n      <th>1</th>\n      <td>300000000</td>\n      <td>english</td>\n      <td>961000000</td>\n      <td>169.0</td>\n      <td>unitedstatesofamerica</td>\n      <td>waltdisneypictures</td>\n      <td>goreverbinski</td>\n      <td>johnnydepp</td>\n      <td>orlandobloom</td>\n      <td>keiraknightley</td>\n      <td>saturday</td>\n      <td>May</td>\n    </tr>\n    <tr>\n      <th>...</th>\n      <td>...</td>\n      <td>...</td>\n      <td>...</td>\n      <td>...</td>\n      <td>...</td>\n      <td>...</td>\n      <td>...</td>\n      <td>...</td>\n      <td>...</td>\n      <td>...</td>\n      <td>...</td>\n      <td>...</td>\n    </tr>\n    <tr>\n      <th>4801</th>\n      <td>0</td>\n      <td>english</td>\n      <td>0</td>\n      <td>98.0</td>\n      <td>unitedstatesofamerica</td>\n      <td>missing</td>\n      <td>danielhsia</td>\n      <td>danielhenney</td>\n      <td>elizacoupe</td>\n      <td>billpaxton</td>\n      <td>thursday</td>\n      <td>May</td>\n    </tr>\n    <tr>\n      <th>4802</th>\n      <td>0</td>\n      <td>english</td>\n      <td>0</td>\n      <td>90.0</td>\n      <td>unitedstatesofamerica</td>\n      <td>rustybearentertainment</td>\n      <td>brianherzlinger</td>\n      <td>drewbarrymore</td>\n      <td>brianherzlinger</td>\n      <td>coreyfeldman</td>\n      <td>friday</td>\n      <td>Aug</td>\n    </tr>\n  </tbody>\n</table>\n<p>4803 rows × 12 columns</p>\n</div>"
     },
     "metadata": {},
     "execution_count": 16
    }
   ],
   "source": [
    "# Parse the stringified features into their corresponding python objects\n",
    "from ast import literal_eval\n",
    "\n",
    "# Function to convert all strings to lower case and strip names of spaces\n",
    "def clean_data(x):\n",
    "    if isinstance(x, list):\n",
    "        return [str.lower(i.replace(\" \", \"\")) for i in x]\n",
    "    else:\n",
    "        #Check if director exists. If not, return empty string\n",
    "        if isinstance(x, str):\n",
    "            return str.lower(x.replace(\" \", \"\"))\n",
    "        else:\n",
    "            return ''\n",
    "\n",
    "\n",
    "features = ['actor_1_name','actor_2_name','actor_3_name','director_name','country', 'company', 'dayofrelease', 'language']\n",
    "for feature in features:\n",
    "    df[feature] = df[feature].apply(clean_data)\n",
    "\n",
    "df"
   ]
  },
  {
   "cell_type": "code",
   "execution_count": 17,
   "metadata": {},
   "outputs": [
    {
     "output_type": "execute_result",
     "data": {
      "text/plain": [
       "         budget language  duration                country  \\\n",
       "0     237000000  english     162.0  unitedstatesofamerica   \n",
       "1     300000000  english     169.0  unitedstatesofamerica   \n",
       "...         ...      ...       ...                    ...   \n",
       "4801          0  english      98.0  unitedstatesofamerica   \n",
       "4802          0  english      90.0  unitedstatesofamerica   \n",
       "\n",
       "                     company    director_name    actor_1_name  \\\n",
       "0      ingeniousfilmpartners     jamescameron  samworthington   \n",
       "1         waltdisneypictures    goreverbinski      johnnydepp   \n",
       "...                      ...              ...             ...   \n",
       "4801                 missing       danielhsia    danielhenney   \n",
       "4802  rustybearentertainment  brianherzlinger   drewbarrymore   \n",
       "\n",
       "         actor_2_name     actor_3_name dayofrelease monthofrelease  Success  \n",
       "0          zoesaldana  sigourneyweaver     thursday            Dec        1  \n",
       "1        orlandobloom   keiraknightley     saturday            May        1  \n",
       "...               ...              ...          ...            ...      ...  \n",
       "4801       elizacoupe       billpaxton     thursday            May        0  \n",
       "4802  brianherzlinger     coreyfeldman       friday            Aug        0  \n",
       "\n",
       "[4803 rows x 12 columns]"
      ],
      "text/html": "<div>\n<style scoped>\n    .dataframe tbody tr th:only-of-type {\n        vertical-align: middle;\n    }\n\n    .dataframe tbody tr th {\n        vertical-align: top;\n    }\n\n    .dataframe thead th {\n        text-align: right;\n    }\n</style>\n<table border=\"1\" class=\"dataframe\">\n  <thead>\n    <tr style=\"text-align: right;\">\n      <th></th>\n      <th>budget</th>\n      <th>language</th>\n      <th>duration</th>\n      <th>country</th>\n      <th>company</th>\n      <th>director_name</th>\n      <th>actor_1_name</th>\n      <th>actor_2_name</th>\n      <th>actor_3_name</th>\n      <th>dayofrelease</th>\n      <th>monthofrelease</th>\n      <th>Success</th>\n    </tr>\n  </thead>\n  <tbody>\n    <tr>\n      <th>0</th>\n      <td>237000000</td>\n      <td>english</td>\n      <td>162.0</td>\n      <td>unitedstatesofamerica</td>\n      <td>ingeniousfilmpartners</td>\n      <td>jamescameron</td>\n      <td>samworthington</td>\n      <td>zoesaldana</td>\n      <td>sigourneyweaver</td>\n      <td>thursday</td>\n      <td>Dec</td>\n      <td>1</td>\n    </tr>\n    <tr>\n      <th>1</th>\n      <td>300000000</td>\n      <td>english</td>\n      <td>169.0</td>\n      <td>unitedstatesofamerica</td>\n      <td>waltdisneypictures</td>\n      <td>goreverbinski</td>\n      <td>johnnydepp</td>\n      <td>orlandobloom</td>\n      <td>keiraknightley</td>\n      <td>saturday</td>\n      <td>May</td>\n      <td>1</td>\n    </tr>\n    <tr>\n      <th>...</th>\n      <td>...</td>\n      <td>...</td>\n      <td>...</td>\n      <td>...</td>\n      <td>...</td>\n      <td>...</td>\n      <td>...</td>\n      <td>...</td>\n      <td>...</td>\n      <td>...</td>\n      <td>...</td>\n      <td>...</td>\n    </tr>\n    <tr>\n      <th>4801</th>\n      <td>0</td>\n      <td>english</td>\n      <td>98.0</td>\n      <td>unitedstatesofamerica</td>\n      <td>missing</td>\n      <td>danielhsia</td>\n      <td>danielhenney</td>\n      <td>elizacoupe</td>\n      <td>billpaxton</td>\n      <td>thursday</td>\n      <td>May</td>\n      <td>0</td>\n    </tr>\n    <tr>\n      <th>4802</th>\n      <td>0</td>\n      <td>english</td>\n      <td>90.0</td>\n      <td>unitedstatesofamerica</td>\n      <td>rustybearentertainment</td>\n      <td>brianherzlinger</td>\n      <td>drewbarrymore</td>\n      <td>brianherzlinger</td>\n      <td>coreyfeldman</td>\n      <td>friday</td>\n      <td>Aug</td>\n      <td>0</td>\n    </tr>\n  </tbody>\n</table>\n<p>4803 rows × 12 columns</p>\n</div>"
     },
     "metadata": {},
     "execution_count": 17
    }
   ],
   "source": [
    "data_copy = df.copy()\n",
    "data_copy['Success'] = np.where(data_copy['gross'] >= data_copy['gross'].mean(), 1,0)\n",
    "data_copy.pop('gross')\n",
    "data_copy"
   ]
  },
  {
   "cell_type": "code",
   "execution_count": 18,
   "metadata": {},
   "outputs": [
    {
     "output_type": "execute_result",
     "data": {
      "text/plain": [
       "         budget language  duration                country  \\\n",
       "0     237000000  english     162.0  unitedstatesofamerica   \n",
       "1     300000000  english     169.0  unitedstatesofamerica   \n",
       "...         ...      ...       ...                    ...   \n",
       "4801          0  english      98.0  unitedstatesofamerica   \n",
       "4802          0  english      90.0  unitedstatesofamerica   \n",
       "\n",
       "                     company    director_name    actor_1_name  \\\n",
       "0      ingeniousfilmpartners     jamescameron  samworthington   \n",
       "1         waltdisneypictures    goreverbinski      johnnydepp   \n",
       "...                      ...              ...             ...   \n",
       "4801                 missing       danielhsia    danielhenney   \n",
       "4802  rustybearentertainment  brianherzlinger   drewbarrymore   \n",
       "\n",
       "         actor_2_name     actor_3_name dayofrelease monthofrelease  \n",
       "0          zoesaldana  sigourneyweaver     thursday            Dec  \n",
       "1        orlandobloom   keiraknightley     saturday            May  \n",
       "...               ...              ...          ...            ...  \n",
       "4801       elizacoupe       billpaxton     thursday            May  \n",
       "4802  brianherzlinger     coreyfeldman       friday            Aug  \n",
       "\n",
       "[4803 rows x 11 columns]"
      ],
      "text/html": "<div>\n<style scoped>\n    .dataframe tbody tr th:only-of-type {\n        vertical-align: middle;\n    }\n\n    .dataframe tbody tr th {\n        vertical-align: top;\n    }\n\n    .dataframe thead th {\n        text-align: right;\n    }\n</style>\n<table border=\"1\" class=\"dataframe\">\n  <thead>\n    <tr style=\"text-align: right;\">\n      <th></th>\n      <th>budget</th>\n      <th>language</th>\n      <th>duration</th>\n      <th>country</th>\n      <th>company</th>\n      <th>director_name</th>\n      <th>actor_1_name</th>\n      <th>actor_2_name</th>\n      <th>actor_3_name</th>\n      <th>dayofrelease</th>\n      <th>monthofrelease</th>\n    </tr>\n  </thead>\n  <tbody>\n    <tr>\n      <th>0</th>\n      <td>237000000</td>\n      <td>english</td>\n      <td>162.0</td>\n      <td>unitedstatesofamerica</td>\n      <td>ingeniousfilmpartners</td>\n      <td>jamescameron</td>\n      <td>samworthington</td>\n      <td>zoesaldana</td>\n      <td>sigourneyweaver</td>\n      <td>thursday</td>\n      <td>Dec</td>\n    </tr>\n    <tr>\n      <th>1</th>\n      <td>300000000</td>\n      <td>english</td>\n      <td>169.0</td>\n      <td>unitedstatesofamerica</td>\n      <td>waltdisneypictures</td>\n      <td>goreverbinski</td>\n      <td>johnnydepp</td>\n      <td>orlandobloom</td>\n      <td>keiraknightley</td>\n      <td>saturday</td>\n      <td>May</td>\n    </tr>\n    <tr>\n      <th>...</th>\n      <td>...</td>\n      <td>...</td>\n      <td>...</td>\n      <td>...</td>\n      <td>...</td>\n      <td>...</td>\n      <td>...</td>\n      <td>...</td>\n      <td>...</td>\n      <td>...</td>\n      <td>...</td>\n    </tr>\n    <tr>\n      <th>4801</th>\n      <td>0</td>\n      <td>english</td>\n      <td>98.0</td>\n      <td>unitedstatesofamerica</td>\n      <td>missing</td>\n      <td>danielhsia</td>\n      <td>danielhenney</td>\n      <td>elizacoupe</td>\n      <td>billpaxton</td>\n      <td>thursday</td>\n      <td>May</td>\n    </tr>\n    <tr>\n      <th>4802</th>\n      <td>0</td>\n      <td>english</td>\n      <td>90.0</td>\n      <td>unitedstatesofamerica</td>\n      <td>rustybearentertainment</td>\n      <td>brianherzlinger</td>\n      <td>drewbarrymore</td>\n      <td>brianherzlinger</td>\n      <td>coreyfeldman</td>\n      <td>friday</td>\n      <td>Aug</td>\n    </tr>\n  </tbody>\n</table>\n<p>4803 rows × 11 columns</p>\n</div>"
     },
     "metadata": {},
     "execution_count": 18
    }
   ],
   "source": [
    "X = data_copy.copy()\n",
    "y = X.pop('Success')\n",
    "X"
   ]
  },
  {
   "cell_type": "code",
   "execution_count": 19,
   "metadata": {},
   "outputs": [],
   "source": [
    "X_train, X_valid, y_train, y_valid = train_test_split(X, y,train_size=0.8,test_size=0.2,random_state=0)"
   ]
  },
  {
   "cell_type": "code",
   "execution_count": 20,
   "metadata": {},
   "outputs": [],
   "source": [
    "categorical_cols = ['language','country','company','director_name','actor_1_name','actor_2_name','actor_3_name','dayofrelease', 'monthofrelease']\n",
    "\n",
    "# Select numerical columns\n",
    "numerical_cols = ['budget','duration']"
   ]
  },
  {
   "cell_type": "code",
   "execution_count": 21,
   "metadata": {},
   "outputs": [],
   "source": [
    "from sklearn.compose import ColumnTransformer\n",
    "from sklearn.pipeline import Pipeline,make_pipeline\n",
    "from sklearn.impute import SimpleImputer\n",
    "from sklearn.preprocessing import OneHotEncoder\n",
    "\n",
    "# Preprocessing for numerical data\n",
    "numerical_transformer = Pipeline(steps =[\n",
    "    ('imputer',SimpleImputer(strategy='mean')),\n",
    "    ('scale',StandardScaler())\n",
    "    ])\n",
    "\n",
    "# Preprocessing for categorical data\n",
    "categorical_transformer = Pipeline(steps=[\n",
    "    ('imputer', SimpleImputer(strategy='constant', fill_value='missing')),\n",
    "    ('onehot', OneHotEncoder(handle_unknown='ignore'))\n",
    "])\n",
    "\n",
    "\n",
    "# Bundle preprocessing for numerical and categorical data\n",
    "preprocessor = ColumnTransformer(\n",
    "    transformers=[\n",
    "        ('num', numerical_transformer, numerical_cols),\n",
    "        ('cat', categorical_transformer, categorical_cols)\n",
    "    ])"
   ]
  },
  {
   "cell_type": "code",
   "execution_count": 22,
   "metadata": {},
   "outputs": [
    {
     "output_type": "stream",
     "name": "stdout",
     "text": [
      "[0.3991684  0.68191268 0.91891892 0.85416667 0.80208333 0.76458333\n 0.74375    0.74583333 0.7375     0.73541667]\nAccuracy of Model with Cross Validation is: 73.83333333333334\n"
     ]
    }
   ],
   "source": [
    "# Define model\n",
    "model = RandomForestClassifier(n_estimators=100, random_state=0)\n",
    "# Bundle preprocessing and modeling code in a pipeline\n",
    "clf = Pipeline(steps=[('preprocessor', preprocessor),('model', model)])\n",
    "# Preprocessing of training data, fit model \n",
    "clf.fit(X_train, y_train)\n",
    "# Preprocessing of validation data, get predictions\n",
    "preds = clf.predict(X_valid)\n",
    "from sklearn.model_selection import cross_val_score\n",
    "\n",
    "accuracy = cross_val_score(clf, X, y, scoring='accuracy', cv = 10)\n",
    "print(accuracy)\n",
    "#get the mean of each fold \n",
    "print(\"Accuracy of Model with Cross Validation is:\",accuracy.mean() * 100)"
   ]
  },
  {
   "cell_type": "code",
   "execution_count": 23,
   "metadata": {},
   "outputs": [
    {
     "output_type": "stream",
     "name": "stdout",
     "text": [
      "[0.42619543 0.88357588 0.96257796 0.95208333 0.89791667 0.85833333\n 0.82083333 0.78333333 0.75208333 0.73541667]\nAccuracy of Model with Cross Validation is: 80.72349272349273\n"
     ]
    }
   ],
   "source": [
    "from sklearn.linear_model import LogisticRegression\n",
    "\n",
    "# Define model\n",
    "model = LogisticRegression()\n",
    "# Bundle preprocessing and modeling code in a pipeline\n",
    "clf = Pipeline(steps=[('preprocessor', preprocessor),('model', model)])\n",
    "# Preprocessing of training data, fit model \n",
    "clf.fit(X_train, y_train)\n",
    "# Preprocessing of validation data, get predictions\n",
    "preds = clf.predict(X_valid)\n",
    "from sklearn.model_selection import cross_val_score\n",
    "\n",
    "accuracy = cross_val_score(clf, X, y, scoring='accuracy', cv = 10)\n",
    "print(accuracy)\n",
    "#get the mean of each fold \n",
    "print(\"Accuracy of Model with Cross Validation is:\",accuracy.mean() * 100)"
   ]
  },
  {
   "cell_type": "code",
   "execution_count": 24,
   "metadata": {},
   "outputs": [
    {
     "output_type": "stream",
     "name": "stdout",
     "text": [
      "[0.48232848 0.76507277 0.84199584 0.87083333 0.825      0.83333333\n 0.81041667 0.78958333 0.775      0.74375   ]\nAccuracy of Model with Cross Validation is: 77.37313756063757\n"
     ]
    }
   ],
   "source": [
    "from sklearn.neighbors import KNeighborsClassifier\n",
    "\n",
    "# Define model\n",
    "model = KNeighborsClassifier()\n",
    "# Bundle preprocessing and modeling code in a pipeline\n",
    "clf = Pipeline(steps=[('preprocessor', preprocessor),('model', model)])\n",
    "# Preprocessing of training data, fit model \n",
    "clf.fit(X_train, y_train)\n",
    "# Preprocessing of validation data, get predictions\n",
    "preds = clf.predict(X_valid)\n",
    "from sklearn.model_selection import cross_val_score\n",
    "\n",
    "accuracy = cross_val_score(clf, X, y, scoring='accuracy', cv = 10)\n",
    "print(accuracy)\n",
    "#get the mean of each fold \n",
    "print(\"Accuracy of Model with Cross Validation is:\",accuracy.mean() * 100)"
   ]
  },
  {
   "cell_type": "code",
   "execution_count": 28,
   "metadata": {},
   "outputs": [
    {
     "output_type": "stream",
     "name": "stdout",
     "text": [
      "[0.47401247 0.78794179 0.88981289 0.88958333 0.85833333 0.85\n 0.82708333 0.82291667 0.78958333 0.75416667]\nAccuracy of Model with Cross Validation is: 79.43433818433817\n"
     ]
    }
   ],
   "source": [
    "from sklearn.svm import LinearSVC\n",
    "\n",
    "# Define model\n",
    "model = LinearSVC()\n",
    "# Bundle preprocessing and modeling code in a pipeline\n",
    "clf = Pipeline(steps=[('preprocessor', preprocessor),('model', model)])\n",
    "# Preprocessing of training data, fit model \n",
    "clf.fit(X_train, y_train)\n",
    "# Preprocessing of validation data, get predictions\n",
    "preds = clf.predict(X_valid)\n",
    "from sklearn.model_selection import cross_val_score\n",
    "\n",
    "accuracy = cross_val_score(clf, X, y, scoring='accuracy', cv = 10)\n",
    "print(accuracy)\n",
    "#get the mean of each fold \n",
    "print(\"Accuracy of Model with Cross Validation is:\",accuracy.mean() * 100)"
   ]
  },
  {
   "cell_type": "code",
   "execution_count": 29,
   "metadata": {},
   "outputs": [
    {
     "output_type": "error",
     "ename": "NameError",
     "evalue": "name 'random_state' is not defined",
     "traceback": [
      "\u001b[1;31m---------------------------------------------------------------------------\u001b[0m",
      "\u001b[1;31mNameError\u001b[0m                                 Traceback (most recent call last)",
      "\u001b[1;32m<ipython-input-29-7725657fac67>\u001b[0m in \u001b[0;36m<module>\u001b[1;34m\u001b[0m\n\u001b[0;32m      2\u001b[0m \u001b[1;33m\u001b[0m\u001b[0m\n\u001b[0;32m      3\u001b[0m \u001b[1;31m#Define the model\u001b[0m\u001b[1;33m\u001b[0m\u001b[1;33m\u001b[0m\u001b[1;33m\u001b[0m\u001b[0m\n\u001b[1;32m----> 4\u001b[1;33m \u001b[0mmodel\u001b[0m \u001b[1;33m=\u001b[0m \u001b[0mMLPClassifier\u001b[0m\u001b[1;33m(\u001b[0m\u001b[0mrandom_state\u001b[0m\u001b[1;33m=\u001b[0m\u001b[0mrandom_state\u001b[0m\u001b[1;33m)\u001b[0m\u001b[1;33m\u001b[0m\u001b[1;33m\u001b[0m\u001b[0m\n\u001b[0m\u001b[0;32m      5\u001b[0m \u001b[1;31m# Bundle preprocessing and modeling code in a pipeline\u001b[0m\u001b[1;33m\u001b[0m\u001b[1;33m\u001b[0m\u001b[1;33m\u001b[0m\u001b[0m\n\u001b[0;32m      6\u001b[0m \u001b[0mclf\u001b[0m \u001b[1;33m=\u001b[0m \u001b[0mPipeline\u001b[0m\u001b[1;33m(\u001b[0m\u001b[0msteps\u001b[0m\u001b[1;33m=\u001b[0m\u001b[1;33m[\u001b[0m\u001b[1;33m(\u001b[0m\u001b[1;34m'preprocessor'\u001b[0m\u001b[1;33m,\u001b[0m \u001b[0mpreprocessor\u001b[0m\u001b[1;33m)\u001b[0m\u001b[1;33m,\u001b[0m\u001b[1;33m(\u001b[0m\u001b[1;34m'model'\u001b[0m\u001b[1;33m,\u001b[0m \u001b[0mmodel\u001b[0m\u001b[1;33m)\u001b[0m\u001b[1;33m]\u001b[0m\u001b[1;33m)\u001b[0m\u001b[1;33m\u001b[0m\u001b[1;33m\u001b[0m\u001b[0m\n",
      "\u001b[1;31mNameError\u001b[0m: name 'random_state' is not defined"
     ]
    }
   ],
   "source": [
    "from sklearn.neural_network import MLPClassifier\n",
    "\n",
    "#Define the model\n",
    "model = MLPClassifier()\n",
    "# Bundle preprocessing and modeling code in a pipeline\n",
    "clf = Pipeline(steps=[('preprocessor', preprocessor),('model', model)])\n",
    "# Preprocessing of training data, fit model \n",
    "clf.fit(X_train, y_train)\n",
    "# Preprocessing of validation data, get predictions\n",
    "preds = clf.predict(X_valid)\n",
    "from sklearn.model_selection import cross_val_score\n",
    "\n",
    "accuracy = cross_val_score(clf, X, y, scoring='accuracy', cv = 10)\n",
    "print(accuracy)\n",
    "#get the mean of each fold \n",
    "print(\"Accuracy of Model with Cross Validation is:\",accuracy.mean() * 100)"
   ]
  },
  {
   "cell_type": "code",
   "execution_count": 26,
   "metadata": {},
   "outputs": [],
   "source": [
    "# Bundle preprocessing and modeling code in a pipeline\n",
    "clf = Pipeline(steps=[('preprocessor', preprocessor),('model', model)])"
   ]
  },
  {
   "cell_type": "code",
   "execution_count": 98,
   "metadata": {},
   "outputs": [],
   "source": [
    "# Preprocessing of training data, fit model \n",
    "clf.fit(X_train, y_train)\n",
    "\n",
    "# Preprocessing of validation data, get predictions\n",
    "preds = clf.predict(X_valid)"
   ]
  },
  {
   "cell_type": "code",
   "execution_count": 99,
   "metadata": {},
   "outputs": [
    {
     "output_type": "stream",
     "name": "stdout",
     "text": [
      "MAE: 0.1675338189386056\n"
     ]
    }
   ],
   "source": [
    "from sklearn.metrics import mean_absolute_error\n",
    "print('MAE:', mean_absolute_error(y_valid, preds))"
   ]
  },
  {
   "cell_type": "code",
   "execution_count": 100,
   "metadata": {},
   "outputs": [
    {
     "output_type": "stream",
     "name": "stdout",
     "text": [
      "model score: 0.832\n"
     ]
    }
   ],
   "source": [
    "print(\"model score: %.3f\" % clf.score(X_valid, y_valid))"
   ]
  },
  {
   "cell_type": "code",
   "execution_count": 101,
   "metadata": {},
   "outputs": [
    {
     "output_type": "stream",
     "name": "stdout",
     "text": [
      "[0.42619543 0.88357588 0.96257796 0.95208333 0.89791667 0.85833333\n 0.82083333 0.78333333 0.75208333 0.73541667]\nAccuracy of Model with Cross Validation is: 80.72349272349273\n"
     ]
    }
   ],
   "source": [
    "from sklearn.model_selection import cross_val_score\n",
    "\n",
    "accuracy = cross_val_score(clf, X, y, scoring='accuracy', cv = 10)\n",
    "print(accuracy)\n",
    "#get the mean of each fold \n",
    "print(\"Accuracy of Model with Cross Validation is:\",accuracy.mean() * 100)"
   ]
  },
  {
   "cell_type": "code",
   "execution_count": 103,
   "metadata": {},
   "outputs": [
    {
     "output_type": "execute_result",
     "data": {
      "text/plain": [
       "['models/final_model.joblib']"
      ]
     },
     "metadata": {},
     "execution_count": 103
    }
   ],
   "source": [
    "dump(clf, 'models/final_model.joblib')"
   ]
  },
  {
   "cell_type": "code",
   "execution_count": null,
   "metadata": {},
   "outputs": [],
   "source": []
  }
 ]
}