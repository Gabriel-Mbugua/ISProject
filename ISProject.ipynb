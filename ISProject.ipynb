{
 "metadata": {
  "language_info": {
   "codemirror_mode": {
    "name": "ipython",
    "version": 3
   },
   "file_extension": ".py",
   "mimetype": "text/x-python",
   "name": "python",
   "nbconvert_exporter": "python",
   "pygments_lexer": "ipython3",
   "version": "3.6.10-final"
  },
  "orig_nbformat": 2,
  "kernelspec": {
   "name": "python_defaultSpec_1600236227504",
   "display_name": "Python 3.6.10 64-bit ('chatbot': conda)"
  }
 },
 "nbformat": 4,
 "nbformat_minor": 2,
 "cells": [
  {
   "cell_type": "code",
   "execution_count": 2,
   "metadata": {},
   "outputs": [],
   "source": [
    "import json\n",
    "import pandas as pd\n",
    "import numpy as np\n",
    "import json\n",
    "import seaborn as sns\n",
    "import datetime\n",
    "import matplotlib.pyplot as plt\n",
    "import tensorflow as tf\n",
    "from joblib import dump, load\n",
    "from sklearn.preprocessing import StandardScaler\n",
    "from sklearn import linear_model,metrics\n",
    "from sklearn.preprocessing import StandardScaler, PowerTransformer\n",
    "from sklearn.decomposition import PCA\n",
    "from sklearn.model_selection import train_test_split"
   ]
  },
  {
   "cell_type": "code",
   "execution_count": 3,
   "metadata": {},
   "outputs": [],
   "source": [
    "def load_tmdb_movies(path):\n",
    "    df = pd.read_csv(path, parse_dates=['release_date'])\n",
    "    df['release_date'] = pd.to_datetime(df['release_date']).apply(lambda x: x.date())\n",
    "    json_columns = ['genres', 'keywords', 'production_countries', 'production_companies', 'spoken_languages']\n",
    "    for column in json_columns:\n",
    "        df[column] = df[column].apply(json.loads)\n",
    "    return df"
   ]
  },
  {
   "cell_type": "code",
   "execution_count": 4,
   "metadata": {},
   "outputs": [],
   "source": [
    "def load_tmdb_credits(path):\n",
    "    df = pd.read_csv(path)\n",
    "    json_columns = ['cast', 'crew']\n",
    "    for column in json_columns:\n",
    "        df[column] = df[column].apply(json.loads)\n",
    "    return df"
   ]
  },
  {
   "cell_type": "markdown",
   "metadata": {},
   "source": [
    "### Columns that existed in the IMDB version of the dataset and are gone."
   ]
  },
  {
   "cell_type": "code",
   "execution_count": 5,
   "metadata": {},
   "outputs": [],
   "source": [
    "LOST_COLUMNS = [\n",
    "    'actor_1_facebook_likes',\n",
    "    'actor_2_facebook_likes',\n",
    "    'actor_3_facebook_likes',\n",
    "    'aspect_ratio',\n",
    "    'cast_total_facebook_likes',\n",
    "    'color',\n",
    "    'content_rating',\n",
    "    'director_facebook_likes',\n",
    "    'facenumber_in_poster',\n",
    "    'movie_facebook_likes',\n",
    "    'movie_imdb_link',\n",
    "    'num_critic_for_reviews',\n",
    "    'num_user_for_reviews'\n",
    "                ]"
   ]
  },
  {
   "cell_type": "markdown",
   "metadata": {},
   "source": [
    "### Columns in TMDb that had direct equivalents in the IMDB version. "
   ]
  },
  {
   "cell_type": "code",
   "execution_count": 6,
   "metadata": {},
   "outputs": [],
   "source": [
    "TMDB_TO_IMDB_SIMPLE_EQUIVALENCIES = {\n",
    "    'budget': 'budget',\n",
    "    'genres': 'genres',\n",
    "    'revenue': 'gross',\n",
    "    'title': 'movie_title',\n",
    "    'runtime': 'duration',\n",
    "    'original_language': 'language',  # it's possible that spoken_languages would be a better match\n",
    "    'keywords': 'plot_keywords',\n",
    "    'vote_count': 'num_voted_users',\n",
    "                                         }\n",
    "\n",
    "IMDB_COLUMNS_TO_REMAP = {'imdb_score': 'vote_average'}"
   ]
  },
  {
   "cell_type": "code",
   "execution_count": 7,
   "metadata": {},
   "outputs": [],
   "source": [
    "def safe_access(container, index_values):\n",
    "    # return a missing value rather than an error upon indexing/key failure\n",
    "    result = container\n",
    "    try:\n",
    "        for idx in index_values:\n",
    "            result = result[idx]\n",
    "        return result\n",
    "    except IndexError or KeyError:\n",
    "        return pd.np.nan"
   ]
  },
  {
   "cell_type": "code",
   "execution_count": 8,
   "metadata": {},
   "outputs": [],
   "source": [
    "def get_director(crew_data):\n",
    "    directors = [x['name'] for x in crew_data if x['job'] == 'Director']\n",
    "    return safe_access(directors, [0])"
   ]
  },
  {
   "cell_type": "code",
   "execution_count": 9,
   "metadata": {},
   "outputs": [],
   "source": [
    "def pipe_flatten_names(keywords):\n",
    "    return '|'.join([x['name'] for x in keywords])"
   ]
  },
  {
   "cell_type": "code",
   "execution_count": 10,
   "metadata": {},
   "outputs": [],
   "source": [
    "def convert_to_original_format(movies, credits):\n",
    "    # Converts TMDb data to make it as compatible as possible with kernels built on the original version of the data.\n",
    "    tmdb_movies = movies.copy()\n",
    "    tmdb_movies.rename(columns=TMDB_TO_IMDB_SIMPLE_EQUIVALENCIES, inplace=True)\n",
    "    tmdb_movies['title_year'] = pd.to_datetime(tmdb_movies['release_date']).apply(lambda x: x.year)\n",
    "    # I'm assuming that the first production country is equivalent, but have not been able to validate this\n",
    "    tmdb_movies['country'] = tmdb_movies['production_countries'].apply(lambda x: safe_access(x, [0, 'name']))\n",
    "    tmdb_movies['language'] = tmdb_movies['spoken_languages'].apply(lambda x: safe_access(x, [0, 'name']))\n",
    "    tmdb_movies['director_name'] = credits['crew'].apply(get_director)\n",
    "    tmdb_movies['actor_1_name'] = credits['cast'].apply(lambda x: safe_access(x, [0, 'name']))\n",
    "    tmdb_movies['actor_2_name'] = credits['cast'].apply(lambda x: safe_access(x, [1, 'name']))\n",
    "    tmdb_movies['actor_3_name'] = credits['cast'].apply(lambda x: safe_access(x, [2, 'name']))\n",
    "    tmdb_movies['genres'] = tmdb_movies['genres'].apply(pipe_flatten_names)\n",
    "    tmdb_movies['plot_keywords'] = tmdb_movies['plot_keywords'].apply(pipe_flatten_names)\n",
    "    return tmdb_movies"
   ]
  },
  {
   "cell_type": "code",
   "execution_count": 200,
   "metadata": {},
   "outputs": [
    {
     "output_type": "execute_result",
     "data": {
      "text/plain": "      budget                                    genres  \\\n0  237000000  Action|Adventure|Fantasy|Science Fiction   \n\n                      homepage     id  \\\n0  http://www.avatarmovie.com/  19995   \n\n                                       plot_keywords language original_title  \\\n0  culture clash|future|space war|space colony|so...  English         Avatar   \n\n                                            overview  popularity  \\\n0  In the 22nd century, a paraplegic Marine is di...  150.437577   \n\n                                production_companies  ...  \\\n0  [{'name': 'Ingenious Film Partners', 'id': 289...  ...   \n\n                       tagline movie_title  vote_average  num_voted_users  \\\n0  Enter the World of Pandora.      Avatar           7.2            11800   \n\n  title_year                   country  director_name     actor_1_name  \\\n0     2009.0  United States of America  James Cameron  Sam Worthington   \n\n   actor_2_name      actor_3_name  \n0   Zoe Saldana  Sigourney Weaver  \n\n[1 rows x 26 columns]",
      "text/html": "<div>\n<style scoped>\n    .dataframe tbody tr th:only-of-type {\n        vertical-align: middle;\n    }\n\n    .dataframe tbody tr th {\n        vertical-align: top;\n    }\n\n    .dataframe thead th {\n        text-align: right;\n    }\n</style>\n<table border=\"1\" class=\"dataframe\">\n  <thead>\n    <tr style=\"text-align: right;\">\n      <th></th>\n      <th>budget</th>\n      <th>genres</th>\n      <th>homepage</th>\n      <th>id</th>\n      <th>plot_keywords</th>\n      <th>language</th>\n      <th>original_title</th>\n      <th>overview</th>\n      <th>popularity</th>\n      <th>production_companies</th>\n      <th>...</th>\n      <th>tagline</th>\n      <th>movie_title</th>\n      <th>vote_average</th>\n      <th>num_voted_users</th>\n      <th>title_year</th>\n      <th>country</th>\n      <th>director_name</th>\n      <th>actor_1_name</th>\n      <th>actor_2_name</th>\n      <th>actor_3_name</th>\n    </tr>\n  </thead>\n  <tbody>\n    <tr>\n      <th>0</th>\n      <td>237000000</td>\n      <td>Action|Adventure|Fantasy|Science Fiction</td>\n      <td>http://www.avatarmovie.com/</td>\n      <td>19995</td>\n      <td>culture clash|future|space war|space colony|so...</td>\n      <td>English</td>\n      <td>Avatar</td>\n      <td>In the 22nd century, a paraplegic Marine is di...</td>\n      <td>150.437577</td>\n      <td>[{'name': 'Ingenious Film Partners', 'id': 289...</td>\n      <td>...</td>\n      <td>Enter the World of Pandora.</td>\n      <td>Avatar</td>\n      <td>7.2</td>\n      <td>11800</td>\n      <td>2009.0</td>\n      <td>United States of America</td>\n      <td>James Cameron</td>\n      <td>Sam Worthington</td>\n      <td>Zoe Saldana</td>\n      <td>Sigourney Weaver</td>\n    </tr>\n  </tbody>\n</table>\n<p>1 rows × 26 columns</p>\n</div>"
     },
     "metadata": {},
     "execution_count": 200
    }
   ],
   "source": [
    "movies = load_tmdb_movies(\"Data/Original/tmdb_5000_movies.csv\")\n",
    "credits = load_tmdb_credits(\"Data/tmdb_5000_credits.csv\")\n",
    "original_format = convert_to_original_format(movies, credits)\n",
    "original_format.head(1)"
   ]
  },
  {
   "cell_type": "code",
   "execution_count": 230,
   "metadata": {},
   "outputs": [
    {
     "output_type": "execute_result",
     "data": {
      "text/plain": "Index(['budget', 'genres', 'language', 'popularity', 'release_date',\n       'duration', 'country', 'director_name', 'actor_1_name', 'actor_2_name',\n       'actor_3_name'],\n      dtype='object')"
     },
     "metadata": {},
     "execution_count": 230
    }
   ],
   "source": [
    "df = original_format.copy()\n",
    "features_to_remove =['id','original_title','overview', 'movie_title', 'homepage', 'status', 'plot_keywords', 'spoken_languages', 'gross', 'title_year', 'production_countries', 'production_companies','tagline', 'vote_average', 'num_voted_users']\n",
    "df.drop(features_to_remove, axis = 1, inplace= True)\n",
    "df.columns"
   ]
  },
  {
   "cell_type": "code",
   "execution_count": 231,
   "metadata": {},
   "outputs": [
    {
     "output_type": "execute_result",
     "data": {
      "text/plain": "budget             0\ngenres             0\nlanguage          86\npopularity         0\nrelease_date       1\nduration           2\ncountry          174\ndirector_name     30\nactor_1_name      43\nactor_2_name      53\nactor_3_name      63\ndtype: int64"
     },
     "metadata": {},
     "execution_count": 231
    }
   ],
   "source": [
    "df.isna().sum()"
   ]
  },
  {
   "cell_type": "code",
   "execution_count": 232,
   "metadata": {
    "tags": []
   },
   "outputs": [
    {
     "output_type": "stream",
     "name": "stdout",
     "text": "language : 1.7905475744326462\nrelease_date : 0.020820320632937747\nduration : 0.041640641265875494\ncountry : 3.622735790131168\ndirector_name : 0.6246096189881324\nactor_1_name : 0.8952737872163231\nactor_2_name : 1.1034769935457007\nactor_3_name : 1.311680199875078\n"
    }
   ],
   "source": [
    "replace_with_zero = ['duration','title_year']\n",
    "\n",
    "missing_val_cols = list(df.columns[df.isna().any()])\n",
    "for col in missing_val_cols:\n",
    "  if col not in replace_with_zero:\n",
    "    miss_percentage = ((df[col].isna().sum())/4803) * 100 \n",
    "    print(f'{col} : {str(miss_percentage)}')\n",
    "    df[col].fillna('Missing', inplace=True)\n",
    "  else:\n",
    "    miss_percentage = ((df[col].isna().sum())/4803) * 100 \n",
    "    print(f'{col} : {str(miss_percentage)}')\n",
    "    df[col].fillna(df[col].mean(), inplace=True)"
   ]
  },
  {
   "cell_type": "code",
   "execution_count": 233,
   "metadata": {},
   "outputs": [
    {
     "output_type": "execute_result",
     "data": {
      "text/plain": "budget             int64\ngenres            object\nlanguage          object\npopularity       float64\nrelease_date      object\nduration         float64\ncountry           object\ndirector_name     object\nactor_1_name      object\nactor_2_name      object\nactor_3_name      object\ndtype: object"
     },
     "metadata": {},
     "execution_count": 233
    }
   ],
   "source": [
    "df.dtypes"
   ]
  },
  {
   "cell_type": "code",
   "execution_count": 234,
   "metadata": {},
   "outputs": [],
   "source": [
    "# scaler = StandardScaler()\n",
    "\n",
    "# numerical = df.select_dtypes(include=['int64','float']).copy()\n",
    "# numerical = df.columns[df.dtypes.apply(lambda c: np.issubdtype(c, np.number))]\n",
    "\n",
    "\n",
    "# df[numerical] = scaler.fit_transform(df[numerical])\n",
    "# df\n"
   ]
  },
  {
   "cell_type": "code",
   "execution_count": 235,
   "metadata": {},
   "outputs": [
    {
     "output_type": "execute_result",
     "data": {
      "text/plain": "      budget                                    genres  language  popularity  \\\n0  237000000  Action|Adventure|Fantasy|Science Fiction   English  150.437577   \n1  300000000                  Adventure|Fantasy|Action   English  139.082615   \n2  245000000                    Action|Adventure|Crime  Français  107.376788   \n\n   duration                   country   director_name     actor_1_name  \\\n0     162.0  United States of America   James Cameron  Sam Worthington   \n1     169.0  United States of America  Gore Verbinski      Johnny Depp   \n2     148.0            United Kingdom      Sam Mendes     Daniel Craig   \n\n      actor_2_name      actor_3_name dayofrelease  \n0      Zoe Saldana  Sigourney Weaver     Thursday  \n1    Orlando Bloom   Keira Knightley     Saturday  \n2  Christoph Waltz       Léa Seydoux       Monday  ",
      "text/html": "<div>\n<style scoped>\n    .dataframe tbody tr th:only-of-type {\n        vertical-align: middle;\n    }\n\n    .dataframe tbody tr th {\n        vertical-align: top;\n    }\n\n    .dataframe thead th {\n        text-align: right;\n    }\n</style>\n<table border=\"1\" class=\"dataframe\">\n  <thead>\n    <tr style=\"text-align: right;\">\n      <th></th>\n      <th>budget</th>\n      <th>genres</th>\n      <th>language</th>\n      <th>popularity</th>\n      <th>duration</th>\n      <th>country</th>\n      <th>director_name</th>\n      <th>actor_1_name</th>\n      <th>actor_2_name</th>\n      <th>actor_3_name</th>\n      <th>dayofrelease</th>\n    </tr>\n  </thead>\n  <tbody>\n    <tr>\n      <th>0</th>\n      <td>237000000</td>\n      <td>Action|Adventure|Fantasy|Science Fiction</td>\n      <td>English</td>\n      <td>150.437577</td>\n      <td>162.0</td>\n      <td>United States of America</td>\n      <td>James Cameron</td>\n      <td>Sam Worthington</td>\n      <td>Zoe Saldana</td>\n      <td>Sigourney Weaver</td>\n      <td>Thursday</td>\n    </tr>\n    <tr>\n      <th>1</th>\n      <td>300000000</td>\n      <td>Adventure|Fantasy|Action</td>\n      <td>English</td>\n      <td>139.082615</td>\n      <td>169.0</td>\n      <td>United States of America</td>\n      <td>Gore Verbinski</td>\n      <td>Johnny Depp</td>\n      <td>Orlando Bloom</td>\n      <td>Keira Knightley</td>\n      <td>Saturday</td>\n    </tr>\n    <tr>\n      <th>2</th>\n      <td>245000000</td>\n      <td>Action|Adventure|Crime</td>\n      <td>Français</td>\n      <td>107.376788</td>\n      <td>148.0</td>\n      <td>United Kingdom</td>\n      <td>Sam Mendes</td>\n      <td>Daniel Craig</td>\n      <td>Christoph Waltz</td>\n      <td>Léa Seydoux</td>\n      <td>Monday</td>\n    </tr>\n  </tbody>\n</table>\n</div>"
     },
     "metadata": {},
     "execution_count": 235
    }
   ],
   "source": [
    "df['release_date'] = pd.to_datetime(df['release_date'].astype(str),errors='coerce')\n",
    "df['dayofrelease']=df['release_date'].dt.strftime('%A')\n",
    "# df['monthofrelease']=df['release_date'].dt.strftime('%m')\n",
    "df.drop(columns=['release_date'], inplace = True)\n",
    "df.head(3)"
   ]
  },
  {
   "cell_type": "code",
   "execution_count": 236,
   "metadata": {},
   "outputs": [
    {
     "output_type": "execute_result",
     "data": {
      "text/plain": "         budget                                    genres  language  \\\n0     237000000  Action|Adventure|Fantasy|Science Fiction   English   \n1     300000000                  Adventure|Fantasy|Action   English   \n2     245000000                    Action|Adventure|Crime  Français   \n3     250000000               Action|Crime|Drama|Thriller   English   \n4     260000000          Action|Adventure|Science Fiction   English   \n...         ...                                       ...       ...   \n4798     220000                     Action|Crime|Thriller   Español   \n4799       9000                            Comedy|Romance   Missing   \n4800          0             Comedy|Drama|Romance|TV Movie   English   \n4801          0                                             English   \n4802          0                               Documentary   English   \n\n      popularity  duration                   country      director_name  \\\n0     150.437577     162.0  United States of America      James Cameron   \n1     139.082615     169.0  United States of America     Gore Verbinski   \n2     107.376788     148.0            United Kingdom         Sam Mendes   \n3     112.312950     165.0  United States of America  Christopher Nolan   \n4      43.926995     132.0  United States of America     Andrew Stanton   \n...          ...       ...                       ...                ...   \n4798   14.269792      81.0                    Mexico   Robert Rodriguez   \n4799    0.642552      85.0                   Missing       Edward Burns   \n4800    1.444476     120.0  United States of America        Scott Smith   \n4801    0.857008      98.0  United States of America        Daniel Hsia   \n4802    1.929883      90.0  United States of America   Brian Herzlinger   \n\n         actor_1_name      actor_2_name      actor_3_name  \\\n0     Sam Worthington       Zoe Saldana  Sigourney Weaver   \n1         Johnny Depp     Orlando Bloom   Keira Knightley   \n2        Daniel Craig   Christoph Waltz       Léa Seydoux   \n3      Christian Bale     Michael Caine       Gary Oldman   \n4       Taylor Kitsch      Lynn Collins   Samantha Morton   \n...               ...               ...               ...   \n4798  Carlos Gallardo    Jaime de Hoyos   Peter Marquardt   \n4799     Edward Burns       Kerry Bishé   Marsha Dietlein   \n4800      Eric Mabius     Kristin Booth      Crystal Lowe   \n4801    Daniel Henney       Eliza Coupe       Bill Paxton   \n4802   Drew Barrymore  Brian Herzlinger     Corey Feldman   \n\n      dayofrelease_Friday  dayofrelease_Monday  dayofrelease_Saturday  \\\n0                       0                    0                      0   \n1                       0                    0                      1   \n2                       0                    1                      0   \n3                       0                    1                      0   \n4                       0                    0                      0   \n...                   ...                  ...                    ...   \n4798                    1                    0                      0   \n4799                    0                    1                      0   \n4800                    0                    0                      0   \n4801                    0                    0                      0   \n4802                    1                    0                      0   \n\n      dayofrelease_Sunday  dayofrelease_Thursday  dayofrelease_Tuesday  \\\n0                       0                      1                     0   \n1                       0                      0                     0   \n2                       0                      0                     0   \n3                       0                      0                     0   \n4                       0                      0                     0   \n...                   ...                    ...                   ...   \n4798                    0                      0                     0   \n4799                    0                      0                     0   \n4800                    1                      0                     0   \n4801                    0                      1                     0   \n4802                    0                      0                     0   \n\n      dayofrelease_Wednesday  \n0                          0  \n1                          0  \n2                          0  \n3                          0  \n4                          1  \n...                      ...  \n4798                       0  \n4799                       0  \n4800                       0  \n4801                       0  \n4802                       0  \n\n[4803 rows x 17 columns]",
      "text/html": "<div>\n<style scoped>\n    .dataframe tbody tr th:only-of-type {\n        vertical-align: middle;\n    }\n\n    .dataframe tbody tr th {\n        vertical-align: top;\n    }\n\n    .dataframe thead th {\n        text-align: right;\n    }\n</style>\n<table border=\"1\" class=\"dataframe\">\n  <thead>\n    <tr style=\"text-align: right;\">\n      <th></th>\n      <th>budget</th>\n      <th>genres</th>\n      <th>language</th>\n      <th>popularity</th>\n      <th>duration</th>\n      <th>country</th>\n      <th>director_name</th>\n      <th>actor_1_name</th>\n      <th>actor_2_name</th>\n      <th>actor_3_name</th>\n      <th>dayofrelease_Friday</th>\n      <th>dayofrelease_Monday</th>\n      <th>dayofrelease_Saturday</th>\n      <th>dayofrelease_Sunday</th>\n      <th>dayofrelease_Thursday</th>\n      <th>dayofrelease_Tuesday</th>\n      <th>dayofrelease_Wednesday</th>\n    </tr>\n  </thead>\n  <tbody>\n    <tr>\n      <th>0</th>\n      <td>237000000</td>\n      <td>Action|Adventure|Fantasy|Science Fiction</td>\n      <td>English</td>\n      <td>150.437577</td>\n      <td>162.0</td>\n      <td>United States of America</td>\n      <td>James Cameron</td>\n      <td>Sam Worthington</td>\n      <td>Zoe Saldana</td>\n      <td>Sigourney Weaver</td>\n      <td>0</td>\n      <td>0</td>\n      <td>0</td>\n      <td>0</td>\n      <td>1</td>\n      <td>0</td>\n      <td>0</td>\n    </tr>\n    <tr>\n      <th>1</th>\n      <td>300000000</td>\n      <td>Adventure|Fantasy|Action</td>\n      <td>English</td>\n      <td>139.082615</td>\n      <td>169.0</td>\n      <td>United States of America</td>\n      <td>Gore Verbinski</td>\n      <td>Johnny Depp</td>\n      <td>Orlando Bloom</td>\n      <td>Keira Knightley</td>\n      <td>0</td>\n      <td>0</td>\n      <td>1</td>\n      <td>0</td>\n      <td>0</td>\n      <td>0</td>\n      <td>0</td>\n    </tr>\n    <tr>\n      <th>2</th>\n      <td>245000000</td>\n      <td>Action|Adventure|Crime</td>\n      <td>Français</td>\n      <td>107.376788</td>\n      <td>148.0</td>\n      <td>United Kingdom</td>\n      <td>Sam Mendes</td>\n      <td>Daniel Craig</td>\n      <td>Christoph Waltz</td>\n      <td>Léa Seydoux</td>\n      <td>0</td>\n      <td>1</td>\n      <td>0</td>\n      <td>0</td>\n      <td>0</td>\n      <td>0</td>\n      <td>0</td>\n    </tr>\n    <tr>\n      <th>3</th>\n      <td>250000000</td>\n      <td>Action|Crime|Drama|Thriller</td>\n      <td>English</td>\n      <td>112.312950</td>\n      <td>165.0</td>\n      <td>United States of America</td>\n      <td>Christopher Nolan</td>\n      <td>Christian Bale</td>\n      <td>Michael Caine</td>\n      <td>Gary Oldman</td>\n      <td>0</td>\n      <td>1</td>\n      <td>0</td>\n      <td>0</td>\n      <td>0</td>\n      <td>0</td>\n      <td>0</td>\n    </tr>\n    <tr>\n      <th>4</th>\n      <td>260000000</td>\n      <td>Action|Adventure|Science Fiction</td>\n      <td>English</td>\n      <td>43.926995</td>\n      <td>132.0</td>\n      <td>United States of America</td>\n      <td>Andrew Stanton</td>\n      <td>Taylor Kitsch</td>\n      <td>Lynn Collins</td>\n      <td>Samantha Morton</td>\n      <td>0</td>\n      <td>0</td>\n      <td>0</td>\n      <td>0</td>\n      <td>0</td>\n      <td>0</td>\n      <td>1</td>\n    </tr>\n    <tr>\n      <th>...</th>\n      <td>...</td>\n      <td>...</td>\n      <td>...</td>\n      <td>...</td>\n      <td>...</td>\n      <td>...</td>\n      <td>...</td>\n      <td>...</td>\n      <td>...</td>\n      <td>...</td>\n      <td>...</td>\n      <td>...</td>\n      <td>...</td>\n      <td>...</td>\n      <td>...</td>\n      <td>...</td>\n      <td>...</td>\n    </tr>\n    <tr>\n      <th>4798</th>\n      <td>220000</td>\n      <td>Action|Crime|Thriller</td>\n      <td>Español</td>\n      <td>14.269792</td>\n      <td>81.0</td>\n      <td>Mexico</td>\n      <td>Robert Rodriguez</td>\n      <td>Carlos Gallardo</td>\n      <td>Jaime de Hoyos</td>\n      <td>Peter Marquardt</td>\n      <td>1</td>\n      <td>0</td>\n      <td>0</td>\n      <td>0</td>\n      <td>0</td>\n      <td>0</td>\n      <td>0</td>\n    </tr>\n    <tr>\n      <th>4799</th>\n      <td>9000</td>\n      <td>Comedy|Romance</td>\n      <td>Missing</td>\n      <td>0.642552</td>\n      <td>85.0</td>\n      <td>Missing</td>\n      <td>Edward Burns</td>\n      <td>Edward Burns</td>\n      <td>Kerry Bishé</td>\n      <td>Marsha Dietlein</td>\n      <td>0</td>\n      <td>1</td>\n      <td>0</td>\n      <td>0</td>\n      <td>0</td>\n      <td>0</td>\n      <td>0</td>\n    </tr>\n    <tr>\n      <th>4800</th>\n      <td>0</td>\n      <td>Comedy|Drama|Romance|TV Movie</td>\n      <td>English</td>\n      <td>1.444476</td>\n      <td>120.0</td>\n      <td>United States of America</td>\n      <td>Scott Smith</td>\n      <td>Eric Mabius</td>\n      <td>Kristin Booth</td>\n      <td>Crystal Lowe</td>\n      <td>0</td>\n      <td>0</td>\n      <td>0</td>\n      <td>1</td>\n      <td>0</td>\n      <td>0</td>\n      <td>0</td>\n    </tr>\n    <tr>\n      <th>4801</th>\n      <td>0</td>\n      <td></td>\n      <td>English</td>\n      <td>0.857008</td>\n      <td>98.0</td>\n      <td>United States of America</td>\n      <td>Daniel Hsia</td>\n      <td>Daniel Henney</td>\n      <td>Eliza Coupe</td>\n      <td>Bill Paxton</td>\n      <td>0</td>\n      <td>0</td>\n      <td>0</td>\n      <td>0</td>\n      <td>1</td>\n      <td>0</td>\n      <td>0</td>\n    </tr>\n    <tr>\n      <th>4802</th>\n      <td>0</td>\n      <td>Documentary</td>\n      <td>English</td>\n      <td>1.929883</td>\n      <td>90.0</td>\n      <td>United States of America</td>\n      <td>Brian Herzlinger</td>\n      <td>Drew Barrymore</td>\n      <td>Brian Herzlinger</td>\n      <td>Corey Feldman</td>\n      <td>1</td>\n      <td>0</td>\n      <td>0</td>\n      <td>0</td>\n      <td>0</td>\n      <td>0</td>\n      <td>0</td>\n    </tr>\n  </tbody>\n</table>\n<p>4803 rows × 17 columns</p>\n</div>"
     },
     "metadata": {},
     "execution_count": 236
    }
   ],
   "source": [
    "data_copy = df.copy()\n",
    "\n",
    "nominal = ['dayofrelease']\n",
    "one_hot = pd.get_dummies(data_copy[nominal])\n",
    "data_copy.drop(['dayofrelease'], axis=1, inplace=True)\n",
    "data_copy = data_copy.join(one_hot)\n",
    "data_copy"
   ]
  },
  {
   "cell_type": "code",
   "execution_count": 237,
   "metadata": {},
   "outputs": [],
   "source": [
    "from sklearn.preprocessing import LabelEncoder\n",
    "\n",
    "ordinal = ['actor_1_name','actor_2_name','actor_3_name', 'director_name', 'country','language', 'genres']\n",
    "for feature in ordinal:\n",
    "    data_copy[feature] = data_copy[feature].astype('category')\n",
    "    data_copy[feature] = data_copy[feature].cat.codes\n",
    "# pd.set_option('display.max_rows', None)"
   ]
  },
  {
   "cell_type": "code",
   "execution_count": 238,
   "metadata": {},
   "outputs": [
    {
     "output_type": "execute_result",
     "data": {
      "text/plain": "      budget  genres  language  popularity  duration  country  director_name  \\\n0  237000000      64         8  150.437577     162.0       70            885   \n1  300000000     332         8  139.082615     169.0       70            769   \n2  245000000      33        11  107.376788     148.0       69           1972   \n3  250000000     135         8  112.312950     165.0       70            360   \n4  260000000      76         8   43.926995     132.0       70             93   \n\n   actor_1_name  actor_2_name  actor_3_name  dayofrelease_Friday  \\\n0          1760          2715          2725                    0   \n1           991          2017          1674                    0   \n2           439           452          1909                    0   \n3           361          1824           994                    0   \n4          1923          1639          2615                    0   \n\n   dayofrelease_Monday  dayofrelease_Saturday  dayofrelease_Sunday  \\\n0                    0                      0                    0   \n1                    0                      1                    0   \n2                    1                      0                    0   \n3                    1                      0                    0   \n4                    0                      0                    0   \n\n   dayofrelease_Thursday  dayofrelease_Tuesday  dayofrelease_Wednesday  \n0                      1                     0                       0  \n1                      0                     0                       0  \n2                      0                     0                       0  \n3                      0                     0                       0  \n4                      0                     0                       1  ",
      "text/html": "<div>\n<style scoped>\n    .dataframe tbody tr th:only-of-type {\n        vertical-align: middle;\n    }\n\n    .dataframe tbody tr th {\n        vertical-align: top;\n    }\n\n    .dataframe thead th {\n        text-align: right;\n    }\n</style>\n<table border=\"1\" class=\"dataframe\">\n  <thead>\n    <tr style=\"text-align: right;\">\n      <th></th>\n      <th>budget</th>\n      <th>genres</th>\n      <th>language</th>\n      <th>popularity</th>\n      <th>duration</th>\n      <th>country</th>\n      <th>director_name</th>\n      <th>actor_1_name</th>\n      <th>actor_2_name</th>\n      <th>actor_3_name</th>\n      <th>dayofrelease_Friday</th>\n      <th>dayofrelease_Monday</th>\n      <th>dayofrelease_Saturday</th>\n      <th>dayofrelease_Sunday</th>\n      <th>dayofrelease_Thursday</th>\n      <th>dayofrelease_Tuesday</th>\n      <th>dayofrelease_Wednesday</th>\n    </tr>\n  </thead>\n  <tbody>\n    <tr>\n      <th>0</th>\n      <td>237000000</td>\n      <td>64</td>\n      <td>8</td>\n      <td>150.437577</td>\n      <td>162.0</td>\n      <td>70</td>\n      <td>885</td>\n      <td>1760</td>\n      <td>2715</td>\n      <td>2725</td>\n      <td>0</td>\n      <td>0</td>\n      <td>0</td>\n      <td>0</td>\n      <td>1</td>\n      <td>0</td>\n      <td>0</td>\n    </tr>\n    <tr>\n      <th>1</th>\n      <td>300000000</td>\n      <td>332</td>\n      <td>8</td>\n      <td>139.082615</td>\n      <td>169.0</td>\n      <td>70</td>\n      <td>769</td>\n      <td>991</td>\n      <td>2017</td>\n      <td>1674</td>\n      <td>0</td>\n      <td>0</td>\n      <td>1</td>\n      <td>0</td>\n      <td>0</td>\n      <td>0</td>\n      <td>0</td>\n    </tr>\n    <tr>\n      <th>2</th>\n      <td>245000000</td>\n      <td>33</td>\n      <td>11</td>\n      <td>107.376788</td>\n      <td>148.0</td>\n      <td>69</td>\n      <td>1972</td>\n      <td>439</td>\n      <td>452</td>\n      <td>1909</td>\n      <td>0</td>\n      <td>1</td>\n      <td>0</td>\n      <td>0</td>\n      <td>0</td>\n      <td>0</td>\n      <td>0</td>\n    </tr>\n    <tr>\n      <th>3</th>\n      <td>250000000</td>\n      <td>135</td>\n      <td>8</td>\n      <td>112.312950</td>\n      <td>165.0</td>\n      <td>70</td>\n      <td>360</td>\n      <td>361</td>\n      <td>1824</td>\n      <td>994</td>\n      <td>0</td>\n      <td>1</td>\n      <td>0</td>\n      <td>0</td>\n      <td>0</td>\n      <td>0</td>\n      <td>0</td>\n    </tr>\n    <tr>\n      <th>4</th>\n      <td>260000000</td>\n      <td>76</td>\n      <td>8</td>\n      <td>43.926995</td>\n      <td>132.0</td>\n      <td>70</td>\n      <td>93</td>\n      <td>1923</td>\n      <td>1639</td>\n      <td>2615</td>\n      <td>0</td>\n      <td>0</td>\n      <td>0</td>\n      <td>0</td>\n      <td>0</td>\n      <td>0</td>\n      <td>1</td>\n    </tr>\n  </tbody>\n</table>\n</div>"
     },
     "metadata": {},
     "execution_count": 238
    }
   ],
   "source": [
    "data_copy.head()"
   ]
  },
  {
   "cell_type": "code",
   "execution_count": 239,
   "metadata": {},
   "outputs": [
    {
     "output_type": "execute_result",
     "data": {
      "text/plain": "         budget  genres  language  duration  country  director_name  \\\n0     237000000      64         8     162.0       70            885   \n1     300000000     332         8     169.0       70            769   \n2     245000000      33        11     148.0       69           1972   \n3     250000000     135         8     165.0       70            360   \n4     260000000      76         8     132.0       70             93   \n...         ...     ...       ...       ...      ...            ...   \n4798     220000     141         9      81.0       46           1896   \n4799       9000     527        19      85.0       47            605   \n4800          0     482         8     120.0       70           1998   \n4801          0       0         8      98.0       70            439   \n4802          0     601         8      90.0       70            249   \n\n      actor_1_name  actor_2_name  actor_3_name  dayofrelease_Friday  \\\n0             1760          2715          2725                    0   \n1              991          2017          1674                    0   \n2              439           452          1909                    0   \n3              361          1824           994                    0   \n4             1923          1639          2615                    0   \n...            ...           ...           ...                  ...   \n4798           291          1064          2363                    1   \n4799           553          1471          1987                    0   \n4800           603          1511           598                    0   \n4801           441           743           301                    0   \n4802           529           294           585                    1   \n\n      dayofrelease_Monday  dayofrelease_Saturday  dayofrelease_Sunday  \\\n0                       0                      0                    0   \n1                       0                      1                    0   \n2                       1                      0                    0   \n3                       1                      0                    0   \n4                       0                      0                    0   \n...                   ...                    ...                  ...   \n4798                    0                      0                    0   \n4799                    1                      0                    0   \n4800                    0                      0                    1   \n4801                    0                      0                    0   \n4802                    0                      0                    0   \n\n      dayofrelease_Thursday  dayofrelease_Tuesday  dayofrelease_Wednesday  \\\n0                         1                     0                       0   \n1                         0                     0                       0   \n2                         0                     0                       0   \n3                         0                     0                       0   \n4                         0                     0                       1   \n...                     ...                   ...                     ...   \n4798                      0                     0                       0   \n4799                      0                     0                       0   \n4800                      0                     0                       0   \n4801                      1                     0                       0   \n4802                      0                     0                       0   \n\n      popularity  \n0     150.437577  \n1     139.082615  \n2     107.376788  \n3     112.312950  \n4      43.926995  \n...          ...  \n4798   14.269792  \n4799    0.642552  \n4800    1.444476  \n4801    0.857008  \n4802    1.929883  \n\n[4803 rows x 17 columns]",
      "text/html": "<div>\n<style scoped>\n    .dataframe tbody tr th:only-of-type {\n        vertical-align: middle;\n    }\n\n    .dataframe tbody tr th {\n        vertical-align: top;\n    }\n\n    .dataframe thead th {\n        text-align: right;\n    }\n</style>\n<table border=\"1\" class=\"dataframe\">\n  <thead>\n    <tr style=\"text-align: right;\">\n      <th></th>\n      <th>budget</th>\n      <th>genres</th>\n      <th>language</th>\n      <th>duration</th>\n      <th>country</th>\n      <th>director_name</th>\n      <th>actor_1_name</th>\n      <th>actor_2_name</th>\n      <th>actor_3_name</th>\n      <th>dayofrelease_Friday</th>\n      <th>dayofrelease_Monday</th>\n      <th>dayofrelease_Saturday</th>\n      <th>dayofrelease_Sunday</th>\n      <th>dayofrelease_Thursday</th>\n      <th>dayofrelease_Tuesday</th>\n      <th>dayofrelease_Wednesday</th>\n      <th>popularity</th>\n    </tr>\n  </thead>\n  <tbody>\n    <tr>\n      <th>0</th>\n      <td>237000000</td>\n      <td>64</td>\n      <td>8</td>\n      <td>162.0</td>\n      <td>70</td>\n      <td>885</td>\n      <td>1760</td>\n      <td>2715</td>\n      <td>2725</td>\n      <td>0</td>\n      <td>0</td>\n      <td>0</td>\n      <td>0</td>\n      <td>1</td>\n      <td>0</td>\n      <td>0</td>\n      <td>150.437577</td>\n    </tr>\n    <tr>\n      <th>1</th>\n      <td>300000000</td>\n      <td>332</td>\n      <td>8</td>\n      <td>169.0</td>\n      <td>70</td>\n      <td>769</td>\n      <td>991</td>\n      <td>2017</td>\n      <td>1674</td>\n      <td>0</td>\n      <td>0</td>\n      <td>1</td>\n      <td>0</td>\n      <td>0</td>\n      <td>0</td>\n      <td>0</td>\n      <td>139.082615</td>\n    </tr>\n    <tr>\n      <th>2</th>\n      <td>245000000</td>\n      <td>33</td>\n      <td>11</td>\n      <td>148.0</td>\n      <td>69</td>\n      <td>1972</td>\n      <td>439</td>\n      <td>452</td>\n      <td>1909</td>\n      <td>0</td>\n      <td>1</td>\n      <td>0</td>\n      <td>0</td>\n      <td>0</td>\n      <td>0</td>\n      <td>0</td>\n      <td>107.376788</td>\n    </tr>\n    <tr>\n      <th>3</th>\n      <td>250000000</td>\n      <td>135</td>\n      <td>8</td>\n      <td>165.0</td>\n      <td>70</td>\n      <td>360</td>\n      <td>361</td>\n      <td>1824</td>\n      <td>994</td>\n      <td>0</td>\n      <td>1</td>\n      <td>0</td>\n      <td>0</td>\n      <td>0</td>\n      <td>0</td>\n      <td>0</td>\n      <td>112.312950</td>\n    </tr>\n    <tr>\n      <th>4</th>\n      <td>260000000</td>\n      <td>76</td>\n      <td>8</td>\n      <td>132.0</td>\n      <td>70</td>\n      <td>93</td>\n      <td>1923</td>\n      <td>1639</td>\n      <td>2615</td>\n      <td>0</td>\n      <td>0</td>\n      <td>0</td>\n      <td>0</td>\n      <td>0</td>\n      <td>0</td>\n      <td>1</td>\n      <td>43.926995</td>\n    </tr>\n    <tr>\n      <th>...</th>\n      <td>...</td>\n      <td>...</td>\n      <td>...</td>\n      <td>...</td>\n      <td>...</td>\n      <td>...</td>\n      <td>...</td>\n      <td>...</td>\n      <td>...</td>\n      <td>...</td>\n      <td>...</td>\n      <td>...</td>\n      <td>...</td>\n      <td>...</td>\n      <td>...</td>\n      <td>...</td>\n      <td>...</td>\n    </tr>\n    <tr>\n      <th>4798</th>\n      <td>220000</td>\n      <td>141</td>\n      <td>9</td>\n      <td>81.0</td>\n      <td>46</td>\n      <td>1896</td>\n      <td>291</td>\n      <td>1064</td>\n      <td>2363</td>\n      <td>1</td>\n      <td>0</td>\n      <td>0</td>\n      <td>0</td>\n      <td>0</td>\n      <td>0</td>\n      <td>0</td>\n      <td>14.269792</td>\n    </tr>\n    <tr>\n      <th>4799</th>\n      <td>9000</td>\n      <td>527</td>\n      <td>19</td>\n      <td>85.0</td>\n      <td>47</td>\n      <td>605</td>\n      <td>553</td>\n      <td>1471</td>\n      <td>1987</td>\n      <td>0</td>\n      <td>1</td>\n      <td>0</td>\n      <td>0</td>\n      <td>0</td>\n      <td>0</td>\n      <td>0</td>\n      <td>0.642552</td>\n    </tr>\n    <tr>\n      <th>4800</th>\n      <td>0</td>\n      <td>482</td>\n      <td>8</td>\n      <td>120.0</td>\n      <td>70</td>\n      <td>1998</td>\n      <td>603</td>\n      <td>1511</td>\n      <td>598</td>\n      <td>0</td>\n      <td>0</td>\n      <td>0</td>\n      <td>1</td>\n      <td>0</td>\n      <td>0</td>\n      <td>0</td>\n      <td>1.444476</td>\n    </tr>\n    <tr>\n      <th>4801</th>\n      <td>0</td>\n      <td>0</td>\n      <td>8</td>\n      <td>98.0</td>\n      <td>70</td>\n      <td>439</td>\n      <td>441</td>\n      <td>743</td>\n      <td>301</td>\n      <td>0</td>\n      <td>0</td>\n      <td>0</td>\n      <td>0</td>\n      <td>1</td>\n      <td>0</td>\n      <td>0</td>\n      <td>0.857008</td>\n    </tr>\n    <tr>\n      <th>4802</th>\n      <td>0</td>\n      <td>601</td>\n      <td>8</td>\n      <td>90.0</td>\n      <td>70</td>\n      <td>249</td>\n      <td>529</td>\n      <td>294</td>\n      <td>585</td>\n      <td>1</td>\n      <td>0</td>\n      <td>0</td>\n      <td>0</td>\n      <td>0</td>\n      <td>0</td>\n      <td>0</td>\n      <td>1.929883</td>\n    </tr>\n  </tbody>\n</table>\n<p>4803 rows × 17 columns</p>\n</div>"
     },
     "metadata": {},
     "execution_count": 239
    }
   ],
   "source": [
    "data_copy.drop(columns=['popularity'], inplace= True)\n",
    "new_data = pd.concat([data_copy, df['popularity']], axis =1)\n",
    "new_data"
   ]
  },
  {
   "cell_type": "code",
   "execution_count": 241,
   "metadata": {},
   "outputs": [
    {
     "output_type": "execute_result",
     "data": {
      "text/plain": "        budget    genres  language  duration   country  director_name  \\\n0     5.107181 -1.712060 -0.273936  2.438596  0.566591      -0.477710   \n1     6.654402 -0.794803 -0.273936  2.748263  0.566591      -0.647522   \n2     5.303653 -1.818160  0.152828  1.819260  0.517966       1.113538   \n3     5.426449 -1.469055 -0.273936  2.571310  0.566591      -1.246253   \n4     5.672039 -1.670988 -0.273936  1.111448  0.566591      -1.637111   \n...        ...       ...       ...       ...       ...            ...   \n4798 -0.707916 -1.448520 -0.131681 -1.144703 -0.600426       1.002283   \n4799 -0.713098 -0.127396  1.290866 -0.967750 -0.551800      -0.887600   \n4800 -0.713319 -0.281413 -0.273936  0.580589  0.566591       1.151599   \n4801 -0.713319 -1.931106 -0.273936 -0.392652  0.566591      -1.130605   \n4802 -0.713319  0.125876 -0.273936 -0.746559  0.566591      -1.408744   \n\n      actor_1_name  actor_2_name  actor_3_name  dayofrelease_Friday  \\\n0         1.171365      1.746301      1.324216            -0.864029   \n1        -0.108215      0.850469      0.138410            -0.864029   \n2        -1.026717     -1.158094      0.403552            -0.864029   \n3        -1.156506      0.602768     -0.628810            -0.864029   \n4         1.442589      0.365334      1.200107            -0.864029   \n...            ...           ...           ...                  ...   \n4798     -1.272982     -0.372637      0.915784             1.157369   \n4799     -0.837027      0.149718      0.491557            -0.864029   \n4800     -0.753829      0.201055     -1.075603            -0.864029   \n4801     -1.023389     -0.784617     -1.410697            -0.864029   \n4802     -0.876962     -1.360876     -1.090270             1.157369   \n\n      dayofrelease_Monday  dayofrelease_Saturday  dayofrelease_Sunday  \\\n0               -0.225798              -0.227828            -0.217527   \n1               -0.225798               4.389285            -0.217527   \n2                4.428740              -0.227828            -0.217527   \n3                4.428740              -0.227828            -0.217527   \n4               -0.225798              -0.227828            -0.217527   \n...                   ...                    ...                  ...   \n4798            -0.225798              -0.227828            -0.217527   \n4799             4.428740              -0.227828            -0.217527   \n4800            -0.225798              -0.227828             4.597134   \n4801            -0.225798              -0.227828            -0.217527   \n4802            -0.225798              -0.227828            -0.217527   \n\n      dayofrelease_Thursday  dayofrelease_Tuesday  dayofrelease_Wednesday  \n0                  2.059964             -0.280786               -0.445369  \n1                 -0.485445             -0.280786               -0.445369  \n2                 -0.485445             -0.280786               -0.445369  \n3                 -0.485445             -0.280786               -0.445369  \n4                 -0.485445             -0.280786                2.245331  \n...                     ...                   ...                     ...  \n4798              -0.485445             -0.280786               -0.445369  \n4799              -0.485445             -0.280786               -0.445369  \n4800              -0.485445             -0.280786               -0.445369  \n4801               2.059964             -0.280786               -0.445369  \n4802              -0.485445             -0.280786               -0.445369  \n\n[4803 rows x 16 columns]",
      "text/html": "<div>\n<style scoped>\n    .dataframe tbody tr th:only-of-type {\n        vertical-align: middle;\n    }\n\n    .dataframe tbody tr th {\n        vertical-align: top;\n    }\n\n    .dataframe thead th {\n        text-align: right;\n    }\n</style>\n<table border=\"1\" class=\"dataframe\">\n  <thead>\n    <tr style=\"text-align: right;\">\n      <th></th>\n      <th>budget</th>\n      <th>genres</th>\n      <th>language</th>\n      <th>duration</th>\n      <th>country</th>\n      <th>director_name</th>\n      <th>actor_1_name</th>\n      <th>actor_2_name</th>\n      <th>actor_3_name</th>\n      <th>dayofrelease_Friday</th>\n      <th>dayofrelease_Monday</th>\n      <th>dayofrelease_Saturday</th>\n      <th>dayofrelease_Sunday</th>\n      <th>dayofrelease_Thursday</th>\n      <th>dayofrelease_Tuesday</th>\n      <th>dayofrelease_Wednesday</th>\n    </tr>\n  </thead>\n  <tbody>\n    <tr>\n      <th>0</th>\n      <td>5.107181</td>\n      <td>-1.712060</td>\n      <td>-0.273936</td>\n      <td>2.438596</td>\n      <td>0.566591</td>\n      <td>-0.477710</td>\n      <td>1.171365</td>\n      <td>1.746301</td>\n      <td>1.324216</td>\n      <td>-0.864029</td>\n      <td>-0.225798</td>\n      <td>-0.227828</td>\n      <td>-0.217527</td>\n      <td>2.059964</td>\n      <td>-0.280786</td>\n      <td>-0.445369</td>\n    </tr>\n    <tr>\n      <th>1</th>\n      <td>6.654402</td>\n      <td>-0.794803</td>\n      <td>-0.273936</td>\n      <td>2.748263</td>\n      <td>0.566591</td>\n      <td>-0.647522</td>\n      <td>-0.108215</td>\n      <td>0.850469</td>\n      <td>0.138410</td>\n      <td>-0.864029</td>\n      <td>-0.225798</td>\n      <td>4.389285</td>\n      <td>-0.217527</td>\n      <td>-0.485445</td>\n      <td>-0.280786</td>\n      <td>-0.445369</td>\n    </tr>\n    <tr>\n      <th>2</th>\n      <td>5.303653</td>\n      <td>-1.818160</td>\n      <td>0.152828</td>\n      <td>1.819260</td>\n      <td>0.517966</td>\n      <td>1.113538</td>\n      <td>-1.026717</td>\n      <td>-1.158094</td>\n      <td>0.403552</td>\n      <td>-0.864029</td>\n      <td>4.428740</td>\n      <td>-0.227828</td>\n      <td>-0.217527</td>\n      <td>-0.485445</td>\n      <td>-0.280786</td>\n      <td>-0.445369</td>\n    </tr>\n    <tr>\n      <th>3</th>\n      <td>5.426449</td>\n      <td>-1.469055</td>\n      <td>-0.273936</td>\n      <td>2.571310</td>\n      <td>0.566591</td>\n      <td>-1.246253</td>\n      <td>-1.156506</td>\n      <td>0.602768</td>\n      <td>-0.628810</td>\n      <td>-0.864029</td>\n      <td>4.428740</td>\n      <td>-0.227828</td>\n      <td>-0.217527</td>\n      <td>-0.485445</td>\n      <td>-0.280786</td>\n      <td>-0.445369</td>\n    </tr>\n    <tr>\n      <th>4</th>\n      <td>5.672039</td>\n      <td>-1.670988</td>\n      <td>-0.273936</td>\n      <td>1.111448</td>\n      <td>0.566591</td>\n      <td>-1.637111</td>\n      <td>1.442589</td>\n      <td>0.365334</td>\n      <td>1.200107</td>\n      <td>-0.864029</td>\n      <td>-0.225798</td>\n      <td>-0.227828</td>\n      <td>-0.217527</td>\n      <td>-0.485445</td>\n      <td>-0.280786</td>\n      <td>2.245331</td>\n    </tr>\n    <tr>\n      <th>...</th>\n      <td>...</td>\n      <td>...</td>\n      <td>...</td>\n      <td>...</td>\n      <td>...</td>\n      <td>...</td>\n      <td>...</td>\n      <td>...</td>\n      <td>...</td>\n      <td>...</td>\n      <td>...</td>\n      <td>...</td>\n      <td>...</td>\n      <td>...</td>\n      <td>...</td>\n      <td>...</td>\n    </tr>\n    <tr>\n      <th>4798</th>\n      <td>-0.707916</td>\n      <td>-1.448520</td>\n      <td>-0.131681</td>\n      <td>-1.144703</td>\n      <td>-0.600426</td>\n      <td>1.002283</td>\n      <td>-1.272982</td>\n      <td>-0.372637</td>\n      <td>0.915784</td>\n      <td>1.157369</td>\n      <td>-0.225798</td>\n      <td>-0.227828</td>\n      <td>-0.217527</td>\n      <td>-0.485445</td>\n      <td>-0.280786</td>\n      <td>-0.445369</td>\n    </tr>\n    <tr>\n      <th>4799</th>\n      <td>-0.713098</td>\n      <td>-0.127396</td>\n      <td>1.290866</td>\n      <td>-0.967750</td>\n      <td>-0.551800</td>\n      <td>-0.887600</td>\n      <td>-0.837027</td>\n      <td>0.149718</td>\n      <td>0.491557</td>\n      <td>-0.864029</td>\n      <td>4.428740</td>\n      <td>-0.227828</td>\n      <td>-0.217527</td>\n      <td>-0.485445</td>\n      <td>-0.280786</td>\n      <td>-0.445369</td>\n    </tr>\n    <tr>\n      <th>4800</th>\n      <td>-0.713319</td>\n      <td>-0.281413</td>\n      <td>-0.273936</td>\n      <td>0.580589</td>\n      <td>0.566591</td>\n      <td>1.151599</td>\n      <td>-0.753829</td>\n      <td>0.201055</td>\n      <td>-1.075603</td>\n      <td>-0.864029</td>\n      <td>-0.225798</td>\n      <td>-0.227828</td>\n      <td>4.597134</td>\n      <td>-0.485445</td>\n      <td>-0.280786</td>\n      <td>-0.445369</td>\n    </tr>\n    <tr>\n      <th>4801</th>\n      <td>-0.713319</td>\n      <td>-1.931106</td>\n      <td>-0.273936</td>\n      <td>-0.392652</td>\n      <td>0.566591</td>\n      <td>-1.130605</td>\n      <td>-1.023389</td>\n      <td>-0.784617</td>\n      <td>-1.410697</td>\n      <td>-0.864029</td>\n      <td>-0.225798</td>\n      <td>-0.227828</td>\n      <td>-0.217527</td>\n      <td>2.059964</td>\n      <td>-0.280786</td>\n      <td>-0.445369</td>\n    </tr>\n    <tr>\n      <th>4802</th>\n      <td>-0.713319</td>\n      <td>0.125876</td>\n      <td>-0.273936</td>\n      <td>-0.746559</td>\n      <td>0.566591</td>\n      <td>-1.408744</td>\n      <td>-0.876962</td>\n      <td>-1.360876</td>\n      <td>-1.090270</td>\n      <td>1.157369</td>\n      <td>-0.225798</td>\n      <td>-0.227828</td>\n      <td>-0.217527</td>\n      <td>-0.485445</td>\n      <td>-0.280786</td>\n      <td>-0.445369</td>\n    </tr>\n  </tbody>\n</table>\n<p>4803 rows × 16 columns</p>\n</div>"
     },
     "metadata": {},
     "execution_count": 241
    }
   ],
   "source": [
    "scaler = StandardScaler()\n",
    "\n",
    "# numerical = df.select_dtypes(include=['int64','float']).copy()\n",
    "numerical = data_copy.columns[data_copy.dtypes.apply(lambda c: np.issubdtype(c, np.number))]\n",
    "\n",
    "\n",
    "data_copy[numerical] = scaler.fit_transform(data_copy[numerical])\n",
    "data_copy"
   ]
  },
  {
   "cell_type": "code",
   "execution_count": 242,
   "metadata": {},
   "outputs": [
    {
     "output_type": "execute_result",
     "data": {
      "text/plain": "     budget    genres  language  duration   country  director_name  \\\n0  5.107181 -1.712060 -0.273936  2.438596  0.566591      -0.477710   \n1  6.654402 -0.794803 -0.273936  2.748263  0.566591      -0.647522   \n2  5.303653 -1.818160  0.152828  1.819260  0.517966       1.113538   \n3  5.426449 -1.469055 -0.273936  2.571310  0.566591      -1.246253   \n4  5.672039 -1.670988 -0.273936  1.111448  0.566591      -1.637111   \n\n   actor_1_name  actor_2_name  actor_3_name  dayofrelease_Friday  \\\n0      1.171365      1.746301      1.324216            -0.864029   \n1     -0.108215      0.850469      0.138410            -0.864029   \n2     -1.026717     -1.158094      0.403552            -0.864029   \n3     -1.156506      0.602768     -0.628810            -0.864029   \n4      1.442589      0.365334      1.200107            -0.864029   \n\n   dayofrelease_Monday  dayofrelease_Saturday  dayofrelease_Sunday  \\\n0            -0.225798              -0.227828            -0.217527   \n1            -0.225798               4.389285            -0.217527   \n2             4.428740              -0.227828            -0.217527   \n3             4.428740              -0.227828            -0.217527   \n4            -0.225798              -0.227828            -0.217527   \n\n   dayofrelease_Thursday  dayofrelease_Tuesday  dayofrelease_Wednesday  \n0               2.059964             -0.280786               -0.445369  \n1              -0.485445             -0.280786               -0.445369  \n2              -0.485445             -0.280786               -0.445369  \n3              -0.485445             -0.280786               -0.445369  \n4              -0.485445             -0.280786                2.245331  ",
      "text/html": "<div>\n<style scoped>\n    .dataframe tbody tr th:only-of-type {\n        vertical-align: middle;\n    }\n\n    .dataframe tbody tr th {\n        vertical-align: top;\n    }\n\n    .dataframe thead th {\n        text-align: right;\n    }\n</style>\n<table border=\"1\" class=\"dataframe\">\n  <thead>\n    <tr style=\"text-align: right;\">\n      <th></th>\n      <th>budget</th>\n      <th>genres</th>\n      <th>language</th>\n      <th>duration</th>\n      <th>country</th>\n      <th>director_name</th>\n      <th>actor_1_name</th>\n      <th>actor_2_name</th>\n      <th>actor_3_name</th>\n      <th>dayofrelease_Friday</th>\n      <th>dayofrelease_Monday</th>\n      <th>dayofrelease_Saturday</th>\n      <th>dayofrelease_Sunday</th>\n      <th>dayofrelease_Thursday</th>\n      <th>dayofrelease_Tuesday</th>\n      <th>dayofrelease_Wednesday</th>\n    </tr>\n  </thead>\n  <tbody>\n    <tr>\n      <th>0</th>\n      <td>5.107181</td>\n      <td>-1.712060</td>\n      <td>-0.273936</td>\n      <td>2.438596</td>\n      <td>0.566591</td>\n      <td>-0.477710</td>\n      <td>1.171365</td>\n      <td>1.746301</td>\n      <td>1.324216</td>\n      <td>-0.864029</td>\n      <td>-0.225798</td>\n      <td>-0.227828</td>\n      <td>-0.217527</td>\n      <td>2.059964</td>\n      <td>-0.280786</td>\n      <td>-0.445369</td>\n    </tr>\n    <tr>\n      <th>1</th>\n      <td>6.654402</td>\n      <td>-0.794803</td>\n      <td>-0.273936</td>\n      <td>2.748263</td>\n      <td>0.566591</td>\n      <td>-0.647522</td>\n      <td>-0.108215</td>\n      <td>0.850469</td>\n      <td>0.138410</td>\n      <td>-0.864029</td>\n      <td>-0.225798</td>\n      <td>4.389285</td>\n      <td>-0.217527</td>\n      <td>-0.485445</td>\n      <td>-0.280786</td>\n      <td>-0.445369</td>\n    </tr>\n    <tr>\n      <th>2</th>\n      <td>5.303653</td>\n      <td>-1.818160</td>\n      <td>0.152828</td>\n      <td>1.819260</td>\n      <td>0.517966</td>\n      <td>1.113538</td>\n      <td>-1.026717</td>\n      <td>-1.158094</td>\n      <td>0.403552</td>\n      <td>-0.864029</td>\n      <td>4.428740</td>\n      <td>-0.227828</td>\n      <td>-0.217527</td>\n      <td>-0.485445</td>\n      <td>-0.280786</td>\n      <td>-0.445369</td>\n    </tr>\n    <tr>\n      <th>3</th>\n      <td>5.426449</td>\n      <td>-1.469055</td>\n      <td>-0.273936</td>\n      <td>2.571310</td>\n      <td>0.566591</td>\n      <td>-1.246253</td>\n      <td>-1.156506</td>\n      <td>0.602768</td>\n      <td>-0.628810</td>\n      <td>-0.864029</td>\n      <td>4.428740</td>\n      <td>-0.227828</td>\n      <td>-0.217527</td>\n      <td>-0.485445</td>\n      <td>-0.280786</td>\n      <td>-0.445369</td>\n    </tr>\n    <tr>\n      <th>4</th>\n      <td>5.672039</td>\n      <td>-1.670988</td>\n      <td>-0.273936</td>\n      <td>1.111448</td>\n      <td>0.566591</td>\n      <td>-1.637111</td>\n      <td>1.442589</td>\n      <td>0.365334</td>\n      <td>1.200107</td>\n      <td>-0.864029</td>\n      <td>-0.225798</td>\n      <td>-0.227828</td>\n      <td>-0.217527</td>\n      <td>-0.485445</td>\n      <td>-0.280786</td>\n      <td>2.245331</td>\n    </tr>\n  </tbody>\n</table>\n</div>"
     },
     "metadata": {},
     "execution_count": 242
    }
   ],
   "source": [
    "data_copy.head()"
   ]
  },
  {
   "cell_type": "code",
   "execution_count": 243,
   "metadata": {},
   "outputs": [
    {
     "output_type": "execute_result",
     "data": {
      "text/plain": "array([[2.37e+08, 6.40e+01, 8.00e+00, ..., 1.00e+00, 0.00e+00, 0.00e+00],\n       [3.00e+08, 3.32e+02, 8.00e+00, ..., 0.00e+00, 0.00e+00, 0.00e+00],\n       [2.45e+08, 3.30e+01, 1.10e+01, ..., 0.00e+00, 0.00e+00, 0.00e+00],\n       ...,\n       [0.00e+00, 4.82e+02, 8.00e+00, ..., 0.00e+00, 0.00e+00, 0.00e+00],\n       [0.00e+00, 0.00e+00, 8.00e+00, ..., 1.00e+00, 0.00e+00, 0.00e+00],\n       [0.00e+00, 6.01e+02, 8.00e+00, ..., 0.00e+00, 0.00e+00, 0.00e+00]])"
     },
     "metadata": {},
     "execution_count": 243
    }
   ],
   "source": [
    "all_features = list(new_data.columns)\n",
    "all_features\n",
    "X = new_data.loc[:,all_features[0]:all_features[-2]].values\n",
    "y = new_data.loc[:,[all_features[-1]]].values\n",
    "X"
   ]
  },
  {
   "cell_type": "code",
   "execution_count": 244,
   "metadata": {},
   "outputs": [
    {
     "output_type": "execute_result",
     "data": {
      "text/plain": "array([[ 1.61646776, -1.86015999, -0.22438998, ...,  2.05996354,\n        -0.28078634, -0.44536872],\n       [ 1.75415631, -0.73768099, -0.22438998, ..., -0.48544549,\n        -0.28078634, -0.44536872],\n       [ 1.63553265, -2.03111726,  0.59947141, ..., -0.48544549,\n        -0.28078634, -0.44536872],\n       ...,\n       [-1.67433707, -0.20949588, -0.22438998, ..., -0.48544549,\n        -0.28078634, -0.44536872],\n       [-1.67433707, -2.27150805, -0.22438998, ...,  2.05996354,\n        -0.28078634, -0.44536872],\n       [-1.67433707,  0.18467373, -0.22438998, ..., -0.48544549,\n        -0.28078634, -0.44536872]])"
     },
     "metadata": {},
     "execution_count": 244
    }
   ],
   "source": [
    "X = PowerTransformer().fit_transform(X)\n",
    "y = PowerTransformer().fit_transform(y)\n",
    "X"
   ]
  },
  {
   "cell_type": "code",
   "execution_count": 245,
   "metadata": {},
   "outputs": [
    {
     "output_type": "execute_result",
     "data": {
      "text/plain": "13"
     },
     "metadata": {},
     "execution_count": 245
    }
   ],
   "source": [
    "pca_with_varia = PCA(0.9)\n",
    "pca_with_varia.fit_transform(X)\n",
    "pca_with_varia.n_components_"
   ]
  },
  {
   "cell_type": "code",
   "execution_count": 246,
   "metadata": {},
   "outputs": [
    {
     "output_type": "execute_result",
     "data": {
      "text/plain": "           PC1       PC2       PC3  popularity\n0     2.346944 -1.888462 -1.364127    2.400489\n1     1.615583 -1.044753  0.387666    2.314766\n2     1.864714 -1.438651  0.607964    2.037021\n3     2.034855 -2.005410  0.014940    2.084737\n4     2.141629 -2.090067  1.654339    1.134385\n...        ...       ...       ...         ...\n4798 -1.484447  0.414909  0.583813    0.127453\n4799  0.145647  2.333304  0.759200   -1.649725\n4800 -0.000853  1.819871  0.303886   -1.360066\n4801  0.700179  0.897910 -2.064304   -1.561498\n4802 -1.986023  0.393739 -0.424900   -1.224387\n\n[4803 rows x 4 columns]",
      "text/html": "<div>\n<style scoped>\n    .dataframe tbody tr th:only-of-type {\n        vertical-align: middle;\n    }\n\n    .dataframe tbody tr th {\n        vertical-align: top;\n    }\n\n    .dataframe thead th {\n        text-align: right;\n    }\n</style>\n<table border=\"1\" class=\"dataframe\">\n  <thead>\n    <tr style=\"text-align: right;\">\n      <th></th>\n      <th>PC1</th>\n      <th>PC2</th>\n      <th>PC3</th>\n      <th>popularity</th>\n    </tr>\n  </thead>\n  <tbody>\n    <tr>\n      <th>0</th>\n      <td>2.346944</td>\n      <td>-1.888462</td>\n      <td>-1.364127</td>\n      <td>2.400489</td>\n    </tr>\n    <tr>\n      <th>1</th>\n      <td>1.615583</td>\n      <td>-1.044753</td>\n      <td>0.387666</td>\n      <td>2.314766</td>\n    </tr>\n    <tr>\n      <th>2</th>\n      <td>1.864714</td>\n      <td>-1.438651</td>\n      <td>0.607964</td>\n      <td>2.037021</td>\n    </tr>\n    <tr>\n      <th>3</th>\n      <td>2.034855</td>\n      <td>-2.005410</td>\n      <td>0.014940</td>\n      <td>2.084737</td>\n    </tr>\n    <tr>\n      <th>4</th>\n      <td>2.141629</td>\n      <td>-2.090067</td>\n      <td>1.654339</td>\n      <td>1.134385</td>\n    </tr>\n    <tr>\n      <th>...</th>\n      <td>...</td>\n      <td>...</td>\n      <td>...</td>\n      <td>...</td>\n    </tr>\n    <tr>\n      <th>4798</th>\n      <td>-1.484447</td>\n      <td>0.414909</td>\n      <td>0.583813</td>\n      <td>0.127453</td>\n    </tr>\n    <tr>\n      <th>4799</th>\n      <td>0.145647</td>\n      <td>2.333304</td>\n      <td>0.759200</td>\n      <td>-1.649725</td>\n    </tr>\n    <tr>\n      <th>4800</th>\n      <td>-0.000853</td>\n      <td>1.819871</td>\n      <td>0.303886</td>\n      <td>-1.360066</td>\n    </tr>\n    <tr>\n      <th>4801</th>\n      <td>0.700179</td>\n      <td>0.897910</td>\n      <td>-2.064304</td>\n      <td>-1.561498</td>\n    </tr>\n    <tr>\n      <th>4802</th>\n      <td>-1.986023</td>\n      <td>0.393739</td>\n      <td>-0.424900</td>\n      <td>-1.224387</td>\n    </tr>\n  </tbody>\n</table>\n<p>4803 rows × 4 columns</p>\n</div>"
     },
     "metadata": {},
     "execution_count": 246
    }
   ],
   "source": [
    "pca = PCA(n_components=3)\n",
    "pc_s = pca.fit_transform(X)\n",
    "pca_data = pd.DataFrame(pc_s, columns=['PC1','PC2','PC3'])\n",
    "target_data = pd.DataFrame(y,columns=['popularity'])\n",
    "final_data = pd.concat([pca_data, target_data], axis =1)\n",
    "final_data"
   ]
  },
  {
   "cell_type": "code",
   "execution_count": 247,
   "metadata": {},
   "outputs": [
    {
     "output_type": "execute_result",
     "data": {
      "text/plain": "array([0.09787042, 0.08780805, 0.07714011])"
     },
     "metadata": {},
     "execution_count": 247
    }
   ],
   "source": [
    "pca.explained_variance_ratio_"
   ]
  },
  {
   "cell_type": "code",
   "execution_count": 248,
   "metadata": {},
   "outputs": [
    {
     "output_type": "execute_result",
     "data": {
      "text/plain": "array([[ 0.89812837, -2.13903936, -0.22438998, ..., -0.48544549,\n        -0.28078634,  2.24533058],\n       [ 0.2858123 , -0.54267547,  0.59947141, ..., -0.48544549,\n        -0.28078634,  2.24533058],\n       [-1.67433707, -0.08494362, -0.22438998, ..., -0.48544549,\n        -0.28078634, -0.44536872],\n       ...,\n       [ 0.83177067, -0.30165856, -0.22438998, ..., -0.48544549,\n        -0.28078634, -0.44536872],\n       [-1.67433707,  1.24045979,  1.34428832, ..., -0.48544549,\n        -0.28078634,  2.24533058],\n       [ 1.14248347,  0.90636132,  0.59947141, ..., -0.48544549,\n        -0.28078634, -0.44536872]])"
     },
     "metadata": {},
     "execution_count": 248
    }
   ],
   "source": [
    "X_train, X_test, y_train, y_test = train_test_split(X,y,test_size=0.3,random_state=1)\n",
    "X_train"
   ]
  },
  {
   "cell_type": "code",
   "execution_count": 132,
   "metadata": {},
   "outputs": [
    {
     "output_type": "error",
     "ename": "ValueError",
     "evalue": "could not convert string to float: 'United States of America'",
     "traceback": [
      "\u001b[1;31m---------------------------------------------------------------------------\u001b[0m",
      "\u001b[1;31mValueError\u001b[0m                                Traceback (most recent call last)",
      "\u001b[1;32m<ipython-input-132-50e012a8948f>\u001b[0m in \u001b[0;36m<module>\u001b[1;34m\u001b[0m\n\u001b[0;32m     10\u001b[0m \u001b[1;33m\u001b[0m\u001b[0m\n\u001b[0;32m     11\u001b[0m \u001b[1;32mfor\u001b[0m \u001b[0mi\u001b[0m \u001b[1;32min\u001b[0m \u001b[0mmodels\u001b[0m\u001b[1;33m:\u001b[0m\u001b[1;33m\u001b[0m\u001b[1;33m\u001b[0m\u001b[0m\n\u001b[1;32m---> 12\u001b[1;33m   \u001b[0mmodels\u001b[0m\u001b[1;33m[\u001b[0m\u001b[0mi\u001b[0m\u001b[1;33m]\u001b[0m\u001b[1;33m.\u001b[0m\u001b[0mfit\u001b[0m\u001b[1;33m(\u001b[0m\u001b[0mX_train\u001b[0m\u001b[1;33m,\u001b[0m \u001b[0my_train\u001b[0m\u001b[1;33m)\u001b[0m\u001b[1;33m\u001b[0m\u001b[1;33m\u001b[0m\u001b[0m\n\u001b[0m\u001b[0;32m     13\u001b[0m   \u001b[0maccuracy\u001b[0m \u001b[1;33m=\u001b[0m \u001b[0mmodels\u001b[0m\u001b[1;33m[\u001b[0m\u001b[0mi\u001b[0m\u001b[1;33m]\u001b[0m\u001b[1;33m.\u001b[0m\u001b[0mscore\u001b[0m\u001b[1;33m(\u001b[0m\u001b[0mX_test\u001b[0m\u001b[1;33m,\u001b[0m \u001b[0my_test\u001b[0m\u001b[1;33m)\u001b[0m\u001b[1;33m\u001b[0m\u001b[1;33m\u001b[0m\u001b[0m\n\u001b[0;32m     14\u001b[0m   \u001b[0mresult\u001b[0m\u001b[1;33m[\u001b[0m\u001b[0mi\u001b[0m\u001b[1;33m]\u001b[0m\u001b[1;33m=\u001b[0m \u001b[1;33m[\u001b[0m\u001b[0maccuracy\u001b[0m\u001b[1;33m*\u001b[0m\u001b[1;36m100\u001b[0m\u001b[1;33m]\u001b[0m\u001b[1;33m\u001b[0m\u001b[1;33m\u001b[0m\u001b[0m\n",
      "\u001b[1;32m~\\Anaconda3\\envs\\chatbot\\lib\\site-packages\\sklearn\\linear_model\\_passive_aggressive.py\u001b[0m in \u001b[0;36mfit\u001b[1;34m(self, X, y, coef_init, intercept_init)\u001b[0m\n\u001b[0;32m    469\u001b[0m                          \u001b[0mlearning_rate\u001b[0m\u001b[1;33m=\u001b[0m\u001b[0mlr\u001b[0m\u001b[1;33m,\u001b[0m\u001b[1;33m\u001b[0m\u001b[1;33m\u001b[0m\u001b[0m\n\u001b[0;32m    470\u001b[0m                          \u001b[0mcoef_init\u001b[0m\u001b[1;33m=\u001b[0m\u001b[0mcoef_init\u001b[0m\u001b[1;33m,\u001b[0m\u001b[1;33m\u001b[0m\u001b[1;33m\u001b[0m\u001b[0m\n\u001b[1;32m--> 471\u001b[1;33m                          intercept_init=intercept_init)\n\u001b[0m",
      "\u001b[1;32m~\\Anaconda3\\envs\\chatbot\\lib\\site-packages\\sklearn\\linear_model\\_stochastic_gradient.py\u001b[0m in \u001b[0;36m_fit\u001b[1;34m(self, X, y, alpha, C, loss, learning_rate, coef_init, intercept_init, sample_weight)\u001b[0m\n\u001b[0;32m   1202\u001b[0m         self._partial_fit(X, y, alpha, C, loss, learning_rate,\n\u001b[0;32m   1203\u001b[0m                           \u001b[0mself\u001b[0m\u001b[1;33m.\u001b[0m\u001b[0mmax_iter\u001b[0m\u001b[1;33m,\u001b[0m \u001b[0msample_weight\u001b[0m\u001b[1;33m,\u001b[0m \u001b[0mcoef_init\u001b[0m\u001b[1;33m,\u001b[0m\u001b[1;33m\u001b[0m\u001b[1;33m\u001b[0m\u001b[0m\n\u001b[1;32m-> 1204\u001b[1;33m                           intercept_init)\n\u001b[0m\u001b[0;32m   1205\u001b[0m \u001b[1;33m\u001b[0m\u001b[0m\n\u001b[0;32m   1206\u001b[0m         if (self.tol is not None and self.tol > -np.inf\n",
      "\u001b[1;32m~\\Anaconda3\\envs\\chatbot\\lib\\site-packages\\sklearn\\linear_model\\_stochastic_gradient.py\u001b[0m in \u001b[0;36m_partial_fit\u001b[1;34m(self, X, y, alpha, C, loss, learning_rate, max_iter, sample_weight, coef_init, intercept_init)\u001b[0m\n\u001b[0;32m   1129\u001b[0m         X, y = self._validate_data(X, y, accept_sparse=\"csr\", copy=False,\n\u001b[0;32m   1130\u001b[0m                                    \u001b[0morder\u001b[0m\u001b[1;33m=\u001b[0m\u001b[1;34m'C'\u001b[0m\u001b[1;33m,\u001b[0m \u001b[0mdtype\u001b[0m\u001b[1;33m=\u001b[0m\u001b[0mnp\u001b[0m\u001b[1;33m.\u001b[0m\u001b[0mfloat64\u001b[0m\u001b[1;33m,\u001b[0m\u001b[1;33m\u001b[0m\u001b[1;33m\u001b[0m\u001b[0m\n\u001b[1;32m-> 1131\u001b[1;33m                                    accept_large_sparse=False)\n\u001b[0m\u001b[0;32m   1132\u001b[0m         \u001b[0my\u001b[0m \u001b[1;33m=\u001b[0m \u001b[0my\u001b[0m\u001b[1;33m.\u001b[0m\u001b[0mastype\u001b[0m\u001b[1;33m(\u001b[0m\u001b[0mnp\u001b[0m\u001b[1;33m.\u001b[0m\u001b[0mfloat64\u001b[0m\u001b[1;33m,\u001b[0m \u001b[0mcopy\u001b[0m\u001b[1;33m=\u001b[0m\u001b[1;32mFalse\u001b[0m\u001b[1;33m)\u001b[0m\u001b[1;33m\u001b[0m\u001b[1;33m\u001b[0m\u001b[0m\n\u001b[0;32m   1133\u001b[0m \u001b[1;33m\u001b[0m\u001b[0m\n",
      "\u001b[1;32m~\\Anaconda3\\envs\\chatbot\\lib\\site-packages\\sklearn\\base.py\u001b[0m in \u001b[0;36m_validate_data\u001b[1;34m(self, X, y, reset, validate_separately, **check_params)\u001b[0m\n\u001b[0;32m    430\u001b[0m                 \u001b[0my\u001b[0m \u001b[1;33m=\u001b[0m \u001b[0mcheck_array\u001b[0m\u001b[1;33m(\u001b[0m\u001b[0my\u001b[0m\u001b[1;33m,\u001b[0m \u001b[1;33m**\u001b[0m\u001b[0mcheck_y_params\u001b[0m\u001b[1;33m)\u001b[0m\u001b[1;33m\u001b[0m\u001b[1;33m\u001b[0m\u001b[0m\n\u001b[0;32m    431\u001b[0m             \u001b[1;32melse\u001b[0m\u001b[1;33m:\u001b[0m\u001b[1;33m\u001b[0m\u001b[1;33m\u001b[0m\u001b[0m\n\u001b[1;32m--> 432\u001b[1;33m                 \u001b[0mX\u001b[0m\u001b[1;33m,\u001b[0m \u001b[0my\u001b[0m \u001b[1;33m=\u001b[0m \u001b[0mcheck_X_y\u001b[0m\u001b[1;33m(\u001b[0m\u001b[0mX\u001b[0m\u001b[1;33m,\u001b[0m \u001b[0my\u001b[0m\u001b[1;33m,\u001b[0m \u001b[1;33m**\u001b[0m\u001b[0mcheck_params\u001b[0m\u001b[1;33m)\u001b[0m\u001b[1;33m\u001b[0m\u001b[1;33m\u001b[0m\u001b[0m\n\u001b[0m\u001b[0;32m    433\u001b[0m             \u001b[0mout\u001b[0m \u001b[1;33m=\u001b[0m \u001b[0mX\u001b[0m\u001b[1;33m,\u001b[0m \u001b[0my\u001b[0m\u001b[1;33m\u001b[0m\u001b[1;33m\u001b[0m\u001b[0m\n\u001b[0;32m    434\u001b[0m \u001b[1;33m\u001b[0m\u001b[0m\n",
      "\u001b[1;32m~\\Anaconda3\\envs\\chatbot\\lib\\site-packages\\sklearn\\utils\\validation.py\u001b[0m in \u001b[0;36minner_f\u001b[1;34m(*args, **kwargs)\u001b[0m\n\u001b[0;32m     70\u001b[0m                           FutureWarning)\n\u001b[0;32m     71\u001b[0m         \u001b[0mkwargs\u001b[0m\u001b[1;33m.\u001b[0m\u001b[0mupdate\u001b[0m\u001b[1;33m(\u001b[0m\u001b[1;33m{\u001b[0m\u001b[0mk\u001b[0m\u001b[1;33m:\u001b[0m \u001b[0marg\u001b[0m \u001b[1;32mfor\u001b[0m \u001b[0mk\u001b[0m\u001b[1;33m,\u001b[0m \u001b[0marg\u001b[0m \u001b[1;32min\u001b[0m \u001b[0mzip\u001b[0m\u001b[1;33m(\u001b[0m\u001b[0msig\u001b[0m\u001b[1;33m.\u001b[0m\u001b[0mparameters\u001b[0m\u001b[1;33m,\u001b[0m \u001b[0margs\u001b[0m\u001b[1;33m)\u001b[0m\u001b[1;33m}\u001b[0m\u001b[1;33m)\u001b[0m\u001b[1;33m\u001b[0m\u001b[1;33m\u001b[0m\u001b[0m\n\u001b[1;32m---> 72\u001b[1;33m         \u001b[1;32mreturn\u001b[0m \u001b[0mf\u001b[0m\u001b[1;33m(\u001b[0m\u001b[1;33m**\u001b[0m\u001b[0mkwargs\u001b[0m\u001b[1;33m)\u001b[0m\u001b[1;33m\u001b[0m\u001b[1;33m\u001b[0m\u001b[0m\n\u001b[0m\u001b[0;32m     73\u001b[0m     \u001b[1;32mreturn\u001b[0m \u001b[0minner_f\u001b[0m\u001b[1;33m\u001b[0m\u001b[1;33m\u001b[0m\u001b[0m\n\u001b[0;32m     74\u001b[0m \u001b[1;33m\u001b[0m\u001b[0m\n",
      "\u001b[1;32m~\\Anaconda3\\envs\\chatbot\\lib\\site-packages\\sklearn\\utils\\validation.py\u001b[0m in \u001b[0;36mcheck_X_y\u001b[1;34m(X, y, accept_sparse, accept_large_sparse, dtype, order, copy, force_all_finite, ensure_2d, allow_nd, multi_output, ensure_min_samples, ensure_min_features, y_numeric, estimator)\u001b[0m\n\u001b[0;32m    800\u001b[0m                     \u001b[0mensure_min_samples\u001b[0m\u001b[1;33m=\u001b[0m\u001b[0mensure_min_samples\u001b[0m\u001b[1;33m,\u001b[0m\u001b[1;33m\u001b[0m\u001b[1;33m\u001b[0m\u001b[0m\n\u001b[0;32m    801\u001b[0m                     \u001b[0mensure_min_features\u001b[0m\u001b[1;33m=\u001b[0m\u001b[0mensure_min_features\u001b[0m\u001b[1;33m,\u001b[0m\u001b[1;33m\u001b[0m\u001b[1;33m\u001b[0m\u001b[0m\n\u001b[1;32m--> 802\u001b[1;33m                     estimator=estimator)\n\u001b[0m\u001b[0;32m    803\u001b[0m     \u001b[1;32mif\u001b[0m \u001b[0mmulti_output\u001b[0m\u001b[1;33m:\u001b[0m\u001b[1;33m\u001b[0m\u001b[1;33m\u001b[0m\u001b[0m\n\u001b[0;32m    804\u001b[0m         y = check_array(y, accept_sparse='csr', force_all_finite=True,\n",
      "\u001b[1;32m~\\Anaconda3\\envs\\chatbot\\lib\\site-packages\\sklearn\\utils\\validation.py\u001b[0m in \u001b[0;36minner_f\u001b[1;34m(*args, **kwargs)\u001b[0m\n\u001b[0;32m     70\u001b[0m                           FutureWarning)\n\u001b[0;32m     71\u001b[0m         \u001b[0mkwargs\u001b[0m\u001b[1;33m.\u001b[0m\u001b[0mupdate\u001b[0m\u001b[1;33m(\u001b[0m\u001b[1;33m{\u001b[0m\u001b[0mk\u001b[0m\u001b[1;33m:\u001b[0m \u001b[0marg\u001b[0m \u001b[1;32mfor\u001b[0m \u001b[0mk\u001b[0m\u001b[1;33m,\u001b[0m \u001b[0marg\u001b[0m \u001b[1;32min\u001b[0m \u001b[0mzip\u001b[0m\u001b[1;33m(\u001b[0m\u001b[0msig\u001b[0m\u001b[1;33m.\u001b[0m\u001b[0mparameters\u001b[0m\u001b[1;33m,\u001b[0m \u001b[0margs\u001b[0m\u001b[1;33m)\u001b[0m\u001b[1;33m}\u001b[0m\u001b[1;33m)\u001b[0m\u001b[1;33m\u001b[0m\u001b[1;33m\u001b[0m\u001b[0m\n\u001b[1;32m---> 72\u001b[1;33m         \u001b[1;32mreturn\u001b[0m \u001b[0mf\u001b[0m\u001b[1;33m(\u001b[0m\u001b[1;33m**\u001b[0m\u001b[0mkwargs\u001b[0m\u001b[1;33m)\u001b[0m\u001b[1;33m\u001b[0m\u001b[1;33m\u001b[0m\u001b[0m\n\u001b[0m\u001b[0;32m     73\u001b[0m     \u001b[1;32mreturn\u001b[0m \u001b[0minner_f\u001b[0m\u001b[1;33m\u001b[0m\u001b[1;33m\u001b[0m\u001b[0m\n\u001b[0;32m     74\u001b[0m \u001b[1;33m\u001b[0m\u001b[0m\n",
      "\u001b[1;32m~\\Anaconda3\\envs\\chatbot\\lib\\site-packages\\sklearn\\utils\\validation.py\u001b[0m in \u001b[0;36mcheck_array\u001b[1;34m(array, accept_sparse, accept_large_sparse, dtype, order, copy, force_all_finite, ensure_2d, allow_nd, ensure_min_samples, ensure_min_features, estimator)\u001b[0m\n\u001b[0;32m    596\u001b[0m                     \u001b[0marray\u001b[0m \u001b[1;33m=\u001b[0m \u001b[0marray\u001b[0m\u001b[1;33m.\u001b[0m\u001b[0mastype\u001b[0m\u001b[1;33m(\u001b[0m\u001b[0mdtype\u001b[0m\u001b[1;33m,\u001b[0m \u001b[0mcasting\u001b[0m\u001b[1;33m=\u001b[0m\u001b[1;34m\"unsafe\"\u001b[0m\u001b[1;33m,\u001b[0m \u001b[0mcopy\u001b[0m\u001b[1;33m=\u001b[0m\u001b[1;32mFalse\u001b[0m\u001b[1;33m)\u001b[0m\u001b[1;33m\u001b[0m\u001b[1;33m\u001b[0m\u001b[0m\n\u001b[0;32m    597\u001b[0m                 \u001b[1;32melse\u001b[0m\u001b[1;33m:\u001b[0m\u001b[1;33m\u001b[0m\u001b[1;33m\u001b[0m\u001b[0m\n\u001b[1;32m--> 598\u001b[1;33m                     \u001b[0marray\u001b[0m \u001b[1;33m=\u001b[0m \u001b[0mnp\u001b[0m\u001b[1;33m.\u001b[0m\u001b[0masarray\u001b[0m\u001b[1;33m(\u001b[0m\u001b[0marray\u001b[0m\u001b[1;33m,\u001b[0m \u001b[0morder\u001b[0m\u001b[1;33m=\u001b[0m\u001b[0morder\u001b[0m\u001b[1;33m,\u001b[0m \u001b[0mdtype\u001b[0m\u001b[1;33m=\u001b[0m\u001b[0mdtype\u001b[0m\u001b[1;33m)\u001b[0m\u001b[1;33m\u001b[0m\u001b[1;33m\u001b[0m\u001b[0m\n\u001b[0m\u001b[0;32m    599\u001b[0m             \u001b[1;32mexcept\u001b[0m \u001b[0mComplexWarning\u001b[0m\u001b[1;33m:\u001b[0m\u001b[1;33m\u001b[0m\u001b[1;33m\u001b[0m\u001b[0m\n\u001b[0;32m    600\u001b[0m                 raise ValueError(\"Complex data not supported\\n\"\n",
      "\u001b[1;32m~\\Anaconda3\\envs\\chatbot\\lib\\site-packages\\numpy\\core\\_asarray.py\u001b[0m in \u001b[0;36masarray\u001b[1;34m(a, dtype, order)\u001b[0m\n\u001b[0;32m     83\u001b[0m \u001b[1;33m\u001b[0m\u001b[0m\n\u001b[0;32m     84\u001b[0m     \"\"\"\n\u001b[1;32m---> 85\u001b[1;33m     \u001b[1;32mreturn\u001b[0m \u001b[0marray\u001b[0m\u001b[1;33m(\u001b[0m\u001b[0ma\u001b[0m\u001b[1;33m,\u001b[0m \u001b[0mdtype\u001b[0m\u001b[1;33m,\u001b[0m \u001b[0mcopy\u001b[0m\u001b[1;33m=\u001b[0m\u001b[1;32mFalse\u001b[0m\u001b[1;33m,\u001b[0m \u001b[0morder\u001b[0m\u001b[1;33m=\u001b[0m\u001b[0morder\u001b[0m\u001b[1;33m)\u001b[0m\u001b[1;33m\u001b[0m\u001b[1;33m\u001b[0m\u001b[0m\n\u001b[0m\u001b[0;32m     86\u001b[0m \u001b[1;33m\u001b[0m\u001b[0m\n\u001b[0;32m     87\u001b[0m \u001b[1;33m\u001b[0m\u001b[0m\n",
      "\u001b[1;31mValueError\u001b[0m: could not convert string to float: 'United States of America'"
     ]
    }
   ],
   "source": [
    "result = {}\n",
    "models = {\n",
    "    'PassiveAggressiveRegressor':linear_model.PassiveAggressiveRegressor(),\n",
    "    'Ridge':linear_model.Ridge(),\n",
    "    'ElasticNet': linear_model.ElasticNet(),\n",
    "    'LassoCV': linear_model.LassoCV(),\n",
    "    'BayesianRidge' : linear_model.BayesianRidge(),\n",
    "    'ARDRegression' : linear_model.ARDRegression()\n",
    "}\n",
    "\n",
    "for i in models:\n",
    "  models[i].fit(X_train, y_train)\n",
    "  accuracy = models[i].score(X_test, y_test)\n",
    "  result[i]= [accuracy*100]\n",
    "pd.DataFrame(result)  "
   ]
  },
  {
   "cell_type": "code",
   "execution_count": 133,
   "metadata": {},
   "outputs": [
    {
     "output_type": "execute_result",
     "data": {
      "text/plain": "['Ridge.joblib']"
     },
     "metadata": {},
     "execution_count": 133
    }
   ],
   "source": [
    "dump(models['Ridge'], 'Ridge.joblib')"
   ]
  },
  {
   "cell_type": "code",
   "execution_count": 134,
   "metadata": {},
   "outputs": [],
   "source": [
    "from sklearn.pipeline import Pipeline\n",
    "from sklearn.base import BaseEstimator, TransformerMixin"
   ]
  },
  {
   "cell_type": "code",
   "execution_count": null,
   "metadata": {},
   "outputs": [],
   "source": []
  }
 ]
}